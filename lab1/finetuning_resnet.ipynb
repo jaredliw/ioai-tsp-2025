{
 "cells": [
  {
   "cell_type": "markdown",
   "metadata": {
    "id": "VXl00aZubLMf"
   },
   "source": [
    "# Finetune a ResNet image classifier"
   ]
  },
  {
   "cell_type": "markdown",
   "metadata": {
    "id": "Gn22JMoGayOk"
   },
   "source": [
    "## Load data"
   ]
  },
  {
   "cell_type": "code",
   "execution_count": 9,
   "metadata": {
    "colab": {
     "base_uri": "https://localhost:8080/"
    },
    "id": "5xcf-9pgP8pg",
    "outputId": "37fcc09f-7f2f-45f4-b5b1-a587cb58eac3"
   },
   "outputs": [
    {
     "name": "stdout",
     "output_type": "stream",
     "text": [
      "  % Total    % Received % Xferd  Average Speed   Time    Time     Time  Current\n",
      "                                 Dload  Upload   Total   Spent    Left  Speed\n",
      "100  125M  100  125M    0     0  15.9M      0  0:00:07  0:00:07 --:--:-- 22.7M\n"
     ]
    }
   ],
   "source": [
    "!curl -L https://storage.googleapis.com/aiolympiadmy/ioai-2025-tsp/finetuning-resnet.zip -o data.zip"
   ]
  },
  {
   "cell_type": "code",
   "execution_count": 10,
   "metadata": {
    "colab": {
     "base_uri": "https://localhost:8080/"
    },
    "id": "IBYc9RhUZbrR",
    "outputId": "956cc7ac-7a32-4d58-d159-0a74c1b6cb27",
    "scrolled": true
   },
   "outputs": [
    {
     "name": "stdout",
     "output_type": "stream",
     "text": [
      "Archive:  data.zip\n",
      "   creating: train/\n",
      "   creating: test/\n",
      "   creating: train/muffin/\n",
      "  inflating: train/muffin/muffin_38.jpeg  \n",
      "  inflating: train/muffin/muffin_268.jpeg  \n",
      "  inflating: train/muffin/muffin_142.jpeg  \n",
      "  inflating: train/muffin/muffin_299.jpeg  \n",
      "  inflating: train/muffin/muffin_54.jpeg  \n",
      "  inflating: train/muffin/muffin_90.jpeg  \n",
      "  inflating: train/muffin/muffin_312.jpeg  \n",
      "  inflating: train/muffin/muffin_66.jpeg  \n",
      "  inflating: train/muffin/muffin_424.jpeg  \n",
      "  inflating: train/muffin/muffin_408.jpeg  \n",
      "  inflating: train/muffin/muffin_392.jpeg  \n",
      "  inflating: train/muffin/muffin_399.jpeg  \n",
      "  inflating: train/muffin/muffin_62.jpeg  \n",
      "  inflating: train/muffin/muffin_425.jpeg  \n",
      "  inflating: train/muffin/muffin_86.jpeg  \n",
      "  inflating: train/muffin/muffin_404.jpeg  \n",
      "  inflating: train/muffin/muffin_233.jpeg  \n",
      "  inflating: train/muffin/muffin_2.jpeg  \n",
      "  inflating: train/muffin/muffin_156.jpeg  \n",
      "  inflating: train/muffin/muffin_246.jpeg  \n",
      "  inflating: train/muffin/muffin_286.jpeg  \n",
      "  inflating: train/muffin/muffin_259.jpeg  \n",
      "  inflating: train/muffin/muffin_91.jpeg  \n",
      "  inflating: train/muffin/muffin_23.jpeg  \n",
      "  inflating: train/muffin/muffin_284.jpeg  \n",
      "  inflating: train/muffin/muffin_147.jpeg  \n",
      "  inflating: train/muffin/muffin_270.jpeg  \n",
      "  inflating: train/muffin/muffin_167.jpeg  \n",
      "  inflating: train/muffin/muffin_177.jpeg  \n",
      "  inflating: train/muffin/muffin_178.jpeg  \n",
      "  inflating: train/muffin/muffin_222.jpeg  \n",
      "  inflating: train/muffin/muffin_381.jpeg  \n",
      "  inflating: train/muffin/muffin_219.jpeg  \n",
      "  inflating: train/muffin/muffin_223.jpeg  \n",
      "  inflating: train/muffin/muffin_375.jpeg  \n",
      "  inflating: train/muffin/muffin_406.jpeg  \n",
      "  inflating: train/muffin/muffin_379.jpeg  \n",
      "  inflating: train/muffin/muffin_493.jpeg  \n",
      "  inflating: train/muffin/muffin_396.jpeg  \n",
      "  inflating: train/muffin/muffin_175.jpeg  \n",
      "  inflating: train/muffin/muffin_480.jpeg  \n",
      "  inflating: train/muffin/muffin_459.jpeg  \n",
      "  inflating: train/muffin/muffin_413.jpeg  \n",
      "  inflating: train/muffin/muffin_478.jpeg  \n",
      "  inflating: train/muffin/muffin_39.jpeg  \n",
      "  inflating: train/muffin/muffin_119.jpeg  \n",
      "  inflating: train/muffin/muffin_407.jpeg  \n",
      "  inflating: train/muffin/muffin_326.jpeg  \n",
      "  inflating: train/muffin/muffin_421.jpeg  \n",
      "  inflating: train/muffin/muffin_146.jpeg  \n",
      "  inflating: train/muffin/muffin_152.jpeg  \n",
      "  inflating: train/muffin/muffin_304.jpeg  \n",
      "  inflating: train/muffin/muffin_112.jpeg  \n",
      "  inflating: train/muffin/muffin_372.jpeg  \n",
      "  inflating: train/muffin/muffin_34.jpeg  \n",
      "  inflating: train/muffin/muffin_490.jpeg  \n",
      "  inflating: train/muffin/muffin_180.jpeg  \n",
      "  inflating: train/muffin/muffin_67.jpeg  \n",
      "  inflating: train/muffin/muffin_296.jpeg  \n",
      "  inflating: train/muffin/muffin_355.jpeg  \n",
      "  inflating: train/muffin/muffin_117.jpeg  \n",
      "  inflating: train/muffin/muffin_35.jpeg  \n",
      "  inflating: train/muffin/muffin_57.jpeg  \n",
      "  inflating: train/muffin/muffin_228.jpeg  \n",
      "  inflating: train/muffin/muffin_334.jpeg  \n",
      "  inflating: train/muffin/muffin_433.jpeg  \n",
      "  inflating: train/muffin/muffin_94.jpeg  \n",
      "  inflating: train/muffin/muffin_95.jpeg  \n",
      "  inflating: train/muffin/muffin_338.jpeg  \n",
      "  inflating: train/muffin/muffin_51.jpeg  \n",
      "  inflating: train/muffin/muffin_28.jpeg  \n",
      "  inflating: train/muffin/muffin_321.jpeg  \n",
      "  inflating: train/muffin/muffin_85.jpeg  \n",
      "  inflating: train/muffin/muffin_230.jpeg  \n",
      "  inflating: train/muffin/muffin_53.jpeg  \n",
      "  inflating: train/muffin/muffin_36.jpeg  \n",
      "  inflating: train/muffin/muffin_81.jpeg  \n",
      "  inflating: train/muffin/muffin_360.jpeg  \n",
      "  inflating: train/muffin/muffin_485.jpeg  \n",
      "  inflating: train/muffin/muffin_495.jpeg  \n",
      "  inflating: train/muffin/muffin_384.jpeg  \n",
      "  inflating: train/muffin/muffin_30.jpeg  \n",
      "  inflating: train/muffin/muffin_364.jpeg  \n",
      "  inflating: train/muffin/muffin_298.jpeg  \n",
      "  inflating: train/muffin/muffin_224.jpeg  \n",
      "  inflating: train/muffin/muffin_497.jpeg  \n",
      "  inflating: train/muffin/muffin_118.jpeg  \n",
      "  inflating: train/muffin/muffin_208.jpeg  \n",
      "  inflating: train/muffin/muffin_45.jpeg  \n",
      "  inflating: train/muffin/muffin_50.jpeg  \n",
      "  inflating: train/muffin/muffin_265.jpeg  \n",
      "  inflating: train/muffin/muffin_214.jpeg  \n",
      "  inflating: train/muffin/muffin_101.jpeg  \n",
      "  inflating: train/muffin/muffin_448.jpeg  \n",
      "  inflating: train/muffin/muffin_271.jpeg  \n",
      "  inflating: train/muffin/muffin_322.jpeg  \n",
      "  inflating: train/muffin/muffin_125.jpeg  \n",
      "  inflating: train/muffin/muffin_397.jpeg  \n",
      "  inflating: train/muffin/muffin_352.jpeg  \n",
      "  inflating: train/muffin/muffin_184.jpeg  \n",
      "  inflating: train/muffin/muffin_31.jpeg  \n",
      "  inflating: train/muffin/muffin_245.jpeg  \n",
      "  inflating: train/muffin/muffin_84.jpeg  \n",
      "  inflating: train/muffin/muffin_398.jpeg  \n",
      "  inflating: train/muffin/muffin_428.jpeg  \n",
      "  inflating: train/muffin/muffin_229.jpeg  \n",
      "  inflating: train/muffin/muffin_74.jpeg  \n",
      "  inflating: train/muffin/muffin_110.jpeg  \n",
      "  inflating: train/muffin/muffin_247.jpeg  \n",
      "  inflating: train/muffin/muffin_138.jpeg  \n",
      "  inflating: train/muffin/muffin_59.jpeg  \n",
      "  inflating: train/muffin/muffin_202.jpeg  \n",
      "  inflating: train/muffin/muffin_285.jpeg  \n",
      "  inflating: train/muffin/muffin_92.jpeg  \n",
      "  inflating: train/muffin/muffin_87.jpeg  \n",
      "  inflating: train/muffin/muffin_238.jpeg  \n",
      "  inflating: train/muffin/muffin_330.jpeg  \n",
      "  inflating: train/muffin/muffin_316.jpeg  \n",
      "  inflating: train/muffin/muffin_4.jpeg  \n",
      "  inflating: train/muffin/muffin_277.jpeg  \n",
      "  inflating: train/muffin/muffin_274.jpeg  \n",
      "  inflating: train/muffin/muffin_412.jpeg  \n",
      "  inflating: train/muffin/muffin_185.jpeg  \n",
      "  inflating: train/muffin/muffin_63.jpeg  \n",
      "  inflating: train/muffin/muffin_121.jpeg  \n",
      "  inflating: train/muffin/muffin_348.jpeg  \n",
      "  inflating: train/muffin/muffin_106.jpeg  \n",
      "  inflating: train/muffin/muffin_435.jpeg  \n",
      "  inflating: train/muffin/muffin_68.jpeg  \n",
      "  inflating: train/muffin/muffin_166.jpeg  \n",
      "  inflating: train/muffin/muffin_210.jpeg  \n",
      "  inflating: train/muffin/muffin_386.jpeg  \n",
      "  inflating: train/muffin/muffin_237.jpeg  \n",
      "  inflating: train/muffin/muffin_443.jpeg  \n",
      "  inflating: train/muffin/muffin_288.jpeg  \n",
      "  inflating: train/muffin/muffin_151.jpeg  \n",
      "  inflating: train/muffin/muffin_169.jpeg  \n",
      "  inflating: train/muffin/muffin_170.jpeg  \n",
      "  inflating: train/muffin/muffin_380.jpeg  \n",
      "  inflating: train/muffin/muffin_475.jpeg  \n",
      "  inflating: train/muffin/muffin_6.jpeg  \n",
      "  inflating: train/muffin/muffin_430.jpeg  \n",
      "  inflating: train/muffin/muffin_140.jpeg  \n",
      "  inflating: train/muffin/muffin_42.jpeg  \n",
      "  inflating: train/muffin/muffin_275.jpeg  \n",
      "  inflating: train/muffin/muffin_71.jpeg  \n",
      "  inflating: train/muffin/muffin_325.jpeg  \n",
      "  inflating: train/muffin/muffin_282.jpeg  \n",
      "  inflating: train/muffin/muffin_173.jpeg  \n",
      "  inflating: train/muffin/muffin_450.jpeg  \n",
      "  inflating: train/muffin/muffin_37.jpeg  \n",
      "  inflating: train/muffin/muffin_133.jpeg  \n",
      "  inflating: train/muffin/muffin_446.jpeg  \n",
      "  inflating: train/muffin/muffin_300.jpeg  \n",
      "  inflating: train/muffin/muffin_5.jpeg  \n",
      "  inflating: train/muffin/muffin_467.jpeg  \n",
      "  inflating: train/muffin/muffin_109.jpeg  \n",
      "  inflating: train/muffin/muffin_405.jpeg  \n",
      "  inflating: train/muffin/muffin_55.jpeg  \n",
      "  inflating: train/muffin/muffin_342.jpeg  \n",
      "  inflating: train/muffin/muffin_244.jpeg  \n",
      "  inflating: train/muffin/muffin_393.jpeg  \n",
      "  inflating: train/muffin/muffin_437.jpeg  \n",
      "  inflating: train/muffin/muffin_250.jpeg  \n",
      "  inflating: train/muffin/muffin_201.jpeg  \n",
      "  inflating: train/muffin/muffin_477.jpeg  \n",
      "  inflating: train/muffin/muffin_429.jpeg  \n",
      "  inflating: train/muffin/muffin_473.jpeg  \n",
      "  inflating: train/muffin/muffin_419.jpeg  \n",
      "  inflating: train/muffin/muffin_466.jpeg  \n",
      "  inflating: train/muffin/muffin_141.jpeg  \n",
      "  inflating: train/muffin/muffin_104.jpeg  \n",
      "  inflating: train/muffin/muffin_11.jpeg  \n",
      "  inflating: train/muffin/muffin_163.jpeg  \n",
      "  inflating: train/muffin/muffin_401.jpeg  \n",
      "  inflating: train/muffin/muffin_203.jpeg  \n",
      "  inflating: train/muffin/muffin_319.jpeg  \n",
      "  inflating: train/muffin/muffin_10.jpeg  \n",
      "  inflating: train/muffin/muffin_294.jpeg  \n",
      "  inflating: train/muffin/muffin_154.jpeg  \n",
      "  inflating: train/muffin/muffin_77.jpeg  \n",
      "  inflating: train/muffin/muffin_280.jpeg  \n",
      "  inflating: train/muffin/muffin_264.jpeg  \n",
      "  inflating: train/muffin/muffin_168.jpeg  \n",
      "  inflating: train/muffin/muffin_297.jpeg  \n",
      "  inflating: train/muffin/muffin_273.jpeg  \n",
      "  inflating: train/muffin/muffin_137.jpeg  \n",
      "  inflating: train/muffin/muffin_417.jpeg  \n",
      "  inflating: train/muffin/muffin_248.jpeg  \n",
      "  inflating: train/muffin/muffin_254.jpeg  \n",
      "  inflating: train/muffin/muffin_191.jpeg  \n",
      "  inflating: train/muffin/muffin_434.jpeg  \n",
      "  inflating: train/muffin/muffin_197.jpeg  \n",
      "  inflating: train/muffin/muffin_218.jpeg  \n",
      "  inflating: train/muffin/muffin_97.jpeg  \n",
      "  inflating: train/muffin/muffin_93.jpeg  \n",
      "  inflating: train/muffin/muffin_98.jpeg  \n",
      "  inflating: train/muffin/muffin_44.jpeg  \n",
      "  inflating: train/muffin/muffin_56.jpeg  \n",
      "  inflating: train/muffin/muffin_65.jpeg  \n",
      "  inflating: train/muffin/muffin_416.jpeg  \n",
      "  inflating: train/muffin/muffin_3.jpeg  \n",
      "  inflating: train/muffin/muffin_18.jpeg  \n",
      "  inflating: train/muffin/muffin_447.jpeg  \n",
      "  inflating: train/muffin/muffin_449.jpeg  \n",
      "  inflating: train/muffin/muffin_499.jpeg  \n",
      "  inflating: train/muffin/muffin_144.jpeg  \n",
      "  inflating: train/muffin/muffin_336.jpeg  \n",
      "  inflating: train/muffin/muffin_453.jpeg  \n",
      "  inflating: train/muffin/muffin_143.jpeg  \n",
      "  inflating: train/muffin/muffin_461.jpeg  \n",
      "  inflating: train/muffin/muffin_155.jpeg  \n",
      "  inflating: train/muffin/muffin_409.jpeg  \n",
      "  inflating: train/muffin/muffin_100.jpeg  \n",
      "  inflating: train/muffin/muffin_225.jpeg  \n",
      "  inflating: train/muffin/muffin_96.jpeg  \n",
      "  inflating: train/muffin/muffin_255.jpeg  \n",
      "  inflating: train/muffin/muffin_13.jpeg  \n",
      "  inflating: train/muffin/muffin_105.jpeg  \n",
      "  inflating: train/muffin/muffin_333.jpeg  \n",
      "  inflating: train/muffin/muffin_328.jpeg  \n",
      "  inflating: train/muffin/muffin_192.jpeg  \n",
      "  inflating: train/muffin/muffin_89.jpeg  \n",
      "  inflating: train/muffin/muffin_441.jpeg  \n",
      "  inflating: train/muffin/muffin_356.jpeg  \n",
      "  inflating: train/muffin/muffin_165.jpeg  \n",
      "  inflating: train/muffin/muffin_258.jpeg  \n",
      "  inflating: train/muffin/muffin_234.jpeg  \n",
      "  inflating: train/muffin/muffin_468.jpeg  \n",
      "  inflating: train/muffin/muffin_1.jpeg  \n",
      "  inflating: train/muffin/muffin_486.jpeg  \n",
      "  inflating: train/muffin/muffin_236.jpeg  \n",
      "  inflating: train/muffin/muffin_209.jpeg  \n",
      "  inflating: train/muffin/muffin_123.jpeg  \n",
      "  inflating: train/muffin/muffin_414.jpeg  \n",
      "  inflating: train/muffin/muffin_136.jpeg  \n",
      "  inflating: train/muffin/muffin_343.jpeg  \n",
      "  inflating: train/muffin/muffin_371.jpeg  \n",
      "  inflating: train/muffin/muffin_145.jpeg  \n",
      "  inflating: train/muffin/muffin_464.jpeg  \n",
      "  inflating: train/muffin/muffin_114.jpeg  \n",
      "  inflating: train/muffin/muffin_389.jpeg  \n",
      "  inflating: train/muffin/muffin_395.jpeg  \n",
      "  inflating: train/muffin/muffin_293.jpeg  \n",
      "  inflating: train/muffin/muffin_211.jpeg  \n",
      "  inflating: train/muffin/muffin_76.jpeg  \n",
      "  inflating: train/muffin/muffin_131.jpeg  \n",
      "  inflating: train/muffin/muffin_7.jpeg  \n",
      "  inflating: train/muffin/muffin_337.jpeg  \n",
      "  inflating: train/muffin/muffin_279.jpeg  \n",
      "  inflating: train/muffin/muffin_346.jpeg  \n",
      "  inflating: train/muffin/muffin_440.jpeg  \n",
      "  inflating: train/muffin/muffin_72.jpeg  \n",
      "  inflating: train/muffin/muffin_69.jpeg  \n",
      "  inflating: train/muffin/muffin_14.jpeg  \n",
      "  inflating: train/muffin/muffin_47.jpeg  \n",
      "  inflating: train/muffin/muffin_481.jpeg  \n",
      "  inflating: train/muffin/muffin_172.jpeg  \n",
      "  inflating: train/muffin/muffin_99.jpeg  \n",
      "  inflating: train/muffin/muffin_148.jpeg  \n",
      "  inflating: train/muffin/muffin_188.jpeg  \n",
      "  inflating: train/muffin/muffin_132.jpeg  \n",
      "  inflating: train/muffin/muffin_126.jpeg  \n",
      "  inflating: train/muffin/muffin_176.jpeg  \n",
      "  inflating: train/muffin/muffin_351.jpeg  \n",
      "  inflating: train/muffin/muffin_49.jpeg  \n",
      "  inflating: train/muffin/muffin_8.jpeg  \n",
      "  inflating: train/muffin/muffin_249.jpeg  \n",
      "  inflating: train/muffin/muffin_487.jpeg  \n",
      "  inflating: train/muffin/muffin_12.jpeg  \n",
      "  inflating: train/muffin/muffin_339.jpeg  \n",
      "  inflating: train/muffin/muffin_498.jpeg  \n",
      "  inflating: train/muffin/muffin_323.jpeg  \n",
      "  inflating: train/muffin/muffin_235.jpeg  \n",
      "  inflating: train/muffin/muffin_317.jpeg  \n",
      "  inflating: train/muffin/muffin_111.jpeg  \n",
      "  inflating: train/muffin/muffin_494.jpeg  \n",
      "  inflating: train/muffin/muffin_256.jpeg  \n",
      "  inflating: train/muffin/muffin_452.jpeg  \n",
      "  inflating: train/muffin/muffin_113.jpeg  \n",
      "  inflating: train/muffin/muffin_335.jpeg  \n",
      "  inflating: train/muffin/muffin_377.jpeg  \n",
      "  inflating: train/muffin/muffin_474.jpeg  \n",
      "  inflating: train/muffin/muffin_122.jpeg  \n",
      "  inflating: train/muffin/muffin_311.jpeg  \n",
      "  inflating: train/muffin/muffin_46.jpeg  \n",
      "  inflating: train/muffin/muffin_43.jpeg  \n",
      "  inflating: train/muffin/muffin_243.jpeg  \n",
      "  inflating: train/muffin/muffin_186.jpeg  \n",
      "  inflating: train/muffin/muffin_347.jpeg  \n",
      "  inflating: train/muffin/muffin_58.jpeg  \n",
      "  inflating: train/muffin/muffin_482.jpeg  \n",
      "  inflating: train/muffin/muffin_204.jpeg  \n",
      "  inflating: train/muffin/muffin_181.jpeg  \n",
      "  inflating: train/muffin/muffin_476.jpeg  \n",
      "  inflating: train/muffin/muffin_241.jpeg  \n",
      "  inflating: train/muffin/muffin_366.jpeg  \n",
      "  inflating: train/muffin/muffin_196.jpeg  \n",
      "  inflating: train/muffin/muffin_24.jpeg  \n",
      "  inflating: train/muffin/muffin_410.jpeg  \n",
      "  inflating: train/muffin/muffin_357.jpeg  \n",
      "  inflating: train/muffin/muffin_283.jpeg  \n",
      "  inflating: train/muffin/muffin_308.jpeg  \n",
      "  inflating: train/muffin/muffin_305.jpeg  \n",
      "  inflating: train/muffin/muffin_329.jpeg  \n",
      "  inflating: train/muffin/muffin_471.jpeg  \n",
      "  inflating: train/muffin/muffin_83.jpeg  \n",
      "  inflating: train/muffin/muffin_427.jpeg  \n",
      "  inflating: train/muffin/muffin_124.jpeg  \n",
      "  inflating: train/muffin/muffin_135.jpeg  \n",
      "  inflating: train/muffin/muffin_263.jpeg  \n",
      "  inflating: train/muffin/muffin_367.jpeg  \n",
      "  inflating: train/muffin/muffin_403.jpeg  \n",
      "  inflating: train/muffin/muffin_260.jpeg  \n",
      "  inflating: train/muffin/muffin_318.jpeg  \n",
      "  inflating: train/muffin/muffin_21.jpeg  \n",
      "  inflating: train/muffin/muffin_361.jpeg  \n",
      "  inflating: train/muffin/muffin_350.jpeg  \n",
      "  inflating: train/muffin/muffin_159.jpeg  \n",
      "  inflating: train/muffin/muffin_160.jpeg  \n",
      "  inflating: train/muffin/muffin_32.jpeg  \n",
      "  inflating: train/muffin/muffin_445.jpeg  \n",
      "  inflating: train/muffin/muffin_378.jpeg  \n",
      "  inflating: train/muffin/muffin_426.jpeg  \n",
      "  inflating: train/muffin/muffin_194.jpeg  \n",
      "  inflating: train/muffin/muffin_232.jpeg  \n",
      "  inflating: train/muffin/muffin_458.jpeg  \n",
      "  inflating: train/muffin/muffin_220.jpeg  \n",
      "  inflating: train/muffin/muffin_281.jpeg  \n",
      "  inflating: train/muffin/muffin_291.jpeg  \n",
      "  inflating: train/muffin/muffin_52.jpeg  \n",
      "  inflating: train/muffin/muffin_75.jpeg  \n",
      "  inflating: train/muffin/muffin_307.jpeg  \n",
      "  inflating: train/muffin/muffin_454.jpeg  \n",
      "  inflating: train/muffin/muffin_382.jpeg  \n",
      "  inflating: train/muffin/muffin_261.jpeg  \n",
      "  inflating: train/muffin/muffin_187.jpeg  \n",
      "  inflating: train/muffin/muffin_422.jpeg  \n",
      "  inflating: train/muffin/muffin_40.jpeg  \n",
      "  inflating: train/muffin/muffin_472.jpeg  \n",
      "  inflating: train/muffin/muffin_9.jpeg  \n",
      "  inflating: train/muffin/muffin_269.jpeg  \n",
      "  inflating: train/muffin/muffin_107.jpeg  \n",
      "  inflating: train/muffin/muffin_436.jpeg  \n",
      "  inflating: train/muffin/muffin_127.jpeg  \n",
      "  inflating: train/muffin/muffin_199.jpeg  \n",
      "  inflating: train/muffin/muffin_102.jpeg  \n",
      "  inflating: train/muffin/muffin_205.jpeg  \n",
      "  inflating: train/muffin/muffin_354.jpeg  \n",
      "  inflating: train/muffin/muffin_276.jpeg  \n",
      "  inflating: train/muffin/muffin_362.jpeg  \n",
      "  inflating: train/muffin/muffin_344.jpeg  \n",
      "  inflating: train/muffin/muffin_415.jpeg  \n",
      "  inflating: train/muffin/muffin_444.jpeg  \n",
      "  inflating: train/muffin/muffin_324.jpeg  \n",
      "  inflating: train/muffin/muffin_189.jpeg  \n",
      "  inflating: train/muffin/muffin_267.jpeg  \n",
      "  inflating: train/muffin/muffin_320.jpeg  \n",
      "  inflating: train/muffin/muffin_128.jpeg  \n",
      "  inflating: train/muffin/muffin_373.jpeg  \n",
      "  inflating: train/muffin/muffin_483.jpeg  \n",
      "  inflating: train/muffin/muffin_359.jpeg  \n",
      "  inflating: train/muffin/muffin_272.jpeg  \n",
      "  inflating: train/muffin/muffin_251.jpeg  \n",
      "  inflating: train/muffin/muffin_463.jpeg  \n",
      "  inflating: train/muffin/muffin_479.jpeg  \n",
      "  inflating: train/muffin/muffin_383.jpeg  \n",
      "  inflating: train/muffin/muffin_221.jpeg  \n",
      "  inflating: train/muffin/muffin_179.jpeg  \n",
      "  inflating: train/muffin/muffin_153.jpeg  \n",
      "  inflating: train/muffin/muffin_460.jpeg  \n",
      "  inflating: train/muffin/muffin_215.jpeg  \n",
      "  inflating: train/muffin/muffin_27.jpeg  \n",
      "  inflating: train/muffin/muffin_48.jpeg  \n",
      "  inflating: train/muffin/muffin_158.jpeg  \n",
      "  inflating: train/muffin/muffin_257.jpeg  \n",
      "  inflating: train/muffin/muffin_496.jpeg  \n",
      "  inflating: train/muffin/muffin_349.jpeg  \n",
      "  inflating: train/muffin/muffin_115.jpeg  \n",
      "  inflating: train/muffin/muffin_332.jpeg  \n",
      "  inflating: train/muffin/muffin_61.jpeg  \n",
      "  inflating: train/muffin/muffin_420.jpeg  \n",
      "  inflating: train/muffin/muffin_103.jpeg  \n",
      "  inflating: train/muffin/muffin_164.jpeg  \n",
      "  inflating: train/muffin/muffin_207.jpeg  \n",
      "  inflating: train/muffin/muffin_22.jpeg  \n",
      "  inflating: train/muffin/muffin_365.jpeg  \n",
      "  inflating: train/muffin/muffin_470.jpeg  \n",
      "  inflating: train/muffin/muffin_462.jpeg  \n",
      "  inflating: train/muffin/muffin_41.jpeg  \n",
      "  inflating: train/muffin/muffin_353.jpeg  \n",
      "  inflating: train/muffin/muffin_303.jpeg  \n",
      "  inflating: train/muffin/muffin_162.jpeg  \n",
      "  inflating: train/muffin/muffin_376.jpeg  \n",
      "  inflating: train/muffin/muffin_363.jpeg  \n",
      "  inflating: train/muffin/muffin_315.jpeg  \n",
      "  inflating: train/muffin/muffin_29.jpeg  \n",
      "  inflating: train/muffin/muffin_15.jpeg  \n",
      "  inflating: train/muffin/muffin_345.jpeg  \n",
      "  inflating: train/muffin/muffin_374.jpeg  \n",
      "  inflating: train/muffin/muffin_226.jpeg  \n",
      "  inflating: train/muffin/muffin_340.jpeg  \n",
      "  inflating: train/muffin/muffin_431.jpeg  \n",
      "  inflating: train/muffin/muffin_33.jpeg  \n",
      "  inflating: train/muffin/muffin_423.jpeg  \n",
      "  inflating: train/muffin/muffin_368.jpeg  \n",
      "  inflating: train/muffin/muffin_134.jpeg  \n",
      "  inflating: train/muffin/muffin_217.jpeg  \n",
      "  inflating: train/muffin/muffin_309.jpeg  \n",
      "  inflating: train/muffin/muffin_292.jpeg  \n",
      "  inflating: train/muffin/muffin_369.jpeg  \n",
      "  inflating: train/muffin/muffin_489.jpeg  \n",
      "  inflating: train/muffin/muffin_183.jpeg  \n",
      "  inflating: train/muffin/muffin_402.jpeg  \n",
      "  inflating: train/muffin/muffin_301.jpeg  \n",
      "  inflating: train/muffin/muffin_266.jpeg  \n",
      "  inflating: train/muffin/muffin_295.jpeg  \n",
      "  inflating: train/muffin/muffin_438.jpeg  \n",
      "  inflating: train/muffin/muffin_161.jpeg  \n",
      "  inflating: train/muffin/muffin_212.jpeg  \n",
      "  inflating: train/muffin/muffin_491.jpeg  \n",
      "  inflating: train/muffin/muffin_116.jpeg  \n",
      "  inflating: train/muffin/muffin_190.jpeg  \n",
      "  inflating: train/muffin/muffin_242.jpeg  \n",
      "  inflating: train/muffin/muffin_139.jpeg  \n",
      "  inflating: train/muffin/muffin_341.jpeg  \n",
      "  inflating: train/muffin/muffin_82.jpeg  \n",
      "  inflating: train/muffin/muffin_306.jpeg  \n",
      "  inflating: train/muffin/muffin_60.jpeg  \n",
      "  inflating: train/muffin/muffin_239.jpeg  \n",
      "  inflating: train/muffin/muffin_25.jpeg  \n",
      "  inflating: train/muffin/muffin_198.jpeg  \n",
      "  inflating: train/muffin/muffin_500.jpeg  \n",
      "  inflating: train/muffin/muffin_358.jpeg  \n",
      "  inflating: train/muffin/muffin_278.jpeg  \n",
      "  inflating: train/muffin/muffin_388.jpeg  \n",
      "  inflating: train/muffin/muffin_73.jpeg  \n",
      "  inflating: train/muffin/muffin_216.jpeg  \n",
      "  inflating: train/muffin/muffin_79.jpeg  \n",
      "  inflating: train/muffin/muffin_262.jpeg  \n",
      "  inflating: train/muffin/muffin_310.jpeg  \n",
      "  inflating: train/muffin/muffin_108.jpeg  \n",
      "  inflating: train/muffin/muffin_193.jpeg  \n",
      "  inflating: train/muffin/muffin_195.jpeg  \n",
      "  inflating: train/muffin/muffin_157.jpeg  \n",
      "  inflating: train/muffin/muffin_70.jpeg  \n",
      "  inflating: train/muffin/muffin_290.jpeg  \n",
      "  inflating: train/muffin/muffin_130.jpeg  \n",
      "  inflating: train/muffin/muffin_200.jpeg  \n",
      "  inflating: train/muffin/muffin_394.jpeg  \n",
      "  inflating: train/muffin/muffin_289.jpeg  \n",
      "  inflating: train/muffin/muffin_213.jpeg  \n",
      "  inflating: train/muffin/muffin_129.jpeg  \n",
      "  inflating: train/muffin/muffin_432.jpeg  \n",
      "  inflating: train/muffin/muffin_287.jpeg  \n",
      "  inflating: train/muffin/muffin_488.jpeg  \n",
      "  inflating: train/muffin/muffin_19.jpeg  \n",
      "  inflating: train/muffin/muffin_390.jpeg  \n",
      "  inflating: train/muffin/muffin_484.jpeg  \n",
      "  inflating: train/muffin/muffin_469.jpeg  \n",
      "  inflating: train/muffin/muffin_456.jpeg  \n",
      "  inflating: train/muffin/muffin_182.jpeg  \n",
      "  inflating: train/muffin/muffin_78.jpeg  \n",
      "  inflating: train/muffin/muffin_252.jpeg  \n",
      "  inflating: train/muffin/muffin_327.jpeg  \n",
      "  inflating: train/muffin/muffin_313.jpeg  \n",
      "  inflating: train/muffin/muffin_171.jpeg  \n",
      "  inflating: train/muffin/muffin_206.jpeg  \n",
      "  inflating: train/muffin/muffin_88.jpeg  \n",
      "  inflating: train/muffin/muffin_227.jpeg  \n",
      "  inflating: train/muffin/muffin_457.jpeg  \n",
      "  inflating: train/muffin/muffin_26.jpeg  \n",
      "  inflating: train/muffin/muffin_455.jpeg  \n",
      "  inflating: train/muffin/muffin_120.jpeg  \n",
      "  inflating: train/muffin/muffin_16.jpeg  \n",
      "  inflating: train/muffin/muffin_439.jpeg  \n",
      "  inflating: train/muffin/muffin_240.jpeg  \n",
      "  inflating: train/muffin/muffin_400.jpeg  \n",
      "  inflating: train/muffin/muffin_150.jpeg  \n",
      "  inflating: train/muffin/muffin_492.jpeg  \n",
      "  inflating: train/muffin/muffin_451.jpeg  \n",
      "  inflating: train/muffin/muffin_370.jpeg  \n",
      "  inflating: train/muffin/muffin_64.jpeg  \n",
      "  inflating: train/muffin/muffin_331.jpeg  \n",
      "  inflating: train/muffin/muffin_465.jpeg  \n",
      "  inflating: train/muffin/muffin_387.jpeg  \n",
      "  inflating: train/muffin/muffin_418.jpeg  \n",
      "  inflating: train/muffin/muffin_385.jpeg  \n",
      "  inflating: train/muffin/muffin_20.jpeg  \n",
      "  inflating: train/muffin/muffin_314.jpeg  \n",
      "  inflating: train/muffin/muffin_302.jpeg  \n",
      "  inflating: train/muffin/muffin_149.jpeg  \n",
      "  inflating: train/muffin/muffin_80.jpeg  \n",
      "  inflating: train/muffin/muffin_174.jpeg  \n",
      "  inflating: train/muffin/muffin_17.jpeg  \n",
      "  inflating: train/muffin/muffin_253.jpeg  \n",
      "  inflating: train/muffin/muffin_411.jpeg  \n",
      "  inflating: train/muffin/muffin_391.jpeg  \n",
      "  inflating: train/muffin/muffin_231.jpeg  \n",
      "  inflating: train/muffin/muffin_442.jpeg  \n",
      "   creating: train/chihuahua/\n",
      "  inflating: train/chihuahua/chihuahua_476.jpeg  \n",
      "  inflating: train/chihuahua/chihuahua_528.jpeg  \n",
      "  inflating: train/chihuahua/chihuahua_371.jpeg  \n",
      "  inflating: train/chihuahua/chihuahua_361.jpeg  \n",
      "  inflating: train/chihuahua/chihuahua_355.jpeg  \n",
      "  inflating: train/chihuahua/chihuahua_122.jpeg  \n",
      "  inflating: train/chihuahua/chihuahua_442.jpeg  \n",
      "  inflating: train/chihuahua/chihuahua_284.jpeg  \n",
      "  inflating: train/chihuahua/chihuahua_337.jpeg  \n",
      "  inflating: train/chihuahua/chihuahua_182.jpeg  \n",
      "  inflating: train/chihuahua/chihuahua_207.jpeg  \n",
      "  inflating: train/chihuahua/chihuahua_112.jpeg  \n",
      "  inflating: train/chihuahua/chihuahua_495.jpeg  \n",
      "  inflating: train/chihuahua/chihuahua_54.jpeg  \n",
      "  inflating: train/chihuahua/chihuahua_27.jpeg  \n",
      "  inflating: train/chihuahua/chihuahua_339.jpeg  \n",
      "  inflating: train/chihuahua/chihuahua_366.jpeg  \n",
      "  inflating: train/chihuahua/chihuahua_132.jpeg  \n",
      "  inflating: train/chihuahua/chihuahua_319.jpeg  \n",
      "  inflating: train/chihuahua/chihuahua_455.jpeg  \n",
      "  inflating: train/chihuahua/chihuahua_509.jpeg  \n",
      "  inflating: train/chihuahua/chihuahua_368.jpeg  \n",
      "  inflating: train/chihuahua/chihuahua_394.jpeg  \n",
      "  inflating: train/chihuahua/chihuahua_125.jpeg  \n",
      "  inflating: train/chihuahua/chihuahua_300.jpeg  \n",
      "  inflating: train/chihuahua/chihuahua_514.jpeg  \n",
      "  inflating: train/chihuahua/chihuahua_116.jpeg  \n",
      "  inflating: train/chihuahua/chihuahua_351.jpeg  \n",
      "  inflating: train/chihuahua/chihuahua_330.jpeg  \n",
      "  inflating: train/chihuahua/chihuahua_51.jpeg  \n",
      "  inflating: train/chihuahua/chihuahua_426.jpeg  \n",
      "  inflating: train/chihuahua/chihuahua_52.jpeg  \n",
      "  inflating: train/chihuahua/chihuahua_239.jpeg  \n",
      "  inflating: train/chihuahua/chihuahua_236.jpeg  \n",
      "  inflating: train/chihuahua/chihuahua_215.jpeg  \n",
      "  inflating: train/chihuahua/chihuahua_145.jpeg  \n",
      "  inflating: train/chihuahua/chihuahua_18.jpeg  \n",
      "  inflating: train/chihuahua/chihuahua_212.jpeg  \n",
      "  inflating: train/chihuahua/chihuahua_141.jpeg  \n",
      "  inflating: train/chihuahua/chihuahua_389.jpeg  \n",
      "  inflating: train/chihuahua/chihuahua_156.jpeg  \n",
      "  inflating: train/chihuahua/chihuahua_392.jpeg  \n",
      "  inflating: train/chihuahua/chihuahua_350.jpeg  \n",
      "  inflating: train/chihuahua/chihuahua_298.jpeg  \n",
      "  inflating: train/chihuahua/chihuahua_150.jpeg  \n",
      "  inflating: train/chihuahua/chihuahua_512.jpeg  \n",
      "  inflating: train/chihuahua/chihuahua_19.jpeg  \n",
      "  inflating: train/chihuahua/chihuahua_364.jpeg  \n",
      "  inflating: train/chihuahua/chihuahua_44.jpeg  \n",
      "  inflating: train/chihuahua/chihuahua_233.jpeg  \n",
      "  inflating: train/chihuahua/chihuahua_225.jpeg  \n",
      "  inflating: train/chihuahua/chihuahua_524.jpeg  \n",
      "  inflating: train/chihuahua/chihuahua_393.jpeg  \n",
      "  inflating: train/chihuahua/chihuahua_181.jpeg  \n",
      "  inflating: train/chihuahua/chihuahua_113.jpeg  \n",
      "  inflating: train/chihuahua/chihuahua_321.jpeg  \n",
      "  inflating: train/chihuahua/chihuahua_520.jpeg  \n",
      "  inflating: train/chihuahua/chihuahua_104.jpeg  \n",
      "  inflating: train/chihuahua/chihuahua_343.jpeg  \n",
      "  inflating: train/chihuahua/chihuahua_286.jpeg  \n",
      "  inflating: train/chihuahua/chihuahua_543.jpeg  \n",
      "  inflating: train/chihuahua/chihuahua_197.jpeg  \n",
      "  inflating: train/chihuahua/chihuahua_169.jpeg  \n",
      "  inflating: train/chihuahua/chihuahua_312.jpeg  \n",
      "  inflating: train/chihuahua/chihuahua_274.jpeg  \n",
      "  inflating: train/chihuahua/chihuahua_445.jpeg  \n",
      "  inflating: train/chihuahua/chihuahua_191.jpeg  \n",
      "  inflating: train/chihuahua/chihuahua_379.jpeg  \n",
      "  inflating: train/chihuahua/chihuahua_325.jpeg  \n",
      "  inflating: train/chihuahua/chihuahua_378.jpeg  \n",
      "  inflating: train/chihuahua/chihuahua_273.jpeg  \n",
      "  inflating: train/chihuahua/chihuahua_119.jpeg  \n",
      "  inflating: train/chihuahua/chihuahua_390.jpeg  \n",
      "  inflating: train/chihuahua/chihuahua_36.jpeg  \n",
      "  inflating: train/chihuahua/chihuahua_453.jpeg  \n",
      "  inflating: train/chihuahua/chihuahua_131.jpeg  \n",
      "  inflating: train/chihuahua/chihuahua_412.jpeg  \n",
      "  inflating: train/chihuahua/chihuahua_502.jpeg  \n",
      "  inflating: train/chihuahua/chihuahua_157.jpeg  \n",
      "  inflating: train/chihuahua/chihuahua_140.jpeg  \n",
      "  inflating: train/chihuahua/chihuahua_434.jpeg  \n",
      "  inflating: train/chihuahua/chihuahua_12.jpeg  \n",
      "  inflating: train/chihuahua/chihuahua_464.jpeg  \n",
      "  inflating: train/chihuahua/chihuahua_32.jpeg  \n",
      "  inflating: train/chihuahua/chihuahua_401.jpeg  \n",
      "  inflating: train/chihuahua/chihuahua_405.jpeg  \n",
      "  inflating: train/chihuahua/chihuahua_430.jpeg  \n",
      "  inflating: train/chihuahua/chihuahua_348.jpeg  \n",
      "  inflating: train/chihuahua/chihuahua_484.jpeg  \n",
      "  inflating: train/chihuahua/chihuahua_409.jpeg  \n",
      "  inflating: train/chihuahua/chihuahua_375.jpeg  \n",
      "  inflating: train/chihuahua/chihuahua_346.jpeg  \n",
      "  inflating: train/chihuahua/chihuahua_200.jpeg  \n",
      "  inflating: train/chihuahua/chihuahua_515.jpeg  \n",
      "  inflating: train/chihuahua/chihuahua_294.jpeg  \n",
      "  inflating: train/chihuahua/chihuahua_458.jpeg  \n",
      "  inflating: train/chihuahua/chihuahua_382.jpeg  \n",
      "  inflating: train/chihuahua/chihuahua_482.jpeg  \n",
      "  inflating: train/chihuahua/chihuahua_341.jpeg  \n",
      "  inflating: train/chihuahua/chihuahua_497.jpeg  \n",
      "  inflating: train/chihuahua/chihuahua_179.jpeg  \n",
      "  inflating: train/chihuahua/chihuahua_310.jpeg  \n",
      "  inflating: train/chihuahua/chihuahua_459.jpeg  \n",
      "  inflating: train/chihuahua/chihuahua_204.jpeg  \n",
      "  inflating: train/chihuahua/chihuahua_374.jpeg  \n",
      "  inflating: train/chihuahua/chihuahua_425.jpeg  \n",
      "  inflating: train/chihuahua/chihuahua_11.jpeg  \n",
      "  inflating: train/chihuahua/chihuahua_47.jpeg  \n",
      "  inflating: train/chihuahua/chihuahua_539.jpeg  \n",
      "  inflating: train/chihuahua/chihuahua_304.jpeg  \n",
      "  inflating: train/chihuahua/chihuahua_49.jpeg  \n",
      "  inflating: train/chihuahua/chihuahua_275.jpeg  \n",
      "  inflating: train/chihuahua/chihuahua_250.jpeg  \n",
      "  inflating: train/chihuahua/chihuahua_5.jpeg  \n",
      "  inflating: train/chihuahua/chihuahua_494.jpeg  \n",
      "  inflating: train/chihuahua/chihuahua_192.jpeg  \n",
      "  inflating: train/chihuahua/chihuahua_130.jpeg  \n",
      "  inflating: train/chihuahua/chihuahua_167.jpeg  \n",
      "  inflating: train/chihuahua/chihuahua_139.jpeg  \n",
      "  inflating: train/chihuahua/chihuahua_326.jpeg  \n",
      "  inflating: train/chihuahua/chihuahua_208.jpeg  \n",
      "  inflating: train/chihuahua/chihuahua_403.jpeg  \n",
      "  inflating: train/chihuahua/chihuahua_222.jpeg  \n",
      "  inflating: train/chihuahua/chihuahua_149.jpeg  \n",
      "  inflating: train/chihuahua/chihuahua_187.jpeg  \n",
      "  inflating: train/chihuahua/chihuahua_506.jpeg  \n",
      "  inflating: train/chihuahua/chihuahua_40.jpeg  \n",
      "  inflating: train/chihuahua/chihuahua_172.jpeg  \n",
      "  inflating: train/chihuahua/chihuahua_318.jpeg  \n",
      "  inflating: train/chihuahua/chihuahua_467.jpeg  \n",
      "  inflating: train/chihuahua/chihuahua_297.jpeg  \n",
      "  inflating: train/chihuahua/chihuahua_228.jpeg  \n",
      "  inflating: train/chihuahua/chihuahua_383.jpeg  \n",
      "  inflating: train/chihuahua/chihuahua_499.jpeg  \n",
      "  inflating: train/chihuahua/chihuahua_241.jpeg  \n",
      "  inflating: train/chihuahua/chihuahua_301.jpeg  \n",
      "  inflating: train/chihuahua/chihuahua_438.jpeg  \n",
      "  inflating: train/chihuahua/chihuahua_308.jpeg  \n",
      "  inflating: train/chihuahua/chihuahua_226.jpeg  \n",
      "  inflating: train/chihuahua/chihuahua_435.jpeg  \n",
      "  inflating: train/chihuahua/chihuahua_231.jpeg  \n",
      "  inflating: train/chihuahua/chihuahua_489.jpeg  \n",
      "  inflating: train/chihuahua/chihuahua_238.jpeg  \n",
      "  inflating: train/chihuahua/chihuahua_491.jpeg  \n",
      "  inflating: train/chihuahua/chihuahua_175.jpeg  \n",
      "  inflating: train/chihuahua/chihuahua_541.jpeg  \n",
      "  inflating: train/chihuahua/chihuahua_503.jpeg  \n",
      "  inflating: train/chihuahua/chihuahua_311.jpeg  \n",
      "  inflating: train/chihuahua/chihuahua_248.jpeg  \n",
      "  inflating: train/chihuahua/chihuahua_504.jpeg  \n",
      "  inflating: train/chihuahua/chihuahua_278.jpeg  \n",
      "  inflating: train/chihuahua/chihuahua_20.jpeg  \n",
      "  inflating: train/chihuahua/chihuahua_450.jpeg  \n",
      "  inflating: train/chihuahua/chihuahua_190.jpeg  \n",
      "  inflating: train/chihuahua/chihuahua_21.jpeg  \n",
      "  inflating: train/chihuahua/chihuahua_268.jpeg  \n",
      "  inflating: train/chihuahua/chihuahua_193.jpeg  \n",
      "  inflating: train/chihuahua/chihuahua_323.jpeg  \n",
      "  inflating: train/chihuahua/chihuahua_454.jpeg  \n",
      "  inflating: train/chihuahua/chihuahua_224.jpeg  \n",
      "  inflating: train/chihuahua/chihuahua_478.jpeg  \n",
      "  inflating: train/chihuahua/chihuahua_153.jpeg  \n",
      "  inflating: train/chihuahua/chihuahua_124.jpeg  \n",
      "  inflating: train/chihuahua/chihuahua_270.jpeg  \n",
      "  inflating: train/chihuahua/chihuahua_166.jpeg  \n",
      "  inflating: train/chihuahua/chihuahua_461.jpeg  \n",
      "  inflating: train/chihuahua/chihuahua_105.jpeg  \n",
      "  inflating: train/chihuahua/chihuahua_354.jpeg  \n",
      "  inflating: train/chihuahua/chihuahua_535.jpeg  \n",
      "  inflating: train/chihuahua/chihuahua_230.jpeg  \n",
      "  inflating: train/chihuahua/chihuahua_210.jpeg  \n",
      "  inflating: train/chihuahua/chihuahua_399.jpeg  \n",
      "  inflating: train/chihuahua/chihuahua_538.jpeg  \n",
      "  inflating: train/chihuahua/chihuahua_400.jpeg  \n",
      "  inflating: train/chihuahua/chihuahua_449.jpeg  \n",
      "  inflating: train/chihuahua/chihuahua_142.jpeg  \n",
      "  inflating: train/chihuahua/chihuahua_303.jpeg  \n",
      "  inflating: train/chihuahua/chihuahua_165.jpeg  \n",
      "  inflating: train/chihuahua/chihuahua_429.jpeg  \n",
      "  inflating: train/chihuahua/chihuahua_533.jpeg  \n",
      "  inflating: train/chihuahua/chihuahua_161.jpeg  \n",
      "  inflating: train/chihuahua/chihuahua_45.jpeg  \n",
      "  inflating: train/chihuahua/chihuahua_362.jpeg  \n",
      "  inflating: train/chihuahua/chihuahua_129.jpeg  \n",
      "  inflating: train/chihuahua/chihuahua_290.jpeg  \n",
      "  inflating: train/chihuahua/chihuahua_549.jpeg  \n",
      "  inflating: train/chihuahua/chihuahua_28.jpeg  \n",
      "  inflating: train/chihuahua/chihuahua_209.jpeg  \n",
      "  inflating: train/chihuahua/chihuahua_195.jpeg  \n",
      "  inflating: train/chihuahua/chihuahua_340.jpeg  \n",
      "  inflating: train/chihuahua/chihuahua_441.jpeg  \n",
      "  inflating: train/chihuahua/chihuahua_202.jpeg  \n",
      "  inflating: train/chihuahua/chihuahua_385.jpeg  \n",
      "  inflating: train/chihuahua/chihuahua_292.jpeg  \n",
      "  inflating: train/chihuahua/chihuahua_315.jpeg  \n",
      "  inflating: train/chihuahua/chihuahua_288.jpeg  \n",
      "  inflating: train/chihuahua/chihuahua_201.jpeg  \n",
      "  inflating: train/chihuahua/chihuahua_147.jpeg  \n",
      "  inflating: train/chihuahua/chihuahua_253.jpeg  \n",
      "  inflating: train/chihuahua/chihuahua_280.jpeg  \n",
      "  inflating: train/chihuahua/chihuahua_43.jpeg  \n",
      "  inflating: train/chihuahua/chihuahua_277.jpeg  \n",
      "  inflating: train/chihuahua/chihuahua_402.jpeg  \n",
      "  inflating: train/chihuahua/chihuahua_492.jpeg  \n",
      "  inflating: train/chihuahua/chihuahua_258.jpeg  \n",
      "  inflating: train/chihuahua/chihuahua_244.jpeg  \n",
      "  inflating: train/chihuahua/chihuahua_177.jpeg  \n",
      "  inflating: train/chihuahua/chihuahua_198.jpeg  \n",
      "  inflating: train/chihuahua/chihuahua_548.jpeg  \n",
      "  inflating: train/chihuahua/chihuahua_322.jpeg  \n",
      "  inflating: train/chihuahua/chihuahua_257.jpeg  \n",
      "  inflating: train/chihuahua/chihuahua_3.jpeg  \n",
      "  inflating: train/chihuahua/chihuahua_184.jpeg  \n",
      "  inflating: train/chihuahua/chihuahua_413.jpeg  \n",
      "  inflating: train/chihuahua/chihuahua_264.jpeg  \n",
      "  inflating: train/chihuahua/chihuahua_526.jpeg  \n",
      "  inflating: train/chihuahua/chihuahua_329.jpeg  \n",
      "  inflating: train/chihuahua/chihuahua_33.jpeg  \n",
      "  inflating: train/chihuahua/chihuahua_262.jpeg  \n",
      "  inflating: train/chihuahua/chihuahua_103.jpeg  \n",
      "  inflating: train/chihuahua/chihuahua_349.jpeg  \n",
      "  inflating: train/chihuahua/chihuahua_463.jpeg  \n",
      "  inflating: train/chihuahua/chihuahua_163.jpeg  \n",
      "  inflating: train/chihuahua/chihuahua_370.jpeg  \n",
      "  inflating: train/chihuahua/chihuahua_183.jpeg  \n",
      "  inflating: train/chihuahua/chihuahua_542.jpeg  \n",
      "  inflating: train/chihuahua/chihuahua_282.jpeg  \n",
      "  inflating: train/chihuahua/chihuahua_436.jpeg  \n",
      "  inflating: train/chihuahua/chihuahua_353.jpeg  \n",
      "  inflating: train/chihuahua/chihuahua_513.jpeg  \n",
      "  inflating: train/chihuahua/chihuahua_281.jpeg  \n",
      "  inflating: train/chihuahua/chihuahua_287.jpeg  \n",
      "  inflating: train/chihuahua/chihuahua_468.jpeg  \n",
      "  inflating: train/chihuahua/chihuahua_1.jpeg  \n",
      "  inflating: train/chihuahua/chihuahua_423.jpeg  \n",
      "  inflating: train/chihuahua/chihuahua_519.jpeg  \n",
      "  inflating: train/chihuahua/chihuahua_48.jpeg  \n",
      "  inflating: train/chihuahua/chihuahua_229.jpeg  \n",
      "  inflating: train/chihuahua/chihuahua_527.jpeg  \n",
      "  inflating: train/chihuahua/chihuahua_331.jpeg  \n",
      "  inflating: train/chihuahua/chihuahua_373.jpeg  \n",
      "  inflating: train/chihuahua/chihuahua_173.jpeg  \n",
      "  inflating: train/chihuahua/chihuahua_428.jpeg  \n",
      "  inflating: train/chihuahua/chihuahua_334.jpeg  \n",
      "  inflating: train/chihuahua/chihuahua_530.jpeg  \n",
      "  inflating: train/chihuahua/chihuahua_136.jpeg  \n",
      "  inflating: train/chihuahua/chihuahua_152.jpeg  \n",
      "  inflating: train/chihuahua/chihuahua_456.jpeg  \n",
      "  inflating: train/chihuahua/chihuahua_31.jpeg  \n",
      "  inflating: train/chihuahua/chihuahua_180.jpeg  \n",
      "  inflating: train/chihuahua/chihuahua_38.jpeg  \n",
      "  inflating: train/chihuahua/chihuahua_158.jpeg  \n",
      "  inflating: train/chihuahua/chihuahua_29.jpeg  \n",
      "  inflating: train/chihuahua/chihuahua_545.jpeg  \n",
      "  inflating: train/chihuahua/chihuahua_347.jpeg  \n",
      "  inflating: train/chihuahua/chihuahua_336.jpeg  \n",
      "  inflating: train/chihuahua/chihuahua_462.jpeg  \n",
      "  inflating: train/chihuahua/chihuahua_307.jpeg  \n",
      "  inflating: train/chihuahua/chihuahua_4.jpeg  \n",
      "  inflating: train/chihuahua/chihuahua_377.jpeg  \n",
      "  inflating: train/chihuahua/chihuahua_376.jpeg  \n",
      "  inflating: train/chihuahua/chihuahua_134.jpeg  \n",
      "  inflating: train/chihuahua/chihuahua_13.jpeg  \n",
      "  inflating: train/chihuahua/chihuahua_245.jpeg  \n",
      "  inflating: train/chihuahua/chihuahua_162.jpeg  \n",
      "  inflating: train/chihuahua/chihuahua_443.jpeg  \n",
      "  inflating: train/chihuahua/chihuahua_243.jpeg  \n",
      "  inflating: train/chihuahua/chihuahua_265.jpeg  \n",
      "  inflating: train/chihuahua/chihuahua_486.jpeg  \n",
      "  inflating: train/chihuahua/chihuahua_537.jpeg  \n",
      "  inflating: train/chihuahua/chihuahua_10.jpeg  \n",
      "  inflating: train/chihuahua/chihuahua_342.jpeg  \n",
      "  inflating: train/chihuahua/chihuahua_26.jpeg  \n",
      "  inflating: train/chihuahua/chihuahua_279.jpeg  \n",
      "  inflating: train/chihuahua/chihuahua_427.jpeg  \n",
      "  inflating: train/chihuahua/chihuahua_159.jpeg  \n",
      "  inflating: train/chihuahua/chihuahua_106.jpeg  \n",
      "  inflating: train/chihuahua/chihuahua_320.jpeg  \n",
      "  inflating: train/chihuahua/chihuahua_490.jpeg  \n",
      "  inflating: train/chihuahua/chihuahua_240.jpeg  \n",
      "  inflating: train/chihuahua/chihuahua_189.jpeg  \n",
      "  inflating: train/chihuahua/chihuahua_534.jpeg  \n",
      "  inflating: train/chihuahua/chihuahua_220.jpeg  \n",
      "  inflating: train/chihuahua/chihuahua_505.jpeg  \n",
      "  inflating: train/chihuahua/chihuahua_416.jpeg  \n",
      "  inflating: train/chihuahua/chihuahua_525.jpeg  \n",
      "  inflating: train/chihuahua/chihuahua_246.jpeg  \n",
      "  inflating: train/chihuahua/chihuahua_380.jpeg  \n",
      "  inflating: train/chihuahua/chihuahua_306.jpeg  \n",
      "  inflating: train/chihuahua/chihuahua_174.jpeg  \n",
      "  inflating: train/chihuahua/chihuahua_324.jpeg  \n",
      "  inflating: train/chihuahua/chihuahua_219.jpeg  \n",
      "  inflating: train/chihuahua/chihuahua_424.jpeg  \n",
      "  inflating: train/chihuahua/chihuahua_232.jpeg  \n",
      "  inflating: train/chihuahua/chihuahua_151.jpeg  \n",
      "  inflating: train/chihuahua/chihuahua_421.jpeg  \n",
      "  inflating: train/chihuahua/chihuahua_381.jpeg  \n",
      "  inflating: train/chihuahua/chihuahua_523.jpeg  \n",
      "  inflating: train/chihuahua/chihuahua_199.jpeg  \n",
      "  inflating: train/chihuahua/chihuahua_517.jpeg  \n",
      "  inflating: train/chihuahua/chihuahua_397.jpeg  \n",
      "  inflating: train/chihuahua/chihuahua_291.jpeg  \n",
      "  inflating: train/chihuahua/chihuahua_111.jpeg  \n",
      "  inflating: train/chihuahua/chihuahua_127.jpeg  \n",
      "  inflating: train/chihuahua/chihuahua_271.jpeg  \n",
      "  inflating: train/chihuahua/chihuahua_388.jpeg  \n",
      "  inflating: train/chihuahua/chihuahua_178.jpeg  \n",
      "  inflating: train/chihuahua/chihuahua_272.jpeg  \n",
      "  inflating: train/chihuahua/chihuahua_101.jpeg  \n",
      "  inflating: train/chihuahua/chihuahua_360.jpeg  \n",
      "  inflating: train/chihuahua/chihuahua_359.jpeg  \n",
      "  inflating: train/chihuahua/chihuahua_498.jpeg  \n",
      "  inflating: train/chihuahua/chihuahua_420.jpeg  \n",
      "  inflating: train/chihuahua/chihuahua_37.jpeg  \n",
      "  inflating: train/chihuahua/chihuahua_164.jpeg  \n",
      "  inflating: train/chihuahua/chihuahua_317.jpeg  \n",
      "  inflating: train/chihuahua/chihuahua_487.jpeg  \n",
      "  inflating: train/chihuahua/chihuahua_465.jpeg  \n",
      "  inflating: train/chihuahua/chihuahua_171.jpeg  \n",
      "  inflating: train/chihuahua/chihuahua_369.jpeg  \n",
      "  inflating: train/chihuahua/chihuahua_391.jpeg  \n",
      "  inflating: train/chihuahua/chihuahua_110.jpeg  \n",
      "  inflating: train/chihuahua/chihuahua_41.jpeg  \n",
      "  inflating: train/chihuahua/chihuahua_235.jpeg  \n",
      "  inflating: train/chihuahua/chihuahua_332.jpeg  \n",
      "  inflating: train/chihuahua/chihuahua_488.jpeg  \n",
      "  inflating: train/chihuahua/chihuahua_305.jpeg  \n",
      "  inflating: train/chihuahua/chihuahua_356.jpeg  \n",
      "  inflating: train/chihuahua/chihuahua_546.jpeg  \n",
      "  inflating: train/chihuahua/chihuahua_432.jpeg  \n",
      "  inflating: train/chihuahua/chihuahua_148.jpeg  \n",
      "  inflating: train/chihuahua/chihuahua_404.jpeg  \n",
      "  inflating: train/chihuahua/chihuahua_144.jpeg  \n",
      "  inflating: train/chihuahua/chihuahua_500.jpeg  \n",
      "  inflating: train/chihuahua/chihuahua_398.jpeg  \n",
      "  inflating: train/chihuahua/chihuahua_344.jpeg  \n",
      "  inflating: train/chihuahua/chihuahua_102.jpeg  \n",
      "  inflating: train/chihuahua/chihuahua_302.jpeg  \n",
      "  inflating: train/chihuahua/chihuahua_474.jpeg  \n",
      "  inflating: train/chihuahua/chihuahua_261.jpeg  \n",
      "  inflating: train/chihuahua/chihuahua_185.jpeg  \n",
      "  inflating: train/chihuahua/chihuahua_30.jpeg  \n",
      "  inflating: train/chihuahua/chihuahua_255.jpeg  \n",
      "  inflating: train/chihuahua/chihuahua_276.jpeg  \n",
      "  inflating: train/chihuahua/chihuahua_251.jpeg  \n",
      "  inflating: train/chihuahua/chihuahua_299.jpeg  \n",
      "  inflating: train/chihuahua/chihuahua_309.jpeg  \n",
      "  inflating: train/chihuahua/chihuahua_466.jpeg  \n",
      "  inflating: train/chihuahua/chihuahua_532.jpeg  \n",
      "  inflating: train/chihuahua/chihuahua_115.jpeg  \n",
      "  inflating: train/chihuahua/chihuahua_160.jpeg  \n",
      "  inflating: train/chihuahua/chihuahua_42.jpeg  \n",
      "  inflating: train/chihuahua/chihuahua_138.jpeg  \n",
      "  inflating: train/chihuahua/chihuahua_352.jpeg  \n",
      "  inflating: train/chihuahua/chihuahua_437.jpeg  \n",
      "  inflating: train/chihuahua/chihuahua_242.jpeg  \n",
      "  inflating: train/chihuahua/chihuahua_296.jpeg  \n",
      "  inflating: train/chihuahua/chihuahua_431.jpeg  \n",
      "  inflating: train/chihuahua/chihuahua_154.jpeg  \n",
      "  inflating: train/chihuahua/chihuahua_316.jpeg  \n",
      "  inflating: train/chihuahua/chihuahua_260.jpeg  \n",
      "  inflating: train/chihuahua/chihuahua_216.jpeg  \n",
      "  inflating: train/chihuahua/chihuahua_335.jpeg  \n",
      "  inflating: train/chihuahua/chihuahua_415.jpeg  \n",
      "  inflating: train/chihuahua/chihuahua_433.jpeg  \n",
      "  inflating: train/chihuahua/chihuahua_256.jpeg  \n",
      "  inflating: train/chihuahua/chihuahua_218.jpeg  \n",
      "  inflating: train/chihuahua/chihuahua_510.jpeg  \n",
      "  inflating: train/chihuahua/chihuahua_120.jpeg  \n",
      "  inflating: train/chihuahua/chihuahua_531.jpeg  \n",
      "  inflating: train/chihuahua/chihuahua_395.jpeg  \n",
      "  inflating: train/chihuahua/chihuahua_460.jpeg  \n",
      "  inflating: train/chihuahua/chihuahua_410.jpeg  \n",
      "  inflating: train/chihuahua/chihuahua_387.jpeg  \n",
      "  inflating: train/chihuahua/chihuahua_135.jpeg  \n",
      "  inflating: train/chihuahua/chihuahua_440.jpeg  \n",
      "  inflating: train/chihuahua/chihuahua_143.jpeg  \n",
      "  inflating: train/chihuahua/chihuahua_457.jpeg  \n",
      "  inflating: train/chihuahua/chihuahua_295.jpeg  \n",
      "  inflating: train/chihuahua/chihuahua_475.jpeg  \n",
      "  inflating: train/chihuahua/chihuahua_406.jpeg  \n",
      "  inflating: train/chihuahua/chihuahua_213.jpeg  \n",
      "  inflating: train/chihuahua/chihuahua_522.jpeg  \n",
      "  inflating: train/chihuahua/chihuahua_114.jpeg  \n",
      "  inflating: train/chihuahua/chihuahua_24.jpeg  \n",
      "  inflating: train/chihuahua/chihuahua_126.jpeg  \n",
      "  inflating: train/chihuahua/chihuahua_358.jpeg  \n",
      "  inflating: train/chihuahua/chihuahua_338.jpeg  \n",
      "  inflating: train/chihuahua/chihuahua_418.jpeg  \n",
      "  inflating: train/chihuahua/chihuahua_313.jpeg  \n",
      "  inflating: train/chihuahua/chihuahua_15.jpeg  \n",
      "  inflating: train/chihuahua/chihuahua_205.jpeg  \n",
      "  inflating: train/chihuahua/chihuahua_516.jpeg  \n",
      "  inflating: train/chihuahua/chihuahua_372.jpeg  \n",
      "  inflating: train/chihuahua/chihuahua_188.jpeg  \n",
      "  inflating: train/chihuahua/chihuahua_39.jpeg  \n",
      "  inflating: train/chihuahua/chihuahua_146.jpeg  \n",
      "  inflating: train/chihuahua/chihuahua_444.jpeg  \n",
      "  inflating: train/chihuahua/chihuahua_473.jpeg  \n",
      "  inflating: train/chihuahua/chihuahua_17.jpeg  \n",
      "  inflating: train/chihuahua/chihuahua_259.jpeg  \n",
      "  inflating: train/chihuahua/chihuahua_386.jpeg  \n",
      "  inflating: train/chihuahua/chihuahua_137.jpeg  \n",
      "  inflating: train/chihuahua/chihuahua_472.jpeg  \n",
      "  inflating: train/chihuahua/chihuahua_333.jpeg  \n",
      "  inflating: train/chihuahua/chihuahua_186.jpeg  \n",
      "  inflating: train/chihuahua/chihuahua_446.jpeg  \n",
      "  inflating: train/chihuahua/chihuahua_249.jpeg  \n",
      "  inflating: train/chihuahua/chihuahua_109.jpeg  \n",
      "  inflating: train/chihuahua/chihuahua_196.jpeg  \n",
      "  inflating: train/chihuahua/chihuahua_314.jpeg  \n",
      "  inflating: train/chihuahua/chihuahua_254.jpeg  \n",
      "  inflating: train/chihuahua/chihuahua_367.jpeg  \n",
      "  inflating: train/chihuahua/chihuahua_293.jpeg  \n",
      "  inflating: train/chihuahua/chihuahua_451.jpeg  \n",
      "  inflating: train/chihuahua/chihuahua_133.jpeg  \n",
      "  inflating: train/chihuahua/chihuahua_34.jpeg  \n",
      "  inflating: train/chihuahua/chihuahua_384.jpeg  \n",
      "  inflating: train/chihuahua/chihuahua_408.jpeg  \n",
      "  inflating: train/chihuahua/chihuahua_128.jpeg  \n",
      "  inflating: train/chihuahua/chihuahua_170.jpeg  \n",
      "  inflating: train/chihuahua/chihuahua_493.jpeg  \n",
      "  inflating: train/chihuahua/chihuahua_283.jpeg  \n",
      "  inflating: train/chihuahua/chihuahua_447.jpeg  \n",
      "  inflating: train/chihuahua/chihuahua_214.jpeg  \n",
      "  inflating: train/chihuahua/chihuahua_289.jpeg  \n",
      "  inflating: train/chihuahua/chihuahua_365.jpeg  \n",
      "  inflating: train/chihuahua/chihuahua_227.jpeg  \n",
      "  inflating: train/chihuahua/chihuahua_46.jpeg  \n",
      "  inflating: train/chihuahua/chihuahua_168.jpeg  \n",
      "  inflating: train/chihuahua/chihuahua_217.jpeg  \n",
      "  inflating: train/chihuahua/chihuahua_327.jpeg  \n",
      "  inflating: train/chihuahua/chihuahua_247.jpeg  \n",
      "  inflating: train/chihuahua/chihuahua_536.jpeg  \n",
      "  inflating: train/chihuahua/chihuahua_469.jpeg  \n",
      "  inflating: train/chihuahua/chihuahua_496.jpeg  \n",
      "  inflating: train/chihuahua/chihuahua_470.jpeg  \n",
      "  inflating: train/chihuahua/chihuahua_529.jpeg  \n",
      "  inflating: train/chihuahua/chihuahua_501.jpeg  \n",
      "  inflating: train/chihuahua/chihuahua_483.jpeg  \n",
      "  inflating: train/chihuahua/chihuahua_507.jpeg  \n",
      "  inflating: train/chihuahua/chihuahua_511.jpeg  \n",
      "  inflating: train/chihuahua/chihuahua_14.jpeg  \n",
      "  inflating: train/chihuahua/chihuahua_23.jpeg  \n",
      "  inflating: train/chihuahua/chihuahua_25.jpeg  \n",
      "  inflating: train/chihuahua/chihuahua_481.jpeg  \n",
      "  inflating: train/chihuahua/chihuahua_411.jpeg  \n",
      "  inflating: train/chihuahua/chihuahua_269.jpeg  \n",
      "  inflating: train/chihuahua/chihuahua_518.jpeg  \n",
      "  inflating: train/chihuahua/chihuahua_107.jpeg  \n",
      "  inflating: train/chihuahua/chihuahua_422.jpeg  \n",
      "  inflating: train/chihuahua/chihuahua_35.jpeg  \n",
      "  inflating: train/chihuahua/chihuahua_194.jpeg  \n",
      "  inflating: train/chihuahua/chihuahua_419.jpeg  \n",
      "  inflating: train/chihuahua/chihuahua_100.jpeg  \n",
      "  inflating: train/chihuahua/chihuahua_479.jpeg  \n",
      "  inflating: train/chihuahua/chihuahua_206.jpeg  \n",
      "  inflating: train/chihuahua/chihuahua_266.jpeg  \n",
      "  inflating: train/chihuahua/chihuahua_53.jpeg  \n",
      "  inflating: train/chihuahua/chihuahua_540.jpeg  \n",
      "  inflating: train/chihuahua/chihuahua_285.jpeg  \n",
      "  inflating: train/chihuahua/chihuahua_211.jpeg  \n",
      "  inflating: train/chihuahua/chihuahua_471.jpeg  \n",
      "  inflating: train/chihuahua/chihuahua_203.jpeg  \n",
      "  inflating: train/chihuahua/chihuahua_117.jpeg  \n",
      "  inflating: train/chihuahua/chihuahua_439.jpeg  \n",
      "  inflating: train/chihuahua/chihuahua_221.jpeg  \n",
      "  inflating: train/chihuahua/chihuahua_22.jpeg  \n",
      "  inflating: train/chihuahua/chihuahua_118.jpeg  \n",
      "  inflating: train/chihuahua/chihuahua_363.jpeg  \n",
      "  inflating: train/chihuahua/chihuahua_544.jpeg  \n",
      "  inflating: train/chihuahua/chihuahua_155.jpeg  \n",
      "  inflating: train/chihuahua/chihuahua_547.jpeg  \n",
      "  inflating: train/chihuahua/chihuahua_108.jpeg  \n",
      "  inflating: train/chihuahua/chihuahua_50.jpeg  \n",
      "  inflating: train/chihuahua/chihuahua_521.jpeg  \n",
      "  inflating: train/chihuahua/chihuahua_234.jpeg  \n",
      "  inflating: train/chihuahua/chihuahua_448.jpeg  \n",
      "  inflating: train/chihuahua/chihuahua_417.jpeg  \n",
      "  inflating: train/chihuahua/chihuahua_357.jpeg  \n",
      "  inflating: train/chihuahua/chihuahua_123.jpeg  \n",
      "  inflating: train/chihuahua/chihuahua_480.jpeg  \n",
      "  inflating: train/chihuahua/chihuahua_263.jpeg  \n",
      "  inflating: train/chihuahua/chihuahua_223.jpeg  \n",
      "  inflating: train/chihuahua/chihuahua_328.jpeg  \n",
      "  inflating: train/chihuahua/chihuahua_176.jpeg  \n",
      "  inflating: train/chihuahua/chihuahua_452.jpeg  \n",
      "  inflating: train/chihuahua/chihuahua_396.jpeg  \n",
      "  inflating: train/chihuahua/chihuahua_16.jpeg  \n",
      "  inflating: train/chihuahua/chihuahua_252.jpeg  \n",
      "  inflating: train/chihuahua/chihuahua_414.jpeg  \n",
      "  inflating: train/chihuahua/chihuahua_237.jpeg  \n",
      "  inflating: train/chihuahua/chihuahua_121.jpeg  \n",
      "  inflating: train/chihuahua/chihuahua_2.jpeg  \n",
      "  inflating: train/chihuahua/chihuahua_267.jpeg  \n",
      "  inflating: train/chihuahua/chihuahua_508.jpeg  \n",
      "  inflating: train/chihuahua/chihuahua_477.jpeg  \n",
      "  inflating: train/chihuahua/chihuahua_407.jpeg  \n",
      "  inflating: train/chihuahua/chihuahua_345.jpeg  \n",
      "  inflating: train/chihuahua/chihuahua_485.jpeg  \n",
      "   creating: test/muffin/\n",
      "  inflating: test/muffin/muffin-5.jpeg  \n",
      "  inflating: test/muffin/muffin-4.jpeg  \n",
      "  inflating: test/muffin/muffin-7.jpeg  \n",
      "  inflating: test/muffin/muffin-2.jpeg  \n",
      "  inflating: test/muffin/muffin-1.jpeg  \n",
      "  inflating: test/muffin/muffin-8.jpeg  \n",
      "  inflating: test/muffin/muffin-3.jpeg  \n",
      "  inflating: test/muffin/muffin-6.jpeg  \n",
      "   creating: test/chihuahua/\n",
      "  inflating: test/chihuahua/chihuahua-6.jpeg  \n",
      "  inflating: test/chihuahua/chihuahua-4.jpeg  \n",
      "  inflating: test/chihuahua/chihuahua-2.jpeg  \n",
      "  inflating: test/chihuahua/chihuahua-1.jpeg  \n",
      "  inflating: test/chihuahua/chihuahua-3.jpeg  \n",
      "  inflating: test/chihuahua/chihuahua-5.jpeg  \n",
      "  inflating: test/chihuahua/chihuahua-8.jpeg  \n",
      "  inflating: test/chihuahua/chihuahua-7.jpeg  \n"
     ]
    }
   ],
   "source": [
    "!unzip data.zip"
   ]
  },
  {
   "cell_type": "markdown",
   "metadata": {
    "id": "Jjsph6Tra4AI"
   },
   "source": [
    "## Establishing a baseline"
   ]
  },
  {
   "cell_type": "markdown",
   "metadata": {
    "id": "WeAerazMbayy"
   },
   "source": [
    "Load an ImageNet pre-trained ResNet34, and check it's performance on the images in `data/test`.  \n",
    "\n",
    "Use accuracy, precision and recall as your metrics for performance."
   ]
  },
  {
   "cell_type": "code",
   "execution_count": 2,
   "metadata": {
    "id": "TWUoB_arbtLd"
   },
   "outputs": [],
   "source": [
    "import torch\n",
    "import torch.nn as nn\n",
    "import torch.optim as optim\n",
    "import matplotlib.pyplot as plt\n",
    "import numpy as np\n",
    "import random\n",
    "from torchvision import datasets, transforms, models\n",
    "from torchvision.models import ResNet34_Weights\n",
    "from torch.utils.data import DataLoader, Subset, ConcatDataset, Sampler\n",
    "from tqdm import tqdm\n",
    "from sklearn.metrics import accuracy_score, precision_score, recall_score"
   ]
  },
  {
   "cell_type": "markdown",
   "metadata": {
    "id": "1guDIe7Pjjoy"
   },
   "source": [
    "### Utilities"
   ]
  },
  {
   "cell_type": "code",
   "execution_count": 3,
   "metadata": {
    "id": "wPpQRrpMA0Gn"
   },
   "outputs": [],
   "source": [
    "class FixedOrderSampler(Sampler):\n",
    "    __slots = (\"indices\", )\n",
    "    \n",
    "    def __init__(self, indices):\n",
    "        self.indices = indices\n",
    "\n",
    "    def __iter__(self):\n",
    "        return iter(self.indices)\n",
    "\n",
    "    def __len__(self):\n",
    "        return len(self.indices)"
   ]
  },
  {
   "cell_type": "code",
   "execution_count": 38,
   "metadata": {
    "id": "e_3AUCRAjjoz"
   },
   "outputs": [],
   "source": [
    "class BinaryImageClassifier:\n",
    "    __slots__ = (\"__lr\", \"__l2_penalty\", \"pretrained\", \"device\", \"criterion\", \"train_loss_history\", \"test_loss_history\",\n",
    "                 \"train_metrics_history\", \"test_results\", \"model\", \"optimizer\", \"train_loader\", \"test_loader\")\n",
    "\n",
    "    def __init__(self, *, lr, l2_penalty=0, pretrained=True, train_dir=\"./train\", test_dir=\"./test\"):\n",
    "        self.__lr = lr\n",
    "        self.__l2_penalty = l2_penalty\n",
    "        self.pretrained = pretrained\n",
    "\n",
    "        self.device = torch.device(\"cuda\" if torch.cuda.is_available() else \"cpu\")\n",
    "        self.criterion = nn.BCELoss()  # Binary Cross Entropy Loss\n",
    "        self.train_loss_history = []\n",
    "        self.test_loss_history = []\n",
    "        self.train_metrics_history = []\n",
    "        self.test_results = {}\n",
    "\n",
    "        self.reload_model()\n",
    "\n",
    "        self.train_loader = self.load_data(train_dir)\n",
    "        self.test_loader = self.load_data(test_dir)\n",
    "\n",
    "\n",
    "    @property\n",
    "    def lr(self):\n",
    "        return self.__lr\n",
    "\n",
    "    @lr.setter\n",
    "    def lr(self, val):\n",
    "        self.__lr = val\n",
    "        self.__reload_optimizer()\n",
    "\n",
    "\n",
    "    @property\n",
    "    def l2_penalty(self):\n",
    "        return self.__l2_penalty\n",
    "\n",
    "    @l2_penalty.setter\n",
    "    def l2_penalty(self, val):\n",
    "        self.__l2_penalty = val\n",
    "        self.__reload_optimizer()\n",
    "\n",
    "\n",
    "    def __reload_optimizer(self):\n",
    "        self.optimizer = optim.Adam(self.model.parameters(), lr=self.lr, weight_decay=self.l2_penalty)\n",
    "\n",
    "\n",
    "    def load_data(self, dir_, start=0, stop=None, step=1):\n",
    "        self.__set_seed()\n",
    "\n",
    "        transform = transforms.Compose([\n",
    "            transforms.Resize((224, 224)),\n",
    "            transforms.ToTensor()\n",
    "        ])\n",
    "        dataset = datasets.ImageFolder(root=dir_, transform=transform)\n",
    "\n",
    "        # Shuffle the dataset\n",
    "        indices = list(range(len(dataset)))\n",
    "        random.shuffle(indices)\n",
    "        indices = indices[start:stop:step]\n",
    "\n",
    "        loader = DataLoader(dataset=dataset, batch_size=64, sampler=FixedOrderSampler(indices))\n",
    "        return loader\n",
    "\n",
    "\n",
    "    @staticmethod\n",
    "    def __set_seed():\n",
    "        seed = 42\n",
    "\n",
    "        random.seed(seed)\n",
    "        np.random.seed(seed)\n",
    "        torch.manual_seed(seed)\n",
    "        if torch.cuda.is_available():\n",
    "            torch.cuda.manual_seed(seed)\n",
    "            torch.cuda.manual_seed_all(seed)\n",
    "        torch.backends.cudnn.deterministic = True\n",
    "        torch.backends.cudnn.benchmark = False\n",
    "\n",
    "\n",
    "    def reload_model(self):\n",
    "        self.__set_seed()\n",
    "\n",
    "        self.model = models.resnet34(weights=ResNet34_Weights.DEFAULT if self.pretrained else None).to(self.device)\n",
    "        self.model.fc = nn.Sequential(\n",
    "            nn.Linear(self.model.fc.in_features, 1),  # One final output\n",
    "            nn.Sigmoid()\n",
    "        ).to(self.device)\n",
    "        self.__reload_optimizer()\n",
    "\n",
    "\n",
    "    @staticmethod\n",
    "    def __measure_metrics(y_true, y_pred):\n",
    "        res = {}\n",
    "        for metric_name, metric_fn in [(\"accuracy\", accuracy_score),\n",
    "                                       (\"precision\", lambda *args, **kwargs: precision_score(*args, **kwargs, zero_division=0)),  # to suppress warning\n",
    "                                       (\"recall\", lambda *args, **kwargs: recall_score(*args, **kwargs, zero_division=0))]:\n",
    "            res[metric_name] = metric_fn(y_true, y_pred)\n",
    "        return res\n",
    "\n",
    "\n",
    "    def fit(self, n_epochs, *, reset=True, show_progress=True):\n",
    "        if reset:\n",
    "            self.train_loss_history = []\n",
    "            self.test_loss_history = []\n",
    "            self.train_metrics_history = []\n",
    "            self.reload_model()\n",
    "        n_batches = len(self.train_loader)\n",
    "\n",
    "        self.__set_seed()\n",
    "        #self.model.train()  # Set model to training mode\n",
    "        with tqdm(range(n_epochs * n_batches), desc=\"Training\", ncols=150, disable=not show_progress) as pbar:\n",
    "            for epoch in range(1, n_epochs + 1):\n",
    "                for batch_idx, (batch_images, batch_labels) in enumerate(self.train_loader, 1):\n",
    "                    batch_images, batch_labels = batch_images.to(self.device), batch_labels.float().reshape(-1, 1).to(self.device)\n",
    "\n",
    "                    # Forward pass\n",
    "                    self.model.train()  # Set model to training mode\n",
    "                    batch_probas = self.model(batch_images)\n",
    "                    batch_preds = batch_probas >= 0.5\n",
    "                    batch_loss = self.criterion(batch_probas, batch_labels)\n",
    "\n",
    "                    # Backward pass\n",
    "                    self.optimizer.zero_grad()\n",
    "                    batch_loss.backward()\n",
    "                    self.optimizer.step()\n",
    "\n",
    "                    # Record\n",
    "                    self.train_metrics_history.append(self.__measure_metrics(batch_labels.cpu(), batch_preds.cpu()))\n",
    "                    self.train_loss_history.append(batch_loss.item())\n",
    "                    pbar.set_postfix(loss=f\"{self.train_loss_history[-1]:.4f}\")\n",
    "                    pbar.update()\n",
    "\n",
    "                # Evaluate after every epoch\n",
    "                self.test_loss_history.append(self.predict(show_progress=False)[\"loss\"])\n",
    "\n",
    "\n",
    "    def plot_train(self, granularity=1):\n",
    "        train_loss = self.train_loss_history[::granularity]\n",
    "        x_iter = range(1, len(train_loss) * granularity + 1, granularity)\n",
    "\n",
    "        n_iters = len(self.train_loss_history)\n",
    "        n_epochs = len(self.test_loss_history)\n",
    "        n_batches = int(n_iters / n_epochs) if n_epochs != 0 else 1\n",
    "        test_loss = self.test_loss_history\n",
    "        x_epoch = range(n_batches, n_iters + 1, n_batches)\n",
    "\n",
    "        fig, axes = plt.subplots(1, 2, figsize=(13, 5))\n",
    "        fig.suptitle(f\"Loss and Performance Metrics During Training\")\n",
    "\n",
    "        # Left graph\n",
    "        ax0 = axes[0]\n",
    "        ax0.set_title(\"Loss\")\n",
    "        ax0.plot(x_iter, train_loss, label=\"train\")\n",
    "        ax0.plot(x_epoch, test_loss, label=\"test\")\n",
    "        ax0.set_xlabel(\"iteration\")\n",
    "        ax0.set_ylabel(\"loss\")\n",
    "        ax0.legend()\n",
    "\n",
    "        # Right graph\n",
    "        ax1 = axes[1]\n",
    "        ax1.set_title(\"Training Performance\")\n",
    "        if len(self.train_metrics_history) > 0:\n",
    "            for k in self.train_metrics_history[0].keys():\n",
    "                ax1.plot(x_iter, [item[k] for item in self.train_metrics_history[::granularity]], label=k)\n",
    "        ax1.set_xlabel(\"iteration\")\n",
    "        ax1.set_ylabel(\"score\")\n",
    "        ax1.set_ylim(0, 1)\n",
    "        if ax1.get_legend_handles_labels()[0]:\n",
    "            ax1.legend()\n",
    "\n",
    "        return fig, axes\n",
    "\n",
    "\n",
    "    def predict(self, *, show_progress=True):\n",
    "        self.test_results = {\"loss\": 0, \"probabilities\": [], \"predictions\": []}\n",
    "        all_labels = []\n",
    "\n",
    "        self.__set_seed()\n",
    "        self.model.eval()  # Set model to evaluation mode\n",
    "        with tqdm(range(len(self.test_loader)), desc=\"Testing\", ncols=150, disable=not show_progress) as pbar:\n",
    "            with torch.no_grad():\n",
    "                for batch_images, batch_labels in self.test_loader:\n",
    "                    batch_images, batch_labels = batch_images.to(self.device), batch_labels.float().reshape(-1, 1).to(self.device)\n",
    "\n",
    "                    # Predict\n",
    "                    batch_probas = self.model(batch_images)\n",
    "                    batch_preds = batch_probas >= 0.5\n",
    "\n",
    "                    # Record\n",
    "                    all_labels.extend(batch_labels.cpu().numpy())\n",
    "                    self.test_results[\"probabilities\"].extend(batch_probas.cpu().numpy().ravel().tolist())\n",
    "                    self.test_results[\"predictions\"].extend(batch_preds.cpu().numpy().astype(np.int8).ravel().tolist())\n",
    "                    self.test_results[\"loss\"] += self.criterion(batch_probas, batch_labels).item()\n",
    "                    pbar.update()\n",
    "\n",
    "        self.test_results[\"metrics\"] = self.__measure_metrics(all_labels, self.test_results[\"predictions\"])\n",
    "        return self.test_results"
   ]
  },
  {
   "cell_type": "markdown",
   "metadata": {
    "id": "qx8p6IRAjjoz"
   },
   "source": [
    "### Performance without training"
   ]
  },
  {
   "cell_type": "code",
   "execution_count": 39,
   "metadata": {
    "id": "rKuvdNXTjjoz"
   },
   "outputs": [],
   "source": [
    "clf = BinaryImageClassifier(lr=0.001)"
   ]
  },
  {
   "cell_type": "code",
   "execution_count": 40,
   "metadata": {
    "colab": {
     "base_uri": "https://localhost:8080/"
    },
    "id": "MtNKRp9RK6Qy",
    "outputId": "f3bcdf3f-0788-43a9-ff30-b0bd354c7e5e"
   },
   "outputs": [
    {
     "name": "stderr",
     "output_type": "stream",
     "text": [
      "Testing: 100%|██████████████████████████████████████████████████████████████████████████████████████████████████████████| 1/1 [00:00<00:00, 12.69it/s]\n"
     ]
    },
    {
     "data": {
      "text/plain": [
       "(0.8405465483665466,\n",
       " {'accuracy': 0.3125, 'precision': 0.38461538461538464, 'recall': 0.625})"
      ]
     },
     "execution_count": 40,
     "metadata": {},
     "output_type": "execute_result"
    }
   ],
   "source": [
    "out = clf.predict()\n",
    "out[\"loss\"], out[\"metrics\"]"
   ]
  },
  {
   "cell_type": "markdown",
   "metadata": {
    "id": "adTKj90CbweH"
   },
   "source": [
    "## Finetuning"
   ]
  },
  {
   "cell_type": "markdown",
   "metadata": {
    "id": "adoCB3lAbzg5"
   },
   "source": [
    "Finetune this ResNet using data in `data/train`. Use `data/test` as your testing set, and use cross entropy loss. The rest is up to you. Run finetuning that terminates within approx 10 mins. Store the following info every 10 minibatches: loss, precision, recall and accuracy on train and test datasets."
   ]
  },
  {
   "cell_type": "code",
   "execution_count": 41,
   "metadata": {
    "id": "CyGw93ZgTHfD"
   },
   "outputs": [],
   "source": [
    "# Freeze all parameters except those in the fc layer\n",
    "for param in clf.model.parameters():\n",
    "    param.requires_grad = False\n",
    "\n",
    "for param in clf.model.fc.parameters():\n",
    "    param.requires_grad = True"
   ]
  },
  {
   "cell_type": "markdown",
   "metadata": {
    "id": "J4RtutAWVlSr"
   },
   "source": [
    "> The following cell takes ~3 mins to run on a T4 GPU."
   ]
  },
  {
   "cell_type": "code",
   "execution_count": 45,
   "metadata": {
    "colab": {
     "base_uri": "https://localhost:8080/"
    },
    "id": "2VrFvp_Ojjo0",
    "outputId": "9902de30-4e91-4cd8-9419-fd12f77e03a2"
   },
   "outputs": [
    {
     "name": "stderr",
     "output_type": "stream",
     "text": [
      "Training: 100%|████████████████████████████████████████████████████████████████████████████████████████| 160/160 [03:28<00:00,  1.30s/it, loss=0.0016]\n"
     ]
    }
   ],
   "source": [
    "clf.fit(n_epochs=10)"
   ]
  },
  {
   "cell_type": "code",
   "execution_count": 46,
   "metadata": {
    "colab": {
     "base_uri": "https://localhost:8080/",
     "height": 515
    },
    "id": "Qtc0AQO5mt_R",
    "outputId": "cdb9327d-7dc4-438c-b4d3-6145dbf1f8d9"
   },
   "outputs": [
    {
     "data": {
      "image/png": "[encoded data removed]",
      "text/plain": [
       "<Figure size 1300x500 with 2 Axes>"
      ]
     },
     "metadata": {},
     "output_type": "display_data"
    }
   ],
   "source": [
    "clf.plot_train(granularity=10);"
   ]
  },
  {
   "cell_type": "code",
   "execution_count": 47,
   "metadata": {
    "colab": {
     "base_uri": "https://localhost:8080/"
    },
    "id": "FIdiWN4ijjo0",
    "outputId": "97991368-e974-4dc5-89d8-2a4668646c1d"
   },
   "outputs": [
    {
     "name": "stderr",
     "output_type": "stream",
     "text": [
      "Testing: 100%|██████████████████████████████████████████████████████████████████████████████████████████████████████████| 1/1 [00:00<00:00, 15.65it/s]\n"
     ]
    },
    {
     "data": {
      "text/plain": [
       "(0.00047923269448801875, {'accuracy': 1.0, 'precision': 1.0, 'recall': 1.0})"
      ]
     },
     "execution_count": 47,
     "metadata": {},
     "output_type": "execute_result"
    }
   ],
   "source": [
    "out = clf.predict()\n",
    "out[\"loss\"], out[\"metrics\"]"
   ]
  },
  {
   "cell_type": "code",
   "execution_count": 48,
   "metadata": {
    "id": "AU8KkY5Nq96T"
   },
   "outputs": [],
   "source": [
    "torch.save(clf.model.state_dict(), 'resnet34_finetuned.pth')"
   ]
  },
  {
   "cell_type": "markdown",
   "metadata": {
    "id": "NxCxD2J9cWjh"
   },
   "source": [
    "## Writeup"
   ]
  },
  {
   "cell_type": "markdown",
   "metadata": {
    "id": "y5GcGPjQcXhI"
   },
   "source": [
    "Summarize what you did above, as well as detail the choices you made and why. What was the outcome?"
   ]
  },
  {
   "cell_type": "markdown",
   "metadata": {
    "id": "gpSgRf-ZrMqW"
   },
   "source": [
    "---\n",
    "\n",
    "A ResNet34 classifies [1000 classes](https://deeplearning.cms.waikato.ac.nz/user-guide/class-maps/IMAGENET/), one of which is chihuahua. Likely because of this, we achieved a perfect score on the test set with minimal fine-tuning.\n",
    "\n",
    "We loaded a pretrained ResNet34 model and replaced its final fully connected (FC) layer so that it produces a single output. This output is then passed through a sigmoid activation to clamp the value between 0 and 1.\n",
    "\n",
    "We frozen all other layers and trained only the new FC layer. In 10 epochs, both the training and test loss decreased steadily, and finally the model reached 100% accuracy.\n",
    "\n",
    "Before moving on, I would like to discuss some mistakes I made while making the code deterministic. I spent a lot of time on repetitive tasks as the hyperparameters obtained did not reproduce the same results, and often the performance was very different!\n",
    "\n",
    "1. I used to call `self.__set_seed()` only in the `__init__` method. However, during the tuning process, I found that the results were not the same each time I called `fit()`. I then realized that I should set the seed every time before training and testing, not just once during initialization.\n",
    "   \n",
    "2. When using `DataLoader(dataset, batch_size)`, I was getting batches with all zeros followed by ones. I wanted to achieve a mix of zeros and ones in each batch (which is necessary for the next section). My initial attempt was to use `shuffle=True`, but I later realized that it shuffles the dataset at the start of each epoch, causing different runs to produce different results. Eventually, I came up with a solution by writing a custom sampler and manually shuffling the dataset.\n",
    "\n",
    "   ```python\n",
    "    class FixedOrderSampler(Sampler):\n",
    "    ...\n",
    "\n",
    "    class BinaryImageClassifier:\n",
    "        ...\n",
    "        def load_data(self, ...):\n",
    "            ...\n",
    "            indices = list(range(len(dataset)))\n",
    "            random.shuffle(indices)\n",
    "            indices = indices[start:stop:step]\n",
    "            \n",
    "            loader = DataLoader(dataset=dataset, batch_size=64, sampler=FixedOrderSampler(indices))\n",
    "        ...\n",
    "    ```\n",
    "\n",
    "However, the behavior still differs between Colab and my local Jupyter Notebook for reasons that are unknown to me."
   ]
  },
  {
   "cell_type": "markdown",
   "metadata": {
    "id": "c1AuOqwjcnDZ"
   },
   "source": [
    "## Further analysis"
   ]
  },
  {
   "cell_type": "markdown",
   "metadata": {
    "id": "x5lEJmoRcpIr"
   },
   "source": [
    "Pick one aspect about the work done above thus far that you find interesting, investigate it a bit further, and give a short paragraph writeup of what you investigated and how it went."
   ]
  },
  {
   "cell_type": "markdown",
   "metadata": {
    "id": "nHD5401Gvrta"
   },
   "source": [
    "---\n",
    "\n",
    "### Defining the problem\n",
    "\n",
    "The original problem was relatively easy to train. To make it more challenging, we impose the following restrictions:\n",
    "\n",
    "- Limit the training set to 400 images.\n",
    "- Remove pretrained weights (i.e., start ResNet from scratch).\n",
    "\n",
    "Our objective is to maximize classification performance (the accuracy, precision, and recall) under these constraints by tuning only three hyperparameters:\n",
    "\n",
    "- Learning rate (`lr`)\n",
    "- Number of epochs (`n_epochs`)\n",
    "- L2 penalty (`l2_penalty`), which corresponds to `weight_decay` in `torch.optim.Adam`\n",
    "\n",
    "We do not consider any other modifications beyond these adjustments."
   ]
  },
  {
   "cell_type": "markdown",
   "metadata": {
    "id": "gv7KFSTyA0Gq"
   },
   "source": [
    "### Setup"
   ]
  },
  {
   "cell_type": "code",
   "execution_count": 49,
   "metadata": {
    "colab": {
     "base_uri": "https://localhost:8080/"
    },
    "id": "wpEoHN3JqMxH",
    "outputId": "92546f9b-f660-43b9-cacb-17147ea35cb4"
   },
   "outputs": [
    {
     "data": {
      "text/plain": [
       "(400, 100)"
      ]
     },
     "execution_count": 49,
     "metadata": {},
     "output_type": "execute_result"
    }
   ],
   "source": [
    "clfx = BinaryImageClassifier(lr=0.001, pretrained=False)\n",
    "clfx.train_loader = clfx.load_data(\"./train\", 0, 400)\n",
    "clfx.test_loader = clfx.load_data(\"./train\", 400, 500)\n",
    "\n",
    "len(clfx.train_loader.sampler), len(clfx.test_loader.sampler)"
   ]
  },
  {
   "cell_type": "markdown",
   "metadata": {
    "id": "Ce_kC9kxA0Gr"
   },
   "source": [
    "Here comes the significance of shuffling the images (as mentioned in the \"Writeup\" section). We don't want the model to train on batches where all images are labeled as zeros.\n",
    "\n",
    "Besides, we set aside 100 images from the `./train` folder as the test set. A larger test set would provide more stable and reliable performance estimates."
   ]
  },
  {
   "cell_type": "markdown",
   "metadata": {
    "id": "wSIA2EtIA0Gr"
   },
   "source": [
    "### Tuning"
   ]
  },
  {
   "cell_type": "markdown",
   "metadata": {
    "id": "3mTKGa1nA0Gr"
   },
   "source": [
    "### Learning rate"
   ]
  },
  {
   "cell_type": "markdown",
   "metadata": {
    "id": "WpBB7exxWd5F"
   },
   "source": [
    "> The following cell takes ~15 mins to run on a T4 GPU."
   ]
  },
  {
   "cell_type": "code",
   "execution_count": 50,
   "metadata": {
    "colab": {
     "base_uri": "https://localhost:8080/"
    },
    "id": "-flPvYBwbJi7",
    "outputId": "02640dd8-74c4-49e9-a709-d1971be0f9b3"
   },
   "outputs": [
    {
     "name": "stdout",
     "output_type": "stream",
     "text": [
      "Experimenting lr=1e-05...\n"
     ]
    },
    {
     "name": "stderr",
     "output_type": "stream",
     "text": [
      "Training: 100%|████████████████████████████████████████████████████████████████████████████████████████| 140/140 [03:01<00:00,  1.30s/it, loss=0.0055]\n"
     ]
    },
    {
     "name": "stdout",
     "output_type": "stream",
     "text": [
      "Experimenting lr=0.0001...\n"
     ]
    },
    {
     "name": "stderr",
     "output_type": "stream",
     "text": [
      "Training: 100%|████████████████████████████████████████████████████████████████████████████████████████| 140/140 [03:17<00:00,  1.41s/it, loss=0.0004]\n"
     ]
    },
    {
     "name": "stdout",
     "output_type": "stream",
     "text": [
      "Experimenting lr=0.001...\n"
     ]
    },
    {
     "name": "stderr",
     "output_type": "stream",
     "text": [
      "Training: 100%|████████████████████████████████████████████████████████████████████████████████████████| 140/140 [03:16<00:00,  1.40s/it, loss=0.0146]\n"
     ]
    },
    {
     "name": "stdout",
     "output_type": "stream",
     "text": [
      "Experimenting lr=0.01...\n"
     ]
    },
    {
     "name": "stderr",
     "output_type": "stream",
     "text": [
      "Training: 100%|████████████████████████████████████████████████████████████████████████████████████████| 140/140 [03:04<00:00,  1.32s/it, loss=0.1015]\n"
     ]
    },
    {
     "name": "stdout",
     "output_type": "stream",
     "text": [
      "Experimenting lr=0.1...\n"
     ]
    },
    {
     "name": "stderr",
     "output_type": "stream",
     "text": [
      "Training: 100%|████████████████████████████████████████████████████████████████████████████████████████| 140/140 [03:01<00:00,  1.30s/it, loss=0.0616]\n"
     ]
    }
   ],
   "source": [
    "his = []\n",
    "for lr_exp in range(-5, 0):\n",
    "    clfx.l2_penalty = 0\n",
    "    clfx.lr = 10 ** lr_exp\n",
    "    print(f\"Experimenting lr={clfx.lr}...\")\n",
    "\n",
    "    clfx.fit(20)\n",
    "    his.append((clfx.lr, clfx.train_loss_history, clfx.test_loss_history))"
   ]
  },
  {
   "cell_type": "code",
   "execution_count": 61,
   "metadata": {
    "colab": {
     "base_uri": "https://localhost:8080/",
     "height": 515
    },
    "id": "3cokKtJMkO9A",
    "outputId": "0e621412-917b-4c08-ac5e-81abf702f892"
   },
   "outputs": [
    {
     "data": {
      "image/png": "[encoded data removed]",
      "text/plain": [
       "<Figure size 1300x500 with 2 Axes>"
      ]
     },
     "metadata": {},
     "output_type": "display_data"
    }
   ],
   "source": [
    "granularity = 10\n",
    "fig, axes = plt.subplots(1, 2, figsize=(13, 5))\n",
    "fig.suptitle(\"Performance on Different Learning Rates\")\n",
    "\n",
    "# Left graph\n",
    "ax0 = axes[0]\n",
    "for lr, train_loss, _ in his:\n",
    "    ax0.plot(range(1, len(train_loss[::granularity]) * granularity + 1, granularity), train_loss[::granularity], label=f\"lr={lr}\")\n",
    "ax0.set_xlabel(\"iteration\")\n",
    "ax0.set_ylabel(\"loss\")\n",
    "ax0.set_title(\"Train Loss\")\n",
    "ax0.set_ylim(0, 1)\n",
    "ax0.legend()\n",
    "\n",
    "# Right graph\n",
    "ax1 = axes[1]\n",
    "for lr, _, test_loss in his:\n",
    "    ax1.plot(range(1, len(test_loss) + 1), test_loss, label=f\"lr={lr}\")\n",
    "ax1.set_xlabel(\"epoch\")\n",
    "ax1.set_ylabel(\"loss\")\n",
    "ax1.set_title(\"Test Loss\")\n",
    "ax1.set_ylim(0, 5)\n",
    "ax1.legend();"
   ]
  },
  {
   "cell_type": "markdown",
   "metadata": {
    "id": "vN-86qOpA0Gr"
   },
   "source": [
    "### Number of epochs"
   ]
  },
  {
   "cell_type": "markdown",
   "metadata": {
    "id": "Q1NP4yZIA0Gr"
   },
   "source": [
    "Using the best `lr` found from the graph above, we now train for 50 epochs to take a closer look on how the test loss evolves over time."
   ]
  },
  {
   "cell_type": "markdown",
   "metadata": {
    "id": "1bUJK__naPcP"
   },
   "source": [
    "> The following cell takes ~7 mins to run on a T4 GPU."
   ]
  },
  {
   "cell_type": "code",
   "execution_count": 62,
   "metadata": {
    "colab": {
     "base_uri": "https://localhost:8080/"
    },
    "id": "O6cVb3nP1mch",
    "outputId": "8dd5cc01-31e8-48a7-efed-7e8603853619"
   },
   "outputs": [
    {
     "name": "stderr",
     "output_type": "stream",
     "text": [
      "Training: 100%|████████████████████████████████████████████████████████████████████████████████████████| 350/350 [07:30<00:00,  1.29s/it, loss=0.0002]\n"
     ]
    }
   ],
   "source": [
    "clfx.lr = 0.0001\n",
    "clfx.l2_penalty = 0\n",
    "clfx.fit(50)"
   ]
  },
  {
   "cell_type": "code",
   "execution_count": 63,
   "metadata": {
    "colab": {
     "base_uri": "https://localhost:8080/",
     "height": 515
    },
    "id": "ohuXZmQdA0Gr",
    "outputId": "6460ee15-66a9-4e88-edc8-cfbd7189289b"
   },
   "outputs": [
    {
     "data": {
      "image/png": "[encoded data removed]",
      "text/plain": [
       "<Figure size 1300x500 with 2 Axes>"
      ]
     },
     "metadata": {},
     "output_type": "display_data"
    }
   ],
   "source": [
    "fig, axes = clfx.plot_train(10)\n",
    "\n",
    "min_idx = np.argmin(clfx.test_loss_history)\n",
    "min_x = (min_idx + 1) * len(clfx.train_loader)\n",
    "min_y = clfx.test_loss_history[min_idx]\n",
    "\n",
    "axes[0].scatter(min_x, min_y, color='red')\n",
    "axes[0].annotate(f'min loss: {min_y:.4f}\\n(n_epochs={min_idx + 1})', (min_x, min_y), textcoords=\"offset points\", xytext=(5,7));"
   ]
  },
  {
   "cell_type": "markdown",
   "metadata": {
    "id": "26YirUHXA0Gv"
   },
   "source": [
    "### L2 penalty"
   ]
  },
  {
   "cell_type": "markdown",
   "metadata": {
    "id": "ScpOi5pFA0Gv"
   },
   "source": [
    "After some empirical testing, it appears that adding an L2 penalty did not improve the scores. Therefore, we set it to zero. Our final result is:"
   ]
  },
  {
   "cell_type": "code",
   "execution_count": 67,
   "metadata": {
    "colab": {
     "base_uri": "https://localhost:8080/"
    },
    "id": "kanWaCnXA0Gv",
    "outputId": "6ffd165f-ac66-4743-fe37-cbd76db70d35"
   },
   "outputs": [
    {
     "name": "stderr",
     "output_type": "stream",
     "text": [
      "Training: 100%|████████████████████████████████████████████████████████████████████████████████████████| 112/112 [02:25<00:00,  1.30s/it, loss=0.0005]\n",
      "Testing: 100%|██████████████████████████████████████████████████████████████████████████████████████████████████████████| 2/2 [00:01<00:00,  1.26it/s]\n"
     ]
    },
    {
     "data": {
      "text/plain": [
       "(0.4355408102273941,\n",
       " {'accuracy': 0.93, 'precision': 0.9375, 'recall': 0.9183673469387755})"
      ]
     },
     "execution_count": 67,
     "metadata": {},
     "output_type": "execute_result"
    }
   ],
   "source": [
    "clfx.lr = 0.0001\n",
    "clfx.l2_penalty = 0\n",
    "clfx.fit(16)\n",
    "\n",
    "out = clfx.predict()\n",
    "out[\"loss\"], out[\"metrics\"]"
   ]
  },
  {
   "cell_type": "code",
   "execution_count": 65,
   "metadata": {
    "id": "nwZndl0wA0Gw"
   },
   "outputs": [],
   "source": [
    "torch.save(clfx.model.state_dict(), 'resnet34_manual400.pth')"
   ]
  },
  {
   "cell_type": "markdown",
   "metadata": {
    "id": "KBjybSMgA0Gw"
   },
   "source": [
    "## Auto tuning\n",
    "\n",
    "In this section, we utilize Optuna to automatically tune our hyperparameters. Optuna automates hyperparameter tuning using Bayesian optimization. It smartly selects hyperparameter configurations based on past trial outcomes, focusing on promising regions of the search space."
   ]
  },
  {
   "cell_type": "code",
   "execution_count": 5,
   "metadata": {
    "colab": {
     "base_uri": "https://localhost:8080/"
    },
    "id": "UtlhH-HqBQPC",
    "outputId": "94c3a67f-be31-49bf-b8c6-f503a5fb133c",
    "scrolled": true
   },
   "outputs": [
    {
     "name": "stdout",
     "output_type": "stream",
     "text": [
      "Collecting optuna\n",
      "  Downloading optuna-4.2.1-py3-none-any.whl.metadata (17 kB)\n",
      "Collecting alembic>=1.5.0 (from optuna)\n",
      "  Downloading alembic-1.15.2-py3-none-any.whl.metadata (7.3 kB)\n",
      "Collecting colorlog (from optuna)\n",
      "  Downloading colorlog-6.9.0-py3-none-any.whl.metadata (10 kB)\n",
      "Requirement already satisfied: numpy in /usr/local/lib/python3.11/dist-packages (from optuna) (2.0.2)\n",
      "Requirement already satisfied: packaging>=20.0 in /usr/local/lib/python3.11/dist-packages (from optuna) (24.2)\n",
      "Requirement already satisfied: sqlalchemy>=1.4.2 in /usr/local/lib/python3.11/dist-packages (from optuna) (2.0.40)\n",
      "Requirement already satisfied: tqdm in /usr/local/lib/python3.11/dist-packages (from optuna) (4.67.1)\n",
      "Requirement already satisfied: PyYAML in /usr/local/lib/python3.11/dist-packages (from optuna) (6.0.2)\n",
      "Requirement already satisfied: Mako in /usr/lib/python3/dist-packages (from alembic>=1.5.0->optuna) (1.1.3)\n",
      "Requirement already satisfied: typing-extensions>=4.12 in /usr/local/lib/python3.11/dist-packages (from alembic>=1.5.0->optuna) (4.13.0)\n",
      "Requirement already satisfied: greenlet>=1 in /usr/local/lib/python3.11/dist-packages (from sqlalchemy>=1.4.2->optuna) (3.1.1)\n",
      "Downloading optuna-4.2.1-py3-none-any.whl (383 kB)\n",
      "\u001b[2K   \u001b[90m━━━━━━━━━━━━━━━━━━━━━━━━━━━━━━━━━━━━━━━━\u001b[0m \u001b[32m383.6/383.6 kB\u001b[0m \u001b[31m11.7 MB/s\u001b[0m eta \u001b[36m0:00:00\u001b[0m\n",
      "\u001b[?25hDownloading alembic-1.15.2-py3-none-any.whl (231 kB)\n",
      "\u001b[2K   \u001b[90m━━━━━━━━━━━━━━━━━━━━━━━━━━━━━━━━━━━━━━━━\u001b[0m \u001b[32m231.9/231.9 kB\u001b[0m \u001b[31m19.8 MB/s\u001b[0m eta \u001b[36m0:00:00\u001b[0m\n",
      "\u001b[?25hDownloading colorlog-6.9.0-py3-none-any.whl (11 kB)\n",
      "Installing collected packages: colorlog, alembic, optuna\n",
      "Successfully installed alembic-1.15.2 colorlog-6.9.0 optuna-4.2.1\n"
     ]
    }
   ],
   "source": [
    "!pip install optuna"
   ]
  },
  {
   "cell_type": "code",
   "execution_count": 6,
   "metadata": {
    "id": "otdc-bWSA0Gw"
   },
   "outputs": [],
   "source": [
    "import optuna\n",
    "import optuna.visualization as vis"
   ]
  },
  {
   "cell_type": "code",
   "execution_count": 11,
   "metadata": {
    "id": "n8kI12NVA0Gw"
   },
   "outputs": [],
   "source": [
    "def objective(trial):\n",
    "    lr = trial.suggest_float('lr', 1e-5, 1e-1, log=True)\n",
    "    n_epochs = trial.suggest_int('n_epochs', 1, 20)\n",
    "    l2_penalty = trial.suggest_float('l2_penalty', 1e-6, 1e-1, log=True)\n",
    "\n",
    "    clfy = BinaryImageClassifier(lr=lr, l2_penalty=l2_penalty, pretrained=False)\n",
    "\n",
    "    clfy.train_loader = clfy.load_data(\"./train\", 0, 400)\n",
    "    clfy.test_loader = clfy.load_data(\"./train\", 400, 500)\n",
    "\n",
    "    clfy.fit(n_epochs)\n",
    "    out = clfy.predict()\n",
    "    return *out[\"metrics\"].values(), out[\"loss\"]"
   ]
  },
  {
   "cell_type": "markdown",
   "metadata": {},
   "source": [
    "> The following cell takes ~1 hour to run on a T4 GPU."
   ]
  },
  {
   "cell_type": "code",
   "execution_count": 13,
   "metadata": {
    "colab": {
     "base_uri": "https://localhost:8080/"
    },
    "id": "5Ergka3pA0Gw",
    "outputId": "81713f6b-d1ba-4a69-eb31-196637e9cda3",
    "scrolled": true
   },
   "outputs": [
    {
     "name": "stderr",
     "output_type": "stream",
     "text": [
      "[I 2025-04-05 03:37:27,015] A new study created in memory with name: no-name-dce75799-f6ba-46d9-8983-7fcc6eebc862\n",
      "Training: 100%|████████████████████████████████████████████████████████████████████████████████████████| 140/140 [03:11<00:00,  1.37s/it, loss=0.0006]\n",
      "Testing: 100%|██████████████████████████████████████████████████████████████████████████████████████████████████████████| 2/2 [00:01<00:00,  1.17it/s]\n",
      "[I 2025-04-05 03:40:42,007] Trial 0 finished with values: [0.81, 0.96875, 0.6326530612244898, 1.2829756140708923] and parameters: {'lr': 0.00031489116479568613, 'n_epochs': 20, 'l2_penalty': 0.004570563099801453}.\n",
      "Training: 100%|██████████████████████████████████████████████████████████████████████████████████████████| 28/28 [00:37<00:00,  1.34s/it, loss=0.2443]\n",
      "Testing: 100%|██████████████████████████████████████████████████████████████████████████████████████████████████████████| 2/2 [00:02<00:00,  1.16s/it]\n",
      "[I 2025-04-05 03:41:22,401] Trial 1 finished with values: [0.86, 0.8723404255319149, 0.8367346938775511, 4.320414245128632] and parameters: {'lr': 0.0024810409748678114, 'n_epochs': 4, 'l2_penalty': 6.025215736203862e-06}.\n",
      "Training: 100%|████████████████████████████████████████████████████████████████████████████████████████| 126/126 [02:45<00:00,  1.31s/it, loss=0.0031]\n",
      "Testing: 100%|██████████████████████████████████████████████████████████████████████████████████████████████████████████| 2/2 [00:01<00:00,  1.10it/s]\n",
      "[I 2025-04-05 03:44:10,193] Trial 2 finished with values: [0.89, 0.88, 0.8979591836734694, 0.5418516248464584] and parameters: {'lr': 1.7073967431528103e-05, 'n_epochs': 18, 'l2_penalty': 0.0010129197956845735}.\n",
      "Training: 100%|████████████████████████████████████████████████████████████████████████████████████████████| 7/7 [00:08<00:00,  1.27s/it, loss=0.7039]\n",
      "Testing: 100%|██████████████████████████████████████████████████████████████████████████████████████████████████████████| 2/2 [00:01<00:00,  1.22it/s]\n",
      "[I 2025-04-05 03:44:21,810] Trial 3 finished with values: [0.49, 0.49, 1.0, 105.20833206176758] and parameters: {'lr': 0.006796578090758156, 'n_epochs': 1, 'l2_penalty': 0.07072114131472237}.\n",
      "Training: 100%|██████████████████████████████████████████████████████████████████████████████████████████| 35/35 [00:46<00:00,  1.33s/it, loss=0.1156]\n",
      "Testing: 100%|██████████████████████████████████████████████████████████████████████████████████████████████████████████| 2/2 [00:01<00:00,  1.02it/s]\n",
      "[I 2025-04-05 03:45:11,440] Trial 4 finished with values: [0.57, 0.532608695652174, 1.0, 69.62648010253906] and parameters: {'lr': 0.021368329072358756, 'n_epochs': 5, 'l2_penalty': 8.111941985431925e-06}.\n",
      "Training: 100%|██████████████████████████████████████████████████████████████████████████████████████████| 49/49 [01:04<00:00,  1.31s/it, loss=0.0017]\n",
      "Testing: 100%|██████████████████████████████████████████████████████████████████████████████████████████████████████████| 2/2 [00:01<00:00,  1.22it/s]\n",
      "[I 2025-04-05 03:46:18,255] Trial 5 finished with values: [0.69, 1.0, 0.3673469387755102, 1.6563652157783508] and parameters: {'lr': 5.415244119402538e-05, 'n_epochs': 7, 'l2_penalty': 0.0004205156450913873}.\n",
      "Training: 100%|██████████████████████████████████████████████████████████████████████████████████████████| 42/42 [00:55<00:00,  1.33s/it, loss=0.0625]\n",
      "Testing: 100%|██████████████████████████████████████████████████████████████████████████████████████████████████████████| 2/2 [00:01<00:00,  1.17it/s]\n",
      "[I 2025-04-05 03:47:16,440] Trial 6 finished with values: [0.55, 1.0, 0.08163265306122448, 2.3432852029800415] and parameters: {'lr': 0.0005342937261279777, 'n_epochs': 6, 'l2_penalty': 0.0011462107403425038}.\n",
      "Training: 100%|██████████████████████████████████████████████████████████████████████████████████████████| 42/42 [00:54<00:00,  1.30s/it, loss=0.0078]\n",
      "Testing: 100%|██████████████████████████████████████████████████████████████████████████████████████████████████████████| 2/2 [00:02<00:00,  1.15s/it]\n",
      "[I 2025-04-05 03:48:14,139] Trial 7 finished with values: [0.53, 1.0, 0.04081632653061224, 2.714823603630066] and parameters: {'lr': 3.613894271216525e-05, 'n_epochs': 6, 'l2_penalty': 6.789053271698483e-05}.\n",
      "Training: 100%|████████████████████████████████████████████████████████████████████████████████████████| 112/112 [02:27<00:00,  1.32s/it, loss=0.0106]\n",
      "Testing: 100%|██████████████████████████████████████████████████████████████████████████████████████████████████████████| 2/2 [00:01<00:00,  1.22it/s]\n",
      "[I 2025-04-05 03:50:44,096] Trial 8 finished with values: [0.83, 0.75, 0.9795918367346939, 1.2331213355064392] and parameters: {'lr': 0.0006672367170464204, 'n_epochs': 16, 'l2_penalty': 9.962513222055122e-06}.\n",
      "Training: 100%|██████████████████████████████████████████████████████████████████████████████████████████| 84/84 [01:52<00:00,  1.34s/it, loss=0.0192]\n",
      "Testing: 100%|██████████████████████████████████████████████████████████████████████████████████████████████████████████| 2/2 [00:01<00:00,  1.00it/s]\n",
      "[I 2025-04-05 03:52:39,027] Trial 9 finished with values: [0.89, 0.9318181818181818, 0.8367346938775511, 0.4756524860858917] and parameters: {'lr': 0.0011400863701127321, 'n_epochs': 12, 'l2_penalty': 1.707072883030666e-06}.\n",
      "Training: 100%|██████████████████████████████████████████████████████████████████████████████████████████| 91/91 [01:58<00:00,  1.30s/it, loss=0.0370]\n",
      "Testing: 100%|██████████████████████████████████████████████████████████████████████████████████████████████████████████| 2/2 [00:02<00:00,  1.17s/it]\n",
      "[I 2025-04-05 03:54:40,942] Trial 10 finished with values: [0.88, 0.8363636363636363, 0.9387755102040817, 1.0306303203105927] and parameters: {'lr': 0.06033178530661239, 'n_epochs': 13, 'l2_penalty': 1.0907785690006125e-06}.\n",
      "Training: 100%|██████████████████████████████████████████████████████████████████████████████████████████| 91/91 [02:00<00:00,  1.32s/it, loss=0.0719]\n",
      "Testing: 100%|██████████████████████████████████████████████████████████████████████████████████████████████████████████| 2/2 [00:01<00:00,  1.09it/s]\n",
      "[I 2025-04-05 03:56:43,940] Trial 11 finished with values: [0.85, 0.9722222222222222, 0.7142857142857143, 0.5963608026504517] and parameters: {'lr': 0.05359957765771776, 'n_epochs': 13, 'l2_penalty': 1.5618020905062002e-06}.\n",
      "Training: 100%|██████████████████████████████████████████████████████████████████████████████████████████| 77/77 [01:42<00:00,  1.33s/it, loss=0.0006]\n",
      "Testing: 100%|██████████████████████████████████████████████████████████████████████████████████████████████████████████| 2/2 [00:01<00:00,  1.17it/s]\n",
      "[I 2025-04-05 03:58:28,786] Trial 12 finished with values: [0.9, 0.9333333333333333, 0.8571428571428571, 0.3152516782283783] and parameters: {'lr': 0.00010757412206633192, 'n_epochs': 11, 'l2_penalty': 4.7203682560124085e-05}.\n",
      "Training: 100%|██████████████████████████████████████████████████████████████████████████████████████████| 70/70 [01:33<00:00,  1.34s/it, loss=0.0006]\n",
      "Testing: 100%|██████████████████████████████████████████████████████████████████████████████████████████████████████████| 2/2 [00:01<00:00,  1.16it/s]\n",
      "[I 2025-04-05 04:00:04,827] Trial 13 finished with values: [0.93, 0.9772727272727273, 0.8775510204081632, 0.4242396503686905] and parameters: {'lr': 0.0001422134402857422, 'n_epochs': 10, 'l2_penalty': 6.0319275518091316e-05}.\n",
      "Training: 100%|████████████████████████████████████████████████████████████████████████████████████████| 112/112 [02:29<00:00,  1.34s/it, loss=0.0004]\n",
      "Testing: 100%|██████████████████████████████████████████████████████████████████████████████████████████████████████████| 2/2 [00:01<00:00,  1.20it/s]\n",
      "[I 2025-04-05 04:02:36,825] Trial 14 finished with values: [0.94, 0.9215686274509803, 0.9591836734693877, 0.38524726033210754] and parameters: {'lr': 0.00018731657066440024, 'n_epochs': 16, 'l2_penalty': 5.159171545826078e-05}.\n",
      "Training: 100%|████████████████████████████████████████████████████████████████████████████████████████| 105/105 [02:19<00:00,  1.33s/it, loss=0.0170]\n",
      "Testing: 100%|██████████████████████████████████████████████████████████████████████████████████████████████████████████| 2/2 [00:02<00:00,  1.11s/it]\n",
      "[I 2025-04-05 04:04:59,420] Trial 15 finished with values: [0.72, 1.0, 0.42857142857142855, 1.9095786213874817] and parameters: {'lr': 0.00018756206282287356, 'n_epochs': 15, 'l2_penalty': 7.016041381458722e-05}.\n",
      "Training: 100%|████████████████████████████████████████████████████████████████████████████████████████| 112/112 [02:26<00:00,  1.31s/it, loss=0.0182]\n",
      "Testing: 100%|██████████████████████████████████████████████████████████████████████████████████████████████████████████| 2/2 [00:01<00:00,  1.18it/s]\n",
      "[I 2025-04-05 04:07:28,237] Trial 16 finished with values: [0.87, 0.86, 0.8775510204081632, 0.6014951765537262] and parameters: {'lr': 1.1315077304364666e-05, 'n_epochs': 16, 'l2_penalty': 0.009064558607020023}.\n",
      "Training: 100%|██████████████████████████████████████████████████████████████████████████████████████████| 56/56 [01:13<00:00,  1.30s/it, loss=0.0009]\n",
      "Testing: 100%|██████████████████████████████████████████████████████████████████████████████████████████████████████████| 2/2 [00:01<00:00,  1.18it/s]\n",
      "[I 2025-04-05 04:08:43,596] Trial 17 finished with values: [0.73, 1.0, 0.4489795918367347, 1.9002684950828552] and parameters: {'lr': 9.188227716652768e-05, 'n_epochs': 8, 'l2_penalty': 2.3573543348960418e-05}.\n",
      "Training: 100%|██████████████████████████████████████████████████████████████████████████████████████████| 63/63 [01:24<00:00,  1.34s/it, loss=0.1328]\n",
      "Testing: 100%|██████████████████████████████████████████████████████████████████████████████████████████████████████████| 2/2 [00:01<00:00,  1.21it/s]\n",
      "[I 2025-04-05 04:10:10,379] Trial 18 finished with values: [0.76, 0.676056338028169, 0.9795918367346939, 0.970459520816803] and parameters: {'lr': 0.0032401997265097586, 'n_epochs': 9, 'l2_penalty': 0.0002549426318384637}.\n",
      "Training: 100%|████████████████████████████████████████████████████████████████████████████████████████| 140/140 [02:59<00:00,  1.28s/it, loss=0.0006]\n",
      "Testing: 100%|██████████████████████████████████████████████████████████████████████████████████████████████████████████| 2/2 [00:01<00:00,  1.24it/s]\n",
      "[I 2025-04-05 04:13:12,486] Trial 19 finished with values: [0.97, 0.9791666666666666, 0.9591836734693877, 0.3444816321134567] and parameters: {'lr': 0.00023506997063237137, 'n_epochs': 20, 'l2_penalty': 0.00019174179258583216}.\n",
      "Training: 100%|████████████████████████████████████████████████████████████████████████████████████████| 140/140 [02:59<00:00,  1.28s/it, loss=0.0358]\n",
      "Testing: 100%|██████████████████████████████████████████████████████████████████████████████████████████████████████████| 2/2 [00:01<00:00,  1.24it/s]\n",
      "[I 2025-04-05 04:16:14,440] Trial 20 finished with values: [0.72, 0.9565217391304348, 0.4489795918367347, 2.552827477455139] and parameters: {'lr': 0.0005656146765126754, 'n_epochs': 20, 'l2_penalty': 0.011855465062694474}.\n",
      "Training: 100%|████████████████████████████████████████████████████████████████████████████████████████| 126/126 [02:36<00:00,  1.25s/it, loss=0.0007]\n",
      "Testing: 100%|██████████████████████████████████████████████████████████████████████████████████████████████████████████| 2/2 [00:01<00:00,  1.29it/s]\n",
      "[I 2025-04-05 04:18:53,605] Trial 21 finished with values: [0.9, 0.9148936170212766, 0.8775510204081632, 0.442460298538208] and parameters: {'lr': 5.352282516077089e-05, 'n_epochs': 18, 'l2_penalty': 0.00020698544116010297}.\n",
      "Training: 100%|████████████████████████████████████████████████████████████████████████████████████████| 126/126 [02:36<00:00,  1.24s/it, loss=0.0077]\n",
      "Testing: 100%|██████████████████████████████████████████████████████████████████████████████████████████████████████████| 2/2 [00:01<00:00,  1.23it/s]\n",
      "[I 2025-04-05 04:21:32,450] Trial 22 finished with values: [0.79, 0.7058823529411765, 0.9795918367346939, 2.509894013404846] and parameters: {'lr': 0.0010648114753253593, 'n_epochs': 18, 'l2_penalty': 1.992998752561199e-05}.\n",
      "Training: 100%|████████████████████████████████████████████████████████████████████████████████████████| 140/140 [02:56<00:00,  1.26s/it, loss=0.0650]\n",
      "Testing: 100%|██████████████████████████████████████████████████████████████████████████████████████████████████████████| 2/2 [00:01<00:00,  1.28it/s]\n",
      "[I 2025-04-05 04:24:31,768] Trial 23 finished with values: [0.49, 0.49, 1.0, 1.49650239944458] and parameters: {'lr': 0.008961761225226234, 'n_epochs': 20, 'l2_penalty': 0.0018035976269145638}.\n",
      "Training: 100%|████████████████████████████████████████████████████████████████████████████████████████| 126/126 [02:34<00:00,  1.22s/it, loss=0.0007]\n",
      "Testing: 100%|██████████████████████████████████████████████████████████████████████████████████████████████████████████| 2/2 [00:01<00:00,  1.33it/s]\n",
      "[I 2025-04-05 04:27:08,045] Trial 24 finished with values: [0.94, 0.9387755102040817, 0.9387755102040817, 0.3071018010377884] and parameters: {'lr': 0.0004579588598371664, 'n_epochs': 18, 'l2_penalty': 0.0004963974850213711}.\n",
      "Training: 100%|████████████████████████████████████████████████████████████████████████████████████████| 112/112 [02:18<00:00,  1.24s/it, loss=0.1977]\n",
      "Testing: 100%|██████████████████████████████████████████████████████████████████████████████████████████████████████████| 2/2 [00:01<00:00,  1.29it/s]\n",
      "[I 2025-04-05 04:29:28,874] Trial 25 finished with values: [0.52, 1.0, 0.02040816326530612, 1.6566482186317444] and parameters: {'lr': 0.0019800714539030227, 'n_epochs': 16, 'l2_penalty': 0.07020196366647659}.\n",
      "Training: 100%|████████████████████████████████████████████████████████████████████████████████████████| 133/133 [02:46<00:00,  1.25s/it, loss=0.0005]\n",
      "Testing: 100%|██████████████████████████████████████████████████████████████████████████████████████████████████████████| 2/2 [00:01<00:00,  1.14it/s]\n",
      "[I 2025-04-05 04:32:18,065] Trial 26 finished with values: [0.91, 0.9347826086956522, 0.8775510204081632, 0.49883463978767395] and parameters: {'lr': 8.463387639072491e-05, 'n_epochs': 19, 'l2_penalty': 0.00013966934162694842}.\n",
      "Training: 100%|████████████████████████████████████████████████████████████████████████████████████████████| 7/7 [00:08<00:00,  1.20s/it, loss=0.4463]\n",
      "Testing: 100%|██████████████████████████████████████████████████████████████████████████████████████████████████████████| 2/2 [00:02<00:00,  1.08s/it]\n",
      "[I 2025-04-05 04:32:29,286] Trial 27 finished with values: [0.51, 0.0, 0.0, 1.4353806972503662] and parameters: {'lr': 3.364377791900204e-05, 'n_epochs': 1, 'l2_penalty': 0.0031143049026952567}.\n",
      "Training: 100%|██████████████████████████████████████████████████████████████████████████████████████████| 98/98 [02:02<00:00,  1.25s/it, loss=0.0013]\n",
      "Testing: 100%|██████████████████████████████████████████████████████████████████████████████████████████████████████████| 2/2 [00:01<00:00,  1.22it/s]\n",
      "[I 2025-04-05 04:34:34,321] Trial 28 finished with values: [0.86, 0.7777777777777778, 1.0, 1.9924902319908142] and parameters: {'lr': 0.00028957563604978714, 'n_epochs': 14, 'l2_penalty': 1.8691400204225714e-05}.\n",
      "Training: 100%|████████████████████████████████████████████████████████████████████████████████████████| 119/119 [02:28<00:00,  1.25s/it, loss=0.0350]\n",
      "Testing: 100%|██████████████████████████████████████████████████████████████████████████████████████████████████████████| 2/2 [00:01<00:00,  1.26it/s]\n",
      "[I 2025-04-05 04:37:05,141] Trial 29 finished with values: [0.51, 0.0, 0.0, 4.173678874969482] and parameters: {'lr': 0.0005519180548370282, 'n_epochs': 17, 'l2_penalty': 0.019872356792327107}.\n"
     ]
    }
   ],
   "source": [
    "study = optuna.create_study(directions=[\"maximize\", \"maximize\", \"maximize\", \"minimize\"],\n",
    "                            sampler=optuna.samplers.TPESampler(seed=42))\n",
    "study.optimize(objective, n_trials=30)"
   ]
  },
  {
   "cell_type": "code",
   "execution_count": 18,
   "metadata": {
    "colab": {
     "base_uri": "https://localhost:8080/",
     "height": 542
    },
    "id": "OSRDh0GaA0Gw",
    "outputId": "bf0e293e-5a57-497c-e45f-dadd070735db"
   },
   "outputs": [
    {
     "data": {
      "text/html": [
       "<html>\n",
       "<head><meta charset=\"utf-8\" /></head>\n",
       "<body>\n",
       "    <div>            <script src=\"https://cdnjs.cloudflare.com/ajax/libs/mathjax/2.7.5/MathJax.js?config=TeX-AMS-MML_SVG\"></script><script type=\"text/javascript\">if (window.MathJax && window.MathJax.Hub && window.MathJax.Hub.Config) {window.MathJax.Hub.Config({SVG: {font: \"STIX-Web\"}});}</script>                <script type=\"text/javascript\">window.PlotlyConfig = {MathJaxConfig: 'local'};</script>\n",
       "        <script charset=\"utf-8\" src=\"https://cdn.plot.ly/plotly-2.35.2.min.js\"></script>                <div id=\"d41e2013-3a35-4bc3-9471-57e8720de99b\" class=\"plotly-graph-div\" style=\"height:525px; width:100%;\"></div>            <script type=\"text/javascript\">                                    window.PLOTLYENV=window.PLOTLYENV || {};                                    if (document.getElementById(\"d41e2013-3a35-4bc3-9471-57e8720de99b\")) {                    Plotly.newPlot(                        \"d41e2013-3a35-4bc3-9471-57e8720de99b\",                        [{\"mode\":\"markers\",\"name\":\"Accuracy\",\"x\":[0,1,2,3,4,5,6,7,8,9,10,11,12,13,14,15,16,17,18,19,20,21,22,23,24,25,26,27,28,29],\"y\":[0.81,0.86,0.89,0.49,0.57,0.69,0.55,0.53,0.83,0.89,0.88,0.85,0.9,0.93,0.94,0.72,0.87,0.73,0.76,0.97,0.72,0.9,0.79,0.49,0.94,0.52,0.91,0.51,0.86,0.51],\"type\":\"scatter\"},{\"marker\":{\"color\":\"#cccccc\"},\"mode\":\"markers\",\"name\":\"Infeasible Trial\",\"showlegend\":false,\"x\":[],\"y\":[],\"type\":\"scatter\"}],                        {\"title\":{\"text\":\"Optimization History Plot\"},\"xaxis\":{\"title\":{\"text\":\"Trial\"}},\"yaxis\":{\"title\":{\"text\":\"Accuracy\"}},\"template\":{\"data\":{\"histogram2dcontour\":[{\"type\":\"histogram2dcontour\",\"colorbar\":{\"outlinewidth\":0,\"ticks\":\"\"},\"colorscale\":[[0.0,\"#0d0887\"],[0.1111111111111111,\"#46039f\"],[0.2222222222222222,\"#7201a8\"],[0.3333333333333333,\"#9c179e\"],[0.4444444444444444,\"#bd3786\"],[0.5555555555555556,\"#d8576b\"],[0.6666666666666666,\"#ed7953\"],[0.7777777777777778,\"#fb9f3a\"],[0.8888888888888888,\"#fdca26\"],[1.0,\"#f0f921\"]]}],\"choropleth\":[{\"type\":\"choropleth\",\"colorbar\":{\"outlinewidth\":0,\"ticks\":\"\"}}],\"histogram2d\":[{\"type\":\"histogram2d\",\"colorbar\":{\"outlinewidth\":0,\"ticks\":\"\"},\"colorscale\":[[0.0,\"#0d0887\"],[0.1111111111111111,\"#46039f\"],[0.2222222222222222,\"#7201a8\"],[0.3333333333333333,\"#9c179e\"],[0.4444444444444444,\"#bd3786\"],[0.5555555555555556,\"#d8576b\"],[0.6666666666666666,\"#ed7953\"],[0.7777777777777778,\"#fb9f3a\"],[0.8888888888888888,\"#fdca26\"],[1.0,\"#f0f921\"]]}],\"heatmap\":[{\"type\":\"heatmap\",\"colorbar\":{\"outlinewidth\":0,\"ticks\":\"\"},\"colorscale\":[[0.0,\"#0d0887\"],[0.1111111111111111,\"#46039f\"],[0.2222222222222222,\"#7201a8\"],[0.3333333333333333,\"#9c179e\"],[0.4444444444444444,\"#bd3786\"],[0.5555555555555556,\"#d8576b\"],[0.6666666666666666,\"#ed7953\"],[0.7777777777777778,\"#fb9f3a\"],[0.8888888888888888,\"#fdca26\"],[1.0,\"#f0f921\"]]}],\"heatmapgl\":[{\"type\":\"heatmapgl\",\"colorbar\":{\"outlinewidth\":0,\"ticks\":\"\"},\"colorscale\":[[0.0,\"#0d0887\"],[0.1111111111111111,\"#46039f\"],[0.2222222222222222,\"#7201a8\"],[0.3333333333333333,\"#9c179e\"],[0.4444444444444444,\"#bd3786\"],[0.5555555555555556,\"#d8576b\"],[0.6666666666666666,\"#ed7953\"],[0.7777777777777778,\"#fb9f3a\"],[0.8888888888888888,\"#fdca26\"],[1.0,\"#f0f921\"]]}],\"contourcarpet\":[{\"type\":\"contourcarpet\",\"colorbar\":{\"outlinewidth\":0,\"ticks\":\"\"}}],\"contour\":[{\"type\":\"contour\",\"colorbar\":{\"outlinewidth\":0,\"ticks\":\"\"},\"colorscale\":[[0.0,\"#0d0887\"],[0.1111111111111111,\"#46039f\"],[0.2222222222222222,\"#7201a8\"],[0.3333333333333333,\"#9c179e\"],[0.4444444444444444,\"#bd3786\"],[0.5555555555555556,\"#d8576b\"],[0.6666666666666666,\"#ed7953\"],[0.7777777777777778,\"#fb9f3a\"],[0.8888888888888888,\"#fdca26\"],[1.0,\"#f0f921\"]]}],\"surface\":[{\"type\":\"surface\",\"colorbar\":{\"outlinewidth\":0,\"ticks\":\"\"},\"colorscale\":[[0.0,\"#0d0887\"],[0.1111111111111111,\"#46039f\"],[0.2222222222222222,\"#7201a8\"],[0.3333333333333333,\"#9c179e\"],[0.4444444444444444,\"#bd3786\"],[0.5555555555555556,\"#d8576b\"],[0.6666666666666666,\"#ed7953\"],[0.7777777777777778,\"#fb9f3a\"],[0.8888888888888888,\"#fdca26\"],[1.0,\"#f0f921\"]]}],\"mesh3d\":[{\"type\":\"mesh3d\",\"colorbar\":{\"outlinewidth\":0,\"ticks\":\"\"}}],\"scatter\":[{\"fillpattern\":{\"fillmode\":\"overlay\",\"size\":10,\"solidity\":0.2},\"type\":\"scatter\"}],\"parcoords\":[{\"type\":\"parcoords\",\"line\":{\"colorbar\":{\"outlinewidth\":0,\"ticks\":\"\"}}}],\"scatterpolargl\":[{\"type\":\"scatterpolargl\",\"marker\":{\"colorbar\":{\"outlinewidth\":0,\"ticks\":\"\"}}}],\"bar\":[{\"error_x\":{\"color\":\"#2a3f5f\"},\"error_y\":{\"color\":\"#2a3f5f\"},\"marker\":{\"line\":{\"color\":\"#E5ECF6\",\"width\":0.5},\"pattern\":{\"fillmode\":\"overlay\",\"size\":10,\"solidity\":0.2}},\"type\":\"bar\"}],\"scattergeo\":[{\"type\":\"scattergeo\",\"marker\":{\"colorbar\":{\"outlinewidth\":0,\"ticks\":\"\"}}}],\"scatterpolar\":[{\"type\":\"scatterpolar\",\"marker\":{\"colorbar\":{\"outlinewidth\":0,\"ticks\":\"\"}}}],\"histogram\":[{\"marker\":{\"pattern\":{\"fillmode\":\"overlay\",\"size\":10,\"solidity\":0.2}},\"type\":\"histogram\"}],\"scattergl\":[{\"type\":\"scattergl\",\"marker\":{\"colorbar\":{\"outlinewidth\":0,\"ticks\":\"\"}}}],\"scatter3d\":[{\"type\":\"scatter3d\",\"line\":{\"colorbar\":{\"outlinewidth\":0,\"ticks\":\"\"}},\"marker\":{\"colorbar\":{\"outlinewidth\":0,\"ticks\":\"\"}}}],\"scattermapbox\":[{\"type\":\"scattermapbox\",\"marker\":{\"colorbar\":{\"outlinewidth\":0,\"ticks\":\"\"}}}],\"scatterternary\":[{\"type\":\"scatterternary\",\"marker\":{\"colorbar\":{\"outlinewidth\":0,\"ticks\":\"\"}}}],\"scattercarpet\":[{\"type\":\"scattercarpet\",\"marker\":{\"colorbar\":{\"outlinewidth\":0,\"ticks\":\"\"}}}],\"carpet\":[{\"aaxis\":{\"endlinecolor\":\"#2a3f5f\",\"gridcolor\":\"white\",\"linecolor\":\"white\",\"minorgridcolor\":\"white\",\"startlinecolor\":\"#2a3f5f\"},\"baxis\":{\"endlinecolor\":\"#2a3f5f\",\"gridcolor\":\"white\",\"linecolor\":\"white\",\"minorgridcolor\":\"white\",\"startlinecolor\":\"#2a3f5f\"},\"type\":\"carpet\"}],\"table\":[{\"cells\":{\"fill\":{\"color\":\"#EBF0F8\"},\"line\":{\"color\":\"white\"}},\"header\":{\"fill\":{\"color\":\"#C8D4E3\"},\"line\":{\"color\":\"white\"}},\"type\":\"table\"}],\"barpolar\":[{\"marker\":{\"line\":{\"color\":\"#E5ECF6\",\"width\":0.5},\"pattern\":{\"fillmode\":\"overlay\",\"size\":10,\"solidity\":0.2}},\"type\":\"barpolar\"}],\"pie\":[{\"automargin\":true,\"type\":\"pie\"}]},\"layout\":{\"autotypenumbers\":\"strict\",\"colorway\":[\"#636efa\",\"#EF553B\",\"#00cc96\",\"#ab63fa\",\"#FFA15A\",\"#19d3f3\",\"#FF6692\",\"#B6E880\",\"#FF97FF\",\"#FECB52\"],\"font\":{\"color\":\"#2a3f5f\"},\"hovermode\":\"closest\",\"hoverlabel\":{\"align\":\"left\"},\"paper_bgcolor\":\"white\",\"plot_bgcolor\":\"#E5ECF6\",\"polar\":{\"bgcolor\":\"#E5ECF6\",\"angularaxis\":{\"gridcolor\":\"white\",\"linecolor\":\"white\",\"ticks\":\"\"},\"radialaxis\":{\"gridcolor\":\"white\",\"linecolor\":\"white\",\"ticks\":\"\"}},\"ternary\":{\"bgcolor\":\"#E5ECF6\",\"aaxis\":{\"gridcolor\":\"white\",\"linecolor\":\"white\",\"ticks\":\"\"},\"baxis\":{\"gridcolor\":\"white\",\"linecolor\":\"white\",\"ticks\":\"\"},\"caxis\":{\"gridcolor\":\"white\",\"linecolor\":\"white\",\"ticks\":\"\"}},\"coloraxis\":{\"colorbar\":{\"outlinewidth\":0,\"ticks\":\"\"}},\"colorscale\":{\"sequential\":[[0.0,\"#0d0887\"],[0.1111111111111111,\"#46039f\"],[0.2222222222222222,\"#7201a8\"],[0.3333333333333333,\"#9c179e\"],[0.4444444444444444,\"#bd3786\"],[0.5555555555555556,\"#d8576b\"],[0.6666666666666666,\"#ed7953\"],[0.7777777777777778,\"#fb9f3a\"],[0.8888888888888888,\"#fdca26\"],[1.0,\"#f0f921\"]],\"sequentialminus\":[[0.0,\"#0d0887\"],[0.1111111111111111,\"#46039f\"],[0.2222222222222222,\"#7201a8\"],[0.3333333333333333,\"#9c179e\"],[0.4444444444444444,\"#bd3786\"],[0.5555555555555556,\"#d8576b\"],[0.6666666666666666,\"#ed7953\"],[0.7777777777777778,\"#fb9f3a\"],[0.8888888888888888,\"#fdca26\"],[1.0,\"#f0f921\"]],\"diverging\":[[0,\"#8e0152\"],[0.1,\"#c51b7d\"],[0.2,\"#de77ae\"],[0.3,\"#f1b6da\"],[0.4,\"#fde0ef\"],[0.5,\"#f7f7f7\"],[0.6,\"#e6f5d0\"],[0.7,\"#b8e186\"],[0.8,\"#7fbc41\"],[0.9,\"#4d9221\"],[1,\"#276419\"]]},\"xaxis\":{\"gridcolor\":\"white\",\"linecolor\":\"white\",\"ticks\":\"\",\"title\":{\"standoff\":15},\"zerolinecolor\":\"white\",\"automargin\":true,\"zerolinewidth\":2},\"yaxis\":{\"gridcolor\":\"white\",\"linecolor\":\"white\",\"ticks\":\"\",\"title\":{\"standoff\":15},\"zerolinecolor\":\"white\",\"automargin\":true,\"zerolinewidth\":2},\"scene\":{\"xaxis\":{\"backgroundcolor\":\"#E5ECF6\",\"gridcolor\":\"white\",\"linecolor\":\"white\",\"showbackground\":true,\"ticks\":\"\",\"zerolinecolor\":\"white\",\"gridwidth\":2},\"yaxis\":{\"backgroundcolor\":\"#E5ECF6\",\"gridcolor\":\"white\",\"linecolor\":\"white\",\"showbackground\":true,\"ticks\":\"\",\"zerolinecolor\":\"white\",\"gridwidth\":2},\"zaxis\":{\"backgroundcolor\":\"#E5ECF6\",\"gridcolor\":\"white\",\"linecolor\":\"white\",\"showbackground\":true,\"ticks\":\"\",\"zerolinecolor\":\"white\",\"gridwidth\":2}},\"shapedefaults\":{\"line\":{\"color\":\"#2a3f5f\"}},\"annotationdefaults\":{\"arrowcolor\":\"#2a3f5f\",\"arrowhead\":0,\"arrowwidth\":1},\"geo\":{\"bgcolor\":\"white\",\"landcolor\":\"#E5ECF6\",\"subunitcolor\":\"white\",\"showland\":true,\"showlakes\":true,\"lakecolor\":\"white\"},\"title\":{\"x\":0.05},\"mapbox\":{\"style\":\"light\"}}}},                        {\"responsive\": true}                    ).then(function(){\n",
       "                            \n",
       "var gd = document.getElementById('d41e2013-3a35-4bc3-9471-57e8720de99b');\n",
       "var x = new MutationObserver(function (mutations, observer) {{\n",
       "        var display = window.getComputedStyle(gd).display;\n",
       "        if (!display || display === 'none') {{\n",
       "            console.log([gd, 'removed!']);\n",
       "            Plotly.purge(gd);\n",
       "            observer.disconnect();\n",
       "        }}\n",
       "}});\n",
       "\n",
       "// Listen for the removal of the full notebook cells\n",
       "var notebookContainer = gd.closest('#notebook-container');\n",
       "if (notebookContainer) {{\n",
       "    x.observe(notebookContainer, {childList: true});\n",
       "}}\n",
       "\n",
       "// Listen for the clearing of the current output cell\n",
       "var outputEl = gd.closest('.output');\n",
       "if (outputEl) {{\n",
       "    x.observe(outputEl, {childList: true});\n",
       "}}\n",
       "\n",
       "                        })                };                            </script>        </div>\n",
       "</body>\n",
       "</html>"
      ]
     },
     "metadata": {},
     "output_type": "display_data"
    }
   ],
   "source": [
    "vis.plot_optimization_history(\n",
    "    study,\n",
    "    target=lambda t: t.values[0],\n",
    "    target_name=\"Accuracy\"\n",
    ")"
   ]
  },
  {
   "cell_type": "code",
   "execution_count": 19,
   "metadata": {
    "colab": {
     "base_uri": "https://localhost:8080/",
     "height": 542
    },
    "id": "2BSkXNboA0Gw",
    "outputId": "f837a6d3-17d6-41f6-d995-ee5b18d86d6a"
   },
   "outputs": [
    {
     "data": {
      "text/html": [
       "<html>\n",
       "<head><meta charset=\"utf-8\" /></head>\n",
       "<body>\n",
       "    <div>            <script src=\"https://cdnjs.cloudflare.com/ajax/libs/mathjax/2.7.5/MathJax.js?config=TeX-AMS-MML_SVG\"></script><script type=\"text/javascript\">if (window.MathJax && window.MathJax.Hub && window.MathJax.Hub.Config) {window.MathJax.Hub.Config({SVG: {font: \"STIX-Web\"}});}</script>                <script type=\"text/javascript\">window.PlotlyConfig = {MathJaxConfig: 'local'};</script>\n",
       "        <script charset=\"utf-8\" src=\"https://cdn.plot.ly/plotly-2.35.2.min.js\"></script>                <div id=\"a369e999-d480-40b9-b1ae-93e40f9b5f2b\" class=\"plotly-graph-div\" style=\"height:525px; width:100%;\"></div>            <script type=\"text/javascript\">                                    window.PLOTLYENV=window.PLOTLYENV || {};                                    if (document.getElementById(\"a369e999-d480-40b9-b1ae-93e40f9b5f2b\")) {                    Plotly.newPlot(                        \"a369e999-d480-40b9-b1ae-93e40f9b5f2b\",                        [{\"marker\":{\"color\":[0,1,2,3,4,5,6,7,8,9,10,11,12,13,14,15,16,17,18,19,20,21,22,23,24,25,26,27,28,29],\"colorbar\":{\"title\":{\"text\":\"Trial\"},\"x\":1.0,\"xpad\":40},\"colorscale\":[[0.0,\"rgb(247,251,255)\"],[0.125,\"rgb(222,235,247)\"],[0.25,\"rgb(198,219,239)\"],[0.375,\"rgb(158,202,225)\"],[0.5,\"rgb(107,174,214)\"],[0.625,\"rgb(66,146,198)\"],[0.75,\"rgb(33,113,181)\"],[0.875,\"rgb(8,81,156)\"],[1.0,\"rgb(8,48,107)\"]],\"line\":{\"color\":\"Grey\",\"width\":0.5},\"showscale\":true},\"mode\":\"markers\",\"name\":\"Feasible Trial\",\"showlegend\":false,\"x\":[0.004570563099801453,6.025215736203862e-6,0.0010129197956845735,0.07072114131472237,8.111941985431925e-6,0.0004205156450913873,0.0011462107403425038,0.00006789053271698483,9.962513222055122e-6,1.707072883030666e-6,1.0907785690006125e-6,1.5618020905062002e-6,0.000047203682560124085,0.000060319275518091316,0.00005159171545826078,0.00007016041381458722,0.009064558607020023,0.000023573543348960418,0.0002549426318384637,0.00019174179258583216,0.011855465062694474,0.00020698544116010297,0.00001992998752561199,0.0018035976269145638,0.0004963974850213711,0.07020196366647659,0.00013966934162694842,0.0031143049026952567,0.000018691400204225714,0.019872356792327107],\"y\":[0.81,0.86,0.89,0.49,0.57,0.69,0.55,0.53,0.83,0.89,0.88,0.85,0.9,0.93,0.94,0.72,0.87,0.73,0.76,0.97,0.72,0.9,0.79,0.49,0.94,0.52,0.91,0.51,0.86,0.51],\"type\":\"scatter\",\"xaxis\":\"x\",\"yaxis\":\"y\"},{\"marker\":{\"color\":[0,1,2,3,4,5,6,7,8,9,10,11,12,13,14,15,16,17,18,19,20,21,22,23,24,25,26,27,28,29],\"colorbar\":{\"title\":{\"text\":\"Trial\"},\"x\":1.0,\"xpad\":40},\"colorscale\":[[0.0,\"rgb(247,251,255)\"],[0.125,\"rgb(222,235,247)\"],[0.25,\"rgb(198,219,239)\"],[0.375,\"rgb(158,202,225)\"],[0.5,\"rgb(107,174,214)\"],[0.625,\"rgb(66,146,198)\"],[0.75,\"rgb(33,113,181)\"],[0.875,\"rgb(8,81,156)\"],[1.0,\"rgb(8,48,107)\"]],\"line\":{\"color\":\"Grey\",\"width\":0.5},\"showscale\":false},\"mode\":\"markers\",\"name\":\"Feasible Trial\",\"showlegend\":false,\"x\":[0.00031489116479568613,0.0024810409748678114,0.000017073967431528103,0.006796578090758156,0.021368329072358756,0.00005415244119402538,0.0005342937261279777,0.00003613894271216525,0.0006672367170464204,0.0011400863701127321,0.06033178530661239,0.05359957765771776,0.00010757412206633192,0.0001422134402857422,0.00018731657066440024,0.00018756206282287356,0.000011315077304364666,0.00009188227716652768,0.0032401997265097586,0.00023506997063237137,0.0005656146765126754,0.00005352282516077089,0.0010648114753253593,0.008961761225226234,0.0004579588598371664,0.0019800714539030227,0.00008463387639072491,0.00003364377791900204,0.00028957563604978714,0.0005519180548370282],\"y\":[0.81,0.86,0.89,0.49,0.57,0.69,0.55,0.53,0.83,0.89,0.88,0.85,0.9,0.93,0.94,0.72,0.87,0.73,0.76,0.97,0.72,0.9,0.79,0.49,0.94,0.52,0.91,0.51,0.86,0.51],\"type\":\"scatter\",\"xaxis\":\"x2\",\"yaxis\":\"y2\"},{\"marker\":{\"color\":[0,1,2,3,4,5,6,7,8,9,10,11,12,13,14,15,16,17,18,19,20,21,22,23,24,25,26,27,28,29],\"colorbar\":{\"title\":{\"text\":\"Trial\"},\"x\":1.0,\"xpad\":40},\"colorscale\":[[0.0,\"rgb(247,251,255)\"],[0.125,\"rgb(222,235,247)\"],[0.25,\"rgb(198,219,239)\"],[0.375,\"rgb(158,202,225)\"],[0.5,\"rgb(107,174,214)\"],[0.625,\"rgb(66,146,198)\"],[0.75,\"rgb(33,113,181)\"],[0.875,\"rgb(8,81,156)\"],[1.0,\"rgb(8,48,107)\"]],\"line\":{\"color\":\"Grey\",\"width\":0.5},\"showscale\":false},\"mode\":\"markers\",\"name\":\"Feasible Trial\",\"showlegend\":false,\"x\":[20,4,18,1,5,7,6,6,16,12,13,13,11,10,16,15,16,8,9,20,20,18,18,20,18,16,19,1,14,17],\"y\":[0.81,0.86,0.89,0.49,0.57,0.69,0.55,0.53,0.83,0.89,0.88,0.85,0.9,0.93,0.94,0.72,0.87,0.73,0.76,0.97,0.72,0.9,0.79,0.49,0.94,0.52,0.91,0.51,0.86,0.51],\"type\":\"scatter\",\"xaxis\":\"x3\",\"yaxis\":\"y3\"}],                        {\"template\":{\"data\":{\"histogram2dcontour\":[{\"type\":\"histogram2dcontour\",\"colorbar\":{\"outlinewidth\":0,\"ticks\":\"\"},\"colorscale\":[[0.0,\"#0d0887\"],[0.1111111111111111,\"#46039f\"],[0.2222222222222222,\"#7201a8\"],[0.3333333333333333,\"#9c179e\"],[0.4444444444444444,\"#bd3786\"],[0.5555555555555556,\"#d8576b\"],[0.6666666666666666,\"#ed7953\"],[0.7777777777777778,\"#fb9f3a\"],[0.8888888888888888,\"#fdca26\"],[1.0,\"#f0f921\"]]}],\"choropleth\":[{\"type\":\"choropleth\",\"colorbar\":{\"outlinewidth\":0,\"ticks\":\"\"}}],\"histogram2d\":[{\"type\":\"histogram2d\",\"colorbar\":{\"outlinewidth\":0,\"ticks\":\"\"},\"colorscale\":[[0.0,\"#0d0887\"],[0.1111111111111111,\"#46039f\"],[0.2222222222222222,\"#7201a8\"],[0.3333333333333333,\"#9c179e\"],[0.4444444444444444,\"#bd3786\"],[0.5555555555555556,\"#d8576b\"],[0.6666666666666666,\"#ed7953\"],[0.7777777777777778,\"#fb9f3a\"],[0.8888888888888888,\"#fdca26\"],[1.0,\"#f0f921\"]]}],\"heatmap\":[{\"type\":\"heatmap\",\"colorbar\":{\"outlinewidth\":0,\"ticks\":\"\"},\"colorscale\":[[0.0,\"#0d0887\"],[0.1111111111111111,\"#46039f\"],[0.2222222222222222,\"#7201a8\"],[0.3333333333333333,\"#9c179e\"],[0.4444444444444444,\"#bd3786\"],[0.5555555555555556,\"#d8576b\"],[0.6666666666666666,\"#ed7953\"],[0.7777777777777778,\"#fb9f3a\"],[0.8888888888888888,\"#fdca26\"],[1.0,\"#f0f921\"]]}],\"heatmapgl\":[{\"type\":\"heatmapgl\",\"colorbar\":{\"outlinewidth\":0,\"ticks\":\"\"},\"colorscale\":[[0.0,\"#0d0887\"],[0.1111111111111111,\"#46039f\"],[0.2222222222222222,\"#7201a8\"],[0.3333333333333333,\"#9c179e\"],[0.4444444444444444,\"#bd3786\"],[0.5555555555555556,\"#d8576b\"],[0.6666666666666666,\"#ed7953\"],[0.7777777777777778,\"#fb9f3a\"],[0.8888888888888888,\"#fdca26\"],[1.0,\"#f0f921\"]]}],\"contourcarpet\":[{\"type\":\"contourcarpet\",\"colorbar\":{\"outlinewidth\":0,\"ticks\":\"\"}}],\"contour\":[{\"type\":\"contour\",\"colorbar\":{\"outlinewidth\":0,\"ticks\":\"\"},\"colorscale\":[[0.0,\"#0d0887\"],[0.1111111111111111,\"#46039f\"],[0.2222222222222222,\"#7201a8\"],[0.3333333333333333,\"#9c179e\"],[0.4444444444444444,\"#bd3786\"],[0.5555555555555556,\"#d8576b\"],[0.6666666666666666,\"#ed7953\"],[0.7777777777777778,\"#fb9f3a\"],[0.8888888888888888,\"#fdca26\"],[1.0,\"#f0f921\"]]}],\"surface\":[{\"type\":\"surface\",\"colorbar\":{\"outlinewidth\":0,\"ticks\":\"\"},\"colorscale\":[[0.0,\"#0d0887\"],[0.1111111111111111,\"#46039f\"],[0.2222222222222222,\"#7201a8\"],[0.3333333333333333,\"#9c179e\"],[0.4444444444444444,\"#bd3786\"],[0.5555555555555556,\"#d8576b\"],[0.6666666666666666,\"#ed7953\"],[0.7777777777777778,\"#fb9f3a\"],[0.8888888888888888,\"#fdca26\"],[1.0,\"#f0f921\"]]}],\"mesh3d\":[{\"type\":\"mesh3d\",\"colorbar\":{\"outlinewidth\":0,\"ticks\":\"\"}}],\"scatter\":[{\"fillpattern\":{\"fillmode\":\"overlay\",\"size\":10,\"solidity\":0.2},\"type\":\"scatter\"}],\"parcoords\":[{\"type\":\"parcoords\",\"line\":{\"colorbar\":{\"outlinewidth\":0,\"ticks\":\"\"}}}],\"scatterpolargl\":[{\"type\":\"scatterpolargl\",\"marker\":{\"colorbar\":{\"outlinewidth\":0,\"ticks\":\"\"}}}],\"bar\":[{\"error_x\":{\"color\":\"#2a3f5f\"},\"error_y\":{\"color\":\"#2a3f5f\"},\"marker\":{\"line\":{\"color\":\"#E5ECF6\",\"width\":0.5},\"pattern\":{\"fillmode\":\"overlay\",\"size\":10,\"solidity\":0.2}},\"type\":\"bar\"}],\"scattergeo\":[{\"type\":\"scattergeo\",\"marker\":{\"colorbar\":{\"outlinewidth\":0,\"ticks\":\"\"}}}],\"scatterpolar\":[{\"type\":\"scatterpolar\",\"marker\":{\"colorbar\":{\"outlinewidth\":0,\"ticks\":\"\"}}}],\"histogram\":[{\"marker\":{\"pattern\":{\"fillmode\":\"overlay\",\"size\":10,\"solidity\":0.2}},\"type\":\"histogram\"}],\"scattergl\":[{\"type\":\"scattergl\",\"marker\":{\"colorbar\":{\"outlinewidth\":0,\"ticks\":\"\"}}}],\"scatter3d\":[{\"type\":\"scatter3d\",\"line\":{\"colorbar\":{\"outlinewidth\":0,\"ticks\":\"\"}},\"marker\":{\"colorbar\":{\"outlinewidth\":0,\"ticks\":\"\"}}}],\"scattermapbox\":[{\"type\":\"scattermapbox\",\"marker\":{\"colorbar\":{\"outlinewidth\":0,\"ticks\":\"\"}}}],\"scatterternary\":[{\"type\":\"scatterternary\",\"marker\":{\"colorbar\":{\"outlinewidth\":0,\"ticks\":\"\"}}}],\"scattercarpet\":[{\"type\":\"scattercarpet\",\"marker\":{\"colorbar\":{\"outlinewidth\":0,\"ticks\":\"\"}}}],\"carpet\":[{\"aaxis\":{\"endlinecolor\":\"#2a3f5f\",\"gridcolor\":\"white\",\"linecolor\":\"white\",\"minorgridcolor\":\"white\",\"startlinecolor\":\"#2a3f5f\"},\"baxis\":{\"endlinecolor\":\"#2a3f5f\",\"gridcolor\":\"white\",\"linecolor\":\"white\",\"minorgridcolor\":\"white\",\"startlinecolor\":\"#2a3f5f\"},\"type\":\"carpet\"}],\"table\":[{\"cells\":{\"fill\":{\"color\":\"#EBF0F8\"},\"line\":{\"color\":\"white\"}},\"header\":{\"fill\":{\"color\":\"#C8D4E3\"},\"line\":{\"color\":\"white\"}},\"type\":\"table\"}],\"barpolar\":[{\"marker\":{\"line\":{\"color\":\"#E5ECF6\",\"width\":0.5},\"pattern\":{\"fillmode\":\"overlay\",\"size\":10,\"solidity\":0.2}},\"type\":\"barpolar\"}],\"pie\":[{\"automargin\":true,\"type\":\"pie\"}]},\"layout\":{\"autotypenumbers\":\"strict\",\"colorway\":[\"#636efa\",\"#EF553B\",\"#00cc96\",\"#ab63fa\",\"#FFA15A\",\"#19d3f3\",\"#FF6692\",\"#B6E880\",\"#FF97FF\",\"#FECB52\"],\"font\":{\"color\":\"#2a3f5f\"},\"hovermode\":\"closest\",\"hoverlabel\":{\"align\":\"left\"},\"paper_bgcolor\":\"white\",\"plot_bgcolor\":\"#E5ECF6\",\"polar\":{\"bgcolor\":\"#E5ECF6\",\"angularaxis\":{\"gridcolor\":\"white\",\"linecolor\":\"white\",\"ticks\":\"\"},\"radialaxis\":{\"gridcolor\":\"white\",\"linecolor\":\"white\",\"ticks\":\"\"}},\"ternary\":{\"bgcolor\":\"#E5ECF6\",\"aaxis\":{\"gridcolor\":\"white\",\"linecolor\":\"white\",\"ticks\":\"\"},\"baxis\":{\"gridcolor\":\"white\",\"linecolor\":\"white\",\"ticks\":\"\"},\"caxis\":{\"gridcolor\":\"white\",\"linecolor\":\"white\",\"ticks\":\"\"}},\"coloraxis\":{\"colorbar\":{\"outlinewidth\":0,\"ticks\":\"\"}},\"colorscale\":{\"sequential\":[[0.0,\"#0d0887\"],[0.1111111111111111,\"#46039f\"],[0.2222222222222222,\"#7201a8\"],[0.3333333333333333,\"#9c179e\"],[0.4444444444444444,\"#bd3786\"],[0.5555555555555556,\"#d8576b\"],[0.6666666666666666,\"#ed7953\"],[0.7777777777777778,\"#fb9f3a\"],[0.8888888888888888,\"#fdca26\"],[1.0,\"#f0f921\"]],\"sequentialminus\":[[0.0,\"#0d0887\"],[0.1111111111111111,\"#46039f\"],[0.2222222222222222,\"#7201a8\"],[0.3333333333333333,\"#9c179e\"],[0.4444444444444444,\"#bd3786\"],[0.5555555555555556,\"#d8576b\"],[0.6666666666666666,\"#ed7953\"],[0.7777777777777778,\"#fb9f3a\"],[0.8888888888888888,\"#fdca26\"],[1.0,\"#f0f921\"]],\"diverging\":[[0,\"#8e0152\"],[0.1,\"#c51b7d\"],[0.2,\"#de77ae\"],[0.3,\"#f1b6da\"],[0.4,\"#fde0ef\"],[0.5,\"#f7f7f7\"],[0.6,\"#e6f5d0\"],[0.7,\"#b8e186\"],[0.8,\"#7fbc41\"],[0.9,\"#4d9221\"],[1,\"#276419\"]]},\"xaxis\":{\"gridcolor\":\"white\",\"linecolor\":\"white\",\"ticks\":\"\",\"title\":{\"standoff\":15},\"zerolinecolor\":\"white\",\"automargin\":true,\"zerolinewidth\":2},\"yaxis\":{\"gridcolor\":\"white\",\"linecolor\":\"white\",\"ticks\":\"\",\"title\":{\"standoff\":15},\"zerolinecolor\":\"white\",\"automargin\":true,\"zerolinewidth\":2},\"scene\":{\"xaxis\":{\"backgroundcolor\":\"#E5ECF6\",\"gridcolor\":\"white\",\"linecolor\":\"white\",\"showbackground\":true,\"ticks\":\"\",\"zerolinecolor\":\"white\",\"gridwidth\":2},\"yaxis\":{\"backgroundcolor\":\"#E5ECF6\",\"gridcolor\":\"white\",\"linecolor\":\"white\",\"showbackground\":true,\"ticks\":\"\",\"zerolinecolor\":\"white\",\"gridwidth\":2},\"zaxis\":{\"backgroundcolor\":\"#E5ECF6\",\"gridcolor\":\"white\",\"linecolor\":\"white\",\"showbackground\":true,\"ticks\":\"\",\"zerolinecolor\":\"white\",\"gridwidth\":2}},\"shapedefaults\":{\"line\":{\"color\":\"#2a3f5f\"}},\"annotationdefaults\":{\"arrowcolor\":\"#2a3f5f\",\"arrowhead\":0,\"arrowwidth\":1},\"geo\":{\"bgcolor\":\"white\",\"landcolor\":\"#E5ECF6\",\"subunitcolor\":\"white\",\"showland\":true,\"showlakes\":true,\"lakecolor\":\"white\"},\"title\":{\"x\":0.05},\"mapbox\":{\"style\":\"light\"}}},\"xaxis\":{\"anchor\":\"y\",\"domain\":[0.0,0.2888888888888889],\"title\":{\"text\":\"l2_penalty\"},\"type\":\"log\"},\"yaxis\":{\"anchor\":\"x\",\"domain\":[0.0,1.0],\"title\":{\"text\":\"Accuracy\"}},\"xaxis2\":{\"anchor\":\"y2\",\"domain\":[0.35555555555555557,0.6444444444444445],\"title\":{\"text\":\"lr\"},\"type\":\"log\"},\"yaxis2\":{\"anchor\":\"x2\",\"domain\":[0.0,1.0],\"matches\":\"y\",\"showticklabels\":false},\"xaxis3\":{\"anchor\":\"y3\",\"domain\":[0.7111111111111111,1.0],\"title\":{\"text\":\"n_epochs\"}},\"yaxis3\":{\"anchor\":\"x3\",\"domain\":[0.0,1.0],\"matches\":\"y\",\"showticklabels\":false},\"title\":{\"text\":\"Slice Plot\"}},                        {\"responsive\": true}                    ).then(function(){\n",
       "                            \n",
       "var gd = document.getElementById('a369e999-d480-40b9-b1ae-93e40f9b5f2b');\n",
       "var x = new MutationObserver(function (mutations, observer) {{\n",
       "        var display = window.getComputedStyle(gd).display;\n",
       "        if (!display || display === 'none') {{\n",
       "            console.log([gd, 'removed!']);\n",
       "            Plotly.purge(gd);\n",
       "            observer.disconnect();\n",
       "        }}\n",
       "}});\n",
       "\n",
       "// Listen for the removal of the full notebook cells\n",
       "var notebookContainer = gd.closest('#notebook-container');\n",
       "if (notebookContainer) {{\n",
       "    x.observe(notebookContainer, {childList: true});\n",
       "}}\n",
       "\n",
       "// Listen for the clearing of the current output cell\n",
       "var outputEl = gd.closest('.output');\n",
       "if (outputEl) {{\n",
       "    x.observe(outputEl, {childList: true});\n",
       "}}\n",
       "\n",
       "                        })                };                            </script>        </div>\n",
       "</body>\n",
       "</html>"
      ]
     },
     "metadata": {},
     "output_type": "display_data"
    }
   ],
   "source": [
    "vis.plot_slice(\n",
    "    study,\n",
    "    target=lambda t: t.values[0],\n",
    "    target_name=\"Accuracy\"\n",
    ")"
   ]
  },
  {
   "cell_type": "code",
   "execution_count": 68,
   "metadata": {
    "colab": {
     "base_uri": "https://localhost:8080/",
     "height": 542
    },
    "id": "kcEkwOUKA0Gw",
    "outputId": "21583da0-3198-4bfe-a1de-393ec78f784b"
   },
   "outputs": [
    {
     "data": {
      "text/html": [
       "<html>\n",
       "<head><meta charset=\"utf-8\" /></head>\n",
       "<body>\n",
       "    <div>            <script src=\"https://cdnjs.cloudflare.com/ajax/libs/mathjax/2.7.5/MathJax.js?config=TeX-AMS-MML_SVG\"></script><script type=\"text/javascript\">if (window.MathJax && window.MathJax.Hub && window.MathJax.Hub.Config) {window.MathJax.Hub.Config({SVG: {font: \"STIX-Web\"}});}</script>                <script type=\"text/javascript\">window.PlotlyConfig = {MathJaxConfig: 'local'};</script>\n",
       "        <script charset=\"utf-8\" src=\"https://cdn.plot.ly/plotly-2.35.2.min.js\"></script>                <div id=\"63d11b54-f872-4d17-80b1-e5386b281b4c\" class=\"plotly-graph-div\" style=\"height:525px; width:100%;\"></div>            <script type=\"text/javascript\">                                    window.PLOTLYENV=window.PLOTLYENV || {};                                    if (document.getElementById(\"63d11b54-f872-4d17-80b1-e5386b281b4c\")) {                    Plotly.newPlot(                        \"63d11b54-f872-4d17-80b1-e5386b281b4c\",                        [{\"cliponaxis\":false,\"hovertemplate\":[\"lr (FloatDistribution): 0.14707400315665392\\u003cextra\\u003e\\u003c\\u002fextra\\u003e\",\"n_epochs (IntDistribution): 0.349253531773045\\u003cextra\\u003e\\u003c\\u002fextra\\u003e\",\"l2_penalty (FloatDistribution): 0.503672465070301\\u003cextra\\u003e\\u003c\\u002fextra\\u003e\"],\"name\":\"Accuracy\",\"orientation\":\"h\",\"text\":[\"0.15\",\"0.35\",\"0.50\"],\"textposition\":\"outside\",\"x\":[0.14707400315665392,0.349253531773045,0.503672465070301],\"y\":[\"lr\",\"n_epochs\",\"l2_penalty\"],\"type\":\"bar\"}],                        {\"title\":{\"text\":\"Hyperparameter Importances\"},\"xaxis\":{\"title\":{\"text\":\"Hyperparameter Importance\"}},\"yaxis\":{\"title\":{\"text\":\"Hyperparameter\"}},\"template\":{\"data\":{\"histogram2dcontour\":[{\"type\":\"histogram2dcontour\",\"colorbar\":{\"outlinewidth\":0,\"ticks\":\"\"},\"colorscale\":[[0.0,\"#0d0887\"],[0.1111111111111111,\"#46039f\"],[0.2222222222222222,\"#7201a8\"],[0.3333333333333333,\"#9c179e\"],[0.4444444444444444,\"#bd3786\"],[0.5555555555555556,\"#d8576b\"],[0.6666666666666666,\"#ed7953\"],[0.7777777777777778,\"#fb9f3a\"],[0.8888888888888888,\"#fdca26\"],[1.0,\"#f0f921\"]]}],\"choropleth\":[{\"type\":\"choropleth\",\"colorbar\":{\"outlinewidth\":0,\"ticks\":\"\"}}],\"histogram2d\":[{\"type\":\"histogram2d\",\"colorbar\":{\"outlinewidth\":0,\"ticks\":\"\"},\"colorscale\":[[0.0,\"#0d0887\"],[0.1111111111111111,\"#46039f\"],[0.2222222222222222,\"#7201a8\"],[0.3333333333333333,\"#9c179e\"],[0.4444444444444444,\"#bd3786\"],[0.5555555555555556,\"#d8576b\"],[0.6666666666666666,\"#ed7953\"],[0.7777777777777778,\"#fb9f3a\"],[0.8888888888888888,\"#fdca26\"],[1.0,\"#f0f921\"]]}],\"heatmap\":[{\"type\":\"heatmap\",\"colorbar\":{\"outlinewidth\":0,\"ticks\":\"\"},\"colorscale\":[[0.0,\"#0d0887\"],[0.1111111111111111,\"#46039f\"],[0.2222222222222222,\"#7201a8\"],[0.3333333333333333,\"#9c179e\"],[0.4444444444444444,\"#bd3786\"],[0.5555555555555556,\"#d8576b\"],[0.6666666666666666,\"#ed7953\"],[0.7777777777777778,\"#fb9f3a\"],[0.8888888888888888,\"#fdca26\"],[1.0,\"#f0f921\"]]}],\"heatmapgl\":[{\"type\":\"heatmapgl\",\"colorbar\":{\"outlinewidth\":0,\"ticks\":\"\"},\"colorscale\":[[0.0,\"#0d0887\"],[0.1111111111111111,\"#46039f\"],[0.2222222222222222,\"#7201a8\"],[0.3333333333333333,\"#9c179e\"],[0.4444444444444444,\"#bd3786\"],[0.5555555555555556,\"#d8576b\"],[0.6666666666666666,\"#ed7953\"],[0.7777777777777778,\"#fb9f3a\"],[0.8888888888888888,\"#fdca26\"],[1.0,\"#f0f921\"]]}],\"contourcarpet\":[{\"type\":\"contourcarpet\",\"colorbar\":{\"outlinewidth\":0,\"ticks\":\"\"}}],\"contour\":[{\"type\":\"contour\",\"colorbar\":{\"outlinewidth\":0,\"ticks\":\"\"},\"colorscale\":[[0.0,\"#0d0887\"],[0.1111111111111111,\"#46039f\"],[0.2222222222222222,\"#7201a8\"],[0.3333333333333333,\"#9c179e\"],[0.4444444444444444,\"#bd3786\"],[0.5555555555555556,\"#d8576b\"],[0.6666666666666666,\"#ed7953\"],[0.7777777777777778,\"#fb9f3a\"],[0.8888888888888888,\"#fdca26\"],[1.0,\"#f0f921\"]]}],\"surface\":[{\"type\":\"surface\",\"colorbar\":{\"outlinewidth\":0,\"ticks\":\"\"},\"colorscale\":[[0.0,\"#0d0887\"],[0.1111111111111111,\"#46039f\"],[0.2222222222222222,\"#7201a8\"],[0.3333333333333333,\"#9c179e\"],[0.4444444444444444,\"#bd3786\"],[0.5555555555555556,\"#d8576b\"],[0.6666666666666666,\"#ed7953\"],[0.7777777777777778,\"#fb9f3a\"],[0.8888888888888888,\"#fdca26\"],[1.0,\"#f0f921\"]]}],\"mesh3d\":[{\"type\":\"mesh3d\",\"colorbar\":{\"outlinewidth\":0,\"ticks\":\"\"}}],\"scatter\":[{\"fillpattern\":{\"fillmode\":\"overlay\",\"size\":10,\"solidity\":0.2},\"type\":\"scatter\"}],\"parcoords\":[{\"type\":\"parcoords\",\"line\":{\"colorbar\":{\"outlinewidth\":0,\"ticks\":\"\"}}}],\"scatterpolargl\":[{\"type\":\"scatterpolargl\",\"marker\":{\"colorbar\":{\"outlinewidth\":0,\"ticks\":\"\"}}}],\"bar\":[{\"error_x\":{\"color\":\"#2a3f5f\"},\"error_y\":{\"color\":\"#2a3f5f\"},\"marker\":{\"line\":{\"color\":\"#E5ECF6\",\"width\":0.5},\"pattern\":{\"fillmode\":\"overlay\",\"size\":10,\"solidity\":0.2}},\"type\":\"bar\"}],\"scattergeo\":[{\"type\":\"scattergeo\",\"marker\":{\"colorbar\":{\"outlinewidth\":0,\"ticks\":\"\"}}}],\"scatterpolar\":[{\"type\":\"scatterpolar\",\"marker\":{\"colorbar\":{\"outlinewidth\":0,\"ticks\":\"\"}}}],\"histogram\":[{\"marker\":{\"pattern\":{\"fillmode\":\"overlay\",\"size\":10,\"solidity\":0.2}},\"type\":\"histogram\"}],\"scattergl\":[{\"type\":\"scattergl\",\"marker\":{\"colorbar\":{\"outlinewidth\":0,\"ticks\":\"\"}}}],\"scatter3d\":[{\"type\":\"scatter3d\",\"line\":{\"colorbar\":{\"outlinewidth\":0,\"ticks\":\"\"}},\"marker\":{\"colorbar\":{\"outlinewidth\":0,\"ticks\":\"\"}}}],\"scattermapbox\":[{\"type\":\"scattermapbox\",\"marker\":{\"colorbar\":{\"outlinewidth\":0,\"ticks\":\"\"}}}],\"scatterternary\":[{\"type\":\"scatterternary\",\"marker\":{\"colorbar\":{\"outlinewidth\":0,\"ticks\":\"\"}}}],\"scattercarpet\":[{\"type\":\"scattercarpet\",\"marker\":{\"colorbar\":{\"outlinewidth\":0,\"ticks\":\"\"}}}],\"carpet\":[{\"aaxis\":{\"endlinecolor\":\"#2a3f5f\",\"gridcolor\":\"white\",\"linecolor\":\"white\",\"minorgridcolor\":\"white\",\"startlinecolor\":\"#2a3f5f\"},\"baxis\":{\"endlinecolor\":\"#2a3f5f\",\"gridcolor\":\"white\",\"linecolor\":\"white\",\"minorgridcolor\":\"white\",\"startlinecolor\":\"#2a3f5f\"},\"type\":\"carpet\"}],\"table\":[{\"cells\":{\"fill\":{\"color\":\"#EBF0F8\"},\"line\":{\"color\":\"white\"}},\"header\":{\"fill\":{\"color\":\"#C8D4E3\"},\"line\":{\"color\":\"white\"}},\"type\":\"table\"}],\"barpolar\":[{\"marker\":{\"line\":{\"color\":\"#E5ECF6\",\"width\":0.5},\"pattern\":{\"fillmode\":\"overlay\",\"size\":10,\"solidity\":0.2}},\"type\":\"barpolar\"}],\"pie\":[{\"automargin\":true,\"type\":\"pie\"}]},\"layout\":{\"autotypenumbers\":\"strict\",\"colorway\":[\"#636efa\",\"#EF553B\",\"#00cc96\",\"#ab63fa\",\"#FFA15A\",\"#19d3f3\",\"#FF6692\",\"#B6E880\",\"#FF97FF\",\"#FECB52\"],\"font\":{\"color\":\"#2a3f5f\"},\"hovermode\":\"closest\",\"hoverlabel\":{\"align\":\"left\"},\"paper_bgcolor\":\"white\",\"plot_bgcolor\":\"#E5ECF6\",\"polar\":{\"bgcolor\":\"#E5ECF6\",\"angularaxis\":{\"gridcolor\":\"white\",\"linecolor\":\"white\",\"ticks\":\"\"},\"radialaxis\":{\"gridcolor\":\"white\",\"linecolor\":\"white\",\"ticks\":\"\"}},\"ternary\":{\"bgcolor\":\"#E5ECF6\",\"aaxis\":{\"gridcolor\":\"white\",\"linecolor\":\"white\",\"ticks\":\"\"},\"baxis\":{\"gridcolor\":\"white\",\"linecolor\":\"white\",\"ticks\":\"\"},\"caxis\":{\"gridcolor\":\"white\",\"linecolor\":\"white\",\"ticks\":\"\"}},\"coloraxis\":{\"colorbar\":{\"outlinewidth\":0,\"ticks\":\"\"}},\"colorscale\":{\"sequential\":[[0.0,\"#0d0887\"],[0.1111111111111111,\"#46039f\"],[0.2222222222222222,\"#7201a8\"],[0.3333333333333333,\"#9c179e\"],[0.4444444444444444,\"#bd3786\"],[0.5555555555555556,\"#d8576b\"],[0.6666666666666666,\"#ed7953\"],[0.7777777777777778,\"#fb9f3a\"],[0.8888888888888888,\"#fdca26\"],[1.0,\"#f0f921\"]],\"sequentialminus\":[[0.0,\"#0d0887\"],[0.1111111111111111,\"#46039f\"],[0.2222222222222222,\"#7201a8\"],[0.3333333333333333,\"#9c179e\"],[0.4444444444444444,\"#bd3786\"],[0.5555555555555556,\"#d8576b\"],[0.6666666666666666,\"#ed7953\"],[0.7777777777777778,\"#fb9f3a\"],[0.8888888888888888,\"#fdca26\"],[1.0,\"#f0f921\"]],\"diverging\":[[0,\"#8e0152\"],[0.1,\"#c51b7d\"],[0.2,\"#de77ae\"],[0.3,\"#f1b6da\"],[0.4,\"#fde0ef\"],[0.5,\"#f7f7f7\"],[0.6,\"#e6f5d0\"],[0.7,\"#b8e186\"],[0.8,\"#7fbc41\"],[0.9,\"#4d9221\"],[1,\"#276419\"]]},\"xaxis\":{\"gridcolor\":\"white\",\"linecolor\":\"white\",\"ticks\":\"\",\"title\":{\"standoff\":15},\"zerolinecolor\":\"white\",\"automargin\":true,\"zerolinewidth\":2},\"yaxis\":{\"gridcolor\":\"white\",\"linecolor\":\"white\",\"ticks\":\"\",\"title\":{\"standoff\":15},\"zerolinecolor\":\"white\",\"automargin\":true,\"zerolinewidth\":2},\"scene\":{\"xaxis\":{\"backgroundcolor\":\"#E5ECF6\",\"gridcolor\":\"white\",\"linecolor\":\"white\",\"showbackground\":true,\"ticks\":\"\",\"zerolinecolor\":\"white\",\"gridwidth\":2},\"yaxis\":{\"backgroundcolor\":\"#E5ECF6\",\"gridcolor\":\"white\",\"linecolor\":\"white\",\"showbackground\":true,\"ticks\":\"\",\"zerolinecolor\":\"white\",\"gridwidth\":2},\"zaxis\":{\"backgroundcolor\":\"#E5ECF6\",\"gridcolor\":\"white\",\"linecolor\":\"white\",\"showbackground\":true,\"ticks\":\"\",\"zerolinecolor\":\"white\",\"gridwidth\":2}},\"shapedefaults\":{\"line\":{\"color\":\"#2a3f5f\"}},\"annotationdefaults\":{\"arrowcolor\":\"#2a3f5f\",\"arrowhead\":0,\"arrowwidth\":1},\"geo\":{\"bgcolor\":\"white\",\"landcolor\":\"#E5ECF6\",\"subunitcolor\":\"white\",\"showland\":true,\"showlakes\":true,\"lakecolor\":\"white\"},\"title\":{\"x\":0.05},\"mapbox\":{\"style\":\"light\"}}}},                        {\"responsive\": true}                    ).then(function(){\n",
       "                            \n",
       "var gd = document.getElementById('63d11b54-f872-4d17-80b1-e5386b281b4c');\n",
       "var x = new MutationObserver(function (mutations, observer) {{\n",
       "        var display = window.getComputedStyle(gd).display;\n",
       "        if (!display || display === 'none') {{\n",
       "            console.log([gd, 'removed!']);\n",
       "            Plotly.purge(gd);\n",
       "            observer.disconnect();\n",
       "        }}\n",
       "}});\n",
       "\n",
       "// Listen for the removal of the full notebook cells\n",
       "var notebookContainer = gd.closest('#notebook-container');\n",
       "if (notebookContainer) {{\n",
       "    x.observe(notebookContainer, {childList: true});\n",
       "}}\n",
       "\n",
       "// Listen for the clearing of the current output cell\n",
       "var outputEl = gd.closest('.output');\n",
       "if (outputEl) {{\n",
       "    x.observe(outputEl, {childList: true});\n",
       "}}\n",
       "\n",
       "                        })                };                            </script>        </div>\n",
       "</body>\n",
       "</html>"
      ]
     },
     "metadata": {},
     "output_type": "display_data"
    }
   ],
   "source": [
    "vis.plot_param_importances(\n",
    "    study,\n",
    "    target=lambda t: t.values[0],\n",
    "    target_name=\"Accuracy\"\n",
    ")"
   ]
  },
  {
   "cell_type": "code",
   "execution_count": 15,
   "metadata": {
    "colab": {
     "base_uri": "https://localhost:8080/"
    },
    "id": "6PaNxDomPoAs",
    "outputId": "4ac5ca7a-d7b3-4848-b6e7-5f3a185541ce",
    "scrolled": true
   },
   "outputs": [
    {
     "data": {
      "text/plain": [
       "[FrozenTrial(number=5, state=1, values=[0.69, 1.0, 0.3673469387755102, 1.6563652157783508], datetime_start=datetime.datetime(2025, 4, 5, 3, 45, 11, 441808), datetime_complete=datetime.datetime(2025, 4, 5, 3, 46, 18, 255138), params={'lr': 5.415244119402538e-05, 'n_epochs': 7, 'l2_penalty': 0.0004205156450913873}, user_attrs={}, system_attrs={}, intermediate_values={}, distributions={'lr': FloatDistribution(high=0.1, log=True, low=1e-05, step=None), 'n_epochs': IntDistribution(high=20, log=False, low=1, step=1), 'l2_penalty': FloatDistribution(high=0.1, log=True, low=1e-06, step=None)}, trial_id=5, value=None),\n",
       " FrozenTrial(number=8, state=1, values=[0.83, 0.75, 0.9795918367346939, 1.2331213355064392], datetime_start=datetime.datetime(2025, 4, 5, 3, 48, 14, 140739), datetime_complete=datetime.datetime(2025, 4, 5, 3, 50, 44, 96088), params={'lr': 0.0006672367170464204, 'n_epochs': 16, 'l2_penalty': 9.962513222055122e-06}, user_attrs={}, system_attrs={}, intermediate_values={}, distributions={'lr': FloatDistribution(high=0.1, log=True, low=1e-05, step=None), 'n_epochs': IntDistribution(high=20, log=False, low=1, step=1), 'l2_penalty': FloatDistribution(high=0.1, log=True, low=1e-06, step=None)}, trial_id=8, value=None),\n",
       " FrozenTrial(number=17, state=1, values=[0.73, 1.0, 0.4489795918367347, 1.9002684950828552], datetime_start=datetime.datetime(2025, 4, 5, 4, 7, 28, 238570), datetime_complete=datetime.datetime(2025, 4, 5, 4, 8, 43, 596461), params={'lr': 9.188227716652768e-05, 'n_epochs': 8, 'l2_penalty': 2.3573543348960418e-05}, user_attrs={}, system_attrs={}, intermediate_values={}, distributions={'lr': FloatDistribution(high=0.1, log=True, low=1e-05, step=None), 'n_epochs': IntDistribution(high=20, log=False, low=1, step=1), 'l2_penalty': FloatDistribution(high=0.1, log=True, low=1e-06, step=None)}, trial_id=17, value=None),\n",
       " FrozenTrial(number=18, state=1, values=[0.76, 0.676056338028169, 0.9795918367346939, 0.970459520816803], datetime_start=datetime.datetime(2025, 4, 5, 4, 8, 43, 597354), datetime_complete=datetime.datetime(2025, 4, 5, 4, 10, 10, 378886), params={'lr': 0.0032401997265097586, 'n_epochs': 9, 'l2_penalty': 0.0002549426318384637}, user_attrs={}, system_attrs={}, intermediate_values={}, distributions={'lr': FloatDistribution(high=0.1, log=True, low=1e-05, step=None), 'n_epochs': IntDistribution(high=20, log=False, low=1, step=1), 'l2_penalty': FloatDistribution(high=0.1, log=True, low=1e-06, step=None)}, trial_id=18, value=None),\n",
       " FrozenTrial(number=19, state=1, values=[0.97, 0.9791666666666666, 0.9591836734693877, 0.3444816321134567], datetime_start=datetime.datetime(2025, 4, 5, 4, 10, 10, 379697), datetime_complete=datetime.datetime(2025, 4, 5, 4, 13, 12, 486500), params={'lr': 0.00023506997063237137, 'n_epochs': 20, 'l2_penalty': 0.00019174179258583216}, user_attrs={}, system_attrs={}, intermediate_values={}, distributions={'lr': FloatDistribution(high=0.1, log=True, low=1e-05, step=None), 'n_epochs': IntDistribution(high=20, log=False, low=1, step=1), 'l2_penalty': FloatDistribution(high=0.1, log=True, low=1e-06, step=None)}, trial_id=19, value=None),\n",
       " FrozenTrial(number=23, state=1, values=[0.49, 0.49, 1.0, 1.49650239944458], datetime_start=datetime.datetime(2025, 4, 5, 4, 21, 32, 451569), datetime_complete=datetime.datetime(2025, 4, 5, 4, 24, 31, 768007), params={'lr': 0.008961761225226234, 'n_epochs': 20, 'l2_penalty': 0.0018035976269145638}, user_attrs={}, system_attrs={}, intermediate_values={}, distributions={'lr': FloatDistribution(high=0.1, log=True, low=1e-05, step=None), 'n_epochs': IntDistribution(high=20, log=False, low=1, step=1), 'l2_penalty': FloatDistribution(high=0.1, log=True, low=1e-06, step=None)}, trial_id=23, value=None),\n",
       " FrozenTrial(number=24, state=1, values=[0.94, 0.9387755102040817, 0.9387755102040817, 0.3071018010377884], datetime_start=datetime.datetime(2025, 4, 5, 4, 24, 31, 768798), datetime_complete=datetime.datetime(2025, 4, 5, 4, 27, 8, 45683), params={'lr': 0.0004579588598371664, 'n_epochs': 18, 'l2_penalty': 0.0004963974850213711}, user_attrs={}, system_attrs={}, intermediate_values={}, distributions={'lr': FloatDistribution(high=0.1, log=True, low=1e-05, step=None), 'n_epochs': IntDistribution(high=20, log=False, low=1, step=1), 'l2_penalty': FloatDistribution(high=0.1, log=True, low=1e-06, step=None)}, trial_id=24, value=None),\n",
       " FrozenTrial(number=28, state=1, values=[0.86, 0.7777777777777778, 1.0, 1.9924902319908142], datetime_start=datetime.datetime(2025, 4, 5, 4, 32, 29, 286843), datetime_complete=datetime.datetime(2025, 4, 5, 4, 34, 34, 321841), params={'lr': 0.00028957563604978714, 'n_epochs': 14, 'l2_penalty': 1.8691400204225714e-05}, user_attrs={}, system_attrs={}, intermediate_values={}, distributions={'lr': FloatDistribution(high=0.1, log=True, low=1e-05, step=None), 'n_epochs': IntDistribution(high=20, log=False, low=1, step=1), 'l2_penalty': FloatDistribution(high=0.1, log=True, low=1e-06, step=None)}, trial_id=28, value=None)]"
      ]
     },
     "execution_count": 15,
     "metadata": {},
     "output_type": "execute_result"
    }
   ],
   "source": [
    "study.best_trials"
   ]
  },
  {
   "cell_type": "code",
   "execution_count": 22,
   "metadata": {
    "colab": {
     "base_uri": "https://localhost:8080/"
    },
    "id": "M56nBcz_P-NA",
    "outputId": "8aa11116-ae0e-45c0-cf35-cd4f06be4fec"
   },
   "outputs": [
    {
     "data": {
      "text/plain": [
       "{'lr': 0.00023506997063237137,\n",
       " 'n_epochs': 20,\n",
       " 'l2_penalty': 0.00019174179258583216}"
      ]
     },
     "execution_count": 22,
     "metadata": {},
     "output_type": "execute_result"
    }
   ],
   "source": [
    "best_params = study.trials[19].params\n",
    "best_params"
   ]
  },
  {
   "cell_type": "code",
   "execution_count": 17,
   "metadata": {
    "colab": {
     "base_uri": "https://localhost:8080/"
    },
    "id": "GPHJjrm1QFUT",
    "outputId": "14508605-7cc8-45e7-8fcb-d7ae52f85de3"
   },
   "outputs": [
    {
     "data": {
      "text/plain": [
       "[0.97, 0.9791666666666666, 0.9591836734693877, 0.3444816321134567]"
      ]
     },
     "execution_count": 17,
     "metadata": {},
     "output_type": "execute_result"
    }
   ],
   "source": [
    "study.trials[19].values"
   ]
  },
  {
   "cell_type": "code",
   "execution_count": 23,
   "metadata": {
    "colab": {
     "base_uri": "https://localhost:8080/"
    },
    "id": "9UiJ5YZBQwYm",
    "outputId": "cc673081-d982-44f2-9f13-4b5811389191"
   },
   "outputs": [
    {
     "name": "stderr",
     "output_type": "stream",
     "text": [
      "Training: 100%|████████████████████████████████████████████████████████████████████████████████████████| 140/140 [02:54<00:00,  1.24s/it, loss=0.0006]\n"
     ]
    }
   ],
   "source": [
    "clfy = BinaryImageClassifier(lr=best_params[\"lr\"], l2_penalty=best_params[\"l2_penalty\"], pretrained=False)\n",
    "\n",
    "clfy.train_loader = clfy.load_data(\"./train\", 0, 400)\n",
    "clfy.test_loader = clfy.load_data(\"./train\", 400, 500)\n",
    "\n",
    "clfy.fit(best_params[\"n_epochs\"])"
   ]
  },
  {
   "cell_type": "code",
   "execution_count": 25,
   "metadata": {
    "colab": {
     "base_uri": "https://localhost:8080/",
     "height": 515
    },
    "id": "AbOru3MARwjR",
    "outputId": "dbfefb45-881d-4077-c7f5-e3b513bcfeb2"
   },
   "outputs": [
    {
     "data": {
      "image/png": "[encoded data removed]",
      "text/plain": [
       "<Figure size 1300x500 with 2 Axes>"
      ]
     },
     "metadata": {},
     "output_type": "display_data"
    }
   ],
   "source": [
    "clfy.plot_train(10);"
   ]
  },
  {
   "cell_type": "code",
   "execution_count": 26,
   "metadata": {
    "colab": {
     "base_uri": "https://localhost:8080/"
    },
    "id": "b0fLJbIDR278",
    "outputId": "aaa34f2a-97c7-4676-f12f-dc08733b95ad"
   },
   "outputs": [
    {
     "name": "stderr",
     "output_type": "stream",
     "text": [
      "Testing: 100%|██████████████████████████████████████████████████████████████████████████████████████████████████████████| 2/2 [00:01<00:00,  1.28it/s]\n"
     ]
    },
    {
     "data": {
      "text/plain": [
       "(0.3444816321134567,\n",
       " {'accuracy': 0.97,\n",
       "  'precision': 0.9791666666666666,\n",
       "  'recall': 0.9591836734693877})"
      ]
     },
     "execution_count": 26,
     "metadata": {},
     "output_type": "execute_result"
    }
   ],
   "source": [
    "out = clfy.predict()\n",
    "out[\"loss\"], out[\"metrics\"]"
   ]
  },
  {
   "cell_type": "code",
   "execution_count": 66,
   "metadata": {
    "id": "saGp_McLcqIa"
   },
   "outputs": [],
   "source": [
    "torch.save(clfy.model.state_dict(), 'resnet34_auto400.pth')"
   ]
  },
  {
   "cell_type": "markdown",
   "metadata": {
    "id": "kJsX7lFvA0Gx"
   },
   "source": [
    "## Conclusion\n",
    "\n",
    "| | Parameters | Accuracy | Precision | Recall | Loss |\n",
    "| --- | --- | --- | --- | --- | --- |\n",
    "| Manual | `lr=1.000e-4, n_epochs=16, l2_penalty=0.000` | 0.9300 | 0.9375 | 0.9184 | 0.4191 |\n",
    "| Optuna | `lr=2.351e-4, n_epochs=20, l2_penalty=1.917e-4` | 0.9700 | 0.9792 | 0.9592 | 0.3445 |\n",
    "\n",
    "(Correct to 4 sig. fig.)\n",
    "\n",
    "The results demonstrate that the Optuna-optimized model outperformed the manually tuned counterpart across all evaluation metrics, achieving higher accuracy, precision, and recall, while also reducing the loss.\n",
    "\n",
    "This highlights the effectiveness of automated hyperparameter optimization in improving model performance and reducing the need for extensive manual experimentation. Also, the manual approach of \"tuning one parameter at a time\" may be suboptimal, as hyperparameters often interact in non-orthogonal ways: changes in one can influence the optimal values of others."
   ]
  }
 ],
 "metadata": {
  "accelerator": "GPU",
  "colab": {
   "gpuType": "T4",
   "provenance": []
  },
  "kernelspec": {
   "display_name": "Python 3 (ipykernel)",
   "language": "python",
   "name": "python3"
  },
  "language_info": {
   "codemirror_mode": {
    "name": "ipython",
    "version": 3
   },
   "file_extension": ".py",
   "mimetype": "text/x-python",
   "name": "python",
   "nbconvert_exporter": "python",
   "pygments_lexer": "ipython3",
   "version": "3.12.6"
  }
 },
 "nbformat": 4,
 "nbformat_minor": 4
}
