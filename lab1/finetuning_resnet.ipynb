{
 "cells": [
  {
   "cell_type": "markdown",
   "metadata": {
    "id": "VXl00aZubLMf"
   },
   "source": [
    "# Finetune a ResNet image classifier"
   ]
  },
  {
   "cell_type": "markdown",
   "metadata": {
    "id": "Gn22JMoGayOk"
   },
   "source": [
    "## Load data"
   ]
  },
  {
   "cell_type": "code",
   "execution_count": null,
   "metadata": {
    "colab": {
     "base_uri": "https://localhost:8080/"
    },
    "id": "5xcf-9pgP8pg",
    "outputId": "4287a4ae-9c0e-4d68-ad9a-185a91e3ae2b"
   },
   "outputs": [],
   "source": [
    "!curl -L https://storage.googleapis.com/aiolympiadmy/ioai-2025-tsp/finetuning-resnet.zip -o data.zip"
   ]
  },
  {
   "cell_type": "code",
   "execution_count": null,
   "metadata": {
    "colab": {
     "base_uri": "https://localhost:8080/"
    },
    "id": "IBYc9RhUZbrR",
    "outputId": "fe80172f-cc45-4cb8-a628-a314594f50bf",
    "scrolled": true
   },
   "outputs": [],
   "source": [
    "!unzip data.zip"
   ]
  },
  {
   "cell_type": "markdown",
   "metadata": {
    "id": "Jjsph6Tra4AI"
   },
   "source": [
    "## Establishing a baseline"
   ]
  },
  {
   "cell_type": "markdown",
   "metadata": {
    "id": "WeAerazMbayy"
   },
   "source": [
    "Load an ImageNet pre-trained ResNet34, and check it's performance on the images in `data/test`.  \n",
    "\n",
    "Use accuracy, precision and recall as your metrics for performance."
   ]
  },
  {
   "cell_type": "code",
   "execution_count": null,
   "metadata": {
    "id": "TWUoB_arbtLd"
   },
   "outputs": [],
   "source": [
    "# YOUR CODE BELOW"
   ]
  },
  {
   "cell_type": "markdown",
   "metadata": {
    "id": "adTKj90CbweH"
   },
   "source": [
    "## Finetuning"
   ]
  },
  {
   "cell_type": "markdown",
   "metadata": {
    "id": "adoCB3lAbzg5"
   },
   "source": [
    "Finetune this ResNet using data in `data/train`. Use `data/test` as your testing set, and use cross entropy loss. The rest is up to you. Run finetuning that terminates within approx 10 mins. Store the following info every 10 minibatches: loss, precision, recall and accuracy on train and test datasets."
   ]
  },
  {
   "cell_type": "markdown",
   "metadata": {
    "id": "NxCxD2J9cWjh"
   },
   "source": [
    "## Writeup"
   ]
  },
  {
   "cell_type": "markdown",
   "metadata": {
    "id": "y5GcGPjQcXhI"
   },
   "source": [
    "Summarize what you did above, as well as detail the choices you made and why. What was the outcome?"
   ]
  },
  {
   "cell_type": "markdown",
   "metadata": {
    "id": "c1AuOqwjcnDZ"
   },
   "source": [
    "## Further analysis"
   ]
  },
  {
   "cell_type": "markdown",
   "metadata": {
    "id": "x5lEJmoRcpIr"
   },
   "source": [
    "Pick one aspect about the work done above thus far that you find interesting, investigate it a bit further, and give a short paragraph writeup of what you investigated and how it went."
   ]
  }
 ],
 "metadata": {
  "colab": {
   "collapsed_sections": [
    "Gn22JMoGayOk"
   ],
   "provenance": []
  },
  "kernelspec": {},
  "language_info": {
   "codemirror_mode": {
    "name": "ipython",
    "version": 3
   },
   "file_extension": ".py",
   "mimetype": "text/x-python",
   "name": "python",
   "nbconvert_exporter": "python",
   "pygments_lexer": "ipython3",
   "version": "3.11.9"
  }
 },
 "nbformat": 4,
 "nbformat_minor": 4
}
