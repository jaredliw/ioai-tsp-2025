{
 "cells": [
  {
   "cell_type": "markdown",
   "id": "dad31099-61fc-4761-9717-c9a03be286e1",
   "metadata": {},
   "source": [
    "# Problem 1 (100 points)\n",
    "\n",
    "Let us consider the following sequence:\n",
    "\n",
    "$$\n",
    "F_n = F_{n-1} + F_{n-2}, \\forall n \\geq 2.\n",
    "$$\n",
    "\n",
    "\n",
    "Before starting this problem, make sure to run the following code first without any change:"
   ]
  },
  {
   "cell_type": "code",
   "execution_count": 1,
   "id": "b549eaeb-716c-4dec-bf43-0e0bfd611977",
   "metadata": {},
   "outputs": [
    {
     "data": {
      "text/plain": [
       "' END OF THIS PART '"
      ]
     },
     "execution_count": 1,
     "metadata": {},
     "output_type": "execute_result"
    }
   ],
   "source": [
    "# DO NOT CHANGE\n",
    "\n",
    "import numpy as np\n",
    "\n",
    "import matplotlib.pyplot as plt\n",
    "\n",
    "\"\"\" END OF THIS PART \"\"\""
   ]
  },
  {
   "cell_type": "markdown",
   "id": "e7fd69b6-f85c-4872-bae1-95e0d7311767",
   "metadata": {},
   "source": [
    "> WARNING !!!\n",
    "\n",
    "\n",
    "- Beyond importing libraries/modules/classes/functions in the preceding cell, you are **NOT allowed to import anything else for the following purposes**:\n",
    "    - **As a part of your final solution.** For instance, if a problem asks you to build a model without using sklearn but you use it, then you will not earn points.\n",
    "    - **Temporarily import something to assist you to get a solution.** For instance, if a problem asks you to manually compute eigenvalues but you temporarily use `np.linalg.eig` to get an answer and then delete your code, then you violate the rule.\n",
    "\n",
    "    **Rule of thumb:** Each part has its particular purpose to intentionally test you something. Do not attempt to find a shortcut to circumvent the rule.\n",
    "\n",
    "- All coding tasks shall run on CPUs, **not GPUs**."
   ]
  },
  {
   "cell_type": "markdown",
   "id": "a562d995-2560-4927-89b9-54e9428670f9",
   "metadata": {},
   "source": [
    "## Part 1 (10 points, non-coding task)\n",
    "\n",
    "Let $F_0=3$, $F_1=1$.\n",
    "\n",
    "Manually write down $F_n$ for $n=2,3,4,5$.\n",
    "\n",
    "- Reasoning is not required."
   ]
  },
  {
   "cell_type": "markdown",
   "id": "3b91b389-bb43-4060-8663-6235855a4aed",
   "metadata": {},
   "source": [
    "\\#\\#\\# WRITE YOUR SOLUTION HERE ###\n",
    "\n",
    "$$\n",
    "\\begin{aligned}\n",
    "F_2 &= F_1 + F_0 &F_3 &= F_2 + F_1 &F_4 &= F_3 + F_2 &F_5 &= F_4 + F_3\\\\\n",
    "    &= 1 + 3     &    &= 4 + 1     &    &= 5 + 4     &    &= 9 + 5 \\\\\n",
    "    &= 4         &    &= 5         &    &= 9         &    &= 14 \\\\\n",
    "\\end{aligned}\n",
    "$$\n",
    "\n",
    "\"\"\" END OF THIS PART \"\"\""
   ]
  },
  {
   "cell_type": "markdown",
   "id": "55560c0f-616d-48a9-8a36-de821fc156ba",
   "metadata": {},
   "source": [
    "## Part 2 (10 points, non-coding task)\n",
    "\n",
    "The recursive equation that defines the sequence in this problem can be written in a matrix form:\n",
    "\n",
    "$$\n",
    "\\begin{bmatrix} F_n \\\\ F_{n-1} \\end{bmatrix} = \\mathbf{A} \\begin{bmatrix} F_{n-1} \\\\ F_{n-2} \\end{bmatrix}, \\ \\forall \\ n \\geq 2 ,\n",
    "$$\n",
    "\n",
    "where $\\mathbf{A} \\in \\Bbb R^{2 \\times 2}$.\n",
    "\n",
    "**Compute $\\mathbf{A}$.**\n",
    "\n",
    "- Reasoning is not required.\n",
    "- The value of each entry in $\\mathbf{A}$ must be exact. For instance, the following values are exact: $\\sqrt3$, $\\frac{2}{\\sqrt7}$, $\\pi+\\frac{3}{8}$, $e^2$, $\\sin 40\\degree$. However, their float approximations are not exact."
   ]
  },
  {
   "cell_type": "markdown",
   "id": "85fa197b-74bf-4b91-8430-8b28913f7b6e",
   "metadata": {},
   "source": [
    "\\#\\#\\# WRITE YOUR SOLUTION HERE ###\n",
    "\n",
    "Let $\\mathbf{A} = \\begin{bmatrix}a &b \\\\ c &d\\end{bmatrix}$, we have\n",
    "\n",
    "$$\n",
    "\\begin{cases}\n",
    "aF_{n-1} + bF_{n-2} &= F_n \\\\\n",
    "cF_{n-1} + dF_{n-2} &= F_{n-1}\n",
    "\\end{cases}.\n",
    "$$\n",
    "\n",
    "From the definition of sequence $F_n$, we can easily obtain:\n",
    "\n",
    "$$\n",
    "\\mathbf{A} = \\begin{bmatrix} 1 &1 \\\\ 1 &0 \\end{bmatrix}.\n",
    "$$\n",
    "\n",
    "\"\"\" END OF THIS PART \"\"\""
   ]
  },
  {
   "cell_type": "markdown",
   "id": "b59e6344-1b01-4577-9ae1-06c2051ea71f",
   "metadata": {},
   "source": [
    "## Part 3 (10 points, non-coding task)\n",
    "\n",
    "**Explain why $\\mathbf{A}$ is a symmetric matrix.**"
   ]
  },
  {
   "cell_type": "markdown",
   "id": "568d4457-383b-4ddb-823f-6523467f91ca",
   "metadata": {},
   "source": [
    "\\#\\#\\# WRITE YOUR SOLUTION HERE ###\n",
    "\n",
    "A symmetric matrix is a square matrix that is equal to its transpose matrix.\n",
    "\n",
    "In our case,\n",
    "\n",
    "$$\n",
    "\\mathbf{A}^\\top = \\begin{bmatrix} 1 &1 \\\\ 1 &0 \\end{bmatrix} = \\mathbf{A}.\n",
    "$$\n",
    "\n",
    "\"\"\" END OF THIS PART \"\"\""
   ]
  },
  {
   "cell_type": "markdown",
   "id": "1297907c-8219-4808-a04b-0e9f0980786c",
   "metadata": {},
   "source": [
    "## Part 4 (10 points, non-coding task)\n",
    "\n",
    "**In this part, you are asked to prove a general result that holds for any real-valued symmetric matrix.**\n",
    "\n",
    "Let $\\mathbf{U} \\in \\Bbb R^{N \\times N}$ be a real-valued symmetric matrix.\n",
    "\n",
    "Consider the following eigenvalue equation\n",
    "\n",
    "$$\n",
    "\\mathbf{U} \\mathbf{v} = \\lambda \\mathbf{v} ,\n",
    "$$\n",
    "\n",
    "where $\\lambda \\in \\Bbb R$ and $\\mathbf{v} \\in \\Bbb R^{N \\times 1}$.\n",
    "\n",
    "Let $\\lambda_i$ and $\\lambda_j$ be two distinct real eigenvalues and $\\mathbf{v}_i, \\mathbf{v}_j \\in \\Bbb R^{N \\times 1}$ be two eigenvectors associated with them, respectively.\n",
    "\n",
    "Prove that\n",
    "\n",
    "$$\n",
    "\\mathbf{v}_i^\\top \\mathbf{v}_j = 0 .\n",
    "$$\n",
    "\n",
    "That is, vectors $\\mathbf{v}_i$ and $\\mathbf{v}_j$ are orthogonal."
   ]
  },
  {
   "cell_type": "markdown",
   "id": "cf959bf8-3530-45fb-9305-b709e1b4097e",
   "metadata": {},
   "source": [
    "\\#\\#\\# WRITE YOUR SOLUTION HERE ###\n",
    "\n",
    "Start with the given eigenvalue equations:\n",
    "\n",
    "$$\n",
    "\\begin{aligned}\n",
    "\\mathbf{U} \\mathbf{v}_i &= \\lambda_i \\mathbf{v}_i\\ \\quad\\textemdash\\textemdash\\ (1) \\\\\n",
    "\\mathbf{U} \\mathbf{v}_j &= \\lambda_j \\mathbf{v}_j. \\quad\\textemdash\\textemdash\\ (2)\n",
    "\\end{aligned}\n",
    "$$\n",
    "\n",
    "Pre-multiply $(2)$ by $\\mathbf{v}_i^\\top$,\n",
    "\n",
    "$$\n",
    "\\mathbf{v}_i^\\top \\left(\\mathbf{U} \\mathbf{v}_j\\right) = \\mathbf{v}_i^\\top \\left(\\lambda_j \\mathbf{v}_j\\right) = \\lambda_j \\mathbf{v}_i^\\top \\mathbf{v}_j. \\quad\\textemdash\\textemdash\\ (3)\n",
    "$$\n",
    "\n",
    "On the other hand, take the transpose of $(1)$ and post-multiply it by $\\mathbf{v}_j$,\n",
    "\n",
    "$$\n",
    "\\left(\\mathbf{U} \\mathbf{v}_i\\right)^\\top \\mathbf{v}_j = \\left(\\lambda_i \\mathbf{v}_i\\right)^\\top \\mathbf{v}_j = \\lambda_i \\mathbf{v}_i^\\top \\mathbf{v}_j. \\quad\\textemdash\\textemdash\\ (4)\n",
    "$$\n",
    "\n",
    "> *Lemma.* Let $\\mathbf{A} \\in \\mathbb{R}^{m \\times n}$ and $\\mathbf{B} \\in \\mathbb{R}^{n \\times p}$ be real-valued matrices. Then the transpose of their product satisfies\n",
    "> $$(\\mathbf{A}\\mathbf{B})^\\top = \\mathbf{B}^\\top \\mathbf{A}^\\top.$$\n",
    "> \n",
    "> *Proof.* [StackExchange](https://math.stackexchange.com/a/1670655).\n",
    "\n",
    "Back to the problem, since $\\mathbf{U}$ is symmetric (i.e. $\\mathbf{U}=\\mathbf{U}^\\top$),\n",
    "\n",
    "$$\n",
    "\\begin{aligned}\n",
    "\\mathbf{v}_i^\\top \\left(\\mathbf{U} \\mathbf{v}_j\\right) &= \\left(\\mathbf{v}_i^\\top \\mathbf{U}\\right) \\mathbf{v}_j \\\\\n",
    "                                                       &= \\left(\\mathbf{v}_i^\\top \\mathbf{U}^\\top\\right) \\mathbf{v}_j \\\\\n",
    "                                                       &= \\left(\\mathbf{U} \\mathbf{v}_i\\right)^\\top \\mathbf{v}_j.\n",
    "\\end{aligned}\n",
    "$$\n",
    "\n",
    "We have shown that $(3)=(4)$,\n",
    "\n",
    "$$\n",
    "\\begin{aligned}\n",
    "              \\lambda_j \\mathbf{v}_i^\\top \\mathbf{v}_j &= \\lambda_i \\mathbf{v}_i^\\top \\mathbf{v}_j \\\\\n",
    "(\\lambda_i - \\lambda_j) \\mathbf{v}_i^\\top \\mathbf{v}_j &= 0.\n",
    "\\end{aligned}\n",
    "$$\n",
    "\n",
    "$\\lambda_i \\ne \\lambda_j$, we conclude\n",
    "\n",
    "$$\n",
    "\\mathbf{v}_i^\\top \\mathbf{v}_j = 0.\n",
    "$$\n",
    "\n",
    "\"\"\" END OF THIS PART \"\"\""
   ]
  },
  {
   "cell_type": "markdown",
   "id": "b915ef0d-7f1b-4fbd-be86-8d8095a19e35",
   "metadata": {},
   "source": [
    "## Part 5 (10 points, non-coding task)\n",
    "\n",
    "Let us go back to our matrix $\\mathbf{A}$.\n",
    "\n",
    "In the following eigenvalue equation\n",
    "\n",
    "$$\n",
    "\\mathbf{A} \\mathbf{x} = \\lambda \\mathbf{x} ,\n",
    "$$\n",
    "\n",
    "**compute two eigenvalues $\\lambda_0$ and $\\lambda_1$ whose values are in a descending order**.\n",
    "\n",
    "- Reasoning is required."
   ]
  },
  {
   "cell_type": "markdown",
   "id": "a7c97e1b-992a-4edb-bfe5-5162887807a8",
   "metadata": {},
   "source": [
    "\\#\\#\\# WRITE YOUR SOLUTION HERE ###\n",
    "\n",
    "$$\n",
    "\\begin{aligned}\n",
    "\\mathbf{A} \\mathbf{x} &= \\lambda \\mathbf{x} \\\\\n",
    "(\\mathbf{A} - \\lambda \\mathbf{I})\\mathbf{x} &= 0\n",
    "\\end{aligned}\n",
    "$$\n",
    "\n",
    "The equation has a non-zero solution for $\\mathbf{x}$ only if the matrix $(\\mathbf{A} - \\lambda \\mathbf{I})$ is singular. Hence,\n",
    "\n",
    "$$\n",
    "\\begin{aligned}\n",
    "\\det(\\mathbf{A} - \\lambda \\mathbf{I}) &= 0 \\\\\n",
    "                                    0 &= \\det(\\begin{bmatrix} 1-\\lambda &1 \\\\ 1 &-\\lambda \\end{bmatrix}) \\\\\n",
    "                                      &= (1-\\lambda)(-\\lambda) - 1 \\\\\n",
    "                                      &= \\lambda^2 - \\lambda - 1 \\\\\n",
    "                              \\lambda &= \\frac{(-1) \\pm \\sqrt{(-1)^2 - 4\\cdot1\\cdot-1}}{2\\cdot1} \\\\\n",
    "                                      &= \\frac{1 \\pm \\sqrt5}{2}.\n",
    "\\end{aligned}\n",
    "$$\n",
    "\n",
    "$\\lambda_0 = \\frac{1 + \\sqrt5}{2}$ and $\\lambda_1 = \\frac{1 - \\sqrt5}{2}$.\n",
    "\n",
    "\"\"\" END OF THIS PART \"\"\""
   ]
  },
  {
   "cell_type": "markdown",
   "id": "9cfaa516-a726-4606-9372-6100279bbb70",
   "metadata": {},
   "source": [
    "In the remaining parts of this problem, for all non-coding tasks, when you need to use those eigenvalues,\n",
    "\n",
    "> keep them as $\\lambda_0$ and $\\lambda_1$. No need to apply their formulae."
   ]
  },
  {
   "cell_type": "markdown",
   "id": "66fb1a37-5df6-44d1-9fa3-df04f9fdf668",
   "metadata": {},
   "source": [
    "## Part 6 (10 points, non-coding task)\n",
    "\n",
    "Since matrix $\\mathbf{A}$ is symmetric, let us do the spectral decomposition of it.\n",
    "\n",
    "That is, you should write $\\mathbf{A}$ in the following form:\n",
    "\n",
    "$$\n",
    "\\mathbf{A} = \\mathbf{Q} \\mathbf{\\Lambda} \\mathbf{Q}^\\top ,\n",
    "$$\n",
    "\n",
    "where\n",
    "\n",
    "- $\\mathbf{Q} \\in \\Bbb R^{2 \\times 2}$ is an orthonormal matrix.\n",
    "- $\\mathbf{\\Lambda} = \\begin{bmatrix} \\lambda_0 & 0 \\\\ 0 & \\lambda_1 \\end{bmatrix} \\in \\Bbb R^{2 \\times 2}$ is a diagnonal matrix with $\\lambda_0 > \\lambda_1$.\n",
    "\n",
    "**In this task, you need to compute $\\mathbf{Q}$.**\n",
    "\n",
    "- Reasoning is required."
   ]
  },
  {
   "cell_type": "markdown",
   "id": "533ba1ce-d328-45cd-b687-64594ecd67e6",
   "metadata": {},
   "source": [
    "\\#\\#\\# WRITE YOUR SOLUTION HERE ###\n",
    "\n",
    "$\\mathbf{Q}$ is a matrix whose columns are unit eigenvectors of $\\mathbf{A}$.\n",
    "\n",
    "> In part 4, we have shown that the eigenvectors of a symmetric matrix are orthogonal. For the diagonalization formula\n",
    "> $$ \\mathbf{Q}^\\top = \\mathbf{Q}^{-1} $$\n",
    "> to hold, we need orthonormal eigenvectors — meaning they are both orthogonal and of unit length.\n",
    "> \n",
    "> When $\\mathbf{Q}$ is composed of orthonormal columns, then\n",
    "> $$ \\mathbf{Q}^\\top = \\mathbf{Q}^{-1} \\quad\\because \\mathbf{Q}^\\top \\mathbf{Q} = \\mathbf{I}.$$\n",
    ">\n",
    "> So the diagonalization becomes\n",
    "> $$ \\mathbf{A} = \\mathbf{Q} \\mathbf{\\Lambda} \\mathbf{Q}^{-1} = \\mathbf{Q} \\mathbf{\\Lambda} \\mathbf{Q}^\\top.$$\n",
    "\n",
    "Let $\\mathbf{x}=\\begin{bmatrix}a \\\\ b \\end{bmatrix}$. Then\n",
    "$$\n",
    "\\begin{bmatrix} 1 &1 \\\\ 1 &0 \\end{bmatrix} \\begin{bmatrix}a \\\\ b \\end{bmatrix} = \\lambda \\begin{bmatrix}a \\\\ b \\end{bmatrix},\n",
    "$$\n",
    "\n",
    "which gives the system\n",
    "\n",
    "$$\n",
    "\\begin{cases}\n",
    "a + b &= \\lambda a \\\\\n",
    "    a &= \\lambda b.\n",
    "\\end{cases}\n",
    "$$\n",
    "\n",
    "When $\\lambda = \\lambda_0$, let $b=1$. Then $a=\\lambda_0$. Let's verify:\n",
    "\n",
    "$$\n",
    "\\begin{aligned}\n",
    "\\frac{1 + \\sqrt5}{2} + 1 &\\stackrel{?}{=} \\left(\\frac{1 + \\sqrt5}{2}\\right)^2 \\\\\n",
    "    \\frac{3 + \\sqrt5}{2} &= \\frac{3 + \\sqrt5}{2}\n",
    "\\end{aligned}\n",
    "$$\n",
    "\n",
    "So the eigenvector corresponding to $\\lambda_0$ is $\\begin{bmatrix} \\lambda_0 \\\\ 1 \\end{bmatrix}$. Similarly, for $\\lambda=\\lambda_1$, the eigenvector is  $\\begin{bmatrix} \\lambda_1 \\\\ 1 \\end{bmatrix}$.\n",
    "\n",
    "Now normalize the vectors. Then $\\mathbf{Q} = \\begin{bmatrix} \\frac{\\lambda_0}{\\sqrt{1+\\lambda_0^2}} &\\frac{\\lambda_1}{\\sqrt{1+\\lambda_1^2}} \\\\ \\frac{1}{\\sqrt{1+\\lambda_0^2}} &\\frac{1}{\\sqrt{1+\\lambda_1^2}} \\end{bmatrix}$.\n",
    "\n",
    "\"\"\" END OF THIS PART \"\"\""
   ]
  },
  {
   "cell_type": "markdown",
   "id": "74efe2b9-05b8-4463-8c0f-b10975db3c29",
   "metadata": {},
   "source": [
    "# Part 7 (10 points, non-coding task)\n",
    "\n",
    "**Use the spectral decomposition result to derive a closed form of $F_n$ for $n \\in \\left\\{ 0, 1, \\cdots \\right\\}$.**\n",
    "\n",
    "- Reasoning is required.\n",
    "- Your answer shall be written in terms of $\\lambda_0$, $\\lambda_1$, and $F_0$ and $F_1$."
   ]
  },
  {
   "cell_type": "markdown",
   "id": "8d261213-3f48-4d58-9f79-6c4d8bae2bdf",
   "metadata": {},
   "source": [
    "\\#\\#\\# WRITE YOUR SOLUTION HERE ###\n",
    "\n",
    "For $n \\ge 1$, we have\n",
    "\n",
    "$$\n",
    "\\begin{bmatrix} F_n \\\\ F_{n-1} \\end{bmatrix} = A^{n-1} \\begin{bmatrix} F_1 \\\\ F_0 \\end{bmatrix}\n",
    "$$\n",
    "\n",
    "> *Lemma.* Let $\\mathbf{A}$ be a square matrix and let $\\lambda$ be an eigenvalue of $\\mathbf{A}$ with corresponding eigenvector $\\mathbf{x} \\neq \\mathbf{0}$. Then for any positive integer $k$, $\\lambda^k$ is an eigenvalue of $\\mathbf{A}^k$, and $\\mathbf{x}$ is a corresponding eigenvector of $\\mathbf{A}^k$.\n",
    "> \n",
    "> *Proof.* Suppose $\\mathbf{A} \\mathbf{x} = \\lambda \\mathbf{x}$. Then, applying $\\mathbf{A}$ repeatedly:\n",
    "> $$ \\mathbf{A}^2 \\mathbf{x} = \\mathbf{A} (\\mathbf{A} \\mathbf{x}) = \\mathbf{A} (\\lambda \\mathbf{x}) = \\lambda \\mathbf{A} \\mathbf{x} = \\lambda (\\lambda \\mathbf{x}) = \\lambda^2 \\mathbf{x}.$$\n",
    "> By induction, we can generalize this to:\n",
    "> $$\\mathbf{A}^k \\mathbf{x} = \\lambda^k \\mathbf{x}. \\quad\\square$$\n",
    "> \n",
    "> Taking a step further, if $\\mathbf{A}$ is diagonalizable, then:\n",
    "> $$\\mathbf{A}^k = (\\mathbf{Q}\\mathbf{\\Lambda}\\mathbf{Q}^{-1})^k = \\mathbf{Q}\\mathbf{\\Lambda}^k\\mathbf{Q}^{-1}.$$\n",
    "\n",
    "Back to the problem,\n",
    "\n",
    "$$\n",
    "\\begin{aligned}\n",
    "\\begin{bmatrix} F_n \\\\ F_{n-1} \\end{bmatrix} &= \\mathbf{Q}\\mathbf{\\Lambda}^{n-1}\\mathbf{Q}^\\top \\begin{bmatrix} F_1 \\\\ F_0 \\end{bmatrix} \\\\\n",
    "                                             &= \\begin{bmatrix} \\frac{\\lambda_0}{\\sqrt{1+\\lambda_0^2}} &\\frac{\\lambda_1}{\\sqrt{1+\\lambda_1^2}} \\\\ \\frac{1}{\\sqrt{1+\\lambda_0^2}} &\\frac{1}{\\sqrt{1+\\lambda_1^2}} \\end{bmatrix} \\begin{bmatrix} \\lambda_0^{n-1} & 0 \\\\ 0 & \\lambda_1^{n-1} \\end{bmatrix} \\begin{bmatrix} \\frac{\\lambda_0}{\\sqrt{1+\\lambda_0^2}} &\\frac{1}{\\sqrt{1+\\lambda_0^2}} \\\\ \\frac{\\lambda_1}{\\sqrt{1+\\lambda_1^2}} &\\frac{1}{\\sqrt{1+\\lambda_1^2}} \\end{bmatrix} \\begin{bmatrix} F_1 \\\\ F_0 \\end{bmatrix} \\\\\n",
    "                                             &= \\begin{bmatrix} \\frac{\\lambda_0^n}{\\sqrt{1+\\lambda_0^2}} &\\frac{\\lambda_1^n}{\\sqrt{1+\\lambda_1^2}} \\\\ \\frac{\\lambda_0^{n-1}}{\\sqrt{1+\\lambda_0^2}} &\\frac{\\lambda_1^{n-1}}{\\sqrt{1+\\lambda_1^2}} \\end{bmatrix} \\begin{bmatrix} \\frac{\\lambda_0}{\\sqrt{1+\\lambda_0^2}} &\\frac{1}{\\sqrt{1+\\lambda_0^2}} \\\\ \\frac{\\lambda_1}{\\sqrt{1+\\lambda_1^2}} &\\frac{1}{\\sqrt{1+\\lambda_1^2}} \\end{bmatrix} \\begin{bmatrix} F_1 \\\\ F_0 \\end{bmatrix} \\\\\n",
    "                                             &= \\begin{bmatrix} \\frac{\\lambda_0^{n+1}}{1+\\lambda_0^2}+\\frac{\\lambda_1^{n+1}}{1+\\lambda_1^2} &\\frac{\\lambda_0^n}{1+\\lambda_0^2}+\\frac{\\lambda_1^n}{1+\\lambda_1^2} \\\\ \\frac{\\lambda_0^n}{1+\\lambda_0^2}+\\frac{\\lambda_1^n}{1+\\lambda_1^2} &\\frac{\\lambda_0^{n-1}}{1+\\lambda_0^2}+\\frac{\\lambda_1^{n-1}}{1+\\lambda_1^2} \\end{bmatrix} \\begin{bmatrix} F_1 \\\\ F_0 \\end{bmatrix} \\\\\n",
    "                                         F_n &= \\left(\\frac{\\lambda_0^{n+1}}{1+\\lambda_0^2}+\\frac{\\lambda_1^{n+1}}{1+\\lambda_1^2}\\right) F_1 + \\left(\\frac{\\lambda_0^n}{1+\\lambda_0^2}+\\frac{\\lambda_1^n}{1+\\lambda_1^2}\\right) F_0\n",
    "\\end{aligned}\n",
    "$$\n",
    "\n",
    "For $n=0$, notice that\n",
    "\n",
    "$$\n",
    "\\frac{\\lambda_0^{0+1}}{1+\\lambda_0^2}+\\frac{\\lambda_1^{0+1}}{1+\\lambda_1^2} = 0\n",
    "$$\n",
    "\n",
    "and \n",
    "\n",
    "$$\n",
    "\\frac{\\lambda_0^{0}}{1+\\lambda_0^2}+\\frac{\\lambda_1^{0}}{1+\\lambda_1^2} = 1,\n",
    "$$\n",
    "\n",
    "so the equation should work fine for all integer $n \\ge 0$.\n",
    "\n",
    "\"\"\" END OF THIS PART \"\"\""
   ]
  },
  {
   "cell_type": "markdown",
   "id": "0ffc999b-59b7-46e2-9641-ba15432bfe4f",
   "metadata": {},
   "source": [
    "## Part 8 (10 points, non-coding task)\n",
    "\n",
    "**Compute**\n",
    "\n",
    "$$\n",
    "\\lim_{n \\rightarrow \\infty} \\ \\frac{F_n}{F_{n-1}} .\n",
    "$$\n",
    "\n",
    "- Reasoning is required.\n",
    "- Your answer shall be written in terms of one or two eigenvalues."
   ]
  },
  {
   "cell_type": "markdown",
   "id": "b22caab1-d7cf-410e-aa11-81ff845231ea",
   "metadata": {},
   "source": [
    "\\#\\#\\# WRITE YOUR SOLUTION HERE ###\n",
    "\n",
    "We have $|\\lambda_1| < 1$. As $n \\rightarrow \\infty$, the terms involving $\\lambda_1$ become negligible.\n",
    "\n",
    "$$\n",
    "\\begin{aligned}\n",
    "\\lim_{n \\rightarrow \\infty} \\frac{F_n}{F_{n-1}} &= \\lim_{n \\rightarrow \\infty} \\frac{\\left(\\frac{F_1\\lambda_0}{1 + \\lambda_0^2} + \\frac{F_0}{1 + \\lambda_0^2} \\right) \\lambda_0^{n}}{\\left(\\frac{F_1\\lambda_0}{1 + \\lambda_0^2} + \\frac{F_0}{1 + \\lambda_0^2} \\right) \\lambda_0^{n-1}} \\\\\n",
    "                                                &= \\lim_{n \\rightarrow \\infty} \\frac{\\lambda_0^n}{\\lambda_0^{n-1}} \\\\\n",
    "                                                &= \\lambda_0.\n",
    "\\end{aligned}\n",
    "$$\n",
    "\n",
    "\"\"\" END OF THIS PART \"\"\""
   ]
  },
  {
   "cell_type": "markdown",
   "id": "a6e62c6c-e6b2-43f8-8c4b-5424a0ee55e6",
   "metadata": {},
   "source": [
    "## Part 9 (15 points, coding task)\n",
    "\n",
    "**Define a class called `My_Fib`.**\n",
    "\n",
    "- Attributes:\n",
    "    - `Q`: This attribute is matrix $Q$ computed above. It is a numpy array with shape `(2,2)`.\n",
    "    - `lambdas`: This attribute is a numpy array with shape `(2,)` that includes two eigenvalues computed above.\n",
    "- Method `__init__`:\n",
    "    - All attribute values shall be initialized when an object in this class is constructed.\n",
    "- Method `compute_fib`:\n",
    "    - This method computes the sequence values on designated indices.\n",
    "    - You must use the spectral decomposition result to write this method.\n",
    "    - **You are not allowed to use any loop.**\n",
    "    - Inputs:\n",
    "        - `f0`: The value of $F_0$\n",
    "        - `f1`: The value of $F_1$\n",
    "        - `indices`: a list/tuple/range object that includes indices with which the sequence values shall be computed. \\\n",
    "    For instance, if `indices` takes the value `[3, 5, 9]`, we need to compute $F_3$, $F_5$, $F_9$. \\\n",
    "    In our test cases, you are guaranteed that `len(indices)` is at least 1. You do not need to worry about the size of the test cases or whether the sequence values are too big (that is, on your side, you do not need to worry about those corner cases).\n",
    "    - Outputs:\n",
    "        - Return a numpy array `fib_values` with shape `(len(indices),)` and datatype `int32`.\n",
    "        - `fib_values[i]` takes the value of $F_{indices[i]}$. \\\n",
    "        For instance, if `indices` takes the value `[3, 5, 9]`, then fib_values has shape `(3,)`. The values of `fib_values[0]`, `fib_values[1]`, `fib_values[2]` are $F_3$, $F_5$, $F_9$, respectively.\n",
    "    - Inside this method:\n",
    "        - Print `fib_values`.\n",
    "- Method `plot_fib`:\n",
    "    - This method plots indices vs. sequence values on those indices.\n",
    "    - Inputs: The same as the method `compute_fib(f0, f1, indices)`.\n",
    "    - Outputs: None.\n",
    "    - In your plot,\n",
    "        - All data points with input indices are with marker `x`.\n",
    "        - The linestyle is `--`.\n",
    "        - The color is red.\n",
    "        - The x-label is: $n$.\n",
    "        - The y-label is: $F_n$.\n",
    "        - The title is: Fibonacci sequence."
   ]
  },
  {
   "cell_type": "markdown",
   "id": "bee7b72f-51f9-4cb5-9c25-91d056fcd006",
   "metadata": {},
   "source": [
    "\\#\\#\\# WRITE YOUR SOLUTION HERE ###"
   ]
  },
  {
   "cell_type": "markdown",
   "id": "a712b197-1039-4f22-83c4-705c93f073ce",
   "metadata": {},
   "source": [
    "Recall that\n",
    "\n",
    "$$\n",
    "\\begin{aligned}\n",
    "\\begin{bmatrix} F_n \\\\ F_{n-1} \\end{bmatrix} &= \\mathbf{Q}\\mathbf{\\Lambda}^{n-1}\\mathbf{Q}^\\top \\begin{bmatrix} F_1 \\\\ F_0 \\end{bmatrix} \\\\\n",
    "                                             &= \\begin{bmatrix} \\frac{\\lambda_0^n}{\\sqrt{1+\\lambda_0^2}} &\\frac{\\lambda_1^n}{\\sqrt{1+\\lambda_1^2}} \\\\ \\frac{\\lambda_0^{n-1}}{\\sqrt{1+\\lambda_0^2}} &\\frac{\\lambda_1^{n-1}}{\\sqrt{1+\\lambda_1^2}} \\end{bmatrix} \\mathbf{Q}^\\top \\begin{bmatrix} F_1 \\\\ F_0 \\end{bmatrix} \\\\\n",
    "                                         F_n &= \\begin{bmatrix} \\frac{\\lambda_0^n}{\\sqrt{1+\\lambda_0^2}} &\\frac{\\lambda_1^n}{\\sqrt{1+\\lambda_1^2}} \\end{bmatrix} \\mathbf{Q}^\\top \\begin{bmatrix} F_1 \\\\ F_0 \\end{bmatrix}.\n",
    "\\end{aligned}\n",
    "$$\n",
    "\n",
    "We will use this result in `compute_fib`."
   ]
  },
  {
   "cell_type": "code",
   "execution_count": 2,
   "id": "052c515d-c2a9-46fc-9ad7-04941afcd923",
   "metadata": {},
   "outputs": [],
   "source": [
    "class My_Fib:\n",
    "    def __init__(self):\n",
    "        self.lambdas = np.array([(1 + 5 ** 0.5) / 2, (1 - 5 ** 0.5) / 2])\n",
    "        self.denom = np.sqrt(1 + self.lambdas ** 2)\n",
    "        self.Q = np.stack([self.lambdas / self.denom, np.ones(2) / self.denom])\n",
    "\n",
    "    def compute_fib(self, f0, f1, indices):\n",
    "        indices = np.array(indices)\n",
    "        mat = np.pow(self.lambdas, indices[:, np.newaxis]) / self.denom\n",
    "        fib_values = mat @ self.Q.T @ np.array([f1, f0])\n",
    "\n",
    "        fib_values = fib_values.astype(np.int32)\n",
    "        print(fib_values)\n",
    "        return fib_values\n",
    "\n",
    "    def plot_fib(self, f0, f1, indices):\n",
    "        plt.plot(indices, self.compute_fib(f0, f1, indices), marker=\"x\", linestyle=\"--\", color=\"red\")\n",
    "        plt.xlabel(\"$n$\")\n",
    "        plt.ylabel(\"$F_n$\")\n",
    "        plt.title(\"Fibonacci sequence\")\n",
    "        plt.show()"
   ]
  },
  {
   "cell_type": "markdown",
   "id": "60f12c19-7f95-44e8-8155-21403ca474e7",
   "metadata": {},
   "source": [
    "\"\"\" END OF THIS PART \"\"\""
   ]
  },
  {
   "cell_type": "markdown",
   "id": "b50e3001-21b9-4cd8-b8be-cec6fcc36952",
   "metadata": {},
   "source": [
    "## Part 10 (5 points, coding task)\n",
    "\n",
    "**Do the following tasks in this part.**\n",
    "\n",
    "- Define an object of the class `My_Fib` called `my_fib`.\n",
    "- Set `f0 = 0`, `f1 = 1`, `indices = range(10)`.\n",
    "- Call method `my_fib.plot_fib(f0, f1, indices)`."
   ]
  },
  {
   "cell_type": "markdown",
   "id": "135da3db-8a75-42ef-90e8-c88d89ab8a52",
   "metadata": {},
   "source": [
    "\\#\\#\\# WRITE YOUR SOLUTION HERE ###"
   ]
  },
  {
   "cell_type": "code",
   "execution_count": 3,
   "id": "6d6d2fb0-6543-41bd-91e5-3ea37b33d48d",
   "metadata": {},
   "outputs": [],
   "source": [
    "my_fib = My_Fib()\n",
    "f0 = 0\n",
    "f1 = 1\n",
    "indices = range(10)"
   ]
  },
  {
   "cell_type": "code",
   "execution_count": 4,
   "id": "528071bc-1e2a-40b1-a546-f42720fa9984",
   "metadata": {},
   "outputs": [
    {
     "name": "stdout",
     "output_type": "stream",
     "text": [
      "[ 0  1  1  2  3  5  8 13 21 34]\n"
     ]
    },
    {
     "data": {
      "image/png": "[encoded data removed]",
      "text/plain": [
       "<Figure size 640x480 with 1 Axes>"
      ]
     },
     "metadata": {},
     "output_type": "display_data"
    }
   ],
   "source": [
    "my_fib.plot_fib(f0, f1, indices)"
   ]
  },
  {
   "cell_type": "markdown",
   "id": "15bb29a0-9a2f-48db-81bf-338dafc1d660",
   "metadata": {},
   "source": [
    "\"\"\" END OF THIS PART \"\"\""
   ]
  }
 ],
 "metadata": {
  "kernelspec": {
   "display_name": "Python 3 (ipykernel)",
   "language": "python",
   "name": "python3"
  },
  "language_info": {
   "codemirror_mode": {
    "name": "ipython",
    "version": 3
   },
   "file_extension": ".py",
   "mimetype": "text/x-python",
   "name": "python",
   "nbconvert_exporter": "python",
   "pygments_lexer": "ipython3",
   "version": "3.12.6"
  }
 },
 "nbformat": 4,
 "nbformat_minor": 5
}
