{
 "cells": [
  {
   "cell_type": "markdown",
   "id": "5c16c492-40f4-41f8-ba40-387e780920c0",
   "metadata": {},
   "source": [
    "# Problem 2 (100 points)\n",
    "\n",
    "This problem is about the basics of neural network.\n",
    "\n",
    "Before starting this problem, make sure to run the following code first **without change**:"
   ]
  },
  {
   "cell_type": "code",
   "execution_count": 1,
   "id": "1ff46898-d778-4ac7-aaa7-5d9acbd68887",
   "metadata": {},
   "outputs": [
    {
     "data": {
      "text/plain": [
       "<torch._C.Generator at 0x165328aa3d0>"
      ]
     },
     "execution_count": 1,
     "metadata": {},
     "output_type": "execute_result"
    }
   ],
   "source": [
    "\"\"\" DO NOT CHANGE \"\"\"\n",
    "import numpy as np\n",
    "import matplotlib.pyplot as plt\n",
    "import torch\n",
    "import torch.nn as nn\n",
    "import torch.optim as optim\n",
    "torch.manual_seed(2025)"
   ]
  },
  {
   "cell_type": "markdown",
   "id": "a63a1ecb-66fe-425f-89c0-97beffa33b64",
   "metadata": {},
   "source": [
    "> WARNING !!!\n",
    "\n",
    "\n",
    "- Beyond importing libraries/modules/classes/functions in the preceding cell, you are **NOT allowed to import anything else for the following purposes**:\n",
    "    - **As a part of your final solution.** For instance, if a problem asks you to build a model without using sklearn but you use it, then you will not earn points.\n",
    "    - **Temporarily import something to assist you to get a solution.** For instance, if a problem asks you to manually compute eigenvalues but you temporarily use `np.linalg.eig` to get an answer and then delete your code, then you violate the rule.\n",
    "\n",
    "    **Rule of thumb:** Each part has its particular purpose to intentionally test you something. Do not attempt to find a shortcut to circumvent the rule.\n",
    "\n",
    "- All coding tasks shall run on CPUs, **not GPUs**."
   ]
  },
  {
   "cell_type": "markdown",
   "id": "e03f178a-ad96-4d84-8b0d-1133c4b4df42",
   "metadata": {},
   "source": [
    "## Part 1 (5 points, non-coding task)\n",
    "\n",
    "The high level idea of affine transformation in math is that for each column vector $\\mathbf{x} \\in \\Bbb R^N$, an affine transformation maps it to another column vector $\\mathbf{y} \\in \\Bbb R^M$ via\n",
    "\n",
    "$$\n",
    "\\mathbf{y} = \\mathbf{W} \\mathbf{x} + \\mathbf{b} ,\n",
    "$$\n",
    "\n",
    "where\n",
    "\n",
    "- $\\mathbf{W} \\in \\Bbb R^{M \\times N}$.\n",
    "- $\\mathbf{b} \\in \\Bbb R^{M}$.\n",
    "\n",
    "Now, let us study a small-sized problem.\n",
    "\n",
    "Let\n",
    "\n",
    "$$\n",
    "\\mathbf{W} = \\begin{bmatrix} 2 & -3 & 1 & 3 & -2 \\\\ 0 & 1 & 2 & 5 & -1 \\\\ 7 & -1 & -3 & 7 & 0 \\end{bmatrix}\n",
    "$$\n",
    "\n",
    "and\n",
    "\n",
    "$$\n",
    "\\mathbf{b} = \\begin{bmatrix} 1 \\\\ 0 \\\\ -1 \\end{bmatrix}\n",
    "$$\n",
    "\n",
    "and\n",
    "\n",
    "$$\n",
    "\\mathbf{x} = \\begin{bmatrix} 1 \\\\ 2 \\\\ -3 \\\\ 1 \\\\ -2 \\end{bmatrix}\n",
    "$$\n",
    "\n",
    "Answer the following questions:\n",
    "\n",
    "1. What is the value of $N$?\n",
    "2. What is the value of $M$?\n",
    "3. What is the value of $\\mathbf{y}$?\n",
    "\n",
    "Questions 1 and 2 do not require reasoning. Question 3 requires reasoning."
   ]
  },
  {
   "cell_type": "markdown",
   "id": "0abcbd97-6878-4994-b00d-7e4c185b2644",
   "metadata": {},
   "source": [
    "\\#\\#\\# WRITE YOUR SOLUTION HERE ###\n",
    "\n",
    "1. $N$ is the number of columns in $\\mathbf{W}$, $N=5$.\n",
    "2. $M$ is the number of rows in $\\mathbf{W}$, $M=3$.\n",
    "3. We have\n",
    "   $$\n",
    "    \\begin{aligned}\n",
    "    \\mathbf{y} &= \\mathbf{W} \\mathbf{x} + \\mathbf{b} \\\\\n",
    "               &= \\begin{bmatrix} 2 & -3 & 1 & 3 & -2 \\\\ 0 & 1 & 2 & 5 & -1 \\\\ 7 & -1 & -3 & 7 & 0 \\end{bmatrix} \\begin{bmatrix} 1 \\\\ 2 \\\\ -3 \\\\ 1 \\\\ -2 \\end{bmatrix} + \\begin{bmatrix} 1 \\\\ 0 \\\\ -1 \\end{bmatrix} \\\\\n",
    "               &= \\begin{bmatrix} 2\\cdot1+(-3)\\cdot2+1\\cdot(-3)+3\\cdot1+(-2)\\cdot(-2) \\\\  0\\cdot1+1\\cdot2+2\\cdot(-3)+5\\cdot1+(-1)\\cdot(-2) \\\\ 7\\cdot1+(-1)\\cdot2+(-3)\\cdot(-3)+7\\cdot1+0\\cdot(-2) \\end{bmatrix} + \\begin{bmatrix} 1 \\\\ 0 \\\\ -1 \\end{bmatrix} \\\\\n",
    "               &= \\begin{bmatrix} 0+1 \\\\ 3+0 \\\\ 21+(-1) \\end{bmatrix} \\\\\n",
    "               &= \\begin{bmatrix} 1 \\\\ 3 \\\\ 20 \\end{bmatrix}.\n",
    "    \\end{aligned}\n",
    "   $$\n",
    "\n",
    "\"\"\" END OF THIS PART \"\"\""
   ]
  },
  {
   "cell_type": "markdown",
   "id": "69b9a847-167b-4b3e-b034-0cf4ea295f96",
   "metadata": {},
   "source": [
    "## Part 2 (10 points, non-coding task)\n",
    "\n",
    "Define $\\nabla_{\\mathbf{z}} \\ f\\left( \\mathbf{z} \\right)$ to be the gradient of function $f$ with respect to vector/matrix $\\mathbf{z}$.\n",
    "\n",
    "**Compute the following gradients. Reasoning is required.**\n",
    "\n",
    "1. $\\nabla_{\\mathbf{x}} \\ \\mathbf{y}$. \\\n",
    "   The final answer should be in a matrix form.\n",
    "2. $\\nabla_{\\mathbf{w}} \\ \\mathbf{y}$. \\\n",
    "   The final answer should be in an element-wise form.\n",
    "3. $\\nabla_{\\mathbf{b}} \\ \\mathbf{y}$. \\\n",
    "   The final answer should be in a matrix form."
   ]
  },
  {
   "cell_type": "markdown",
   "id": "4a7185bc-53b3-40c6-a70e-3e79e8ae77f2",
   "metadata": {},
   "source": [
    "\\#\\#\\# WRITE YOUR SOLUTION HERE ###\n",
    "\n",
    "Each component of the vector $\\mathbf{y}$ can be written as\n",
    "\n",
    "$$\n",
    "\\mathbf{y}_i = \\sum_j^N \\mathbf{W}_{ij}\\mathbf{x}_j + \\mathbf{b}_i \\quad \\text{for}\\ i = 1,2,\\cdots,M .\n",
    "$$\n",
    "\n",
    "1. Element-wise,\n",
    "   $$ [\\nabla_{\\mathbf{x}} \\ \\mathbf{y}]_{pq} = \\frac{\\partial \\mathbf{y}_p}{\\partial \\mathbf{x}_q} = \\mathbf{W}_{pq}.$$\n",
    "   So, $\\nabla_{\\mathbf{x}} \\ \\mathbf{y}$ is just $\\mathbf{W}$.\n",
    "\n",
    "2. Element-wise,\n",
    "   $$ [\\nabla_{\\mathbf{W}} \\ \\mathbf{y}]_{pqr} = \\frac{\\partial \\mathbf{y}_p}{\\partial \\mathbf{W}_{qr}} = \\begin{cases} x_r &\\text{if}\\ p=q \\\\ 0 &\\text{if}\\ p \\ne q\\end{cases}$$\n",
    "   where $\\nabla_{\\mathbf{W}} \\ \\mathbf{y} \\in \\Bbb R^{M \\times M \\times N}$.\n",
    "\n",
    "   The official answer gives the equivalent expression: $\\mathbf{x}_r \\delta_{pq}$ where $\\delta_{pq}$ is the **Kronecker delta**. It carries the same meaning as the piecewise function above.\n",
    "\n",
    "3. Element-wise,\n",
    "   $$ [\\nabla_{\\mathbf{b}} \\ \\mathbf{y}]_{pq} = \\frac{\\partial \\mathbf{y}_p}{\\partial \\mathbf{b}_q} = \\mathbf{I}_{pq}.$$\n",
    "   Therefore, $\\nabla_{\\mathbf{b}} \\ \\mathbf{y} = \\mathbf{I}_{M \\times M}$.\n",
    "   \n",
    "\"\"\" END OF THIS PART \"\"\""
   ]
  },
  {
   "cell_type": "markdown",
   "id": "53119e36-247c-4555-9e7a-0a31b0b3bb85",
   "metadata": {},
   "source": [
    "## Part 3 (10 points, coding task)\n",
    "\n",
    "In this part, you are asked to build an affine transformation module from scratch by using **NumPy, NOT PyTorch or TensorFlow**.\n",
    "\n",
    "**Define such a class as `My_Linear_NumPy`.**\n",
    "\n",
    "- Attributes\n",
    "    - `in_features`: Number of input features\n",
    "    - `out_features`: Number of output features\n",
    "    - `weight`: This refers to matrix $\\mathbf{W}$ in Part 1. The shape is `(out_features, in_features)`.\n",
    "    - `bias`: This refers to vector $\\mathbf{b}$ in Part 1. The shape is `(out_features,)`.\n",
    "    - `random_seed`: The NumPy random seed number used to generate initial values of `weight` and `bias`.\n",
    "- Method `__init__`:\n",
    "    - To initialize an object in this class, you need to specify `in_features` and `out_features`.\n",
    "    - You may initialize the object by specifying a value for `random_seed`. If it is not specified, then its default value is 42.\n",
    "    - The initial values of `weight` and `bias` are random that follow standard normal distributions generated with the seed number attribute `random_seed`.\n",
    "- Method `forward`: \n",
    "    - Input `x`: numpy array with shape `(n_0, n_1, ..., n_{d-1}, in_features)` with an arbitrary dimension $d=0,1,\\cdots$.\n",
    "    - Output `y`: numpy array with shape `(n_0, n_1, ..., n_{d-1}, out_features)`.\n",
    "    - The affine transformation works in a way that given the first $d$ indices in `x` and `y`, it does affine transformation along the last axis of `x` and `y`.\n",
    "- **Do not use any loop in your code.**"
   ]
  },
  {
   "cell_type": "markdown",
   "id": "c7c58106-228e-43cc-922b-bbfdd6fa3fe0",
   "metadata": {},
   "source": [
    "\\#\\#\\# WRITE YOUR SOLUTION HERE ###"
   ]
  },
  {
   "cell_type": "markdown",
   "id": "07c5091a-7171-4fc2-ba4d-2d03e61938bf",
   "metadata": {},
   "source": [
    "| Vector/Matrix | Shape |\n",
    "| --- | --- |\n",
    "| $\\mathbf{x}$ | `(..., in_features)` |\n",
    "| $\\mathbf{W}$ | `(out_features, in_features)` |\n",
    "| $\\mathbf{b}$ | `(out_features,)` |\n",
    "| $\\mathbf{xW}^\\top$ | `(..., out_features)` |\n",
    "| $\\mathbf{xW}^\\top + \\mathbf{b}$ | `(..., out_features)` |\n",
    "\n",
    "Note: $\\mathbf{b}$ conceptually reshapes to `(1, ..., 1, out_features)` and then broadcasts to match the full shape `(..., out_features)`."
   ]
  },
  {
   "cell_type": "code",
   "execution_count": 2,
   "id": "6edff7de-e4e1-448d-a1d0-381b3b5684b5",
   "metadata": {},
   "outputs": [],
   "source": [
    "class My_Linear_NumPy:\n",
    "    def __init__(self, in_features, out_features, random_seed=42):\n",
    "        self.in_features = in_features\n",
    "        self.out_features = out_features\n",
    "        self.random_seed = random_seed\n",
    "        self.weight = np.random.normal(size=(out_features, in_features))\n",
    "        self.bias = np.random.normal(size=(out_features, ))\n",
    "\n",
    "    def forward(self, x):\n",
    "        return x @ self.weight.T + self.bias"
   ]
  },
  {
   "cell_type": "markdown",
   "id": "c38a9874-6dc7-46cc-a199-fce4cba83bbb",
   "metadata": {},
   "source": [
    "\"\"\" END OF THIS PART \"\"\""
   ]
  },
  {
   "cell_type": "markdown",
   "id": "e5b2664f-41cd-44e1-aa46-46201251a18e",
   "metadata": {},
   "source": [
    "## Part 4 (5 points, coding task)\n",
    "\n",
    "**Do the following tasks in this part.**\n",
    "\n",
    "1. Construct an object in the class `My_Linear_Numpy` called `linear_model_np`.\n",
    "2. Set `in_features = 3` and `out_features = 5`.\n",
    "3. Create multiple `X` with the following different shapes, by common numpy random seed number 2025 and the same standard normal distribution.\n",
    "   - `(in_features,)`\n",
    "   - `(10,in_features)`\n",
    "   - `(10,20,in_features)`\n",
    "   - `(10,20,30,in_features)`\n",
    "\n",
    "   After generating `X`, reset the numpy random seed number to its default value.\n",
    "4. We call our constructed function with each of the above `X` as the input. Print the shape of each output."
   ]
  },
  {
   "cell_type": "markdown",
   "id": "7c1b8179-2e62-4096-bf7a-bf6bfb822bda",
   "metadata": {},
   "source": [
    "\\#\\#\\# WRITE YOUR SOLUTION HERE ###"
   ]
  },
  {
   "cell_type": "code",
   "execution_count": 3,
   "id": "7560e362-3ab2-48ce-92bc-1797cad9d340",
   "metadata": {},
   "outputs": [],
   "source": [
    "in_features = 3\n",
    "out_features = 5\n",
    "linear_model_np = My_Linear_NumPy(in_features, out_features)\n",
    "\n",
    "np.random.seed(2025)\n",
    "Xs = [np.random.normal(size=shape + [in_features]) for shape in ([], [10], [10, 20], [10, 20, 30])]\n",
    "np.random.seed()"
   ]
  },
  {
   "cell_type": "code",
   "execution_count": 4,
   "id": "6192640c-bd21-4bff-bda0-af66f4700210",
   "metadata": {},
   "outputs": [
    {
     "name": "stdout",
     "output_type": "stream",
     "text": [
      "(5,)\n",
      "(10, 5)\n",
      "(10, 20, 5)\n",
      "(10, 20, 30, 5)\n"
     ]
    }
   ],
   "source": [
    "for X in Xs:\n",
    "    print(linear_model_np.forward(X).shape)"
   ]
  },
  {
   "cell_type": "markdown",
   "id": "1097cc71-6f2b-4405-bae8-43af9045792d",
   "metadata": {},
   "source": [
    "\"\"\" END OF THIS PART \"\"\""
   ]
  },
  {
   "cell_type": "markdown",
   "id": "2f9947ca-2d46-4a76-a17e-616f87383eb6",
   "metadata": {},
   "source": [
    "## Part 5 (10 points, coding task)\n",
    "\n",
    "In this part, you are asked to program with **PyTorch, NOT NumPy**.\n",
    "\n",
    "**Define a deep neural network module (class) named `Linear_Model`.**\n",
    "\n",
    "It has the following architecture:\n",
    "- 2 layers: 1 hidden layer and 1 output layer.\n",
    "- No activation function. That is, the connection between two consecutive layers is only an affine transformation."
   ]
  },
  {
   "cell_type": "markdown",
   "id": "923215d1-4249-4b78-9546-1dc6d8667451",
   "metadata": {},
   "source": [
    "\\#\\#\\# WRITE YOUR SOLUTION HERE ###"
   ]
  },
  {
   "cell_type": "code",
   "execution_count": 5,
   "id": "c17f7ee5-af3d-4c77-86df-7dfc6fee380a",
   "metadata": {},
   "outputs": [],
   "source": [
    "class Linear_Model(nn.Module):\n",
    "    def __init__(self, in_features, hidden_features, out_features):\n",
    "        super().__init__(self)\n",
    "        self.hidden_layer = nn.Linear(in_features, hidden_features)\n",
    "        self.out_layer = nn.Linear(hidden_features, out_features)\n",
    "\n",
    "    def forward(self, x):\n",
    "        x = self.hidden_layer(x)\n",
    "        x = self.out_layer(x)\n",
    "        return x"
   ]
  },
  {
   "cell_type": "markdown",
   "id": "92cf05d8-7722-4c56-a3ea-dffd6594cf50",
   "metadata": {},
   "source": [
    "\"\"\" END OF THIS PART \"\"\""
   ]
  },
  {
   "cell_type": "markdown",
   "id": "e9f59ca4-a0d7-41e7-961f-ce74433d852c",
   "metadata": {},
   "source": [
    "## Part 6 (5 points, non-coding task)\n",
    "\n",
    "We make the following modifications on the previous part.\n",
    "\n",
    "- We consider a special symmetric neural network that `out_features = in_features`.\n",
    "- No bias in all affine transformations.\n",
    "- The transformation matrix from the hidden layer to the output layer is binded to be the transpose of the transformation matrix from the input layer to the hidden layer.\n",
    "\n",
    "**What is the total number of learnable parameters in this model?**\n",
    "\n",
    "- Reasoning is not required."
   ]
  },
  {
   "cell_type": "markdown",
   "id": "965b2706-ff75-4c27-8bd7-ce353c446d5a",
   "metadata": {},
   "source": [
    "\\#\\#\\# WRITE YOUR SOLUTION HERE ###\n",
    "\n",
    "Referring to the third bullet point, `hidden_layer` and `out_layer` share the same $\\mathbf{W}$. Two layers are tied by a single learnable matrix. \n",
    "\n",
    "Therefore, the total number of learnable parameters is `in_features * hidden_features`, or equivalently, `hidden_features * out_features`.\n",
    "\n",
    "\"\"\" END OF THIS PART \"\"\""
   ]
  },
  {
   "cell_type": "markdown",
   "id": "f7b188ae-468b-4edf-9651-14ecb07e1b23",
   "metadata": {},
   "source": [
    "## Part 7 (5 points, non-coding task)\n",
    "\n",
    "This question follows Part 6.\n",
    "\n",
    "Denote by $\\mathbf{W} \\in \\Bbb R^{\\text{hidden\\_features} \\times \\text{in\\_features}}$ the transformation matrix from the input layer to the hidden layer.\n",
    "\n",
    "**Given input $\\mathbf{x} \\in \\Bbb R^{\\text{in\\_features}}$, write down the formula of the output $\\mathbf{y}$ and its shape.**\n",
    "\n",
    "- Reasoning is not required."
   ]
  },
  {
   "cell_type": "markdown",
   "id": "8e402bbb-d088-4328-a400-5e49ec2fbadd",
   "metadata": {},
   "source": [
    "\\#\\#\\# WRITE YOUR SOLUTION HERE ###\n",
    "\n",
    "| Vector/Matrix | Shape |\n",
    "| --- | --- |\n",
    "| $\\mathbf{x}$ | `(in_features, )` |\n",
    "| $\\mathbf{W}$ | `(hidden_features, in_features)` |\n",
    "| $\\mathbf{Wx}$ | `(hidden_features, )` |\n",
    "| $\\mathbf{W}^\\top\\mathbf{Wx}$ | `(in_features, ) == (out_features, )` |\n",
    "\n",
    "Thus,\n",
    "\n",
    "$$\n",
    "\\mathbf{y} = \\mathbf{W}^\\top\\mathbf{Wx},\n",
    "$$\n",
    "\n",
    "where $\\mathbf{y} \\in \\Bbb R^{\\text{out\\_features}}$.\n",
    "\n",
    "\"\"\" END OF THIS PART \"\"\""
   ]
  },
  {
   "cell_type": "markdown",
   "id": "cf106665-3582-42a2-80d5-74ed4283ce60",
   "metadata": {},
   "source": [
    "## Part 8 (10 points, non-coding task)\n",
    "\n",
    "This question follows Part 7.\n",
    "\n",
    "Denote $r = \\text{rank} \\left( \\mathbf{W} \\right)$.\n",
    "\n",
    "**Compute the rank of $\\mathbf{W}^\\top \\mathbf{W}$.**\n",
    "\n",
    "- Reasoning is required."
   ]
  },
  {
   "cell_type": "markdown",
   "id": "1253e36c-a983-4356-a367-158b980a28b4",
   "metadata": {},
   "source": [
    "\\#\\#\\# WRITE YOUR SOLUTION HERE ###\n",
    "\n",
    "Suppose $\\mathbf{x}\\in \\ker(\\mathbf{W})$ (i.e., $\\mathbf{Wx=0}$). Then,\n",
    "\n",
    "$$\n",
    "\\begin{aligned}\n",
    "\\mathbf{W^\\top W x} &= \\mathbf{W^\\top 0} \\\\\n",
    "                    &= \\mathbf{0},\n",
    "\\end{aligned}\n",
    "$$\n",
    "\n",
    "so $\\mathbf{x}\\in \\ker(\\mathbf{W^\\top W})$.\n",
    "\n",
    "Conversely, suppose $\\mathbf{x}\\in \\ker(\\mathbf{W^\\top W})$. Then, \n",
    "\n",
    "$$\n",
    "\\begin{aligned}\n",
    "                                 \\mathbf{W^\\top Wx} &= \\mathbf{0} \\\\\n",
    "\\mathbf{\\left(x^\\top W^\\top\\right) \\left(Wx\\right)} &= \\mathbf{x^\\top 0} \\\\\n",
    "      \\mathbf{\\left(Wx\\right)^\\top \\left(Wx\\right)} &= \\mathbf{0} &\\Longrightarrow \\sum_{i} \\left(\\mathbf{Wx}\\right)^2_i = 0 \\\\\n",
    "                                       \\mathbf{Wx}  &= \\mathbf{0},\n",
    "\\end{aligned}\n",
    "$$\n",
    "\n",
    "so $\\mathbf{x}\\in \\ker(\\mathbf{W})$.\n",
    "\n",
    "Since $\\ker(\\mathbf{W}) \\subseteq \\ker(\\mathbf{W^\\top W})$ and $\\ker(\\mathbf{W^\\top W}) \\subseteq \\ker(\\mathbf{W})$, we conclude\n",
    "\n",
    "$$\n",
    "\\ker(\\mathbf{W}) = \\ker(\\mathbf{W^\\top W}) \\Longleftrightarrow \\dim \\ker(\\mathbf{W}) = \\dim \\ker(\\mathbf{W^\\top W}).\n",
    "$$\n",
    "\n",
    "By the rank–nullity theorem applied to $\\mathbf{W}$, which is of shape $\\text{hidden\\_features} \\times \\text{in\\_features}$, \n",
    "\n",
    "$$\n",
    "\\text{rank}(\\mathbf{W}) = \\text{in\\_features} - \\dim \\ker(\\mathbf W).\n",
    "$$\n",
    "\n",
    "> Note: In row-reduced echelon form (RREF), the rank of a matrix is the number of pivot variables, while the nullity ($\\dim \\ker(\\cdot)$) corresponds to the number of free variables. Together, they always sum to the total number of columns of the matrix.\n",
    "\n",
    "Similarly, for $\\mathbf{W^\\top W}$, which is $\\text{in\\_features} \\times \\text{in\\_features}$,\n",
    "\n",
    "$$\n",
    "\\text{rank}(\\mathbf{W^\\top W}) = \\text{in\\_features} - \\dim \\ker(\\mathbf{W^\\top W}).\n",
    "$$\n",
    "\n",
    "We have shown that $\\text{rank}(\\mathbf{W}) = \\text{rank}(\\mathbf{W^\\top W}) = r$.\n",
    "\n",
    "> Alternate approach: The [official solution](https://forum.beaver-edge.ai/t/problem-2-part-8/181/2) uses the Singular Value Decomposition (SVD) of $\\mathbf W$ to establish the equality of ranks.\n",
    "\n",
    "\"\"\" END OF THIS PART \"\"\""
   ]
  },
  {
   "cell_type": "markdown",
   "id": "2293d8a3-2a88-498c-853f-b6ec55320ac1",
   "metadata": {},
   "source": [
    "## Part 9 (5 points, coding task)\n",
    "\n",
    "This question follows Part 6.\n",
    "\n",
    "In this part, you are asked to program with **PyTorch, not NumPy**.\n",
    "\n",
    "**Build a deep neural network class named as `Symmetric_Linear_Model` that meets the modifications imposed in Part 6.**"
   ]
  },
  {
   "cell_type": "markdown",
   "id": "c0f1eba0-aee6-47ea-ac20-866ace6d8f66",
   "metadata": {},
   "source": [
    "\\#\\#\\# WRITE YOUR SOLUTION HERE ###"
   ]
  },
  {
   "cell_type": "code",
   "execution_count": 6,
   "id": "f0ee6f9a-7a8b-4040-92c7-5b6d08eff6cc",
   "metadata": {},
   "outputs": [],
   "source": [
    "class Symmetric_Linear_Model(nn.Module):\n",
    "    def __init__(self, in_features, hidden_features):\n",
    "        super().__init__()\n",
    "        self.layer = nn.Linear(in_features, hidden_features, bias=False)\n",
    "\n",
    "    def forward(self, x):\n",
    "        x = self.layer(x)\n",
    "        x = self.layer.weight.t() @ x\n",
    "        return x"
   ]
  },
  {
   "cell_type": "markdown",
   "id": "e02a05a1-91f5-449a-adf1-a28de1aa5b73",
   "metadata": {},
   "source": [
    "\"\"\" END OF THIS PART \"\"\""
   ]
  },
  {
   "cell_type": "markdown",
   "id": "1c0f8df2-4124-4ce5-a2e6-0cf3fe186786",
   "metadata": {},
   "source": [
    "## Part 10 (5 points, coding task)\n",
    "\n",
    "Rectified Linear Unit, or the “ReLU”, is one of the most common used function in deep learning. It is defined as\n",
    "\n",
    "$$\n",
    "\\text{ReLU}(x)= \\max \\left\\{ 0,x \\right\\} .\n",
    "$$\n",
    "\n",
    "In this part, you are asked to use PyTorch to build a ReLU class named `My_ReLU` that subclasses `nn.Module`.\n",
    "\n",
    "A successful class works in the following ways:\n",
    "\n",
    "- The initialization of an object in `My_ReLU` does not take any input.\n",
    "- Suppose we have a `My_ReLU` object called `activiation0`. When we call `activiation0(x)` with input `x` that is a tensor x with an arbitrary dimension and shape, we get an output `y` from the element-wise ReLU acvitivation on `x`."
   ]
  },
  {
   "cell_type": "markdown",
   "id": "9fb54823-1cc7-41e2-8a24-b1454cdb62c4",
   "metadata": {},
   "source": [
    "\\#\\#\\# WRITE YOUR SOLUTION HERE ###"
   ]
  },
  {
   "cell_type": "code",
   "execution_count": 7,
   "id": "9b997feb-50af-4332-84d7-c80d5ba4174e",
   "metadata": {},
   "outputs": [],
   "source": [
    "class My_ReLU(nn.Module):\n",
    "    def __init__(self):\n",
    "        super().__init__()\n",
    "\n",
    "    def forward(self, x):\n",
    "        x = torch.max(torch.zeros_like(x), x)\n",
    "        return x"
   ]
  },
  {
   "cell_type": "markdown",
   "id": "65c5fdd4-3d02-4ba4-898e-80469597d44c",
   "metadata": {},
   "source": [
    "\"\"\" END OF THIS PART \"\"\""
   ]
  },
  {
   "cell_type": "markdown",
   "id": "54edf277-d0cc-4082-b75d-cef6ee5cf7e8",
   "metadata": {},
   "source": [
    "## Part 11 (10 points, coding task)\n",
    "\n",
    "It is known by math that the combination of several linear layers can still be seen as an linear layer, so we can add some non-linear activation functions, such as ReLU, in between to get better effect.\n",
    "\n",
    "Multi-Layer Perceptron (MLP), is such a neural network composed of multiple fully connected layers with non-linear activations, commonly used in deep learning.\n",
    "\n",
    "**Please define a class called `My_MLP_Model` that subclasses `nn.Module` and works in the following ways:**\n",
    "\n",
    "- The architecture consists of two hidden layers and one output layer.\n",
    "- Each hidden layer consists of an affine transformation module and a ReLU activiation module.\n",
    "- Each affine transformation module shall be initialized with the build-in class `nn.Linear`.\n",
    "- Each ReLU activiation nmodule shall be initialized with your self-defined class `My_ReLU`."
   ]
  },
  {
   "cell_type": "markdown",
   "id": "9e0efe1f-59d0-408c-83a5-a4f508abad98",
   "metadata": {},
   "source": [
    "\\#\\#\\# WRITE YOUR SOLUTION HERE ###"
   ]
  },
  {
   "cell_type": "code",
   "execution_count": 8,
   "id": "18636fbd-d401-4679-8f8a-f6b902bc70c2",
   "metadata": {},
   "outputs": [],
   "source": [
    "class My_MLP_Model(nn.Module):\n",
    "    def __init__(self, in_features, hidden1_features, hidden2_features, out_features):\n",
    "        super().__init__()\n",
    "        self.hidden_layer1 = nn.Linear(in_features, hidden1_features)\n",
    "        self.hidden_layer2 = nn.Linear(hidden1_features, hidden2_features)\n",
    "        self.out_layer = nn.Linear(hidden2_features, out_features)\n",
    "        self.relu = My_ReLU()\n",
    "\n",
    "    def forward(self, x):\n",
    "        x = self.hidden_layer1(x)\n",
    "        x = self.relu(x)\n",
    "        x = self.hidden_layer2(x)\n",
    "        x = self.relu(x)\n",
    "        x = self.out_layer(x)\n",
    "        return x"
   ]
  },
  {
   "cell_type": "markdown",
   "id": "6dda0c28-5bbe-412f-afe5-6eeabd65d759",
   "metadata": {},
   "source": [
    "\"\"\" END OF THIS PART \"\"\""
   ]
  },
  {
   "cell_type": "markdown",
   "id": "d2aae7e7-330c-4d4e-834e-14f751aeffc4",
   "metadata": {},
   "source": [
    "## Part 12 (5 points, coding task)\n",
    "\n",
    "After building our deep neural network architecture in Part 11 and before using it to train our model, we need to prepare our training dataset.\n",
    "\n",
    "Let us look at a simple application of deep neural network in studying harmonic motion in physics.\n",
    "\n",
    "**Write code to construct the following training dataset:**\n",
    "\n",
    "- Use `sample_size` to store the number of samples. Set the value as 1000.\n",
    "- Define `x_train` as a tensor whose shape is `(sample_size,) `and the value on each entry is uniformly drawn between 0 and 1.\n",
    "- Define `y_train` as a tensor whose values are obtained from the following element-wise mapping from `x_train`:\n",
    "  $$y = \\sin \\left( 2 \\pi x \\right) + 0.1 \\cdot \\mathcal N \\left( 0, 1 \\right) ,$$\n",
    "  where $\\mathcal N \\left( 0, 1 \\right)$ is a standard normal random variable.\n",
    "- Print the dimensions of `x_train` and `y_train`.\n",
    "- Print the shapes of `x_train` and `y_train`."
   ]
  },
  {
   "cell_type": "markdown",
   "id": "9413996d-2279-4a6a-a100-7266d0cd8809",
   "metadata": {},
   "source": [
    "\\#\\#\\# WRITE YOUR SOLUTION HERE ###"
   ]
  },
  {
   "cell_type": "code",
   "execution_count": 9,
   "id": "9e3d4a17-225d-4dde-a4d8-c09745298eb8",
   "metadata": {},
   "outputs": [
    {
     "name": "stdout",
     "output_type": "stream",
     "text": [
      "1\n",
      "1\n",
      "torch.Size([1000])\n",
      "torch.Size([1000])\n"
     ]
    }
   ],
   "source": [
    "sample_size = 1000\n",
    "x_train = torch.randn(sample_size)\n",
    "y_train = torch.sin(2 * np.pi * x_train) + 0.1 * torch.randn(x_train.shape)\n",
    "\n",
    "print(x_train.ndim)\n",
    "print(y_train.ndim)\n",
    "print(x_train.shape)\n",
    "print(y_train.shape)"
   ]
  },
  {
   "cell_type": "markdown",
   "id": "26f7204d-dcc7-4470-9820-f0975e4ac1eb",
   "metadata": {},
   "source": [
    "\"\"\" END OF THIS PART \"\"\""
   ]
  },
  {
   "cell_type": "markdown",
   "id": "627fef15-190a-4c30-aa83-0fb252769a3d",
   "metadata": {},
   "source": [
    "## Part 13 (15 points, coding task)\n",
    "\n",
    "**In this part, we use the training dataset constructed in Part 12 to train a model defined in Part 11.**\n",
    "\n",
    "- Use mean-squred error (MSE) as the loss function.\n",
    "- Use Adam as the optimization algorithm.\n",
    "- Do whole-batch training in each epoch.\n",
    "- After every 10 epochs, print the following sentence:\n",
    "  \n",
    "  Epoch: XXX. Loss: XXX.\n",
    "  \n",
    "  The loss value should be with 4 decimal places.\n",
    "- Generate an epoch-MSE loss plot after completing the training. Set the x-label as `epoch` and the y-label as `MSE loss`."
   ]
  },
  {
   "cell_type": "code",
   "execution_count": 10,
   "id": "99adf682-81a2-4277-a265-f1fc45bb92f2",
   "metadata": {},
   "outputs": [],
   "source": [
    "# HYPERPARAMETERS\n",
    "''' DO NOT CHANGE ANYTHING IN THIS CODE CELL '''\n",
    "\n",
    "hidden_features1 = 32\n",
    "hidden_features2 = 16\n",
    "\n",
    "num_epochs = 500\n",
    "learning_rate = 1e-3"
   ]
  },
  {
   "cell_type": "markdown",
   "id": "f9c0741b-2289-4ced-b709-8dbf06ed3e7e",
   "metadata": {},
   "source": [
    "\\#\\#\\# WRITE YOUR SOLUTION HERE ###"
   ]
  },
  {
   "cell_type": "code",
   "execution_count": 11,
   "id": "b9eeea15-e9d1-4068-a867-385a1676f523",
   "metadata": {
    "scrolled": true
   },
   "outputs": [
    {
     "name": "stdout",
     "output_type": "stream",
     "text": [
      "Epoch: 10. Loss: 0.5486146807670593.\n",
      "Epoch: 20. Loss: 0.5121286511421204.\n",
      "Epoch: 30. Loss: 0.506505012512207.\n",
      "Epoch: 40. Loss: 0.5046979784965515.\n",
      "Epoch: 50. Loss: 0.5010021328926086.\n",
      "Epoch: 60. Loss: 0.49864864349365234.\n",
      "Epoch: 70. Loss: 0.4969307482242584.\n",
      "Epoch: 80. Loss: 0.49510782957077026.\n",
      "Epoch: 90. Loss: 0.4932232201099396.\n",
      "Epoch: 100. Loss: 0.49132513999938965.\n",
      "Epoch: 110. Loss: 0.48936229944229126.\n",
      "Epoch: 120. Loss: 0.48728346824645996.\n",
      "Epoch: 130. Loss: 0.48502930998802185.\n",
      "Epoch: 140. Loss: 0.48257073760032654.\n",
      "Epoch: 150. Loss: 0.4798758625984192.\n",
      "Epoch: 160. Loss: 0.47691377997398376.\n",
      "Epoch: 170. Loss: 0.4736510217189789.\n",
      "Epoch: 180. Loss: 0.47005295753479004.\n",
      "Epoch: 190. Loss: 0.46611902117729187.\n",
      "Epoch: 200. Loss: 0.4618365168571472.\n",
      "Epoch: 210. Loss: 0.45721235871315.\n",
      "Epoch: 220. Loss: 0.4522338807582855.\n",
      "Epoch: 230. Loss: 0.44691193103790283.\n",
      "Epoch: 240. Loss: 0.44123712182044983.\n",
      "Epoch: 250. Loss: 0.43522024154663086.\n",
      "Epoch: 260. Loss: 0.42888766527175903.\n",
      "Epoch: 270. Loss: 0.42228808999061584.\n",
      "Epoch: 280. Loss: 0.41542673110961914.\n",
      "Epoch: 290. Loss: 0.408325731754303.\n",
      "Epoch: 300. Loss: 0.40098434686660767.\n",
      "Epoch: 310. Loss: 0.39342740178108215.\n",
      "Epoch: 320. Loss: 0.3856656849384308.\n",
      "Epoch: 330. Loss: 0.37783336639404297.\n",
      "Epoch: 340. Loss: 0.36975765228271484.\n",
      "Epoch: 350. Loss: 0.3613956868648529.\n",
      "Epoch: 360. Loss: 0.35272976756095886.\n",
      "Epoch: 370. Loss: 0.3437386155128479.\n",
      "Epoch: 380. Loss: 0.3343900740146637.\n",
      "Epoch: 390. Loss: 0.3247802257537842.\n",
      "Epoch: 400. Loss: 0.3147822916507721.\n",
      "Epoch: 410. Loss: 0.3044036626815796.\n",
      "Epoch: 420. Loss: 0.2936445474624634.\n",
      "Epoch: 430. Loss: 0.28250256180763245.\n",
      "Epoch: 440. Loss: 0.27101650834083557.\n",
      "Epoch: 450. Loss: 0.2592344284057617.\n",
      "Epoch: 460. Loss: 0.24721279740333557.\n",
      "Epoch: 470. Loss: 0.23504327237606049.\n",
      "Epoch: 480. Loss: 0.22279967367649078.\n",
      "Epoch: 490. Loss: 0.21052421629428864.\n",
      "Epoch: 500. Loss: 0.19836242496967316.\n"
     ]
    }
   ],
   "source": [
    "model = My_MLP_Model(1, hidden_features1, hidden_features2, 1)\n",
    "loss_fn = nn.MSELoss()\n",
    "optimizer = optim.Adam(model.parameters(), lr=learning_rate)\n",
    "loss_history = []\n",
    "\n",
    "model.train()\n",
    "for epoch in range(1, num_epochs + 1):\n",
    "    pred = model(x_train.reshape(-1, 1))  # First dimension for batch size\n",
    "    loss = loss_fn(pred, y_train.reshape(-1, 1))\n",
    "\n",
    "    optimizer.zero_grad()\n",
    "    loss.backward()\n",
    "    optimizer.step()\n",
    "\n",
    "    if epoch % 10 == 0:\n",
    "        print(f\"Epoch: {epoch}. Loss: {loss.item()}.\")\n",
    "        loss_history.append(loss.item())"
   ]
  },
  {
   "cell_type": "code",
   "execution_count": 12,
   "id": "94c76182-4d29-4d6c-965c-94b0d520a9a3",
   "metadata": {},
   "outputs": [
    {
     "data": {
      "image/png": "[encoded data removed]",
      "text/plain": [
       "<Figure size 640x480 with 1 Axes>"
      ]
     },
     "metadata": {},
     "output_type": "display_data"
    }
   ],
   "source": [
    "plt.plot(range(10, num_epochs + 1, 10), loss_history)\n",
    "plt.xlabel(\"epoch\")\n",
    "plt.ylabel(\"MSE loss\")\n",
    "plt.show()"
   ]
  },
  {
   "cell_type": "markdown",
   "id": "62d50543-4d47-422a-ba1d-50421abb65be",
   "metadata": {},
   "source": [
    "\"\"\" END OF THIS PART \"\"\""
   ]
  }
 ],
 "metadata": {
  "kernelspec": {
   "display_name": "Python 3 (ipykernel)",
   "language": "python",
   "name": "python3"
  },
  "language_info": {
   "codemirror_mode": {
    "name": "ipython",
    "version": 3
   },
   "file_extension": ".py",
   "mimetype": "text/x-python",
   "name": "python",
   "nbconvert_exporter": "python",
   "pygments_lexer": "ipython3",
   "version": "3.12.6"
  }
 },
 "nbformat": 4,
 "nbformat_minor": 5
}
