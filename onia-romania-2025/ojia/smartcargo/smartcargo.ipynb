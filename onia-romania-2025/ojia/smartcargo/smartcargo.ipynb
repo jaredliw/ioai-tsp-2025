{
 "cells": [
  {
   "cell_type": "markdown",
   "id": "9ab29245-4fe7-4902-9dc2-aa23e5ee9bb5",
   "metadata": {},
   "source": [
    "# 🚚 SmartCargo - Optimizarea livrărilor în România (SmartCargo – Delivery Optimization in Romania)"
   ]
  },
  {
   "cell_type": "markdown",
   "id": "f78f9cce-4d99-436f-a0c2-d6fecb19c405",
   "metadata": {},
   "source": [
    "The transport company **“SmartCargo Romania”** needs intelligent solutions to improve delivery time estimates. You are the new data science specialist on the team, and your mission is to build accurate models that predict delivery times between cities in Romania.\n",
    "\n",
    "## 🎯 Your Main Goal\n",
    "\n",
    "You need to analyze historical data on trips between cities and understand how factors such as distance, time of day, weather, traffic, or driver experience influence the actual delivery duration.\n",
    "\n",
    "Your goal is to build a machine learning model capable of predicting the estimated time for new trips.\n",
    "\n",
    "## 📦 Transport Data\n",
    "\n",
    "Each row in the files `train_data.csv` and `test_data.csv` represents a delivery between two cities in Romania.\n",
    "\n",
    "**Each delivery includes the following details:**\n",
    "\n",
    "| Column              | Description                                                                                   |\n",
    "|---------------------|-----------------------------------------------------------------------------------------------|\n",
    "| `ID`                | Unique identifier for the trip.                                                               |\n",
    "| `City A`            | Departure city (as text).                                                                     |\n",
    "| `City B`            | Destination city (as text).                                                                   |\n",
    "| `Distance`          | Actual distance between cities (in kilometers).                                               |\n",
    "| `Time of Day`       | Time of day expressed in minutes from midnight when the trip starts (0–1439).                 |\n",
    "| `Weather`           | Weather during the trip (Clear, Rain, Snow, Fog)                                              |\n",
    "| `Traffic`           | Traffic level on a numeric scale (0.0 – 1000.0), with the maximum meaning the most congested. |\n",
    "| `Road Quality`      | Road quality on a numeric scale (1 – 1000), with the maximum meaning the best quality.        |\n",
    "| `Driver Experience `| Driver’s level of experience (1 – 40 years).                                                  |\n",
    "| `deliver_time`      | Only in `train_data.csv`: the actual delivery time in minutes.                                |\n",
    "\n",
    "## 🎯 Your Mission\n",
    "\n",
    "The operations manager has given you the following two essential tasks to improve SmartCargo’s operations.\n",
    "\n",
    "The prediction dataset (`test_data.csv`) contains samples with the same features as the training set but without the `predicted_time` column.\n",
    "\n",
    "Your model will generate predictions for these samples.\n",
    "\n",
    "### Subtasks\n",
    "\n",
    "- Task 1 (20 points) – Bârlad Situation: An important client from Bârlad has reported frequent delays on trips under foggy conditions. The manager wants to know how many trips depart from `Bârlad` and during foggy (`Fog`) weather in the prediction dataset. Find and report the number of such trips.\n",
    "\n",
    "- Task 2 (80 points) – Estimating Times for Unknown Trips: The manager has a list of new trips for which the travel times are unknown. You must use historical data (from the training set) to train prediction models and then estimate the delivery times for all trips in the prediction dataset.\n",
    "\n",
    "### Output Format\n",
    "\n",
    "A CSV file `output.csv` that includes the following 3 columns:\n",
    "\n",
    "- `subtaskID` – the number of the subtask (1, 2).\n",
    "- `datapointID` – refers to the ID column in `test_data.csv`.\n",
    "- `answer` – the corresponding answer for the datapoint for that subtask.\n",
    "\n",
    "**Note:** For subtask 1, which requires a single answer for the entire dataset, output only one row with `datapointID` set to 1.\n",
    "\n",
    "Submit a single CSV file containing answers for all the subtasks you completed. To see an example, download the file `sample_output.csv` (Note: although it has the correct format, it earns 0 points upon submission).\n",
    "\n",
    "## Scoring\n",
    "\n",
    "Scores for the subtasks will be calculated as follows:\n",
    "\n",
    "- Subtask 1: integer answer; you receive 20 points only if it is correct.\n",
    "- Subtask 2: based on your model's performance, using the Mean Absolute Error (MAE) metric on the test dataset. You can find the exact scoring method based on MAE in the Starter Kit.\n",
    "\n",
    "> This is an English translation of the original Romanian task description, generated by ChatGPT.\n"
   ]
  },
  {
   "cell_type": "code",
   "execution_count": 1,
   "id": "40d87cd0-4a67-488f-9b17-f3b4578b3a7d",
   "metadata": {},
   "outputs": [],
   "source": [
    "import pandas as pd\n",
    "import numpy as np\n",
    "from sklearn.linear_model import LinearRegression\n",
    "from sklearn.preprocessing import StandardScaler, OneHotEncoder\n",
    "from sklearn.model_selection import cross_val_score\n",
    "from sklearn.compose import ColumnTransformer\n",
    "from sklearn.pipeline import Pipeline"
   ]
  },
  {
   "cell_type": "markdown",
   "id": "c96ef94a-4127-44bc-b9f5-cae4f2192ac5",
   "metadata": {},
   "source": [
    "## Load data"
   ]
  },
  {
   "cell_type": "code",
   "execution_count": 2,
   "id": "9c1c5d8f-36bd-4176-8f3a-6eee3dd64882",
   "metadata": {},
   "outputs": [
    {
     "data": {
      "text/html": [
       "<div>\n",
       "<style scoped>\n",
       "    .dataframe tbody tr th:only-of-type {\n",
       "        vertical-align: middle;\n",
       "    }\n",
       "\n",
       "    .dataframe tbody tr th {\n",
       "        vertical-align: top;\n",
       "    }\n",
       "\n",
       "    .dataframe thead th {\n",
       "        text-align: right;\n",
       "    }\n",
       "</style>\n",
       "<table border=\"1\" class=\"dataframe\">\n",
       "  <thead>\n",
       "    <tr style=\"text-align: right;\">\n",
       "      <th></th>\n",
       "      <th>ID</th>\n",
       "      <th>City A</th>\n",
       "      <th>City B</th>\n",
       "      <th>Distance</th>\n",
       "      <th>Time of Day</th>\n",
       "      <th>Weather</th>\n",
       "      <th>Traffic</th>\n",
       "      <th>Road Quality</th>\n",
       "      <th>Driver Experience</th>\n",
       "      <th>deliver_time</th>\n",
       "    </tr>\n",
       "  </thead>\n",
       "  <tbody>\n",
       "    <tr>\n",
       "      <th>0</th>\n",
       "      <td>1</td>\n",
       "      <td>Satu Mare</td>\n",
       "      <td>Suceava</td>\n",
       "      <td>352</td>\n",
       "      <td>452</td>\n",
       "      <td>Fog</td>\n",
       "      <td>154.014691</td>\n",
       "      <td>370</td>\n",
       "      <td>30</td>\n",
       "      <td>355</td>\n",
       "    </tr>\n",
       "    <tr>\n",
       "      <th>1</th>\n",
       "      <td>2</td>\n",
       "      <td>Ploiesti</td>\n",
       "      <td>Timisoara</td>\n",
       "      <td>519</td>\n",
       "      <td>1386</td>\n",
       "      <td>Clear</td>\n",
       "      <td>949.697532</td>\n",
       "      <td>701</td>\n",
       "      <td>2</td>\n",
       "      <td>529</td>\n",
       "    </tr>\n",
       "    <tr>\n",
       "      <th>2</th>\n",
       "      <td>3</td>\n",
       "      <td>Deva</td>\n",
       "      <td>Bacau</td>\n",
       "      <td>457</td>\n",
       "      <td>91</td>\n",
       "      <td>Fog</td>\n",
       "      <td>387.019309</td>\n",
       "      <td>45</td>\n",
       "      <td>26</td>\n",
       "      <td>465</td>\n",
       "    </tr>\n",
       "    <tr>\n",
       "      <th>3</th>\n",
       "      <td>4</td>\n",
       "      <td>Hunedoara</td>\n",
       "      <td>Focsani</td>\n",
       "      <td>447</td>\n",
       "      <td>1120</td>\n",
       "      <td>Clear</td>\n",
       "      <td>130.544017</td>\n",
       "      <td>643</td>\n",
       "      <td>6</td>\n",
       "      <td>441</td>\n",
       "    </tr>\n",
       "    <tr>\n",
       "      <th>4</th>\n",
       "      <td>5</td>\n",
       "      <td>Hunedoara</td>\n",
       "      <td>Arad</td>\n",
       "      <td>201</td>\n",
       "      <td>1096</td>\n",
       "      <td>Clear</td>\n",
       "      <td>619.557737</td>\n",
       "      <td>375</td>\n",
       "      <td>20</td>\n",
       "      <td>230</td>\n",
       "    </tr>\n",
       "    <tr>\n",
       "      <th>...</th>\n",
       "      <td>...</td>\n",
       "      <td>...</td>\n",
       "      <td>...</td>\n",
       "      <td>...</td>\n",
       "      <td>...</td>\n",
       "      <td>...</td>\n",
       "      <td>...</td>\n",
       "      <td>...</td>\n",
       "      <td>...</td>\n",
       "      <td>...</td>\n",
       "    </tr>\n",
       "    <tr>\n",
       "      <th>9995</th>\n",
       "      <td>9996</td>\n",
       "      <td>Targoviste</td>\n",
       "      <td>Targu Mures</td>\n",
       "      <td>280</td>\n",
       "      <td>907</td>\n",
       "      <td>Rain</td>\n",
       "      <td>563.783292</td>\n",
       "      <td>283</td>\n",
       "      <td>39</td>\n",
       "      <td>296</td>\n",
       "    </tr>\n",
       "    <tr>\n",
       "      <th>9996</th>\n",
       "      <td>9997</td>\n",
       "      <td>Brasov</td>\n",
       "      <td>Iasi</td>\n",
       "      <td>320</td>\n",
       "      <td>1409</td>\n",
       "      <td>Fog</td>\n",
       "      <td>189.985776</td>\n",
       "      <td>646</td>\n",
       "      <td>23</td>\n",
       "      <td>336</td>\n",
       "    </tr>\n",
       "    <tr>\n",
       "      <th>9997</th>\n",
       "      <td>9998</td>\n",
       "      <td>Botosani</td>\n",
       "      <td>Deva</td>\n",
       "      <td>506</td>\n",
       "      <td>890</td>\n",
       "      <td>Clear</td>\n",
       "      <td>337.350595</td>\n",
       "      <td>476</td>\n",
       "      <td>40</td>\n",
       "      <td>479</td>\n",
       "    </tr>\n",
       "    <tr>\n",
       "      <th>9998</th>\n",
       "      <td>9999</td>\n",
       "      <td>Iasi</td>\n",
       "      <td>Suceava</td>\n",
       "      <td>145</td>\n",
       "      <td>1086</td>\n",
       "      <td>Clear</td>\n",
       "      <td>454.312259</td>\n",
       "      <td>726</td>\n",
       "      <td>31</td>\n",
       "      <td>161</td>\n",
       "    </tr>\n",
       "    <tr>\n",
       "      <th>9999</th>\n",
       "      <td>10000</td>\n",
       "      <td>Sibiu</td>\n",
       "      <td>Vaslui</td>\n",
       "      <td>435</td>\n",
       "      <td>267</td>\n",
       "      <td>Snow</td>\n",
       "      <td>485.900952</td>\n",
       "      <td>557</td>\n",
       "      <td>34</td>\n",
       "      <td>429</td>\n",
       "    </tr>\n",
       "  </tbody>\n",
       "</table>\n",
       "<p>10000 rows × 10 columns</p>\n",
       "</div>"
      ],
      "text/plain": [
       "         ID      City A       City B  Distance  Time of Day Weather  \\\n",
       "0         1   Satu Mare      Suceava       352          452     Fog   \n",
       "1         2    Ploiesti    Timisoara       519         1386   Clear   \n",
       "2         3        Deva        Bacau       457           91     Fog   \n",
       "3         4   Hunedoara      Focsani       447         1120   Clear   \n",
       "4         5   Hunedoara         Arad       201         1096   Clear   \n",
       "...     ...         ...          ...       ...          ...     ...   \n",
       "9995   9996  Targoviste  Targu Mures       280          907    Rain   \n",
       "9996   9997      Brasov         Iasi       320         1409     Fog   \n",
       "9997   9998    Botosani         Deva       506          890   Clear   \n",
       "9998   9999        Iasi      Suceava       145         1086   Clear   \n",
       "9999  10000       Sibiu       Vaslui       435          267    Snow   \n",
       "\n",
       "         Traffic  Road Quality  Driver Experience  deliver_time  \n",
       "0     154.014691           370                 30           355  \n",
       "1     949.697532           701                  2           529  \n",
       "2     387.019309            45                 26           465  \n",
       "3     130.544017           643                  6           441  \n",
       "4     619.557737           375                 20           230  \n",
       "...          ...           ...                ...           ...  \n",
       "9995  563.783292           283                 39           296  \n",
       "9996  189.985776           646                 23           336  \n",
       "9997  337.350595           476                 40           479  \n",
       "9998  454.312259           726                 31           161  \n",
       "9999  485.900952           557                 34           429  \n",
       "\n",
       "[10000 rows x 10 columns]"
      ]
     },
     "execution_count": 2,
     "metadata": {},
     "output_type": "execute_result"
    }
   ],
   "source": [
    "df_train = pd.read_csv(\"train_data.csv\")\n",
    "df_test = pd.read_csv(\"test_data.csv\")\n",
    "df_train"
   ]
  },
  {
   "cell_type": "markdown",
   "id": "d48ed8b3-a3b6-4a63-a608-d803ef624555",
   "metadata": {},
   "source": [
    "## Subtask 1"
   ]
  },
  {
   "cell_type": "code",
   "execution_count": 3,
   "id": "6207ab23-0718-4969-a06d-54273c73fd3e",
   "metadata": {},
   "outputs": [
    {
     "data": {
      "text/plain": [
       "15"
      ]
     },
     "execution_count": 3,
     "metadata": {},
     "output_type": "execute_result"
    }
   ],
   "source": [
    "num_barlad_fog = ((df_test[\"City A\"] == \"Barlad\") & (df_test[\"Weather\"] == \"Fog\")).sum().item()\n",
    "num_barlad_fog"
   ]
  },
  {
   "cell_type": "code",
   "execution_count": 4,
   "id": "76f0f6b9-6529-4c03-8053-035f842c1ba2",
   "metadata": {},
   "outputs": [],
   "source": [
    "subtask1_rows = [(1, 1, num_barlad_fog)]"
   ]
  },
  {
   "cell_type": "markdown",
   "id": "1eed6287-1ec5-4703-9694-18ccf75b0fb3",
   "metadata": {},
   "source": [
    "## Subtask 2"
   ]
  },
  {
   "cell_type": "code",
   "execution_count": 5,
   "id": "6b131854-6a3b-4757-b82d-572dd6439586",
   "metadata": {},
   "outputs": [],
   "source": [
    "X_train = df_train.copy()\n",
    "X_train, y_train = X_train.drop([\"ID\", \"deliver_time\", \"City A\", \"City B\"], axis=1), X_train[\"deliver_time\"]\n",
    "X_test = df_test.copy().drop(\"ID\", axis=1)"
   ]
  },
  {
   "cell_type": "code",
   "execution_count": 6,
   "id": "1ece07c2-a596-468e-aa60-ca39a2b14e09",
   "metadata": {},
   "outputs": [
    {
     "data": {
      "text/plain": [
       "Distance               int64\n",
       "Time of Day            int64\n",
       "Weather               object\n",
       "Traffic              float64\n",
       "Road Quality           int64\n",
       "Driver Experience      int64\n",
       "dtype: object"
      ]
     },
     "execution_count": 6,
     "metadata": {},
     "output_type": "execute_result"
    }
   ],
   "source": [
    "X_train.dtypes"
   ]
  },
  {
   "cell_type": "code",
   "execution_count": 7,
   "id": "66bbea3f-f662-46c1-aab2-c785cb8fb65e",
   "metadata": {
    "scrolled": true
   },
   "outputs": [
    {
     "name": "stdout",
     "output_type": "stream",
     "text": [
      "Weather    ['Fog' 'Clear' 'Rain' 'Snow']\n"
     ]
    }
   ],
   "source": [
    "cat_cols = []\n",
    "num_cols = []\n",
    "for col in X_train.columns:\n",
    "    if X_train[col].dtype == \"object\":\n",
    "        cat_cols.append(col)\n",
    "        print(f\"{col:<10}\", X_train[col].unique())\n",
    "    else:\n",
    "        num_cols.append(col)"
   ]
  },
  {
   "cell_type": "code",
   "execution_count": 8,
   "id": "b93a26fe-7207-4682-bbaa-0b3caa3b046c",
   "metadata": {},
   "outputs": [],
   "source": [
    "preprocessor = ColumnTransformer([\n",
    "    (\"cat\", OneHotEncoder(drop=\"first\"), cat_cols),\n",
    "    (\"num\", StandardScaler(), num_cols)\n",
    "])"
   ]
  },
  {
   "cell_type": "code",
   "execution_count": 9,
   "id": "93c14e23-3e85-472e-9499-ab7498043e80",
   "metadata": {},
   "outputs": [],
   "source": [
    "pipeline = Pipeline([\n",
    "    (\"pre\", preprocessor),\n",
    "    (\"reg\", LinearRegression())\n",
    "])"
   ]
  },
  {
   "cell_type": "code",
   "execution_count": 10,
   "id": "fd347936-f5af-45e6-b717-78b41211248f",
   "metadata": {
    "scrolled": true
   },
   "outputs": [
    {
     "data": {
      "text/plain": [
       "array([1.67558831, 1.65138414, 1.63703101, 1.63356371, 1.59481032])"
      ]
     },
     "execution_count": 10,
     "metadata": {},
     "output_type": "execute_result"
    }
   ],
   "source": [
    "cross_val_score(pipeline, X_train, y_train, cv=5, scoring=\"neg_mean_absolute_error\") * -1"
   ]
  },
  {
   "cell_type": "code",
   "execution_count": 11,
   "id": "b65cce65-5635-4b0a-a489-0f060b22a904",
   "metadata": {},
   "outputs": [],
   "source": [
    "pipeline.fit(X_train, y_train)\n",
    "preds = pipeline.predict(X_test)"
   ]
  },
  {
   "cell_type": "code",
   "execution_count": 12,
   "id": "6da53a79-7e85-477e-8a9e-07a834cc3d8f",
   "metadata": {},
   "outputs": [],
   "source": [
    "subtask2_rows = []\n",
    "for id_, val in zip(df_test[\"ID\"], preds):\n",
    "    subtask2_rows.append((2, id_, val))"
   ]
  },
  {
   "cell_type": "markdown",
   "id": "20d4c4fc-4762-450a-8495-54f98f96a03c",
   "metadata": {},
   "source": [
    "## Save answers"
   ]
  },
  {
   "cell_type": "code",
   "execution_count": 13,
   "id": "ff01568e-0a17-4f06-b28f-121fe975c48f",
   "metadata": {},
   "outputs": [],
   "source": [
    "submission_rows = subtask1_rows + subtask2_rows\n",
    "df_submission = pd.DataFrame(submission_rows, columns=[\"subtaskID\", \"datapointID\", \"answer\"])\n",
    "df_submission.to_csv(\"submission.csv\", index=False)"
   ]
  },
  {
   "cell_type": "markdown",
   "id": "148926e1-5f83-41f8-8e9a-29dd79032356",
   "metadata": {},
   "source": [
    "## Submission results\n",
    "\n",
    "Subtask 1:\n",
    "- Equality: 1\n",
    "- Score: 21/21\n",
    "\n",
    "Subtask 2:\n",
    "- MAE: 1.606679\n",
    "- Score: 79/79\n"
   ]
  }
 ],
 "metadata": {
  "kernelspec": {
   "display_name": "Python 3 (ipykernel)",
   "language": "python",
   "name": "python3"
  },
  "language_info": {
   "codemirror_mode": {
    "name": "ipython",
    "version": 3
   },
   "file_extension": ".py",
   "mimetype": "text/x-python",
   "name": "python",
   "nbconvert_exporter": "python",
   "pygments_lexer": "ipython3",
   "version": "3.12.6"
  }
 },
 "nbformat": 4,
 "nbformat_minor": 5
}
