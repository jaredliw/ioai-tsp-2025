{
 "cells": [
  {
   "cell_type": "markdown",
   "id": "c4fb260b-dc28-452c-b123-ebe82b277ee8",
   "metadata": {},
   "source": [
    "# Cram School Easter Round: Cybersecurity AI Challenge"
   ]
  },
  {
   "cell_type": "code",
   "execution_count": 1,
   "id": "367dd76a-b8f8-4b85-af6f-3098dd98d1a2",
   "metadata": {},
   "outputs": [],
   "source": [
    "import pandas as pd\n",
    "import numpy as np\n",
    "import matplotlib.pyplot as plt\n",
    "from sklearn.neural_network import MLPClassifier\n",
    "from sklearn.model_selection import StratifiedKFold\n",
    "from sklearn.metrics import f1_score"
   ]
  },
  {
   "cell_type": "markdown",
   "id": "d1228f0f-df45-4926-b3ff-a8c4fcb25ceb",
   "metadata": {},
   "source": [
    "## Load the data"
   ]
  },
  {
   "cell_type": "code",
   "execution_count": 2,
   "id": "e787c108-3aa1-4fe2-b9c7-5ca6170c15ff",
   "metadata": {},
   "outputs": [],
   "source": [
    "df_train = pd.read_csv(\"./train_data.csv\",  dtype={\"id\": str})\n",
    "df_test = pd.read_csv(\"./test_data.csv\",  dtype={\"id\": str})"
   ]
  },
  {
   "cell_type": "code",
   "execution_count": 3,
   "id": "015cc2ac-c228-4e28-961a-b0beb146b9f1",
   "metadata": {},
   "outputs": [],
   "source": [
    "df_train[\"pixels\"] = df_train[\"pixels\"].apply(eval)\n",
    "df_test[\"pixels\"] = df_test[\"pixels\"].apply(eval)"
   ]
  },
  {
   "cell_type": "code",
   "execution_count": 4,
   "id": "d0cd4257-9ab1-4c41-8e71-502c3860b9b2",
   "metadata": {},
   "outputs": [
    {
     "data": {
      "text/plain": [
       "(856, 819)"
      ]
     },
     "execution_count": 4,
     "metadata": {},
     "output_type": "execute_result"
    }
   ],
   "source": [
    "len(df_train), len(df_test)"
   ]
  },
  {
   "cell_type": "code",
   "execution_count": 5,
   "id": "c6bb2e83-e15b-486d-8b9e-59a002da7f43",
   "metadata": {},
   "outputs": [
    {
     "data": {
      "text/html": [
       "<div>\n",
       "<style scoped>\n",
       "    .dataframe tbody tr th:only-of-type {\n",
       "        vertical-align: middle;\n",
       "    }\n",
       "\n",
       "    .dataframe tbody tr th {\n",
       "        vertical-align: top;\n",
       "    }\n",
       "\n",
       "    .dataframe thead th {\n",
       "        text-align: right;\n",
       "    }\n",
       "</style>\n",
       "<table border=\"1\" class=\"dataframe\">\n",
       "  <thead>\n",
       "    <tr style=\"text-align: right;\">\n",
       "      <th></th>\n",
       "      <th>id</th>\n",
       "      <th>pixels</th>\n",
       "      <th>class</th>\n",
       "    </tr>\n",
       "  </thead>\n",
       "  <tbody>\n",
       "    <tr>\n",
       "      <th>0</th>\n",
       "      <td>015002</td>\n",
       "      <td>[-0.10046728971962617, -0.10046728971962617, -...</td>\n",
       "      <td>1</td>\n",
       "    </tr>\n",
       "    <tr>\n",
       "      <th>1</th>\n",
       "      <td>015003</td>\n",
       "      <td>[-0.10046728971962617, -0.10046728971962617, -...</td>\n",
       "      <td>0</td>\n",
       "    </tr>\n",
       "    <tr>\n",
       "      <th>2</th>\n",
       "      <td>015006</td>\n",
       "      <td>[-0.10046728971962617, -0.10046728971962617, -...</td>\n",
       "      <td>0</td>\n",
       "    </tr>\n",
       "    <tr>\n",
       "      <th>3</th>\n",
       "      <td>015010</td>\n",
       "      <td>[-0.10046728971962617, -0.10046728971962617, -...</td>\n",
       "      <td>0</td>\n",
       "    </tr>\n",
       "    <tr>\n",
       "      <th>4</th>\n",
       "      <td>015011</td>\n",
       "      <td>[-0.10046728971962617, -0.10046728971962617, -...</td>\n",
       "      <td>0</td>\n",
       "    </tr>\n",
       "  </tbody>\n",
       "</table>\n",
       "</div>"
      ],
      "text/plain": [
       "       id                                             pixels  class\n",
       "0  015002  [-0.10046728971962617, -0.10046728971962617, -...      1\n",
       "1  015003  [-0.10046728971962617, -0.10046728971962617, -...      0\n",
       "2  015006  [-0.10046728971962617, -0.10046728971962617, -...      0\n",
       "3  015010  [-0.10046728971962617, -0.10046728971962617, -...      0\n",
       "4  015011  [-0.10046728971962617, -0.10046728971962617, -...      0"
      ]
     },
     "execution_count": 5,
     "metadata": {},
     "output_type": "execute_result"
    }
   ],
   "source": [
    "df_train.head()"
   ]
  },
  {
   "cell_type": "code",
   "execution_count": 6,
   "id": "5a97bf53-eba1-4f96-80a9-addf7791d96d",
   "metadata": {},
   "outputs": [
    {
     "data": {
      "text/plain": [
       "(array([4096]), array([4096]))"
      ]
     },
     "execution_count": 6,
     "metadata": {},
     "output_type": "execute_result"
    }
   ],
   "source": [
    "df_train[\"pixels\"].apply(len).unique(), df_test[\"pixels\"].apply(len).unique()"
   ]
  },
  {
   "cell_type": "markdown",
   "id": "c102eb0b-b022-4aac-9517-c6cb97b0d3a3",
   "metadata": {},
   "source": [
    "## Subtask 1"
   ]
  },
  {
   "cell_type": "code",
   "execution_count": 7,
   "id": "09caed86-2200-450d-8d42-537292ca0520",
   "metadata": {},
   "outputs": [
    {
     "data": {
      "text/plain": [
       "(856, 4096)"
      ]
     },
     "execution_count": 7,
     "metadata": {},
     "output_type": "execute_result"
    }
   ],
   "source": [
    "imgs = np.array(df_train[\"pixels\"].to_list())\n",
    "imgs.shape"
   ]
  },
  {
   "cell_type": "code",
   "execution_count": 8,
   "id": "a08a345a-c58a-4de8-8481-c81abaa6fa24",
   "metadata": {},
   "outputs": [],
   "source": [
    "mean = imgs.mean(axis=0)\n",
    "df_train[\"pixels\"] = df_train[\"pixels\"].apply(lambda x: x - mean)"
   ]
  },
  {
   "cell_type": "code",
   "execution_count": 9,
   "id": "cea29531-0d29-4f7e-8f7e-cb055f163ed5",
   "metadata": {},
   "outputs": [],
   "source": [
    "subtask1_rows = []\n",
    "for i, row in df_train.iterrows():\n",
    "    subtask1_rows.append((1, row[\"id\"], row[\"pixels\"]))"
   ]
  },
  {
   "cell_type": "code",
   "execution_count": 10,
   "id": "82962443-1f74-4675-b25c-794b2f80e428",
   "metadata": {},
   "outputs": [
    {
     "data": {
      "text/plain": [
       "[(1,\n",
       "  '015002',\n",
       "  array([-0.10046729, -0.10046729, -0.10046729, ..., -0.57476636,\n",
       "         -0.66238318, -0.43457944], shape=(4096,))),\n",
       " (1,\n",
       "  '015003',\n",
       "  array([-0.10046729, -0.10046729, -0.10046729, ..., -0.57476636,\n",
       "         -0.66238318, -0.43457944], shape=(4096,))),\n",
       " (1,\n",
       "  '015006',\n",
       "  array([-0.10046729, -0.10046729, -0.10046729, ..., -0.57476636,\n",
       "         -0.66238318, -0.43457944], shape=(4096,))),\n",
       " (1,\n",
       "  '015010',\n",
       "  array([-0.10046729, -0.10046729, -0.10046729, ..., -0.57476636,\n",
       "         -0.66238318, -0.43457944], shape=(4096,))),\n",
       " (1,\n",
       "  '015011',\n",
       "  array([-0.10046729, -0.10046729, -0.10046729, ..., -0.57476636,\n",
       "         -0.66238318, -0.43457944], shape=(4096,)))]"
      ]
     },
     "execution_count": 10,
     "metadata": {},
     "output_type": "execute_result"
    }
   ],
   "source": [
    "subtask1_rows[:5]  # First 5"
   ]
  },
  {
   "cell_type": "code",
   "execution_count": 11,
   "id": "598f7950-5d7c-49b9-902d-aac17d673268",
   "metadata": {},
   "outputs": [],
   "source": [
    "df_test[\"pixels\"] = df_test[\"pixels\"].apply(lambda x: x - mean)"
   ]
  },
  {
   "cell_type": "markdown",
   "id": "4ee1a1e9-aa7b-4e15-9ab2-f47d2c3984dc",
   "metadata": {},
   "source": [
    "## Subtask 2"
   ]
  },
  {
   "cell_type": "code",
   "execution_count": 12,
   "id": "e11996fb-fa07-4a9d-816a-7a06f418a9eb",
   "metadata": {},
   "outputs": [],
   "source": [
    "X = pd.DataFrame(df_train[\"pixels\"].to_list()).to_numpy()\n",
    "y = df_train[\"class\"].to_numpy()"
   ]
  },
  {
   "cell_type": "code",
   "execution_count": 13,
   "id": "b3e7229c-6ff5-47fe-ae3e-667dd5f6d3f1",
   "metadata": {},
   "outputs": [
    {
     "data": {
      "text/plain": [
       "(array([0, 1]), array([690, 166]))"
      ]
     },
     "execution_count": 13,
     "metadata": {},
     "output_type": "execute_result"
    }
   ],
   "source": [
    "np.unique(y, return_counts=True)"
   ]
  },
  {
   "cell_type": "code",
   "execution_count": 14,
   "id": "638eb0c2-cd46-4881-95f9-ec7f1a9b2dd9",
   "metadata": {},
   "outputs": [
    {
     "data": {
      "image/png": "[encoded data removed]",
      "text/plain": [
       "<Figure size 800x400 with 2 Axes>"
      ]
     },
     "metadata": {},
     "output_type": "display_data"
    }
   ],
   "source": [
    "fig, axes = plt.subplots(1, 2, figsize=(8, 4))\n",
    "\n",
    "for i in range(2):\n",
    "    axes[i].imshow(X[i].reshape(64, 64), cmap='gray')\n",
    "    axes[i].set_title(f\"Label {y[i].item()}\")\n",
    "    axes[i].axis('off')"
   ]
  },
  {
   "cell_type": "code",
   "execution_count": 15,
   "id": "ff606e1d-d901-40cd-8976-e3efccdcff0f",
   "metadata": {},
   "outputs": [],
   "source": [
    "kf = StratifiedKFold(n_splits=5, shuffle=True, random_state=42)"
   ]
  },
  {
   "cell_type": "code",
   "execution_count": 16,
   "id": "da2326e8-d750-4d59-8e0c-06d06791694f",
   "metadata": {},
   "outputs": [],
   "source": [
    "clf = MLPClassifier((128, 64, 32), random_state=42)"
   ]
  },
  {
   "cell_type": "code",
   "execution_count": 17,
   "id": "ee44f79b-af4a-4c5b-8cfc-4595c9b5c326",
   "metadata": {},
   "outputs": [
    {
     "name": "stdout",
     "output_type": "stream",
     "text": [
      "Fold 1 F1 score: 0.6334185848252345\n",
      "Fold 2 F1 score: 0.6144562334217507\n",
      "Fold 3 F1 score: 0.5302197802197802\n",
      "Fold 4 F1 score: 0.575531914893617\n",
      "Fold 5 F1 score: 0.6641184902054468\n"
     ]
    }
   ],
   "source": [
    "for fold, (train_idx, val_idx) in enumerate(kf.split(X, y), 1):\n",
    "    X_train, X_val = X[train_idx], X[val_idx]\n",
    "    y_train, y_val = y[train_idx], y[val_idx]\n",
    "    \n",
    "    clf.fit(X_train, y_train)\n",
    "    y_pred = clf.predict(X_val)\n",
    "    acc = f1_score(y_val, y_pred, average=\"macro\")\n",
    "    print(f\"Fold {fold} F1 score: {acc}\")"
   ]
  },
  {
   "cell_type": "code",
   "execution_count": 18,
   "id": "964f753d-8277-4049-a905-ab488d29bb9f",
   "metadata": {},
   "outputs": [],
   "source": [
    "X_test = pd.DataFrame(df_test[\"pixels\"].to_list()).to_numpy()\n",
    "y_pred = clf.predict(X_test)"
   ]
  },
  {
   "cell_type": "code",
   "execution_count": 19,
   "id": "547286b8-d8d0-442b-8ea2-0f97f4674923",
   "metadata": {},
   "outputs": [],
   "source": [
    "subtask2_rows = []\n",
    "for id_, pred in zip(df_test[\"id\"], y_pred):\n",
    "    subtask2_rows.append((2, id_, pred))"
   ]
  },
  {
   "cell_type": "markdown",
   "id": "8c46ae48-051c-4c0a-8c57-1f10dc8785ff",
   "metadata": {},
   "source": [
    "## Save answers"
   ]
  },
  {
   "cell_type": "code",
   "execution_count": 20,
   "id": "93c1698c-b2f6-46e5-b557-d7ca0c7b7bdf",
   "metadata": {},
   "outputs": [],
   "source": [
    "submission_rows = subtask1_rows + subtask2_rows\n",
    "df_submission = pd.DataFrame(submission_rows, columns=[\"subtaskID\", \"datapointID\", \"answer\"])\n",
    "df_submission.to_csv(\"submission.csv\", index=False)"
   ]
  },
  {
   "cell_type": "markdown",
   "id": "51676a91-180c-4dce-8581-6e63f87bfe4a",
   "metadata": {},
   "source": [
    "## Submission results\n",
    "\n",
    "Subtask 1:\n",
    "- Accuracy: 1\n",
    "- Score: 20/20\n",
    "\n",
    "Subtask 2:\n",
    "- F1 score: 0.6087\n",
    "- Score: 80/80"
   ]
  }
 ],
 "metadata": {
  "kernelspec": {
   "display_name": "Python 3 (ipykernel)",
   "language": "python",
   "name": "python3"
  },
  "language_info": {
   "codemirror_mode": {
    "name": "ipython",
    "version": 3
   },
   "file_extension": ".py",
   "mimetype": "text/x-python",
   "name": "python",
   "nbconvert_exporter": "python",
   "pygments_lexer": "ipython3",
   "version": "3.12.6"
  }
 },
 "nbformat": 4,
 "nbformat_minor": 5
}
