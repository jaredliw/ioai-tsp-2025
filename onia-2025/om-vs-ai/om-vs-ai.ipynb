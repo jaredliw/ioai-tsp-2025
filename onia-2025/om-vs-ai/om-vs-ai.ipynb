{
 "cells": [
  {
   "cell_type": "markdown",
   "id": "86dccdfb-1fec-4660-b4bd-254b09e2ca6d",
   "metadata": {},
   "source": [
    "# 🧔 Om vs AI (Human vs AI) 🤖"
   ]
  },
  {
   "cell_type": "code",
   "execution_count": 1,
   "id": "4597d80f-6d60-42d1-828d-e56e9bd87b3f",
   "metadata": {},
   "outputs": [
    {
     "name": "stderr",
     "output_type": "stream",
     "text": [
      "[nltk_data] Downloading package stopwords to\n",
      "[nltk_data]     C:\\Users\\ASUS\\AppData\\Roaming\\nltk_data...\n",
      "[nltk_data]   Package stopwords is already up-to-date!\n"
     ]
    }
   ],
   "source": [
    "import pandas as pd\n",
    "import numpy as np\n",
    "import matplotlib.pyplot as plt\n",
    "from sklearn.svm import SVC\n",
    "from sklearn.feature_extraction.text import TfidfVectorizer\n",
    "from sklearn.preprocessing import normalize\n",
    "from sklearn.cluster import KMeans\n",
    "from sklearn.model_selection import cross_val_score\n",
    "from sklearn.pipeline import Pipeline\n",
    "from gensim.models import Doc2Vec\n",
    "from gensim.models.doc2vec import TaggedDocument\n",
    "from gensim.utils import simple_preprocess\n",
    "\n",
    "import nltk\n",
    "nltk.download(\"stopwords\")\n",
    "from nltk.corpus import stopwords"
   ]
  },
  {
   "cell_type": "markdown",
   "id": "7cde1158-2df2-427f-bb1e-d4f126a1e5d0",
   "metadata": {},
   "source": [
    "## Load data"
   ]
  },
  {
   "cell_type": "code",
   "execution_count": 2,
   "id": "e6ff7761-4a33-409e-8a7c-d433ddf83559",
   "metadata": {},
   "outputs": [
    {
     "data": {
      "text/html": [
       "<div>\n",
       "<style scoped>\n",
       "    .dataframe tbody tr th:only-of-type {\n",
       "        vertical-align: middle;\n",
       "    }\n",
       "\n",
       "    .dataframe tbody tr th {\n",
       "        vertical-align: top;\n",
       "    }\n",
       "\n",
       "    .dataframe thead th {\n",
       "        text-align: right;\n",
       "    }\n",
       "</style>\n",
       "<table border=\"1\" class=\"dataframe\">\n",
       "  <thead>\n",
       "    <tr style=\"text-align: right;\">\n",
       "      <th></th>\n",
       "      <th>text</th>\n",
       "      <th>label</th>\n",
       "    </tr>\n",
       "  </thead>\n",
       "  <tbody>\n",
       "    <tr>\n",
       "      <th>0</th>\n",
       "      <td>In \"Tie Challenge of Exploring Venus,\" tie aut...</td>\n",
       "      <td>0.0</td>\n",
       "    </tr>\n",
       "    <tr>\n",
       "      <th>1</th>\n",
       "      <td>These sources focus on the advantages of limit...</td>\n",
       "      <td>0.0</td>\n",
       "    </tr>\n",
       "    <tr>\n",
       "      <th>2</th>\n",
       "      <td>This new technology can really figure out if y...</td>\n",
       "      <td>0.0</td>\n",
       "    </tr>\n",
       "    <tr>\n",
       "      <th>3</th>\n",
       "      <td>In today's society, technology is used everyda...</td>\n",
       "      <td>0.0</td>\n",
       "    </tr>\n",
       "    <tr>\n",
       "      <th>4</th>\n",
       "      <td>Limiting car usage is a topic that has been g...</td>\n",
       "      <td>1.0</td>\n",
       "    </tr>\n",
       "    <tr>\n",
       "      <th>...</th>\n",
       "      <td>...</td>\n",
       "      <td>...</td>\n",
       "    </tr>\n",
       "    <tr>\n",
       "      <th>9995</th>\n",
       "      <td>In my opinion, the Electoral College is not an...</td>\n",
       "      <td>0.0</td>\n",
       "    </tr>\n",
       "    <tr>\n",
       "      <th>9996</th>\n",
       "      <td>What if you could go to school at home OE you'...</td>\n",
       "      <td>0.0</td>\n",
       "    </tr>\n",
       "    <tr>\n",
       "      <th>9997</th>\n",
       "      <td>I am all for this new technology to read peopl...</td>\n",
       "      <td>0.0</td>\n",
       "    </tr>\n",
       "    <tr>\n",
       "      <th>9998</th>\n",
       "      <td>Call, though useful, have negative impacts on ...</td>\n",
       "      <td>0.0</td>\n",
       "    </tr>\n",
       "    <tr>\n",
       "      <th>9999</th>\n",
       "      <td>I am going to argue for the value of having th...</td>\n",
       "      <td>0.0</td>\n",
       "    </tr>\n",
       "  </tbody>\n",
       "</table>\n",
       "<p>10000 rows × 2 columns</p>\n",
       "</div>"
      ],
      "text/plain": [
       "                                                   text  label\n",
       "0     In \"Tie Challenge of Exploring Venus,\" tie aut...    0.0\n",
       "1     These sources focus on the advantages of limit...    0.0\n",
       "2     This new technology can really figure out if y...    0.0\n",
       "3     In today's society, technology is used everyda...    0.0\n",
       "4      Limiting car usage is a topic that has been g...    1.0\n",
       "...                                                 ...    ...\n",
       "9995  In my opinion, the Electoral College is not an...    0.0\n",
       "9996  What if you could go to school at home OE you'...    0.0\n",
       "9997  I am all for this new technology to read peopl...    0.0\n",
       "9998  Call, though useful, have negative impacts on ...    0.0\n",
       "9999  I am going to argue for the value of having th...    0.0\n",
       "\n",
       "[10000 rows x 2 columns]"
      ]
     },
     "execution_count": 2,
     "metadata": {},
     "output_type": "execute_result"
    }
   ],
   "source": [
    "df_train = pd.read_csv(\"train_data.csv\").drop(\"ID\", axis=1)\n",
    "df_test = pd.read_csv(\"test_data.csv\")\n",
    "df_test1, df_test2 = df_test[df_test[\"subtaskID\"] == 1].drop(\"subtaskID\", axis=1), \\\n",
    "                     df_test[df_test[\"subtaskID\"] == 2].drop(\"subtaskID\", axis=1)\n",
    "df_train"
   ]
  },
  {
   "cell_type": "markdown",
   "id": "fca0442f-c41f-4283-9e75-bff77d42feb5",
   "metadata": {},
   "source": [
    "## Subtask 1"
   ]
  },
  {
   "cell_type": "code",
   "execution_count": 3,
   "id": "f144f8ef-3dbb-4407-b4c2-ae88e38c8ca3",
   "metadata": {},
   "outputs": [],
   "source": [
    "X_train, y_train = df_train[\"text\"], df_train[\"label\"]\n",
    "X_test1 = df_test1[\"text\"]"
   ]
  },
  {
   "cell_type": "code",
   "execution_count": 4,
   "id": "da0d5bec-dfaa-40ca-b54e-8f3b1fa0c404",
   "metadata": {},
   "outputs": [],
   "source": [
    "pipeline = Pipeline([\n",
    "    (\"tf\", TfidfVectorizer()),\n",
    "    (\"lr\", SVC(random_state=42))\n",
    "])"
   ]
  },
  {
   "cell_type": "code",
   "execution_count": 5,
   "id": "662e74df-7370-491c-86a6-e867b243e054",
   "metadata": {},
   "outputs": [
    {
     "data": {
      "text/plain": [
       "array([0.93573265, 0.93975904, 0.92881944, 0.92493529, 0.92728828])"
      ]
     },
     "execution_count": 5,
     "metadata": {},
     "output_type": "execute_result"
    }
   ],
   "source": [
    "cross_val_score(pipeline, X_train, y_train, cv=5, scoring=\"f1\")"
   ]
  },
  {
   "cell_type": "code",
   "execution_count": 6,
   "id": "f1c56c70-ef99-484d-abc1-63eaa6815ebf",
   "metadata": {},
   "outputs": [],
   "source": [
    "pipeline.fit(X_train, y_train)\n",
    "preds1 = pipeline.predict(X_test1)"
   ]
  },
  {
   "cell_type": "code",
   "execution_count": 7,
   "id": "3132c298-2690-4287-9f39-2bbdc2ae56f5",
   "metadata": {},
   "outputs": [],
   "source": [
    "subtask1_rows = []\n",
    "for id_, val in zip(df_test1[\"ID\"], preds1):\n",
    "    subtask1_rows.append((1, id_, val))"
   ]
  },
  {
   "cell_type": "markdown",
   "id": "8dafa1dc-ed1a-42e6-bc91-59bd1b6844f3",
   "metadata": {},
   "source": [
    "## Subtask 2"
   ]
  },
  {
   "cell_type": "code",
   "execution_count": 8,
   "id": "617ba839-c2f4-48f2-8eda-5883eca48727",
   "metadata": {},
   "outputs": [
    {
     "data": {
      "text/plain": [
       "4763    Richard Smith, the CEO of credit monitoring co...\n",
       "4764    As average temperatures rise across the planet...\n",
       "4765    In a complaint filed Wednesday, the Securities...\n",
       "4766    Imagine a world in which women without viable ...\n",
       "4767    Two Arizona women, Tahnee Gonzales and Elizabe...\n",
       "                              ...                        \n",
       "5558    A woman in New York was charged with attempted...\n",
       "5559    When I lived in Appalachia, an elementary scho...\n",
       "5560    STOCKHOLM/LONDON (Reuters) - A trio of Swiss, ...\n",
       "5561    by Geoff West Washington lobbying groups spent...\n",
       "5562    Millennials have been getting hammered by the ...\n",
       "Name: text, Length: 800, dtype: object"
      ]
     },
     "execution_count": 8,
     "metadata": {},
     "output_type": "execute_result"
    }
   ],
   "source": [
    "X_test2 = df_test2[\"text\"]\n",
    "X_test2"
   ]
  },
  {
   "cell_type": "code",
   "execution_count": 9,
   "id": "1cdb5144-d639-4e50-9694-65b191fb360a",
   "metadata": {},
   "outputs": [],
   "source": [
    "stop_words = set(stopwords.words(\"english\"))"
   ]
  },
  {
   "cell_type": "code",
   "execution_count": 10,
   "id": "2481a80b-cb19-4eca-9939-aaf1e3a725a4",
   "metadata": {},
   "outputs": [],
   "source": [
    "def preprocess(entries):\n",
    "    result = []\n",
    "    for entry in entries:\n",
    "        tokens = list(filter(lambda x: x not in stop_words, simple_preprocess(entry.lower())))\n",
    "        result.append(tokens)\n",
    "    return result"
   ]
  },
  {
   "cell_type": "code",
   "execution_count": 11,
   "id": "c1613d0a-527c-491e-8386-e0d81a44d48c",
   "metadata": {},
   "outputs": [],
   "source": [
    "X_test2_tok = preprocess(X_test2)"
   ]
  },
  {
   "cell_type": "code",
   "execution_count": 12,
   "id": "778827b1-43bb-4a90-b150-0de48bc8d731",
   "metadata": {},
   "outputs": [],
   "source": [
    "documents = [TaggedDocument(tokens, [i]) for i, tokens in enumerate(X_test2_tok)]\n",
    "\n",
    "d2v = Doc2Vec(vector_size=60, window=5, min_count=1, workers=1, epochs=80, seed=42)\n",
    "d2v.build_vocab(documents)\n",
    "d2v.train(documents, total_examples=d2v.corpus_count, epochs=d2v.epochs)"
   ]
  },
  {
   "cell_type": "code",
   "execution_count": 13,
   "id": "88913471-edcd-4afa-8511-bcdfe3d54cb5",
   "metadata": {},
   "outputs": [
    {
     "data": {
      "text/plain": [
       "(800, 60)"
      ]
     },
     "execution_count": 13,
     "metadata": {},
     "output_type": "execute_result"
    }
   ],
   "source": [
    "X_test2_vec = np.vstack([d2v.dv[i] for i in range(len(X_test2_tok))])\n",
    "X_test2_vec /= np.linalg.norm(X_test2_vec, axis=1, keepdims=True)  # Normalize to unit vectors\n",
    "X_test2_vec.shape"
   ]
  },
  {
   "cell_type": "code",
   "execution_count": 14,
   "id": "4c47b08b-ccdf-4ac6-a5cb-28cb066fd2f6",
   "metadata": {},
   "outputs": [
    {
     "data": {
      "text/plain": [
       "(array([0, 1, 2, 3]), array([206, 203, 198, 193], dtype=int64))"
      ]
     },
     "execution_count": 14,
     "metadata": {},
     "output_type": "execute_result"
    }
   ],
   "source": [
    "km = KMeans(4, random_state=42)\n",
    "preds = km.fit_predict(X_test2_vec)\n",
    "\n",
    "np.unique(preds, return_counts=True)"
   ]
  },
  {
   "cell_type": "code",
   "execution_count": 15,
   "id": "68ad836a-d7ed-4f3f-ba42-d9846339515a",
   "metadata": {},
   "outputs": [
    {
     "data": {
      "text/html": [
       "<div>\n",
       "<style scoped>\n",
       "    .dataframe tbody tr th:only-of-type {\n",
       "        vertical-align: middle;\n",
       "    }\n",
       "\n",
       "    .dataframe tbody tr th {\n",
       "        vertical-align: top;\n",
       "    }\n",
       "\n",
       "    .dataframe thead th {\n",
       "        text-align: right;\n",
       "    }\n",
       "</style>\n",
       "<table border=\"1\" class=\"dataframe\">\n",
       "  <thead>\n",
       "    <tr style=\"text-align: right;\">\n",
       "      <th></th>\n",
       "      <th>text</th>\n",
       "      <th>cluster</th>\n",
       "    </tr>\n",
       "  </thead>\n",
       "  <tbody>\n",
       "    <tr>\n",
       "      <th>4763</th>\n",
       "      <td>Richard Smith, the CEO of credit monitoring co...</td>\n",
       "      <td>0</td>\n",
       "    </tr>\n",
       "    <tr>\n",
       "      <th>4765</th>\n",
       "      <td>In a complaint filed Wednesday, the Securities...</td>\n",
       "      <td>0</td>\n",
       "    </tr>\n",
       "    <tr>\n",
       "      <th>4772</th>\n",
       "      <td>Since fall always feels like a reset, there’s ...</td>\n",
       "      <td>0</td>\n",
       "    </tr>\n",
       "    <tr>\n",
       "      <th>4778</th>\n",
       "      <td>Six months after acquiring Whole Foods, Amazon...</td>\n",
       "      <td>0</td>\n",
       "    </tr>\n",
       "    <tr>\n",
       "      <th>4784</th>\n",
       "      <td>Hackers breached MyFitnessPal, a popular calor...</td>\n",
       "      <td>0</td>\n",
       "    </tr>\n",
       "    <tr>\n",
       "      <th>...</th>\n",
       "      <td>...</td>\n",
       "      <td>...</td>\n",
       "    </tr>\n",
       "    <tr>\n",
       "      <th>5545</th>\n",
       "      <td>Uber, which just this week reportedly picked a...</td>\n",
       "      <td>0</td>\n",
       "    </tr>\n",
       "    <tr>\n",
       "      <th>5550</th>\n",
       "      <td>Why your diversity and unconscious bias traini...</td>\n",
       "      <td>0</td>\n",
       "    </tr>\n",
       "    <tr>\n",
       "      <th>5551</th>\n",
       "      <td>Since its launch in 2013, neo-Nazi website The...</td>\n",
       "      <td>0</td>\n",
       "    </tr>\n",
       "    <tr>\n",
       "      <th>5561</th>\n",
       "      <td>by Geoff West Washington lobbying groups spent...</td>\n",
       "      <td>0</td>\n",
       "    </tr>\n",
       "    <tr>\n",
       "      <th>5562</th>\n",
       "      <td>Millennials have been getting hammered by the ...</td>\n",
       "      <td>0</td>\n",
       "    </tr>\n",
       "  </tbody>\n",
       "</table>\n",
       "<p>206 rows × 2 columns</p>\n",
       "</div>"
      ],
      "text/plain": [
       "                                                   text  cluster\n",
       "4763  Richard Smith, the CEO of credit monitoring co...        0\n",
       "4765  In a complaint filed Wednesday, the Securities...        0\n",
       "4772  Since fall always feels like a reset, there’s ...        0\n",
       "4778  Six months after acquiring Whole Foods, Amazon...        0\n",
       "4784  Hackers breached MyFitnessPal, a popular calor...        0\n",
       "...                                                 ...      ...\n",
       "5545  Uber, which just this week reportedly picked a...        0\n",
       "5550  Why your diversity and unconscious bias traini...        0\n",
       "5551  Since its launch in 2013, neo-Nazi website The...        0\n",
       "5561  by Geoff West Washington lobbying groups spent...        0\n",
       "5562  Millennials have been getting hammered by the ...        0\n",
       "\n",
       "[206 rows x 2 columns]"
      ]
     },
     "execution_count": 15,
     "metadata": {},
     "output_type": "execute_result"
    }
   ],
   "source": [
    "df_res = pd.DataFrame({\"text\": X_test2, \"cluster\": preds})\n",
    "df_res[df_res[\"cluster\"] == 0]"
   ]
  },
  {
   "cell_type": "code",
   "execution_count": 16,
   "id": "aee1607b-1411-4819-9002-c68069cb84e5",
   "metadata": {},
   "outputs": [
    {
     "data": {
      "text/html": [
       "<div>\n",
       "<style scoped>\n",
       "    .dataframe tbody tr th:only-of-type {\n",
       "        vertical-align: middle;\n",
       "    }\n",
       "\n",
       "    .dataframe tbody tr th {\n",
       "        vertical-align: top;\n",
       "    }\n",
       "\n",
       "    .dataframe thead th {\n",
       "        text-align: right;\n",
       "    }\n",
       "</style>\n",
       "<table border=\"1\" class=\"dataframe\">\n",
       "  <thead>\n",
       "    <tr style=\"text-align: right;\">\n",
       "      <th></th>\n",
       "      <th>text</th>\n",
       "      <th>cluster</th>\n",
       "    </tr>\n",
       "  </thead>\n",
       "  <tbody>\n",
       "    <tr>\n",
       "      <th>4769</th>\n",
       "      <td>What do you imagine God thinks of all the call...</td>\n",
       "      <td>1</td>\n",
       "    </tr>\n",
       "    <tr>\n",
       "      <th>4770</th>\n",
       "      <td>The thousands of clergy members who comprise T...</td>\n",
       "      <td>1</td>\n",
       "    </tr>\n",
       "    <tr>\n",
       "      <th>4771</th>\n",
       "      <td>JERUSALEM, June 25 (Reuters) - Israel’s govern...</td>\n",
       "      <td>1</td>\n",
       "    </tr>\n",
       "    <tr>\n",
       "      <th>4776</th>\n",
       "      <td>In these times, the Rev. Jennifer Butler, CEO ...</td>\n",
       "      <td>1</td>\n",
       "    </tr>\n",
       "    <tr>\n",
       "      <th>4777</th>\n",
       "      <td>More than 100 interfaith demonstrators gathere...</td>\n",
       "      <td>1</td>\n",
       "    </tr>\n",
       "    <tr>\n",
       "      <th>...</th>\n",
       "      <td>...</td>\n",
       "      <td>...</td>\n",
       "    </tr>\n",
       "    <tr>\n",
       "      <th>5541</th>\n",
       "      <td>More Americans are embracing the holly, jolly,...</td>\n",
       "      <td>1</td>\n",
       "    </tr>\n",
       "    <tr>\n",
       "      <th>5547</th>\n",
       "      <td>Twitter is dragging Joel Osteen. And he deserv...</td>\n",
       "      <td>1</td>\n",
       "    </tr>\n",
       "    <tr>\n",
       "      <th>5553</th>\n",
       "      <td>76 years ago this week, Karolina Cohn was torn...</td>\n",
       "      <td>1</td>\n",
       "    </tr>\n",
       "    <tr>\n",
       "      <th>5554</th>\n",
       "      <td>Indians have started observing the festival of...</td>\n",
       "      <td>1</td>\n",
       "    </tr>\n",
       "    <tr>\n",
       "      <th>5559</th>\n",
       "      <td>When I lived in Appalachia, an elementary scho...</td>\n",
       "      <td>1</td>\n",
       "    </tr>\n",
       "  </tbody>\n",
       "</table>\n",
       "<p>203 rows × 2 columns</p>\n",
       "</div>"
      ],
      "text/plain": [
       "                                                   text  cluster\n",
       "4769  What do you imagine God thinks of all the call...        1\n",
       "4770  The thousands of clergy members who comprise T...        1\n",
       "4771  JERUSALEM, June 25 (Reuters) - Israel’s govern...        1\n",
       "4776  In these times, the Rev. Jennifer Butler, CEO ...        1\n",
       "4777  More than 100 interfaith demonstrators gathere...        1\n",
       "...                                                 ...      ...\n",
       "5541  More Americans are embracing the holly, jolly,...        1\n",
       "5547  Twitter is dragging Joel Osteen. And he deserv...        1\n",
       "5553  76 years ago this week, Karolina Cohn was torn...        1\n",
       "5554  Indians have started observing the festival of...        1\n",
       "5559  When I lived in Appalachia, an elementary scho...        1\n",
       "\n",
       "[203 rows x 2 columns]"
      ]
     },
     "execution_count": 16,
     "metadata": {},
     "output_type": "execute_result"
    }
   ],
   "source": [
    "df_res[df_res[\"cluster\"] == 1]"
   ]
  },
  {
   "cell_type": "code",
   "execution_count": 17,
   "id": "7bd29b7c-7702-4f1b-809b-6a0f131d1e2a",
   "metadata": {
    "scrolled": true
   },
   "outputs": [
    {
     "data": {
      "text/html": [
       "<div>\n",
       "<style scoped>\n",
       "    .dataframe tbody tr th:only-of-type {\n",
       "        vertical-align: middle;\n",
       "    }\n",
       "\n",
       "    .dataframe tbody tr th {\n",
       "        vertical-align: top;\n",
       "    }\n",
       "\n",
       "    .dataframe thead th {\n",
       "        text-align: right;\n",
       "    }\n",
       "</style>\n",
       "<table border=\"1\" class=\"dataframe\">\n",
       "  <thead>\n",
       "    <tr style=\"text-align: right;\">\n",
       "      <th></th>\n",
       "      <th>text</th>\n",
       "      <th>cluster</th>\n",
       "    </tr>\n",
       "  </thead>\n",
       "  <tbody>\n",
       "    <tr>\n",
       "      <th>4767</th>\n",
       "      <td>Two Arizona women, Tahnee Gonzales and Elizabe...</td>\n",
       "      <td>2</td>\n",
       "    </tr>\n",
       "    <tr>\n",
       "      <th>4768</th>\n",
       "      <td>Billionaire Dallas Mavericks owner Mark Cuban ...</td>\n",
       "      <td>2</td>\n",
       "    </tr>\n",
       "    <tr>\n",
       "      <th>4774</th>\n",
       "      <td>A far-right media personality has been barred ...</td>\n",
       "      <td>2</td>\n",
       "    </tr>\n",
       "    <tr>\n",
       "      <th>4775</th>\n",
       "      <td>An 18-year-old California man confessed this w...</td>\n",
       "      <td>2</td>\n",
       "    </tr>\n",
       "    <tr>\n",
       "      <th>4788</th>\n",
       "      <td>A Michigan man was arrested by federal authori...</td>\n",
       "      <td>2</td>\n",
       "    </tr>\n",
       "    <tr>\n",
       "      <th>...</th>\n",
       "      <td>...</td>\n",
       "      <td>...</td>\n",
       "    </tr>\n",
       "    <tr>\n",
       "      <th>5548</th>\n",
       "      <td>A teen suspect is in custody after police resp...</td>\n",
       "      <td>2</td>\n",
       "    </tr>\n",
       "    <tr>\n",
       "      <th>5549</th>\n",
       "      <td>A former pro wrestler was brutally beaten and ...</td>\n",
       "      <td>2</td>\n",
       "    </tr>\n",
       "    <tr>\n",
       "      <th>5555</th>\n",
       "      <td>Police arrested a 19-year-old man just after m...</td>\n",
       "      <td>2</td>\n",
       "    </tr>\n",
       "    <tr>\n",
       "      <th>5557</th>\n",
       "      <td>The man suspected of murdering Blaze Bernstein...</td>\n",
       "      <td>2</td>\n",
       "    </tr>\n",
       "    <tr>\n",
       "      <th>5558</th>\n",
       "      <td>A woman in New York was charged with attempted...</td>\n",
       "      <td>2</td>\n",
       "    </tr>\n",
       "  </tbody>\n",
       "</table>\n",
       "<p>198 rows × 2 columns</p>\n",
       "</div>"
      ],
      "text/plain": [
       "                                                   text  cluster\n",
       "4767  Two Arizona women, Tahnee Gonzales and Elizabe...        2\n",
       "4768  Billionaire Dallas Mavericks owner Mark Cuban ...        2\n",
       "4774  A far-right media personality has been barred ...        2\n",
       "4775  An 18-year-old California man confessed this w...        2\n",
       "4788  A Michigan man was arrested by federal authori...        2\n",
       "...                                                 ...      ...\n",
       "5548  A teen suspect is in custody after police resp...        2\n",
       "5549  A former pro wrestler was brutally beaten and ...        2\n",
       "5555  Police arrested a 19-year-old man just after m...        2\n",
       "5557  The man suspected of murdering Blaze Bernstein...        2\n",
       "5558  A woman in New York was charged with attempted...        2\n",
       "\n",
       "[198 rows x 2 columns]"
      ]
     },
     "execution_count": 17,
     "metadata": {},
     "output_type": "execute_result"
    }
   ],
   "source": [
    "df_res[df_res[\"cluster\"] == 2]"
   ]
  },
  {
   "cell_type": "code",
   "execution_count": 18,
   "id": "c7174e59-b193-4fc9-ba45-070232e412a5",
   "metadata": {
    "scrolled": true
   },
   "outputs": [
    {
     "data": {
      "text/html": [
       "<div>\n",
       "<style scoped>\n",
       "    .dataframe tbody tr th:only-of-type {\n",
       "        vertical-align: middle;\n",
       "    }\n",
       "\n",
       "    .dataframe tbody tr th {\n",
       "        vertical-align: top;\n",
       "    }\n",
       "\n",
       "    .dataframe thead th {\n",
       "        text-align: right;\n",
       "    }\n",
       "</style>\n",
       "<table border=\"1\" class=\"dataframe\">\n",
       "  <thead>\n",
       "    <tr style=\"text-align: right;\">\n",
       "      <th></th>\n",
       "      <th>text</th>\n",
       "      <th>cluster</th>\n",
       "    </tr>\n",
       "  </thead>\n",
       "  <tbody>\n",
       "    <tr>\n",
       "      <th>4764</th>\n",
       "      <td>As average temperatures rise across the planet...</td>\n",
       "      <td>3</td>\n",
       "    </tr>\n",
       "    <tr>\n",
       "      <th>4766</th>\n",
       "      <td>Imagine a world in which women without viable ...</td>\n",
       "      <td>3</td>\n",
       "    </tr>\n",
       "    <tr>\n",
       "      <th>4773</th>\n",
       "      <td>Climate change has already touched almost all ...</td>\n",
       "      <td>3</td>\n",
       "    </tr>\n",
       "    <tr>\n",
       "      <th>4779</th>\n",
       "      <td>In July, Harvard scientists used a gene-editin...</td>\n",
       "      <td>3</td>\n",
       "    </tr>\n",
       "    <tr>\n",
       "      <th>4780</th>\n",
       "      <td>Scientists in Australia are aiming a huge dish...</td>\n",
       "      <td>3</td>\n",
       "    </tr>\n",
       "    <tr>\n",
       "      <th>...</th>\n",
       "      <td>...</td>\n",
       "      <td>...</td>\n",
       "    </tr>\n",
       "    <tr>\n",
       "      <th>5544</th>\n",
       "      <td>Nine former lab chimpanzees are settling into ...</td>\n",
       "      <td>3</td>\n",
       "    </tr>\n",
       "    <tr>\n",
       "      <th>5546</th>\n",
       "      <td>Since 1995, Stanford mathematician Keith Devli...</td>\n",
       "      <td>3</td>\n",
       "    </tr>\n",
       "    <tr>\n",
       "      <th>5552</th>\n",
       "      <td>Former astronaut Buzz Aldrin was airlifted fro...</td>\n",
       "      <td>3</td>\n",
       "    </tr>\n",
       "    <tr>\n",
       "      <th>5556</th>\n",
       "      <td>British theoretical physicist and cosmologist ...</td>\n",
       "      <td>3</td>\n",
       "    </tr>\n",
       "    <tr>\n",
       "      <th>5560</th>\n",
       "      <td>STOCKHOLM/LONDON (Reuters) - A trio of Swiss, ...</td>\n",
       "      <td>3</td>\n",
       "    </tr>\n",
       "  </tbody>\n",
       "</table>\n",
       "<p>193 rows × 2 columns</p>\n",
       "</div>"
      ],
      "text/plain": [
       "                                                   text  cluster\n",
       "4764  As average temperatures rise across the planet...        3\n",
       "4766  Imagine a world in which women without viable ...        3\n",
       "4773  Climate change has already touched almost all ...        3\n",
       "4779  In July, Harvard scientists used a gene-editin...        3\n",
       "4780  Scientists in Australia are aiming a huge dish...        3\n",
       "...                                                 ...      ...\n",
       "5544  Nine former lab chimpanzees are settling into ...        3\n",
       "5546  Since 1995, Stanford mathematician Keith Devli...        3\n",
       "5552  Former astronaut Buzz Aldrin was airlifted fro...        3\n",
       "5556  British theoretical physicist and cosmologist ...        3\n",
       "5560  STOCKHOLM/LONDON (Reuters) - A trio of Swiss, ...        3\n",
       "\n",
       "[193 rows x 2 columns]"
      ]
     },
     "execution_count": 18,
     "metadata": {},
     "output_type": "execute_result"
    }
   ],
   "source": [
    "df_res[df_res[\"cluster\"] == 3]"
   ]
  },
  {
   "cell_type": "code",
   "execution_count": 19,
   "id": "8290f264-61f9-43f9-9caa-2a2ea69c82c6",
   "metadata": {
    "scrolled": true
   },
   "outputs": [],
   "source": [
    "num2topic = {3: \"SCIENCE\", 0: \"BUSINESS\", 1: \"RELIGION\", 2: \"CRIME\"}  # Idenfity these manually\n",
    "preds2 = df_res[\"cluster\"].map(num2topic)"
   ]
  },
  {
   "cell_type": "code",
   "execution_count": 20,
   "id": "cd229a72-b87a-48c9-b5da-b914dc0f9721",
   "metadata": {},
   "outputs": [],
   "source": [
    "subtask2_rows = []\n",
    "for id_, val in zip(df_test2[\"ID\"], preds2):\n",
    "    subtask2_rows.append((2, id_, val))"
   ]
  },
  {
   "cell_type": "markdown",
   "id": "8768ccdc-e3a4-498b-bbc1-65ab19dc76a4",
   "metadata": {},
   "source": [
    "## Save answers"
   ]
  },
  {
   "cell_type": "code",
   "execution_count": 21,
   "id": "c1996b6d-54eb-40f1-a175-7af3277c5d77",
   "metadata": {},
   "outputs": [],
   "source": [
    "submission_rows = subtask1_rows + subtask2_rows\n",
    "df_submission = pd.DataFrame(submission_rows, columns=[\"subtaskID\", \"datapointID\", \"answer\"])\n",
    "df_submission.to_csv(\"submission.csv\", index=False)"
   ]
  },
  {
   "cell_type": "markdown",
   "id": "563eb507-b109-4faf-a299-9522d163ebac",
   "metadata": {},
   "source": [
    "## Submission results\n",
    "\n",
    "Subtask 1:\n",
    "- F1: 0.956915\n",
    "- Score: 60/60\n",
    "\n",
    "Subtask 2:\n",
    "- Accuracy: 0.9725\n",
    "- Score: 40/40\n"
   ]
  }
 ],
 "metadata": {
  "kernelspec": {
   "display_name": "Python 3 (ipykernel)",
   "language": "python",
   "name": "python3"
  },
  "language_info": {
   "codemirror_mode": {
    "name": "ipython",
    "version": 3
   },
   "file_extension": ".py",
   "mimetype": "text/x-python",
   "name": "python",
   "nbconvert_exporter": "python",
   "pygments_lexer": "ipython3",
   "version": "3.12.6"
  }
 },
 "nbformat": 4,
 "nbformat_minor": 5
}
