{
 "cells": [
  {
   "cell_type": "markdown",
   "id": "b2a12a2c-2c2c-4812-a51f-26a7c481718c",
   "metadata": {},
   "source": [
    "# Lab 5 Part 1 - Telephone game"
   ]
  },
  {
   "cell_type": "markdown",
   "id": "bb16ffa5-e35b-4254-bc36-1d40671c20b4",
   "metadata": {},
   "source": [
    "First, set up a Gemini API key from [aistudio.google.com](aistudio.google.com). You can freely access Gemini model APIs as long as your usage is low, and as long as you don't mind Google collecting your data for training. I believe that is acceptable for the purposes of this lab. In general, however, please be wary about passing your own data to LLM providers.\n",
    "\n",
    "Next, paste the API key in a file called `.env` in the same folder as this notebook. It should look like this:\n",
    "\n",
    "```\n",
    "# .env\n",
    "GOOGLE_API_KEY=your-api-key-here\n",
    "```"
   ]
  },
  {
   "cell_type": "markdown",
   "id": "3f4bd202-5002-4962-998e-45ffbbed0d5c",
   "metadata": {},
   "source": [
    "Make sure you have these packages installed: `python-decouple`, `langchain-google-genai`, `deepeval`."
   ]
  },
  {
   "cell_type": "markdown",
   "id": "ccd1fe5d-73b7-4d51-b3e9-7d17ee3e18f8",
   "metadata": {},
   "source": [
    "## Setup"
   ]
  },
  {
   "cell_type": "code",
   "execution_count": 1,
   "id": "da6b99b2-d710-46ad-b5e0-5d899fc99c92",
   "metadata": {},
   "outputs": [],
   "source": [
    "from decouple import Config, RepositoryEnv"
   ]
  },
  {
   "cell_type": "code",
   "execution_count": 2,
   "id": "473a921e-66f4-4844-9371-b1e57c434915",
   "metadata": {},
   "outputs": [],
   "source": [
    "from langchain_google_genai import ChatGoogleGenerativeAI\n",
    "from langchain_core.prompts import ChatPromptTemplate\n",
    "from langchain_core.output_parsers import StrOutputParser"
   ]
  },
  {
   "cell_type": "code",
   "execution_count": 3,
   "id": "ad17d0d1-77bd-4fc1-a564-bc79a0ef40db",
   "metadata": {},
   "outputs": [],
   "source": [
    "config = Config(RepositoryEnv(\".env\"))"
   ]
  },
  {
   "cell_type": "code",
   "execution_count": 4,
   "id": "17f0bb1a-51c0-45fc-a542-6c3c53700248",
   "metadata": {},
   "outputs": [],
   "source": [
    "GOOGLE_API_KEY=config(\"GOOGLE_API_KEY\")"
   ]
  },
  {
   "cell_type": "markdown",
   "id": "0ffbfb40-e287-4048-a2b7-f843c68850e1",
   "metadata": {},
   "source": [
    "## One-turn text translation"
   ]
  },
  {
   "cell_type": "markdown",
   "id": "0c9f58fa-a996-467d-9e6f-cad69e0b4333",
   "metadata": {},
   "source": [
    "Here is sample code to set up text translation using a Gemini model using tools from `langchain`:"
   ]
  },
  {
   "cell_type": "code",
   "execution_count": 5,
   "id": "323f3be0-c0c7-48e7-a5dc-5b0fd09e21be",
   "metadata": {},
   "outputs": [],
   "source": [
    "# Initialize a single model\n",
    "llm = ChatGoogleGenerativeAI(temperature=0.7, model=\"gemini-2.0-flash-lite\", api_key=GOOGLE_API_KEY)\n",
    "\n",
    "# Create a simple translation prompt\n",
    "prompt = ChatPromptTemplate.from_template(\n",
    "    \"Translate the following text to {target_language}. \"\n",
    "    \"Only return the translation, nothing else:\\n\\n{text}\"\n",
    ")\n",
    "\n",
    "# Create a simple chain\n",
    "chain = prompt | llm | StrOutputParser()"
   ]
  },
  {
   "cell_type": "code",
   "execution_count": 6,
   "id": "ca196b70-1534-49cb-bbef-738e3047359c",
   "metadata": {},
   "outputs": [],
   "source": [
    "# Test with one translation\n",
    "original_text = \"The quick brown fox jumps over the lazy dog.\"\n",
    "\n",
    "result = chain.invoke({\n",
    "    \"text\": original_text,\n",
    "    \"target_language\": \"Korean\"\n",
    "})"
   ]
  },
  {
   "cell_type": "code",
   "execution_count": 7,
   "id": "f73c9a1e-30e6-4fba-920d-456fa84af776",
   "metadata": {},
   "outputs": [
    {
     "data": {
      "text/plain": [
       "'The quick brown fox jumps over the lazy dog.'"
      ]
     },
     "execution_count": 7,
     "metadata": {},
     "output_type": "execute_result"
    }
   ],
   "source": [
    "original_text"
   ]
  },
  {
   "cell_type": "code",
   "execution_count": 8,
   "id": "94dca999-78e9-4e6f-8738-b93e561853d0",
   "metadata": {},
   "outputs": [
    {
     "data": {
      "text/plain": [
       "'빠른 갈색 여우가 게으른 개를 뛰어넘는다.'"
      ]
     },
     "execution_count": 8,
     "metadata": {},
     "output_type": "execute_result"
    }
   ],
   "source": [
    "result"
   ]
  },
  {
   "cell_type": "code",
   "execution_count": 9,
   "id": "2cd59e8f-8473-4f6e-bf0b-383c5d4a049b",
   "metadata": {},
   "outputs": [
    {
     "data": {
      "text/plain": [
       "'The quick brown fox jumps over the lazy dog.'"
      ]
     },
     "execution_count": 9,
     "metadata": {},
     "output_type": "execute_result"
    }
   ],
   "source": [
    "chain.invoke({\n",
    "    \"text\": result,\n",
    "    \"target_language\": \"English\"\n",
    "})"
   ]
  },
  {
   "cell_type": "markdown",
   "id": "cd8cf1b0-73d0-48d6-9661-05501d551af7",
   "metadata": {},
   "source": [
    "## Telephone game"
   ]
  },
  {
   "cell_type": "markdown",
   "id": "87ca22bf-9511-447c-ab10-c39fd2700a4d",
   "metadata": {},
   "source": [
    "The telephone game as per wikipedia:\n",
    "\n",
    "> Players form a line or circle, and the first player comes up with a message and whispers it to the ear of the second person in the line. The second player repeats the message to the third player, and so on. When the last player is reached, they announce the message they just heard, to the entire group. The first person then compares the original message with the final version. Although the objective is to pass around the message without it becoming garbled along the way, part of the enjoyment is that, regardless, this usually ends up happening. Errors typically accumulate in the retellings, so the statement announced by the last player differs significantly from that of the first player, usually with amusing or humorous effect. Reasons for changes include anxiousness or impatience, erroneous corrections, or the difficult-to-understand mechanism of whispering.\n",
    "\n",
    "Get LLMs to perform this translation chain, cycling through the official languages of the United Nations, but starting with and ending with English: Arabic -> Chinese -> French -> Russian -> Spanish.\n",
    "\n",
    "Use this text chunk:\n",
    "\n",
    "```\n",
    "The Monarch butterfly is one of the most recognizable and iconic insects in North America, with its distinctive orange and black wings featuring striking white spots. Each year, these magnificent creatures migrate thousands of miles from Canada and the United States to their wintering grounds in Mexico, a journey that is both breathtaking and awe-inspiring.\n",
    "```\n",
    "\n",
    "When you are done, see how different the translation was: (1) by visual inspection, and (2) by using an automated evaluator using LLMs as below:"
   ]
  },
  {
   "cell_type": "code",
   "execution_count": 10,
   "id": "f6b1049e-abc7-466c-b125-b9d999a9a621",
   "metadata": {},
   "outputs": [],
   "source": [
    "from deepeval import evaluate\n",
    "from deepeval.metrics import AnswerRelevancyMetric\n",
    "from deepeval.test_case import LLMTestCase\n",
    "from deepeval.models import GeminiModel"
   ]
  },
  {
   "cell_type": "code",
   "execution_count": 11,
   "id": "c0efb048-4f16-4e8e-b737-c57ed1d5019d",
   "metadata": {},
   "outputs": [],
   "source": [
    "import time\n",
    "import logging\n",
    "\n",
    "logging.getLogger(\"langchain_google_genai\").setLevel(logging.ERROR)  # Suppress retry and quota warning logs"
   ]
  },
  {
   "cell_type": "code",
   "execution_count": 12,
   "id": "a7ec5e8f-e0f7-4eb9-a0f4-ed18555ab4cd",
   "metadata": {},
   "outputs": [],
   "source": [
    "def evaluate_telephone_game(original_text: str, final_text: str):\n",
    "    model = GeminiModel(\n",
    "        model_name=\"gemini-2.0-flash-lite\",\n",
    "        api_key=GOOGLE_API_KEY,\n",
    "        temperature=0\n",
    "    )\n",
    "    # Create test case\n",
    "    test_case = LLMTestCase(\n",
    "        input=f\"Preserve the meaning of: {original_text}\",\n",
    "        actual_output=final_text,\n",
    "        expected_output=original_text\n",
    "    )\n",
    "\n",
    "    relevancy = AnswerRelevancyMetric(threshold=0.5, model=model, async_mode=False)\n",
    "    relevancy.measure(test_case)\n",
    "    \n",
    "    return relevancy.score"
   ]
  },
  {
   "cell_type": "code",
   "execution_count": 13,
   "id": "6682c7bc-af96-4f4a-b1b1-7b38fa6e8327",
   "metadata": {},
   "outputs": [
    {
     "data": {
      "application/vnd.jupyter.widget-view+json": {
       "model_id": "bfb4c6d7b9cf4ad99b8e274eb13e1635",
       "version_major": 2,
       "version_minor": 0
      },
      "text/plain": [
       "Output()"
      ]
     },
     "metadata": {},
     "output_type": "display_data"
    },
    {
     "data": {
      "text/html": [
       "<pre style=\"white-space:pre;overflow-x:auto;line-height:normal;font-family:Menlo,'DejaVu Sans Mono',consolas,'Courier New',monospace\"></pre>\n"
      ],
      "text/plain": []
     },
     "metadata": {},
     "output_type": "display_data"
    },
    {
     "data": {
      "text/plain": [
       "0.0"
      ]
     },
     "execution_count": 13,
     "metadata": {},
     "output_type": "execute_result"
    }
   ],
   "source": [
    "evaluate_telephone_game(\n",
    "    \"The quick brown fox jumps over the lazy dog.\",\n",
    "    \"The lazy brown fox jumps over the quick dog.\"\n",
    ")"
   ]
  },
  {
   "cell_type": "code",
   "execution_count": 14,
   "id": "ece91737-15a4-4ced-901a-397c07298bf0",
   "metadata": {},
   "outputs": [
    {
     "data": {
      "application/vnd.jupyter.widget-view+json": {
       "model_id": "2e332062878f4fcab522d2bec5ad56b3",
       "version_major": 2,
       "version_minor": 0
      },
      "text/plain": [
       "Output()"
      ]
     },
     "metadata": {},
     "output_type": "display_data"
    },
    {
     "data": {
      "text/html": [
       "<pre style=\"white-space:pre;overflow-x:auto;line-height:normal;font-family:Menlo,'DejaVu Sans Mono',consolas,'Courier New',monospace\"></pre>\n"
      ],
      "text/plain": []
     },
     "metadata": {},
     "output_type": "display_data"
    },
    {
     "data": {
      "text/plain": [
       "1.0"
      ]
     },
     "execution_count": 14,
     "metadata": {},
     "output_type": "execute_result"
    }
   ],
   "source": [
    "evaluate_telephone_game(\n",
    "    \"The quick brown fox jumps over the lazy dog.\",\n",
    "    \"The quick brown fox jumps over the lazy dog.\"\n",
    ")"
   ]
  },
  {
   "cell_type": "code",
   "execution_count": 15,
   "id": "36117f01-68ed-4da2-9642-c96c51f88cdd",
   "metadata": {},
   "outputs": [],
   "source": [
    "# Your work below\n",
    "def translate_chain(input_text, target_languages, max_retries=5):\n",
    "    current_text = input_text\n",
    "    for target_language in target_languages:\n",
    "        for i in range(max_retries):\n",
    "            try:\n",
    "                current_text = chain.invoke({\n",
    "                    \"text\": current_text,\n",
    "                    \"target_language\": target_language\n",
    "                })\n",
    "            except Exception as e:  # Cant't run this notebook from top to bottom with a free Gemini plan\n",
    "                if i + 1 == max_retries:\n",
    "                    raise RuntimeError(\"Fail to fetch response LLM\") from e\n",
    "                time.sleep(10)\n",
    "            else:\n",
    "                break\n",
    "    return current_text"
   ]
  },
  {
   "cell_type": "code",
   "execution_count": 16,
   "id": "f3ba9d78-cf9e-4f68-8074-7bc921dbe135",
   "metadata": {},
   "outputs": [],
   "source": [
    "paragraph = \"The Monarch butterfly is one of the most recognizable and iconic insects in North America, with its distinctive orange and black wings featuring striking white spots. Each year, these magnificent creatures migrate thousands of miles from Canada and the United States to their wintering grounds in Mexico, a journey that is both breathtaking and awe-inspiring.\"\n",
    "foreign_languages = [\"Arabic\", \"Chinese\", \"French\", \"Russian\", \"Spanish\"]"
   ]
  },
  {
   "cell_type": "code",
   "execution_count": 17,
   "id": "39ba2770-3e8d-4323-9376-09b0b3f46ffa",
   "metadata": {},
   "outputs": [
    {
     "data": {
      "text/plain": [
       "'The monarch butterfly is one of the most well-known and iconic butterflies in North America, with its distinctive orange and black wings dotted with bright white spots. Each year, these magnificent creatures migrate thousands of kilometers from Canada and the United States to their overwintering sites in Mexico, an impressive and unusual journey.'"
      ]
     },
     "execution_count": 17,
     "metadata": {},
     "output_type": "execute_result"
    }
   ],
   "source": [
    "paragraph_after = translate_chain(paragraph, foreign_languages + [\"English\"])\n",
    "paragraph_after"
   ]
  },
  {
   "cell_type": "code",
   "execution_count": 18,
   "id": "6ebe7916-dd13-4065-8d58-e84f791009fc",
   "metadata": {},
   "outputs": [
    {
     "data": {
      "application/vnd.jupyter.widget-view+json": {
       "model_id": "ce7e00c38a754446b63863137ce68b45",
       "version_major": 2,
       "version_minor": 0
      },
      "text/plain": [
       "Output()"
      ]
     },
     "metadata": {},
     "output_type": "display_data"
    },
    {
     "data": {
      "text/html": [
       "<pre style=\"white-space:pre;overflow-x:auto;line-height:normal;font-family:Menlo,'DejaVu Sans Mono',consolas,'Courier New',monospace\"></pre>\n"
      ],
      "text/plain": []
     },
     "metadata": {},
     "output_type": "display_data"
    },
    {
     "data": {
      "text/plain": [
       "1.0"
      ]
     },
     "execution_count": 18,
     "metadata": {},
     "output_type": "execute_result"
    }
   ],
   "source": [
    "evaluate_telephone_game(paragraph, paragraph_after)"
   ]
  },
  {
   "cell_type": "markdown",
   "id": "0a6cbc07-30f8-46b0-aa74-7c318dd02768",
   "metadata": {},
   "source": [
    "## EX: How good is the translation quality at each step?"
   ]
  },
  {
   "cell_type": "markdown",
   "id": "93c721ae-896b-485d-a616-f56ae950e92d",
   "metadata": {},
   "source": [
    "To be more clear, first step translation means English -> Arabic -> English. 2nd step translation means English -> Arabic -> French -> English."
   ]
  },
  {
   "cell_type": "code",
   "execution_count": 19,
   "id": "4bda1bd1-b538-4571-a0a6-ddd5ced110fb",
   "metadata": {},
   "outputs": [
    {
     "data": {
      "application/vnd.jupyter.widget-view+json": {
       "model_id": "6087608d21164ed883443bda0ac4a62c",
       "version_major": 2,
       "version_minor": 0
      },
      "text/plain": [
       "Output()"
      ]
     },
     "metadata": {},
     "output_type": "display_data"
    },
    {
     "data": {
      "text/html": [
       "<pre style=\"white-space:pre;overflow-x:auto;line-height:normal;font-family:Menlo,'DejaVu Sans Mono',consolas,'Courier New',monospace\"></pre>\n"
      ],
      "text/plain": []
     },
     "metadata": {},
     "output_type": "display_data"
    },
    {
     "name": "stdout",
     "output_type": "stream",
     "text": [
      "English -> Arabic -> English\n",
      "The monarch butterfly is one of the most famous and iconic insects in North America, with its distinctive orange and black wings featuring striking white spots. Each year, these magnificent creatures migrate thousands of miles from Canada and the United States to their overwintering grounds in Mexico, a journey that is both amazing and impressive.\n",
      "Score: 1.0\n"
     ]
    },
    {
     "data": {
      "application/vnd.jupyter.widget-view+json": {
       "model_id": "84d46cd0a82a4289a75c3b076dfc0227",
       "version_major": 2,
       "version_minor": 0
      },
      "text/plain": [
       "Output()"
      ]
     },
     "metadata": {},
     "output_type": "display_data"
    },
    {
     "data": {
      "text/html": [
       "<pre style=\"white-space:pre;overflow-x:auto;line-height:normal;font-family:Menlo,'DejaVu Sans Mono',consolas,'Courier New',monospace\"></pre>\n"
      ],
      "text/plain": []
     },
     "metadata": {},
     "output_type": "display_data"
    },
    {
     "name": "stdout",
     "output_type": "stream",
     "text": [
      "English -> Arabic -> Chinese -> English\n",
      "Monarch butterflies are one of North America's most famous and iconic insects, characterized by their distinctive orange and black wings with striking white spots. Every year, these amazing creatures migrate thousands of miles from Canada and the United States to their overwintering grounds in Mexico, a breathtaking and admirable journey.\n",
      "Score: 1.0\n"
     ]
    },
    {
     "data": {
      "application/vnd.jupyter.widget-view+json": {
       "model_id": "988466528415443b8f8e7d20a362d9a1",
       "version_major": 2,
       "version_minor": 0
      },
      "text/plain": [
       "Output()"
      ]
     },
     "metadata": {},
     "output_type": "display_data"
    },
    {
     "data": {
      "text/html": [
       "<pre style=\"white-space:pre;overflow-x:auto;line-height:normal;font-family:Menlo,'DejaVu Sans Mono',consolas,'Courier New',monospace\"></pre>\n"
      ],
      "text/plain": []
     },
     "metadata": {},
     "output_type": "display_data"
    },
    {
     "name": "stdout",
     "output_type": "stream",
     "text": [
      "English -> Arabic -> Chinese -> French -> English\n",
      "The monarch butterfly is one of the most famous and iconic insects of North America, with its distinctive orange and black wings dotted with striking white spots. Each year, these amazing creatures migrate thousands of kilometers from Canada and the United States to their overwintering sites in Mexico, a journey that is both fascinating and impressive.\n",
      "Score: 1.0\n"
     ]
    },
    {
     "data": {
      "application/vnd.jupyter.widget-view+json": {
       "model_id": "4cecb0f40f6c49bbaa1fa2b6b8bf21d2",
       "version_major": 2,
       "version_minor": 0
      },
      "text/plain": [
       "Output()"
      ]
     },
     "metadata": {},
     "output_type": "display_data"
    },
    {
     "data": {
      "text/html": [
       "<pre style=\"white-space:pre;overflow-x:auto;line-height:normal;font-family:Menlo,'DejaVu Sans Mono',consolas,'Courier New',monospace\"></pre>\n"
      ],
      "text/plain": []
     },
     "metadata": {},
     "output_type": "display_data"
    },
    {
     "name": "stdout",
     "output_type": "stream",
     "text": [
      "English -> Arabic -> Chinese -> French -> Russian -> English\n",
      "The monarch is one of the most well-known and iconic insects of North America, characterized by orange and black wings adorned with bright white spots. Each year, these magnificent creatures migrate thousands of kilometers from Canada and the US to their wintering grounds in Mexico, a captivating and impressive journey.\n",
      "Score: 1.0\n"
     ]
    },
    {
     "data": {
      "application/vnd.jupyter.widget-view+json": {
       "model_id": "d023b7f3689647c785b3b71c07c8577d",
       "version_major": 2,
       "version_minor": 0
      },
      "text/plain": [
       "Output()"
      ]
     },
     "metadata": {},
     "output_type": "display_data"
    },
    {
     "data": {
      "text/html": [
       "<pre style=\"white-space:pre;overflow-x:auto;line-height:normal;font-family:Menlo,'DejaVu Sans Mono',consolas,'Courier New',monospace\"></pre>\n"
      ],
      "text/plain": []
     },
     "metadata": {},
     "output_type": "display_data"
    },
    {
     "name": "stdout",
     "output_type": "stream",
     "text": [
      "English -> Arabic -> Chinese -> French -> Russian -> Spanish -> English\n",
      "The monarch butterfly is one of the most well-known and iconic insects in North America, famous for its distinctive orange and black wings speckled with bright white spots. Each year, these charming creatures migrate thousands of kilometers from Canada and the United States to their overwintering sites in Mexico, undertaking a fascinating and impressive journey.\n",
      "Score: 1.0\n"
     ]
    }
   ],
   "source": [
    "# Your work below\n",
    "for end_idx in range(1, len(foreign_languages) + 1):\n",
    "    languages = foreign_languages[:end_idx] + [\"English\"]\n",
    "    translated = translate_chain(paragraph, languages)\n",
    "    score = evaluate_telephone_game(paragraph, translated)\n",
    "    \n",
    "    print(\" -> \".join([\"English\"] + languages))\n",
    "    print(translated)\n",
    "    print(\"Score:\", score)"
   ]
  }
 ],
 "metadata": {
  "kernelspec": {
   "display_name": "Python 3 (ipykernel)",
   "language": "python",
   "name": "python3"
  },
  "language_info": {
   "codemirror_mode": {
    "name": "ipython",
    "version": 3
   },
   "file_extension": ".py",
   "mimetype": "text/x-python",
   "name": "python",
   "nbconvert_exporter": "python",
   "pygments_lexer": "ipython3",
   "version": "3.12.6"
  }
 },
 "nbformat": 4,
 "nbformat_minor": 5
}
