{
 "cells": [
  {
   "cell_type": "markdown",
   "id": "a74389df-5bab-4963-852d-196b72b42edc",
   "metadata": {},
   "source": [
    "# Real or Fake Image Recognition Task"
   ]
  },
  {
   "cell_type": "code",
   "execution_count": 1,
   "id": "99d24eb2-1c0a-4dbf-bb81-2244bd02ffb5",
   "metadata": {},
   "outputs": [],
   "source": [
    "import os\n",
    "import zipfile\n",
    "import numpy as np\n",
    "import random\n",
    "import torch\n",
    "import torch.nn as nn\n",
    "import torch.optim as optim\n",
    "from torchvision import datasets, transforms\n",
    "from torch.utils.data import DataLoader, Dataset\n",
    "from PIL import Image\n",
    "\n",
    "seed = 42\n",
    "os.environ[\"PYTHONHASHSEED\"] = str(seed)\n",
    "random.seed(seed)\n",
    "np.random.seed(seed)\n",
    "torch.manual_seed(seed)\n",
    "torch.cuda.manual_seed(seed)\n",
    "torch.cuda.manual_seed_all(seed)\n",
    "torch.backends.cudnn.deterministic = True\n",
    "torch.backends.cudnn.benchmark = False"
   ]
  },
  {
   "cell_type": "markdown",
   "id": "f4aead48-4a2e-4623-b6af-5b7de893b32a",
   "metadata": {},
   "source": [
    "## Load data"
   ]
  },
  {
   "cell_type": "code",
   "execution_count": 2,
   "id": "0cd3c1a4-0dc0-4f9f-adf8-4fc390f25802",
   "metadata": {},
   "outputs": [],
   "source": [
    "class CustomDataset(Dataset):\n",
    "    def __init__(self, root_dir, transform=None):\n",
    "        self.root_dir = root_dir\n",
    "        self.transform = transform\n",
    "        self.image_paths = []\n",
    "        self.labels = []\n",
    "        for label, sub_dir in enumerate(os.listdir(root_dir)):  # cifar has label 0, uvit has label 1\n",
    "            full_dir = os.path.join(root_dir, sub_dir)\n",
    "            for img_name in os.listdir(full_dir):\n",
    "                img_path = os.path.join(full_dir, img_name)\n",
    "                self.image_paths.append(img_path)\n",
    "                self.labels.append(label)\n",
    "\n",
    "    def __len__(self):\n",
    "        return len(self.image_paths)\n",
    "\n",
    "    def __getitem__(self, idx):\n",
    "        img_path = self.image_paths[idx]\n",
    "        image = Image.open(img_path).convert(\"RGB\")\n",
    "        label = self.labels[idx]\n",
    "        if self.transform:\n",
    "            image = self.transform(image)\n",
    "        return image, label"
   ]
  },
  {
   "cell_type": "code",
   "execution_count": 3,
   "id": "820c7e63-1ecf-4a12-8840-0cc91c210365",
   "metadata": {},
   "outputs": [],
   "source": [
    "transform = transforms.Compose([\n",
    "    transforms.Resize((32, 32)),\n",
    "    transforms.ToTensor(),\n",
    "    transforms.Normalize((0.5,), (0.5,))  # These values are used when grading\n",
    "])\n",
    "\n",
    "ds_train = CustomDataset(\"./train_v1\", transform=transform)\n",
    "dl_train = DataLoader(ds_train, batch_size=64, shuffle=True)"
   ]
  },
  {
   "cell_type": "markdown",
   "id": "6f62f023-e0a2-42bc-b480-2057f82b3a54",
   "metadata": {},
   "source": [
    "## Define model and train"
   ]
  },
  {
   "cell_type": "code",
   "execution_count": 4,
   "id": "a374882f-3035-4a26-a342-6982925f726d",
   "metadata": {},
   "outputs": [],
   "source": [
    "class MyModel(nn.Module):\n",
    "    def __init__(self):\n",
    "        super().__init__()\n",
    "        self.conv1 = nn.Conv2d(3, 8, 5)\n",
    "        self.pool = nn.MaxPool2d(2, 2)\n",
    "        self.conv2 = nn.Conv2d(8, 10, 5)\n",
    "        self.fc1 = nn.Linear(10 * 5 * 5, 70)\n",
    "        self.fc2 = nn.Linear(70, 1)\n",
    "        self.sigmoid = nn.Sigmoid()\n",
    "\n",
    "    def forward(self, x):\n",
    "        x = self.pool(torch.relu(self.conv1(x)))\n",
    "        x = self.pool(torch.relu(self.conv2(x)))\n",
    "        x = x.view(-1, 10 * 5 * 5)\n",
    "        x = torch.relu(self.fc1(x))\n",
    "        x = self.fc2(x)\n",
    "        x = self.sigmoid(x)\n",
    "        return x"
   ]
  },
  {
   "cell_type": "code",
   "execution_count": 5,
   "id": "c50bf9b0-57c5-4334-a1e5-1a2158b52944",
   "metadata": {},
   "outputs": [],
   "source": [
    "def train(model, device, optimizer, criterion, dataloader, num_epochs):\n",
    "    train_losses = []\n",
    "    for epoch in range(num_epochs):\n",
    "        model.train()\n",
    "        running_loss = 0\n",
    "        \n",
    "        for images, labels in dataloader:\n",
    "            images, labels = images.to(device), labels.float().to(device)\n",
    "            \n",
    "            outputs = model(images).squeeze()\n",
    "            loss = criterion(outputs, labels)\n",
    "            \n",
    "            optimizer.zero_grad()\n",
    "            loss.backward()\n",
    "            optimizer.step()\n",
    "            \n",
    "            running_loss += loss.item() * images.size(0)\n",
    "\n",
    "        running_loss /= len(dataloader.dataset)\n",
    "        train_losses.append(running_loss)\n",
    "        accuracy = eval(model, device, dataloader)\n",
    "        print(f\"Epoch [{epoch + 1}/{num_epochs}], Loss: {running_loss}, Accuracy: {accuracy}\")\n",
    "    return train_losses"
   ]
  },
  {
   "cell_type": "code",
   "execution_count": 6,
   "id": "a2d0580f-a647-4b83-b002-001c886ece29",
   "metadata": {},
   "outputs": [],
   "source": [
    "@torch.no_grad()\n",
    "def eval(model, device, dataloader):\n",
    "    model.eval()\n",
    "    correct = 0\n",
    "    total = 0\n",
    "    for images, labels in dataloader:\n",
    "        images, labels = images.to(device), labels.to(device).float()\n",
    "        \n",
    "        outputs = model(images).squeeze()\n",
    "        preds = outputs >= 0.5\n",
    "        \n",
    "        correct += (preds == labels).sum().item()\n",
    "        total += labels.size(0)\n",
    "    return correct / total"
   ]
  },
  {
   "cell_type": "code",
   "execution_count": 7,
   "id": "0b89c87d-48d9-4516-8927-409006b77c96",
   "metadata": {},
   "outputs": [],
   "source": [
    "device = \"cuda\" if torch.cuda.is_available() else \"cpu\"\n",
    "model = MyModel().to(device)\n",
    "criterion = nn.BCELoss()\n",
    "optimizer = optim.Adam(model.parameters(), lr=1e-3)"
   ]
  },
  {
   "cell_type": "code",
   "execution_count": 8,
   "id": "816a9ee2-9d42-4c3b-ae19-550cd75b3d1a",
   "metadata": {},
   "outputs": [
    {
     "name": "stdout",
     "output_type": "stream",
     "text": [
      "Epoch [1/10], Loss: 0.6295432175636292, Accuracy: 0.6996\n",
      "Epoch [2/10], Loss: 0.562065036392212, Accuracy: 0.724\n",
      "Epoch [3/10], Loss: 0.5570123519897461, Accuracy: 0.7208\n",
      "Epoch [4/10], Loss: 0.5448735479354858, Accuracy: 0.7262\n",
      "Epoch [5/10], Loss: 0.5409635952949524, Accuracy: 0.7293\n",
      "Epoch [6/10], Loss: 0.5313480290412903, Accuracy: 0.7291\n",
      "Epoch [7/10], Loss: 0.5261241621017456, Accuracy: 0.7508\n",
      "Epoch [8/10], Loss: 0.5255340951442719, Accuracy: 0.7396\n",
      "Epoch [9/10], Loss: 0.522794758605957, Accuracy: 0.7531\n",
      "Epoch [10/10], Loss: 0.5084276931762696, Accuracy: 0.7544\n"
     ]
    }
   ],
   "source": [
    "train(model, device, optimizer, criterion, dl_train, 10);"
   ]
  },
  {
   "cell_type": "markdown",
   "id": "6704fb02-25f9-43ad-8761-409daafa7614",
   "metadata": {},
   "source": [
    "## Save for submission"
   ]
  },
  {
   "cell_type": "code",
   "execution_count": 9,
   "id": "2af090a9-38ee-4fd9-918b-02b4e9032940",
   "metadata": {},
   "outputs": [],
   "source": [
    "py_filename = \"submission_model.py\"\n",
    "pth_filename = \"submission_dic.pth\"\n",
    "zip_filename = \"submission.zip\"  # Will submit this zip to the grader"
   ]
  },
  {
   "cell_type": "code",
   "execution_count": 10,
   "id": "7238f8ef-411d-4287-b111-ec504742321b",
   "metadata": {},
   "outputs": [],
   "source": [
    "torch.save(model.state_dict(), pth_filename)"
   ]
  },
  {
   "cell_type": "code",
   "execution_count": 11,
   "id": "fd4888b8-1432-4a51-b27a-66d0205e3fbe",
   "metadata": {},
   "outputs": [],
   "source": [
    "model_code = \"\"\"  \n",
    "import torch\n",
    "import torch.nn as nn\n",
    "\n",
    "\n",
    "class MyModel(nn.Module):\n",
    "    def __init__(self):\n",
    "        super().__init__()\n",
    "        self.conv1 = nn.Conv2d(3, 8, 5)\n",
    "        self.pool = nn.MaxPool2d(2, 2)\n",
    "        self.conv2 = nn.Conv2d(8, 10, 5)\n",
    "        self.fc1 = nn.Linear(10 * 5 * 5, 70)\n",
    "        self.fc2 = nn.Linear(70, 1)\n",
    "        self.sigmoid = nn.Sigmoid()\n",
    "\n",
    "    def forward(self, x):\n",
    "        x = self.pool(torch.relu(self.conv1(x)))\n",
    "        x = self.pool(torch.relu(self.conv2(x)))\n",
    "        x = x.view(-1, 10 * 5 * 5)\n",
    "        x = torch.relu(self.fc1(x))\n",
    "        x = self.fc2(x)\n",
    "        x = self.sigmoid(x)\n",
    "        return x\n",
    "\"\"\".lstrip()\n",
    "\n",
    "with open(py_filename, \"w\") as f:\n",
    "    f.write(model_code)"
   ]
  },
  {
   "cell_type": "code",
   "execution_count": 12,
   "id": "9e13d1ec-dbd0-4309-b77d-2af688da4895",
   "metadata": {},
   "outputs": [],
   "source": [
    "with zipfile.ZipFile(zip_filename, \"w\") as zipf:\n",
    "    for file in [py_filename, pth_filename]:\n",
    "        zipf.write(file, os.path.basename(file))"
   ]
  },
  {
   "cell_type": "markdown",
   "id": "31ecb094-2229-43bd-ac17-b40b27a9e4f5",
   "metadata": {},
   "source": [
    "## Score\n",
    "\n",
    "Leaderboard A accuracy: 1.0000"
   ]
  }
 ],
 "metadata": {
  "kernelspec": {
   "display_name": "Python 3 (ipykernel)",
   "language": "python",
   "name": "python3"
  },
  "language_info": {
   "codemirror_mode": {
    "name": "ipython",
    "version": 3
   },
   "file_extension": ".py",
   "mimetype": "text/x-python",
   "name": "python",
   "nbconvert_exporter": "python",
   "pygments_lexer": "ipython3",
   "version": "3.12.6"
  }
 },
 "nbformat": 4,
 "nbformat_minor": 5
}
