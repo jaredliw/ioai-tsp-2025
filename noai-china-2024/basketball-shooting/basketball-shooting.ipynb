{
 "cells": [
  {
   "cell_type": "markdown",
   "id": "633416a2-3ef4-4aef-9cad-1a256e405108",
   "metadata": {},
   "source": [
    "# Predicting the Shooting Percentage of Basketball Stars"
   ]
  },
  {
   "cell_type": "markdown",
   "id": "93179e6e-8e0e-42e3-a1e7-a9380897ed2d",
   "metadata": {},
   "source": [
    "> **Introduction:** This is the Question 1 of APOAI 2025 Mock Competition, and it is also the first question of the NOAI 2024 (China).\n",
    "\n",
    "## I. Question Overview\n",
    "\n",
    "A CSV file of basketball stars' shooting data is given, which is stored in the training set `data_train.csv`. The meaningful variables are named as follows:\n",
    "\n",
    "- `loc_x`: The horizontal position of the basketball star on the court when shooting, which has been normalized. There is no need to consider the unit.\n",
    "- `loc_y`: The vertical position of the basketball star on the court when shooting, which has been normalized. There is no need to consider the unit.\n",
    "- `minutes_remaining`: The number of minutes remaining in the current quarter, which has been normalized. There is no need to consider the unit.\n",
    "- `shot_distance`: The distance from the shooting position to the basket, which has been normalized. There is no need to consider the unit.\n",
    "- `shot_made_flag`: Whether the shot is made or not. If it is made, the value is 1; otherwise, the value is 0.\n",
    "- `shot_id`: The unique identifier of the sample.\n",
    "\n",
    "Now, it is hoped that you can build a model based on the historical data of the basketball star to predict the shooting result of the star. There are 20,000 data points in the training set, and the test set has approximately 5,000 data points. The format is similar to that of the training set, and the contestants cannot access it during the competition.\n",
    "\n",
    "## II. Data Set\n",
    "\n",
    "Address of the training set: [Training Set](https://bohrium.dp.tech/competitions/5135119121?tab=datasets).\n",
    "\n",
    "## III. Task\n",
    "\n",
    "Please use PyTorch to implement a multi-layer perceptron (neural network) model to predict whether a contestant can make a shot at different positions. The specific requirements are as follows:\n",
    "\n",
    "1. The input consists of 2 features (`loc_x`, `loc_y`), and the output is 1 label (`shot_made_flag`). 1 indicates that the shot is made, and 0 indicates that the shot is missed.\n",
    "2. Only linear layers and activation functions after linear layers can be used, and at most 3 linear layers can be used. Please build the neural network directly and do not use `nn.Sequential()` nesting. The scoring system cannot detect the network structure inside `nn.Sequential()`, and a score of 0 will be directly given.\n",
    "3. The activation function can only be selected from `nn.Linear`, `nn.ReLU`, `nn.Sigmoid`, `nn.Tanh`, `nn.ELU`, `nn.LeakyReLU`, `nn.PreLU`. Each linear layer can have at most 8 neurons.\n",
    "4. The loss function, optimizer (solver), and learning rate can be freely selected.\n",
    "\n",
    "## IV. Submission\n",
    "\n",
    "Please submit a compressed file named `submission.zip`. After decompression, it should contain the model file `submission_model.py` and the model parameter file `submission_dic.pth`. The specific requirements are as follows:\n",
    "\n",
    "1. Save the class definition of the model and the required precursor libraries in `submission_model.py`.\n",
    "2. Save the trained model parameters in `submission_dic.pth`. The model parameters will be loaded during scoring.\n",
    "3. You can refer to the method in `baseline.ipynb` to generate the `submission.zip` file on the platform for submission. You can also download the data set to the local machine, train the model, and then package it into a `submission.zip` file for submission.\n",
    "\n",
    "> **Address of `baseline.ipynb`:** [Question 1 of APOAI2025 Mock Competition_baseline](https://bohrium.dp.tech/notebooks/18211783382).\n",
    "\n",
    "## V. Scoring\n",
    "\n",
    "1. When the number of linear layers and the number of neurons in the neural network meet the requirements, the score is the accuracy rate of the test set.\n",
    "2. When the number of linear layers and the number of neurons in the neural network do not meet the requirements, the score is 0.\n",
    "\n",
    "> **Remarks:** The leaderboard A uses 50% of the data in the test set, which can be displayed in real time during the competition to help contestants debug the model. The leaderboard B uses the remaining 50% of the data in the test set and is calculated after the competition ends. The score of the leaderboard B is the final score."
   ]
  },
  {
   "cell_type": "code",
   "execution_count": 1,
   "id": "f341384d-e98f-4b11-a72b-4e3443b68bb2",
   "metadata": {},
   "outputs": [],
   "source": [
    "import numpy as np\n",
    "import pandas as pd\n",
    "import torch\n",
    "import torch.nn as nn\n",
    "import torch.optim as optim\n",
    "import zipfile\n",
    "import os\n",
    "import random\n",
    "from sklearn.model_selection import train_test_split\n",
    "from sklearn.metrics import accuracy_score\n",
    "\n",
    "seed = 42\n",
    "os.environ[\"PYTHONHASHSEED\"] = str(seed)\n",
    "random.seed(seed)\n",
    "np.random.seed(seed)\n",
    "torch.manual_seed(seed)\n",
    "torch.cuda.manual_seed(seed)\n",
    "torch.cuda.manual_seed_all(seed)\n",
    "torch.backends.cudnn.deterministic = True\n",
    "torch.backends.cudnn.benchmark = False"
   ]
  },
  {
   "cell_type": "markdown",
   "id": "1418063c-0eb4-48a4-9d93-3da68a3b10bf",
   "metadata": {},
   "source": [
    "## Load data"
   ]
  },
  {
   "cell_type": "code",
   "execution_count": 2,
   "id": "35e6089c-e987-4705-bcb4-adef97840276",
   "metadata": {
    "scrolled": true
   },
   "outputs": [
    {
     "data": {
      "text/html": [
       "<div>\n",
       "<style scoped>\n",
       "    .dataframe tbody tr th:only-of-type {\n",
       "        vertical-align: middle;\n",
       "    }\n",
       "\n",
       "    .dataframe tbody tr th {\n",
       "        vertical-align: top;\n",
       "    }\n",
       "\n",
       "    .dataframe thead th {\n",
       "        text-align: right;\n",
       "    }\n",
       "</style>\n",
       "<table border=\"1\" class=\"dataframe\">\n",
       "  <thead>\n",
       "    <tr style=\"text-align: right;\">\n",
       "      <th></th>\n",
       "      <th>loc_x</th>\n",
       "      <th>loc_y</th>\n",
       "      <th>minutes_remaining</th>\n",
       "      <th>shot_distance</th>\n",
       "      <th>shot_made_flag</th>\n",
       "      <th>shot_id</th>\n",
       "    </tr>\n",
       "  </thead>\n",
       "  <tbody>\n",
       "    <tr>\n",
       "      <th>0</th>\n",
       "      <td>0</td>\n",
       "      <td>0</td>\n",
       "      <td>7</td>\n",
       "      <td>0</td>\n",
       "      <td>1</td>\n",
       "      <td>1</td>\n",
       "    </tr>\n",
       "    <tr>\n",
       "      <th>1</th>\n",
       "      <td>-3</td>\n",
       "      <td>130</td>\n",
       "      <td>9</td>\n",
       "      <td>13</td>\n",
       "      <td>0</td>\n",
       "      <td>2</td>\n",
       "    </tr>\n",
       "    <tr>\n",
       "      <th>2</th>\n",
       "      <td>82</td>\n",
       "      <td>8</td>\n",
       "      <td>7</td>\n",
       "      <td>8</td>\n",
       "      <td>0</td>\n",
       "      <td>3</td>\n",
       "    </tr>\n",
       "    <tr>\n",
       "      <th>3</th>\n",
       "      <td>100</td>\n",
       "      <td>101</td>\n",
       "      <td>10</td>\n",
       "      <td>14</td>\n",
       "      <td>1</td>\n",
       "      <td>4</td>\n",
       "    </tr>\n",
       "    <tr>\n",
       "      <th>4</th>\n",
       "      <td>0</td>\n",
       "      <td>0</td>\n",
       "      <td>9</td>\n",
       "      <td>0</td>\n",
       "      <td>1</td>\n",
       "      <td>5</td>\n",
       "    </tr>\n",
       "    <tr>\n",
       "      <th>...</th>\n",
       "      <td>...</td>\n",
       "      <td>...</td>\n",
       "      <td>...</td>\n",
       "      <td>...</td>\n",
       "      <td>...</td>\n",
       "      <td>...</td>\n",
       "    </tr>\n",
       "    <tr>\n",
       "      <th>24995</th>\n",
       "      <td>97</td>\n",
       "      <td>43</td>\n",
       "      <td>1</td>\n",
       "      <td>10</td>\n",
       "      <td>0</td>\n",
       "      <td>24996</td>\n",
       "    </tr>\n",
       "    <tr>\n",
       "      <th>24996</th>\n",
       "      <td>18</td>\n",
       "      <td>77</td>\n",
       "      <td>2</td>\n",
       "      <td>7</td>\n",
       "      <td>0</td>\n",
       "      <td>24997</td>\n",
       "    </tr>\n",
       "    <tr>\n",
       "      <th>24997</th>\n",
       "      <td>234</td>\n",
       "      <td>4</td>\n",
       "      <td>0</td>\n",
       "      <td>23</td>\n",
       "      <td>0</td>\n",
       "      <td>24998</td>\n",
       "    </tr>\n",
       "    <tr>\n",
       "      <th>24998</th>\n",
       "      <td>75</td>\n",
       "      <td>20</td>\n",
       "      <td>2</td>\n",
       "      <td>7</td>\n",
       "      <td>0</td>\n",
       "      <td>24999</td>\n",
       "    </tr>\n",
       "    <tr>\n",
       "      <th>24999</th>\n",
       "      <td>0</td>\n",
       "      <td>0</td>\n",
       "      <td>3</td>\n",
       "      <td>0</td>\n",
       "      <td>1</td>\n",
       "      <td>25000</td>\n",
       "    </tr>\n",
       "  </tbody>\n",
       "</table>\n",
       "<p>25000 rows × 6 columns</p>\n",
       "</div>"
      ],
      "text/plain": [
       "       loc_x  loc_y  minutes_remaining  shot_distance  shot_made_flag  shot_id\n",
       "0          0      0                  7              0               1        1\n",
       "1         -3    130                  9             13               0        2\n",
       "2         82      8                  7              8               0        3\n",
       "3        100    101                 10             14               1        4\n",
       "4          0      0                  9              0               1        5\n",
       "...      ...    ...                ...            ...             ...      ...\n",
       "24995     97     43                  1             10               0    24996\n",
       "24996     18     77                  2              7               0    24997\n",
       "24997    234      4                  0             23               0    24998\n",
       "24998     75     20                  2              7               0    24999\n",
       "24999      0      0                  3              0               1    25000\n",
       "\n",
       "[25000 rows x 6 columns]"
      ]
     },
     "execution_count": 2,
     "metadata": {},
     "output_type": "execute_result"
    }
   ],
   "source": [
    "df = pd.read_csv(\"data_train.csv\")\n",
    "df"
   ]
  },
  {
   "cell_type": "code",
   "execution_count": 3,
   "id": "b39d141d-7c68-44cc-9bff-c861f7f147a1",
   "metadata": {},
   "outputs": [
    {
     "data": {
      "text/plain": [
       "loc_x                False\n",
       "loc_y                False\n",
       "minutes_remaining    False\n",
       "shot_distance        False\n",
       "shot_made_flag       False\n",
       "shot_id              False\n",
       "dtype: bool"
      ]
     },
     "execution_count": 3,
     "metadata": {},
     "output_type": "execute_result"
    }
   ],
   "source": [
    "df.isna().any()"
   ]
  },
  {
   "cell_type": "code",
   "execution_count": 4,
   "id": "59eee26a-f4ba-445d-a7c5-6710c80ac76f",
   "metadata": {},
   "outputs": [
    {
     "data": {
      "text/html": [
       "<div>\n",
       "<style scoped>\n",
       "    .dataframe tbody tr th:only-of-type {\n",
       "        vertical-align: middle;\n",
       "    }\n",
       "\n",
       "    .dataframe tbody tr th {\n",
       "        vertical-align: top;\n",
       "    }\n",
       "\n",
       "    .dataframe thead th {\n",
       "        text-align: right;\n",
       "    }\n",
       "</style>\n",
       "<table border=\"1\" class=\"dataframe\">\n",
       "  <thead>\n",
       "    <tr style=\"text-align: right;\">\n",
       "      <th></th>\n",
       "      <th>loc_x</th>\n",
       "      <th>loc_y</th>\n",
       "      <th>minutes_remaining</th>\n",
       "      <th>shot_distance</th>\n",
       "      <th>shot_made_flag</th>\n",
       "      <th>shot_id</th>\n",
       "    </tr>\n",
       "  </thead>\n",
       "  <tbody>\n",
       "    <tr>\n",
       "      <th>count</th>\n",
       "      <td>25000.000000</td>\n",
       "      <td>25000.000000</td>\n",
       "      <td>25000.000000</td>\n",
       "      <td>25000.000000</td>\n",
       "      <td>25000.00000</td>\n",
       "      <td>25000.000000</td>\n",
       "    </tr>\n",
       "    <tr>\n",
       "      <th>mean</th>\n",
       "      <td>7.125400</td>\n",
       "      <td>91.287880</td>\n",
       "      <td>4.885120</td>\n",
       "      <td>13.458520</td>\n",
       "      <td>0.44744</td>\n",
       "      <td>12500.500000</td>\n",
       "    </tr>\n",
       "    <tr>\n",
       "      <th>std</th>\n",
       "      <td>110.029921</td>\n",
       "      <td>88.289321</td>\n",
       "      <td>3.452593</td>\n",
       "      <td>9.397722</td>\n",
       "      <td>0.49724</td>\n",
       "      <td>7217.022701</td>\n",
       "    </tr>\n",
       "    <tr>\n",
       "      <th>min</th>\n",
       "      <td>-250.000000</td>\n",
       "      <td>-44.000000</td>\n",
       "      <td>0.000000</td>\n",
       "      <td>0.000000</td>\n",
       "      <td>0.00000</td>\n",
       "      <td>1.000000</td>\n",
       "    </tr>\n",
       "    <tr>\n",
       "      <th>25%</th>\n",
       "      <td>-67.250000</td>\n",
       "      <td>4.000000</td>\n",
       "      <td>2.000000</td>\n",
       "      <td>5.000000</td>\n",
       "      <td>0.00000</td>\n",
       "      <td>6250.750000</td>\n",
       "    </tr>\n",
       "    <tr>\n",
       "      <th>50%</th>\n",
       "      <td>0.000000</td>\n",
       "      <td>72.000000</td>\n",
       "      <td>5.000000</td>\n",
       "      <td>15.000000</td>\n",
       "      <td>0.00000</td>\n",
       "      <td>12500.500000</td>\n",
       "    </tr>\n",
       "    <tr>\n",
       "      <th>75%</th>\n",
       "      <td>94.000000</td>\n",
       "      <td>160.000000</td>\n",
       "      <td>8.000000</td>\n",
       "      <td>21.000000</td>\n",
       "      <td>1.00000</td>\n",
       "      <td>18750.250000</td>\n",
       "    </tr>\n",
       "    <tr>\n",
       "      <th>max</th>\n",
       "      <td>248.000000</td>\n",
       "      <td>791.000000</td>\n",
       "      <td>11.000000</td>\n",
       "      <td>79.000000</td>\n",
       "      <td>1.00000</td>\n",
       "      <td>25000.000000</td>\n",
       "    </tr>\n",
       "  </tbody>\n",
       "</table>\n",
       "</div>"
      ],
      "text/plain": [
       "              loc_x         loc_y  minutes_remaining  shot_distance  \\\n",
       "count  25000.000000  25000.000000       25000.000000   25000.000000   \n",
       "mean       7.125400     91.287880           4.885120      13.458520   \n",
       "std      110.029921     88.289321           3.452593       9.397722   \n",
       "min     -250.000000    -44.000000           0.000000       0.000000   \n",
       "25%      -67.250000      4.000000           2.000000       5.000000   \n",
       "50%        0.000000     72.000000           5.000000      15.000000   \n",
       "75%       94.000000    160.000000           8.000000      21.000000   \n",
       "max      248.000000    791.000000          11.000000      79.000000   \n",
       "\n",
       "       shot_made_flag       shot_id  \n",
       "count     25000.00000  25000.000000  \n",
       "mean          0.44744  12500.500000  \n",
       "std           0.49724   7217.022701  \n",
       "min           0.00000      1.000000  \n",
       "25%           0.00000   6250.750000  \n",
       "50%           0.00000  12500.500000  \n",
       "75%           1.00000  18750.250000  \n",
       "max           1.00000  25000.000000  "
      ]
     },
     "execution_count": 4,
     "metadata": {},
     "output_type": "execute_result"
    }
   ],
   "source": [
    "df.describe()"
   ]
  },
  {
   "cell_type": "code",
   "execution_count": 5,
   "id": "5fa761fe-ba4b-4e6d-8e07-ea7545967d50",
   "metadata": {},
   "outputs": [],
   "source": [
    "input_cols = [\"loc_x\", \"loc_y\"]  # Specified in the task statement\n",
    "output_col = \"shot_made_flag\""
   ]
  },
  {
   "cell_type": "code",
   "execution_count": 6,
   "id": "9318c4df-3e80-4281-b15b-1ff1e335e280",
   "metadata": {},
   "outputs": [
    {
     "data": {
      "text/plain": [
       "((25000, 2), (25000,))"
      ]
     },
     "execution_count": 6,
     "metadata": {},
     "output_type": "execute_result"
    }
   ],
   "source": [
    "X = df[input_cols]\n",
    "y = df[output_col]\n",
    "X.shape, y.shape"
   ]
  },
  {
   "cell_type": "code",
   "execution_count": 7,
   "id": "3325ce27-248c-4a60-bcfa-155b67276e45",
   "metadata": {},
   "outputs": [],
   "source": [
    "X_tensor = torch.tensor(X.to_numpy(), dtype=torch.float32)\n",
    "y_tensor = torch.tensor(y, dtype=torch.float32)"
   ]
  },
  {
   "cell_type": "code",
   "execution_count": 8,
   "id": "3e294af4-5333-4efb-ab73-febe555fe25e",
   "metadata": {},
   "outputs": [
    {
     "data": {
      "text/plain": [
       "(torch.Size([18750, 2]), torch.Size([18750]))"
      ]
     },
     "execution_count": 8,
     "metadata": {},
     "output_type": "execute_result"
    }
   ],
   "source": [
    "X_train, X_test, y_train, y_test = train_test_split(X_tensor, y_tensor, random_state=42)\n",
    "X_train.shape, y_train.shape"
   ]
  },
  {
   "cell_type": "markdown",
   "id": "8b78f8dc-cd27-4b4a-b1c0-fcbdbec1786e",
   "metadata": {},
   "source": [
    "## Define model and train"
   ]
  },
  {
   "cell_type": "code",
   "execution_count": 9,
   "id": "ae7120d3-851a-4719-90c7-ee565000346e",
   "metadata": {},
   "outputs": [],
   "source": [
    "class MyModel(nn.Module):\n",
    "    def __init__(self):\n",
    "        super().__init__()\n",
    "        self.act = nn.Tanh()\n",
    "        self.fc1 = nn.Linear(2, 8)\n",
    "        self.fc2 = nn.Linear(8, 8)\n",
    "        self.fc3 = nn.Linear(8, 1)\n",
    "        \n",
    "    def forward(self, x):\n",
    "        x = self.act(self.fc1(x))\n",
    "        x = self.act(self.fc2(x))\n",
    "        x = self.fc3(x)\n",
    "        return x"
   ]
  },
  {
   "cell_type": "code",
   "execution_count": 10,
   "id": "ddd48cfe-31e2-4b4f-81b1-47fef3569360",
   "metadata": {},
   "outputs": [],
   "source": [
    "def train(model, optimizer, criterion, X, y, num_epochs):\n",
    "    train_losses = []\n",
    "    for epoch in range(num_epochs):\n",
    "        model.train()\n",
    "\n",
    "        outputs = model(X).squeeze()\n",
    "        loss = criterion(outputs, y)\n",
    "        \n",
    "        optimizer.zero_grad()\n",
    "        loss.backward()\n",
    "        optimizer.step()\n",
    "        \n",
    "        train_losses.append(loss.item())\n",
    "        print(f\"Epoch [{epoch + 1}/{num_epochs}], Loss: {loss.item()}\")\n",
    "    \n",
    "    return train_losses"
   ]
  },
  {
   "cell_type": "code",
   "execution_count": 11,
   "id": "98584aee-29b1-40c6-ac41-0134a6284077",
   "metadata": {},
   "outputs": [],
   "source": [
    "@torch.no_grad()\n",
    "def test(model, X, y):\n",
    "    model.eval()\n",
    "\n",
    "    probs = torch.sigmoid(model(X).squeeze())\n",
    "    preds = (probs >= 0.5).to(torch.uint8)\n",
    "\n",
    "    return accuracy_score(preds, y)"
   ]
  },
  {
   "cell_type": "code",
   "execution_count": 12,
   "id": "8ea86013-5850-4bb3-aee9-eb9740dbebac",
   "metadata": {},
   "outputs": [],
   "source": [
    "model = MyModel()\n",
    "criterion = nn.BCEWithLogitsLoss()\n",
    "optimizer = optim.Adam(model.parameters(), lr=1e-3)"
   ]
  },
  {
   "cell_type": "code",
   "execution_count": 13,
   "id": "bb290acc-d4ce-4cdb-b37d-75ad91d27a9b",
   "metadata": {
    "scrolled": true
   },
   "outputs": [
    {
     "name": "stdout",
     "output_type": "stream",
     "text": [
      "Epoch [1/15], Loss: 0.699416995048523\n",
      "Epoch [2/15], Loss: 0.698686420917511\n",
      "Epoch [3/15], Loss: 0.6979755163192749\n",
      "Epoch [4/15], Loss: 0.6972848773002625\n",
      "Epoch [5/15], Loss: 0.6966170072555542\n",
      "Epoch [6/15], Loss: 0.6959756016731262\n",
      "Epoch [7/15], Loss: 0.6953611373901367\n",
      "Epoch [8/15], Loss: 0.6947712302207947\n",
      "Epoch [9/15], Loss: 0.6942040920257568\n",
      "Epoch [10/15], Loss: 0.6936602592468262\n",
      "Epoch [11/15], Loss: 0.6931406855583191\n",
      "Epoch [12/15], Loss: 0.6926440000534058\n",
      "Epoch [13/15], Loss: 0.692168653011322\n",
      "Epoch [14/15], Loss: 0.6917139291763306\n",
      "Epoch [15/15], Loss: 0.691280722618103\n"
     ]
    }
   ],
   "source": [
    "train(model, optimizer, criterion, X_train, y_train, 15);"
   ]
  },
  {
   "cell_type": "code",
   "execution_count": 14,
   "id": "ad64b681-ffcd-428c-93ab-45e37b8372c1",
   "metadata": {},
   "outputs": [
    {
     "data": {
      "text/plain": [
       "0.52288"
      ]
     },
     "execution_count": 14,
     "metadata": {},
     "output_type": "execute_result"
    }
   ],
   "source": [
    "test(model, X_test, y_test)"
   ]
  },
  {
   "cell_type": "markdown",
   "id": "f25f9efa-3919-422d-bc28-bd3df2d45638",
   "metadata": {},
   "source": [
    "## Save for submission"
   ]
  },
  {
   "cell_type": "code",
   "execution_count": 15,
   "id": "c35905f8-5bcf-4006-bc6a-18eb68ba3dce",
   "metadata": {},
   "outputs": [],
   "source": [
    "py_filename = \"submission_model.py\"\n",
    "pth_filename = \"submission_dic.pth\"\n",
    "zip_filename = \"submission.zip\"  # Will submit this zip to the grader"
   ]
  },
  {
   "cell_type": "code",
   "execution_count": 16,
   "id": "814e5365-71cb-4bf8-93aa-612f40babfa3",
   "metadata": {},
   "outputs": [],
   "source": [
    "torch.save(model.state_dict(), pth_filename)"
   ]
  },
  {
   "cell_type": "code",
   "execution_count": 17,
   "id": "9eb4689b-c35a-4acf-a0d8-754e130dd64a",
   "metadata": {},
   "outputs": [],
   "source": [
    "model_code = \"\"\"  \n",
    "import torch\n",
    "import torch.nn as nn\n",
    "\n",
    "\n",
    "class MyModel(nn.Module):\n",
    "    def __init__(self):\n",
    "        super().__init__()\n",
    "        self.act = nn.Tanh()\n",
    "        self.fc1 = nn.Linear(2, 8)\n",
    "        self.fc2 = nn.Linear(8, 8)\n",
    "        self.fc3 = nn.Linear(8, 1)\n",
    "        \n",
    "    def forward(self, x):\n",
    "        x = self.act(self.fc1(x))\n",
    "        x = self.act(self.fc2(x))\n",
    "        x = self.fc3(x)\n",
    "        return x\n",
    "\"\"\".lstrip()\n",
    "\n",
    "with open(py_filename, \"w\") as f:\n",
    "    f.write(model_code)"
   ]
  },
  {
   "cell_type": "code",
   "execution_count": 18,
   "id": "e84f407a-16ba-4200-badb-0050ae83cc03",
   "metadata": {},
   "outputs": [],
   "source": [
    "with zipfile.ZipFile(zip_filename, \"w\") as zipf:\n",
    "    for file in [py_filename, pth_filename]:\n",
    "        zipf.write(file, os.path.basename(file))"
   ]
  },
  {
   "cell_type": "markdown",
   "id": "07fbfed2-cf37-4843-a62d-8e9a230bbf88",
   "metadata": {},
   "source": [
    "## Score\n",
    "\n",
    "Leaderboard A accuracy: 0.5604\n",
    "\n",
    "Leaderboard B accuracy: 0.5677"
   ]
  }
 ],
 "metadata": {
  "kernelspec": {
   "display_name": "Python 3 (ipykernel)",
   "language": "python",
   "name": "python3"
  },
  "language_info": {
   "codemirror_mode": {
    "name": "ipython",
    "version": 3
   },
   "file_extension": ".py",
   "mimetype": "text/x-python",
   "name": "python",
   "nbconvert_exporter": "python",
   "pygments_lexer": "ipython3",
   "version": "3.12.6"
  }
 },
 "nbformat": 4,
 "nbformat_minor": 5
}
