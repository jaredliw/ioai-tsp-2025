{
 "cells": [
  {
   "cell_type": "markdown",
   "id": "633416a2-3ef4-4aef-9cad-1a256e405108",
   "metadata": {},
   "source": [
    "# Predicting the Shooting Percentage of Basketball Stars"
   ]
  },
  {
   "cell_type": "code",
   "execution_count": 1,
   "id": "f341384d-e98f-4b11-a72b-4e3443b68bb2",
   "metadata": {},
   "outputs": [],
   "source": [
    "import numpy as np\n",
    "import pandas as pd\n",
    "import torch\n",
    "import torch.nn as nn\n",
    "import torch.optim as optim\n",
    "import zipfile\n",
    "import os\n",
    "import random\n",
    "from sklearn.model_selection import train_test_split\n",
    "from sklearn.metrics import accuracy_score\n",
    "\n",
    "seed = 42\n",
    "os.environ[\"PYTHONHASHSEED\"] = str(seed)\n",
    "random.seed(seed)\n",
    "np.random.seed(seed)\n",
    "torch.manual_seed(seed)\n",
    "torch.cuda.manual_seed(seed)\n",
    "torch.cuda.manual_seed_all(seed)\n",
    "torch.backends.cudnn.deterministic = True\n",
    "torch.backends.cudnn.benchmark = False"
   ]
  },
  {
   "cell_type": "markdown",
   "id": "1418063c-0eb4-48a4-9d93-3da68a3b10bf",
   "metadata": {},
   "source": [
    "## Load data"
   ]
  },
  {
   "cell_type": "code",
   "execution_count": 2,
   "id": "35e6089c-e987-4705-bcb4-adef97840276",
   "metadata": {
    "scrolled": true
   },
   "outputs": [
    {
     "data": {
      "text/html": [
       "<div>\n",
       "<style scoped>\n",
       "    .dataframe tbody tr th:only-of-type {\n",
       "        vertical-align: middle;\n",
       "    }\n",
       "\n",
       "    .dataframe tbody tr th {\n",
       "        vertical-align: top;\n",
       "    }\n",
       "\n",
       "    .dataframe thead th {\n",
       "        text-align: right;\n",
       "    }\n",
       "</style>\n",
       "<table border=\"1\" class=\"dataframe\">\n",
       "  <thead>\n",
       "    <tr style=\"text-align: right;\">\n",
       "      <th></th>\n",
       "      <th>loc_x</th>\n",
       "      <th>loc_y</th>\n",
       "      <th>minutes_remaining</th>\n",
       "      <th>shot_distance</th>\n",
       "      <th>shot_made_flag</th>\n",
       "      <th>shot_id</th>\n",
       "    </tr>\n",
       "  </thead>\n",
       "  <tbody>\n",
       "    <tr>\n",
       "      <th>0</th>\n",
       "      <td>0</td>\n",
       "      <td>0</td>\n",
       "      <td>7</td>\n",
       "      <td>0</td>\n",
       "      <td>1</td>\n",
       "      <td>1</td>\n",
       "    </tr>\n",
       "    <tr>\n",
       "      <th>1</th>\n",
       "      <td>-3</td>\n",
       "      <td>130</td>\n",
       "      <td>9</td>\n",
       "      <td>13</td>\n",
       "      <td>0</td>\n",
       "      <td>2</td>\n",
       "    </tr>\n",
       "    <tr>\n",
       "      <th>2</th>\n",
       "      <td>82</td>\n",
       "      <td>8</td>\n",
       "      <td>7</td>\n",
       "      <td>8</td>\n",
       "      <td>0</td>\n",
       "      <td>3</td>\n",
       "    </tr>\n",
       "    <tr>\n",
       "      <th>3</th>\n",
       "      <td>100</td>\n",
       "      <td>101</td>\n",
       "      <td>10</td>\n",
       "      <td>14</td>\n",
       "      <td>1</td>\n",
       "      <td>4</td>\n",
       "    </tr>\n",
       "    <tr>\n",
       "      <th>4</th>\n",
       "      <td>0</td>\n",
       "      <td>0</td>\n",
       "      <td>9</td>\n",
       "      <td>0</td>\n",
       "      <td>1</td>\n",
       "      <td>5</td>\n",
       "    </tr>\n",
       "    <tr>\n",
       "      <th>...</th>\n",
       "      <td>...</td>\n",
       "      <td>...</td>\n",
       "      <td>...</td>\n",
       "      <td>...</td>\n",
       "      <td>...</td>\n",
       "      <td>...</td>\n",
       "    </tr>\n",
       "    <tr>\n",
       "      <th>24995</th>\n",
       "      <td>97</td>\n",
       "      <td>43</td>\n",
       "      <td>1</td>\n",
       "      <td>10</td>\n",
       "      <td>0</td>\n",
       "      <td>24996</td>\n",
       "    </tr>\n",
       "    <tr>\n",
       "      <th>24996</th>\n",
       "      <td>18</td>\n",
       "      <td>77</td>\n",
       "      <td>2</td>\n",
       "      <td>7</td>\n",
       "      <td>0</td>\n",
       "      <td>24997</td>\n",
       "    </tr>\n",
       "    <tr>\n",
       "      <th>24997</th>\n",
       "      <td>234</td>\n",
       "      <td>4</td>\n",
       "      <td>0</td>\n",
       "      <td>23</td>\n",
       "      <td>0</td>\n",
       "      <td>24998</td>\n",
       "    </tr>\n",
       "    <tr>\n",
       "      <th>24998</th>\n",
       "      <td>75</td>\n",
       "      <td>20</td>\n",
       "      <td>2</td>\n",
       "      <td>7</td>\n",
       "      <td>0</td>\n",
       "      <td>24999</td>\n",
       "    </tr>\n",
       "    <tr>\n",
       "      <th>24999</th>\n",
       "      <td>0</td>\n",
       "      <td>0</td>\n",
       "      <td>3</td>\n",
       "      <td>0</td>\n",
       "      <td>1</td>\n",
       "      <td>25000</td>\n",
       "    </tr>\n",
       "  </tbody>\n",
       "</table>\n",
       "<p>25000 rows × 6 columns</p>\n",
       "</div>"
      ],
      "text/plain": [
       "       loc_x  loc_y  minutes_remaining  shot_distance  shot_made_flag  shot_id\n",
       "0          0      0                  7              0               1        1\n",
       "1         -3    130                  9             13               0        2\n",
       "2         82      8                  7              8               0        3\n",
       "3        100    101                 10             14               1        4\n",
       "4          0      0                  9              0               1        5\n",
       "...      ...    ...                ...            ...             ...      ...\n",
       "24995     97     43                  1             10               0    24996\n",
       "24996     18     77                  2              7               0    24997\n",
       "24997    234      4                  0             23               0    24998\n",
       "24998     75     20                  2              7               0    24999\n",
       "24999      0      0                  3              0               1    25000\n",
       "\n",
       "[25000 rows x 6 columns]"
      ]
     },
     "execution_count": 2,
     "metadata": {},
     "output_type": "execute_result"
    }
   ],
   "source": [
    "df = pd.read_csv(\"data_train.csv\")\n",
    "df"
   ]
  },
  {
   "cell_type": "code",
   "execution_count": 3,
   "id": "b39d141d-7c68-44cc-9bff-c861f7f147a1",
   "metadata": {},
   "outputs": [
    {
     "data": {
      "text/plain": [
       "loc_x                False\n",
       "loc_y                False\n",
       "minutes_remaining    False\n",
       "shot_distance        False\n",
       "shot_made_flag       False\n",
       "shot_id              False\n",
       "dtype: bool"
      ]
     },
     "execution_count": 3,
     "metadata": {},
     "output_type": "execute_result"
    }
   ],
   "source": [
    "df.isna().any()"
   ]
  },
  {
   "cell_type": "code",
   "execution_count": 4,
   "id": "59eee26a-f4ba-445d-a7c5-6710c80ac76f",
   "metadata": {},
   "outputs": [
    {
     "data": {
      "text/html": [
       "<div>\n",
       "<style scoped>\n",
       "    .dataframe tbody tr th:only-of-type {\n",
       "        vertical-align: middle;\n",
       "    }\n",
       "\n",
       "    .dataframe tbody tr th {\n",
       "        vertical-align: top;\n",
       "    }\n",
       "\n",
       "    .dataframe thead th {\n",
       "        text-align: right;\n",
       "    }\n",
       "</style>\n",
       "<table border=\"1\" class=\"dataframe\">\n",
       "  <thead>\n",
       "    <tr style=\"text-align: right;\">\n",
       "      <th></th>\n",
       "      <th>loc_x</th>\n",
       "      <th>loc_y</th>\n",
       "      <th>minutes_remaining</th>\n",
       "      <th>shot_distance</th>\n",
       "      <th>shot_made_flag</th>\n",
       "      <th>shot_id</th>\n",
       "    </tr>\n",
       "  </thead>\n",
       "  <tbody>\n",
       "    <tr>\n",
       "      <th>count</th>\n",
       "      <td>25000.000000</td>\n",
       "      <td>25000.000000</td>\n",
       "      <td>25000.000000</td>\n",
       "      <td>25000.000000</td>\n",
       "      <td>25000.00000</td>\n",
       "      <td>25000.000000</td>\n",
       "    </tr>\n",
       "    <tr>\n",
       "      <th>mean</th>\n",
       "      <td>7.125400</td>\n",
       "      <td>91.287880</td>\n",
       "      <td>4.885120</td>\n",
       "      <td>13.458520</td>\n",
       "      <td>0.44744</td>\n",
       "      <td>12500.500000</td>\n",
       "    </tr>\n",
       "    <tr>\n",
       "      <th>std</th>\n",
       "      <td>110.029921</td>\n",
       "      <td>88.289321</td>\n",
       "      <td>3.452593</td>\n",
       "      <td>9.397722</td>\n",
       "      <td>0.49724</td>\n",
       "      <td>7217.022701</td>\n",
       "    </tr>\n",
       "    <tr>\n",
       "      <th>min</th>\n",
       "      <td>-250.000000</td>\n",
       "      <td>-44.000000</td>\n",
       "      <td>0.000000</td>\n",
       "      <td>0.000000</td>\n",
       "      <td>0.00000</td>\n",
       "      <td>1.000000</td>\n",
       "    </tr>\n",
       "    <tr>\n",
       "      <th>25%</th>\n",
       "      <td>-67.250000</td>\n",
       "      <td>4.000000</td>\n",
       "      <td>2.000000</td>\n",
       "      <td>5.000000</td>\n",
       "      <td>0.00000</td>\n",
       "      <td>6250.750000</td>\n",
       "    </tr>\n",
       "    <tr>\n",
       "      <th>50%</th>\n",
       "      <td>0.000000</td>\n",
       "      <td>72.000000</td>\n",
       "      <td>5.000000</td>\n",
       "      <td>15.000000</td>\n",
       "      <td>0.00000</td>\n",
       "      <td>12500.500000</td>\n",
       "    </tr>\n",
       "    <tr>\n",
       "      <th>75%</th>\n",
       "      <td>94.000000</td>\n",
       "      <td>160.000000</td>\n",
       "      <td>8.000000</td>\n",
       "      <td>21.000000</td>\n",
       "      <td>1.00000</td>\n",
       "      <td>18750.250000</td>\n",
       "    </tr>\n",
       "    <tr>\n",
       "      <th>max</th>\n",
       "      <td>248.000000</td>\n",
       "      <td>791.000000</td>\n",
       "      <td>11.000000</td>\n",
       "      <td>79.000000</td>\n",
       "      <td>1.00000</td>\n",
       "      <td>25000.000000</td>\n",
       "    </tr>\n",
       "  </tbody>\n",
       "</table>\n",
       "</div>"
      ],
      "text/plain": [
       "              loc_x         loc_y  minutes_remaining  shot_distance  \\\n",
       "count  25000.000000  25000.000000       25000.000000   25000.000000   \n",
       "mean       7.125400     91.287880           4.885120      13.458520   \n",
       "std      110.029921     88.289321           3.452593       9.397722   \n",
       "min     -250.000000    -44.000000           0.000000       0.000000   \n",
       "25%      -67.250000      4.000000           2.000000       5.000000   \n",
       "50%        0.000000     72.000000           5.000000      15.000000   \n",
       "75%       94.000000    160.000000           8.000000      21.000000   \n",
       "max      248.000000    791.000000          11.000000      79.000000   \n",
       "\n",
       "       shot_made_flag       shot_id  \n",
       "count     25000.00000  25000.000000  \n",
       "mean          0.44744  12500.500000  \n",
       "std           0.49724   7217.022701  \n",
       "min           0.00000      1.000000  \n",
       "25%           0.00000   6250.750000  \n",
       "50%           0.00000  12500.500000  \n",
       "75%           1.00000  18750.250000  \n",
       "max           1.00000  25000.000000  "
      ]
     },
     "execution_count": 4,
     "metadata": {},
     "output_type": "execute_result"
    }
   ],
   "source": [
    "df.describe()"
   ]
  },
  {
   "cell_type": "code",
   "execution_count": 5,
   "id": "5fa761fe-ba4b-4e6d-8e07-ea7545967d50",
   "metadata": {},
   "outputs": [],
   "source": [
    "input_cols = [\"loc_x\", \"loc_y\"]  # Specified in the task statement\n",
    "output_col = \"shot_made_flag\""
   ]
  },
  {
   "cell_type": "code",
   "execution_count": 6,
   "id": "9318c4df-3e80-4281-b15b-1ff1e335e280",
   "metadata": {},
   "outputs": [
    {
     "data": {
      "text/plain": [
       "((25000, 2), (25000,))"
      ]
     },
     "execution_count": 6,
     "metadata": {},
     "output_type": "execute_result"
    }
   ],
   "source": [
    "X = df[input_cols]\n",
    "y = df[output_col]\n",
    "X.shape, y.shape"
   ]
  },
  {
   "cell_type": "code",
   "execution_count": 7,
   "id": "3325ce27-248c-4a60-bcfa-155b67276e45",
   "metadata": {},
   "outputs": [],
   "source": [
    "X_tensor = torch.tensor(X.to_numpy(), dtype=torch.float32)\n",
    "y_tensor = torch.tensor(y, dtype=torch.float32)"
   ]
  },
  {
   "cell_type": "code",
   "execution_count": 8,
   "id": "3e294af4-5333-4efb-ab73-febe555fe25e",
   "metadata": {},
   "outputs": [
    {
     "data": {
      "text/plain": [
       "(torch.Size([18750, 2]), torch.Size([18750]))"
      ]
     },
     "execution_count": 8,
     "metadata": {},
     "output_type": "execute_result"
    }
   ],
   "source": [
    "X_train, X_test, y_train, y_test = train_test_split(X_tensor, y_tensor, random_state=42)\n",
    "X_train.shape, y_train.shape"
   ]
  },
  {
   "cell_type": "markdown",
   "id": "8b78f8dc-cd27-4b4a-b1c0-fcbdbec1786e",
   "metadata": {},
   "source": [
    "## Define model and train"
   ]
  },
  {
   "cell_type": "code",
   "execution_count": 9,
   "id": "ae7120d3-851a-4719-90c7-ee565000346e",
   "metadata": {},
   "outputs": [],
   "source": [
    "class MyModel(nn.Module):\n",
    "    def __init__(self):\n",
    "        super().__init__()\n",
    "        self.act = nn.Tanh()\n",
    "        self.fc1 = nn.Linear(2, 8)\n",
    "        self.fc2 = nn.Linear(8, 8)\n",
    "        self.fc3 = nn.Linear(8, 1)\n",
    "        \n",
    "    def forward(self, x):\n",
    "        x = self.act(self.fc1(x))\n",
    "        x = self.act(self.fc2(x))\n",
    "        x = self.fc3(x)\n",
    "        return x"
   ]
  },
  {
   "cell_type": "code",
   "execution_count": 10,
   "id": "ddd48cfe-31e2-4b4f-81b1-47fef3569360",
   "metadata": {},
   "outputs": [],
   "source": [
    "def train(model, optimizer, criterion, X, y, num_epochs):\n",
    "    train_losses = []\n",
    "    for epoch in range(num_epochs):\n",
    "        model.train()\n",
    "\n",
    "        outputs = model(X).squeeze()\n",
    "        loss = criterion(outputs, y)\n",
    "        \n",
    "        optimizer.zero_grad()\n",
    "        loss.backward()\n",
    "        optimizer.step()\n",
    "        \n",
    "        train_losses.append(loss.item())\n",
    "        print(f\"Epoch [{epoch + 1}/{num_epochs}], Loss: {loss.item()}\")\n",
    "    \n",
    "    return train_losses"
   ]
  },
  {
   "cell_type": "code",
   "execution_count": 11,
   "id": "98584aee-29b1-40c6-ac41-0134a6284077",
   "metadata": {},
   "outputs": [],
   "source": [
    "@torch.no_grad()\n",
    "def test(model, X, y):\n",
    "    model.eval()\n",
    "\n",
    "    probs = torch.sigmoid(model(X).squeeze())\n",
    "    preds = (probs >= 0.5).to(torch.uint8)\n",
    "\n",
    "    return accuracy_score(preds, y)"
   ]
  },
  {
   "cell_type": "code",
   "execution_count": 12,
   "id": "8ea86013-5850-4bb3-aee9-eb9740dbebac",
   "metadata": {},
   "outputs": [],
   "source": [
    "model = MyModel()\n",
    "criterion = nn.BCEWithLogitsLoss()\n",
    "optimizer = optim.Adam(model.parameters(), lr=1e-3)"
   ]
  },
  {
   "cell_type": "code",
   "execution_count": 13,
   "id": "bb290acc-d4ce-4cdb-b37d-75ad91d27a9b",
   "metadata": {
    "scrolled": true
   },
   "outputs": [
    {
     "name": "stdout",
     "output_type": "stream",
     "text": [
      "Epoch [1/15], Loss: 0.699416995048523\n",
      "Epoch [2/15], Loss: 0.698686420917511\n",
      "Epoch [3/15], Loss: 0.6979755163192749\n",
      "Epoch [4/15], Loss: 0.6972848773002625\n",
      "Epoch [5/15], Loss: 0.6966170072555542\n",
      "Epoch [6/15], Loss: 0.6959756016731262\n",
      "Epoch [7/15], Loss: 0.6953611373901367\n",
      "Epoch [8/15], Loss: 0.6947712302207947\n",
      "Epoch [9/15], Loss: 0.6942040920257568\n",
      "Epoch [10/15], Loss: 0.6936602592468262\n",
      "Epoch [11/15], Loss: 0.6931406855583191\n",
      "Epoch [12/15], Loss: 0.6926440000534058\n",
      "Epoch [13/15], Loss: 0.692168653011322\n",
      "Epoch [14/15], Loss: 0.6917139291763306\n",
      "Epoch [15/15], Loss: 0.691280722618103\n"
     ]
    }
   ],
   "source": [
    "train(model, optimizer, criterion, X_train, y_train, 15);"
   ]
  },
  {
   "cell_type": "code",
   "execution_count": 14,
   "id": "ad64b681-ffcd-428c-93ab-45e37b8372c1",
   "metadata": {},
   "outputs": [
    {
     "data": {
      "text/plain": [
       "0.52288"
      ]
     },
     "execution_count": 14,
     "metadata": {},
     "output_type": "execute_result"
    }
   ],
   "source": [
    "test(model, X_test, y_test)"
   ]
  },
  {
   "cell_type": "markdown",
   "id": "f25f9efa-3919-422d-bc28-bd3df2d45638",
   "metadata": {},
   "source": [
    "## Save for submission"
   ]
  },
  {
   "cell_type": "code",
   "execution_count": 15,
   "id": "c35905f8-5bcf-4006-bc6a-18eb68ba3dce",
   "metadata": {},
   "outputs": [],
   "source": [
    "py_filename = \"submission_model.py\"\n",
    "pth_filename = \"submission_dic.pth\"\n",
    "zip_filename = \"submission.zip\"  # Will submit this zip to the grader"
   ]
  },
  {
   "cell_type": "code",
   "execution_count": 16,
   "id": "814e5365-71cb-4bf8-93aa-612f40babfa3",
   "metadata": {},
   "outputs": [],
   "source": [
    "torch.save(model.state_dict(), pth_filename)"
   ]
  },
  {
   "cell_type": "code",
   "execution_count": 17,
   "id": "9eb4689b-c35a-4acf-a0d8-754e130dd64a",
   "metadata": {},
   "outputs": [],
   "source": [
    "model_code = \"\"\"  \n",
    "import torch\n",
    "import torch.nn as nn\n",
    "\n",
    "\n",
    "class MyModel(nn.Module):\n",
    "    def __init__(self):\n",
    "        super().__init__()\n",
    "        self.act = nn.Tanh()\n",
    "        self.fc1 = nn.Linear(2, 8)\n",
    "        self.fc2 = nn.Linear(8, 8)\n",
    "        self.fc3 = nn.Linear(8, 1)\n",
    "        \n",
    "    def forward(self, x):\n",
    "        x = self.act(self.fc1(x))\n",
    "        x = self.act(self.fc2(x))\n",
    "        x = self.fc3(x)\n",
    "        return x\n",
    "\"\"\".lstrip()\n",
    "\n",
    "with open(py_filename, \"w\") as f:\n",
    "    f.write(model_code)"
   ]
  },
  {
   "cell_type": "code",
   "execution_count": 18,
   "id": "e84f407a-16ba-4200-badb-0050ae83cc03",
   "metadata": {},
   "outputs": [],
   "source": [
    "with zipfile.ZipFile(zip_filename, \"w\") as zipf:\n",
    "    for file in [py_filename, pth_filename]:\n",
    "        zipf.write(file, os.path.basename(file))"
   ]
  },
  {
   "cell_type": "markdown",
   "id": "07fbfed2-cf37-4843-a62d-8e9a230bbf88",
   "metadata": {},
   "source": [
    "## Score\n",
    "\n",
    "Leaderboard A accuracy: 0.5604"
   ]
  }
 ],
 "metadata": {
  "kernelspec": {
   "display_name": "Python 3 (ipykernel)",
   "language": "python",
   "name": "python3"
  },
  "language_info": {
   "codemirror_mode": {
    "name": "ipython",
    "version": 3
   },
   "file_extension": ".py",
   "mimetype": "text/x-python",
   "name": "python",
   "nbconvert_exporter": "python",
   "pygments_lexer": "ipython3",
   "version": "3.12.6"
  }
 },
 "nbformat": 4,
 "nbformat_minor": 5
}
