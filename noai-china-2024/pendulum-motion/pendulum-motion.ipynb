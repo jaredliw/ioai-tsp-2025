{
 "cells": [
  {
   "cell_type": "markdown",
   "id": "cbf1e922-9302-47f3-9f01-cc4a7ade8047",
   "metadata": {},
   "source": [
    "# Solving the Pendulum Motion with Missing Data"
   ]
  },
  {
   "cell_type": "markdown",
   "id": "52dbeb23-d745-4892-ba8e-a9e9d1de5422",
   "metadata": {},
   "source": [
    "## Analysis"
   ]
  },
  {
   "attachments": {},
   "cell_type": "markdown",
   "id": "68b7a2a8-c500-4e20-851e-e28aa8dc5159",
   "metadata": {},
   "source": [
    "The pendulum undergoes simple harmonic motion, and its tangential acceleration, $a(t)=l \\frac{d\\omega(t)}{dt}=l \\frac{d^2\\theta(t)}{dt^2}$, is governed by three forces:\n",
    "\n",
    "- the tangential component of gravity, $F_g(t) = -mg\\sin\\theta(t)$,\n",
    "- the frictional (air resistance) force, $f(t)=-\\mu v(t)=-\\mu l\\omega(t)$, and\n",
    "- the tangential component of the downward pulling force, $F_d(t)$. ($F_d(t)=-F\\sin\\theta(t)$ when $t\\ge t_F$ and zero otherwise.)\n",
    "\n",
    "Apply Newton's second law, we get\n",
    "\n",
    "$$\n",
    "ml \\frac{d^2\\theta(t)}{dt^2} = -mg\\sin\\theta(t) - \\mu l\\frac{d\\theta(t)}{dt} - F_d(t).\n",
    "$$\n",
    "\n",
    "Given datapoints $(t, \\theta(t))$, we want to find paramters $l$, $\\mu$, $F$, $t_F$."
   ]
  },
  {
   "cell_type": "markdown",
   "id": "4f00b471-5ede-4dec-bab5-09a8496349d9",
   "metadata": {},
   "source": [
    "## Load data"
   ]
  },
  {
   "cell_type": "code",
   "execution_count": 1,
   "id": "674ab7ba-26bc-4082-9f77-2298099d5885",
   "metadata": {},
   "outputs": [],
   "source": [
    "import os\n",
    "import random\n",
    "import torch\n",
    "import zipfile\n",
    "import numpy as np\n",
    "import torch.nn as nn\n",
    "import torch.nn.functional as F\n",
    "import torch.autograd as autograd\n",
    "import torch.optim as optim\n",
    "import pandas as pd\n",
    "import matplotlib.pyplot as plt\n",
    "from pathlib import Path\n",
    "from scipy.integrate import solve_ivp\n",
    "\n",
    "TEST_PATH = Path(os.environ.get(\"DATA_PATH\") or \"\")  # For grader\n",
    "TRAIN_PATH = Path(\"\")\n",
    "if TEST_PATH != TRAIN_PATH:\n",
    "    TRAIN_PATH = Path(\"/bohr/train-08bw/v1\")\n",
    "\n",
    "seed = 42\n",
    "os.environ[\"PYTHONHASHSEED\"] = str(seed)\n",
    "random.seed(seed)\n",
    "np.random.seed(seed)\n",
    "torch.manual_seed(seed)\n",
    "torch.cuda.manual_seed(seed)\n",
    "torch.cuda.manual_seed_all(seed)\n",
    "torch.backends.cudnn.deterministic = True\n",
    "torch.backends.cudnn.benchmark = False"
   ]
  },
  {
   "cell_type": "code",
   "execution_count": 2,
   "id": "845981a5-3b1e-49a0-9764-2b3bce889152",
   "metadata": {},
   "outputs": [
    {
     "data": {
      "text/html": [
       "<div>\n",
       "<style scoped>\n",
       "    .dataframe tbody tr th:only-of-type {\n",
       "        vertical-align: middle;\n",
       "    }\n",
       "\n",
       "    .dataframe tbody tr th {\n",
       "        vertical-align: top;\n",
       "    }\n",
       "\n",
       "    .dataframe thead th {\n",
       "        text-align: right;\n",
       "    }\n",
       "</style>\n",
       "<table border=\"1\" class=\"dataframe\">\n",
       "  <thead>\n",
       "    <tr style=\"text-align: right;\">\n",
       "      <th></th>\n",
       "      <th>t</th>\n",
       "      <th>theta</th>\n",
       "    </tr>\n",
       "  </thead>\n",
       "  <tbody>\n",
       "    <tr>\n",
       "      <th>0</th>\n",
       "      <td>0.000000</td>\n",
       "      <td>1.050000</td>\n",
       "    </tr>\n",
       "    <tr>\n",
       "      <th>1</th>\n",
       "      <td>0.015015</td>\n",
       "      <td>1.049805</td>\n",
       "    </tr>\n",
       "    <tr>\n",
       "      <th>2</th>\n",
       "      <td>0.030030</td>\n",
       "      <td>1.049222</td>\n",
       "    </tr>\n",
       "    <tr>\n",
       "      <th>3</th>\n",
       "      <td>0.045045</td>\n",
       "      <td>1.048253</td>\n",
       "    </tr>\n",
       "    <tr>\n",
       "      <th>4</th>\n",
       "      <td>0.060060</td>\n",
       "      <td>1.046903</td>\n",
       "    </tr>\n",
       "    <tr>\n",
       "      <th>...</th>\n",
       "      <td>...</td>\n",
       "      <td>...</td>\n",
       "    </tr>\n",
       "    <tr>\n",
       "      <th>729</th>\n",
       "      <td>14.939940</td>\n",
       "      <td>-0.003654</td>\n",
       "    </tr>\n",
       "    <tr>\n",
       "      <th>730</th>\n",
       "      <td>14.954955</td>\n",
       "      <td>-0.004669</td>\n",
       "    </tr>\n",
       "    <tr>\n",
       "      <th>731</th>\n",
       "      <td>14.969970</td>\n",
       "      <td>-0.005666</td>\n",
       "    </tr>\n",
       "    <tr>\n",
       "      <th>732</th>\n",
       "      <td>14.984985</td>\n",
       "      <td>-0.006643</td>\n",
       "    </tr>\n",
       "    <tr>\n",
       "      <th>733</th>\n",
       "      <td>15.000000</td>\n",
       "      <td>-0.007598</td>\n",
       "    </tr>\n",
       "  </tbody>\n",
       "</table>\n",
       "<p>734 rows × 2 columns</p>\n",
       "</div>"
      ],
      "text/plain": [
       "             t     theta\n",
       "0     0.000000  1.050000\n",
       "1     0.015015  1.049805\n",
       "2     0.030030  1.049222\n",
       "3     0.045045  1.048253\n",
       "4     0.060060  1.046903\n",
       "..         ...       ...\n",
       "729  14.939940 -0.003654\n",
       "730  14.954955 -0.004669\n",
       "731  14.969970 -0.005666\n",
       "732  14.984985 -0.006643\n",
       "733  15.000000 -0.007598\n",
       "\n",
       "[734 rows x 2 columns]"
      ]
     },
     "execution_count": 2,
     "metadata": {},
     "output_type": "execute_result"
    }
   ],
   "source": [
    "df_train = pd.read_csv(TRAIN_PATH / \"pendulum_train.csv\")\n",
    "df_train"
   ]
  },
  {
   "cell_type": "code",
   "execution_count": 3,
   "id": "fcf8e1cf-9199-4adf-b3fb-b307759c12f9",
   "metadata": {},
   "outputs": [
    {
     "data": {
      "image/png": "[encoded data removed]",
      "text/plain": [
       "<Figure size 640x480 with 1 Axes>"
      ]
     },
     "metadata": {},
     "output_type": "display_data"
    }
   ],
   "source": [
    "plt.scatter(df_train[\"t\"], df_train[\"theta\"], s=8)\n",
    "plt.xlabel(\"$t$\")\n",
    "plt.ylabel(r\"$\\theta$\");"
   ]
  },
  {
   "cell_type": "code",
   "execution_count": 4,
   "id": "1deb02de-e3ba-4d6b-b8bb-ccab6d8f2f37",
   "metadata": {},
   "outputs": [],
   "source": [
    "def get_gap(df):\n",
    "    col = df[\"t\"]\n",
    "    tmp = col.diff().argmax()\n",
    "    return col.iloc[tmp - 1], col.iloc[tmp]"
   ]
  },
  {
   "cell_type": "code",
   "execution_count": 5,
   "id": "316c4f1a-63f7-4bde-bb86-d438c07bfec0",
   "metadata": {},
   "outputs": [
    {
     "data": {
      "text/plain": [
       "(3.003003003003003, 7.012012012012012)"
      ]
     },
     "execution_count": 5,
     "metadata": {},
     "output_type": "execute_result"
    }
   ],
   "source": [
    "train_gap_start, train_gap_end = get_gap(df_train)\n",
    "train_gap_start, train_gap_end"
   ]
  },
  {
   "cell_type": "code",
   "execution_count": 6,
   "id": "ea58a560-adad-46ff-a863-49b000063a98",
   "metadata": {},
   "outputs": [],
   "source": [
    "def to_tensor(df):\n",
    "    t = torch.tensor(df[\"t\"].to_numpy())\n",
    "    theta = torch.tensor(df[\"theta\"].to_numpy())\n",
    "    dtheta = torch.gradient(theta, spacing=t[1] - t[0])[0]\n",
    "    d2theta = torch.gradient(dtheta, spacing=t[1] - t[0])[0]\n",
    "    return torch.vstack([t, theta, dtheta, d2theta]).T"
   ]
  },
  {
   "cell_type": "markdown",
   "id": "6adff107-932a-4cfa-88bc-896086263c47",
   "metadata": {},
   "source": [
    "The gradients (`dtheta`, `d2theta`) significantly affect model accuracy. `torch.gradient` uses central differences, giving smoother and more accurate estimates.\n",
    "\n",
    "I tried `torch.diff` with division by `t` (forward differences). The gradients were noisier."
   ]
  },
  {
   "cell_type": "code",
   "execution_count": 7,
   "id": "e1ea2a5e-f6cc-45e1-9220-f0d7a8654c76",
   "metadata": {},
   "outputs": [],
   "source": [
    "def preprocess(df):\n",
    "    gap_start, gap_end = get_gap(df)\n",
    "    \n",
    "    first_half = to_tensor(df[df[\"t\"] <= gap_start])\n",
    "    first_half[0, 2:] = 0\n",
    "    second_half = to_tensor(df[df[\"t\"] >= gap_end])[1: ]  # first row has no reliable dtheta and d2theta\n",
    "    \n",
    "    return torch.cat([first_half, second_half])"
   ]
  },
  {
   "cell_type": "code",
   "execution_count": 8,
   "id": "0c1970ac-abf9-4ace-ae3e-a69ca506e491",
   "metadata": {},
   "outputs": [
    {
     "data": {
      "text/plain": [
       "torch.Size([733, 4])"
      ]
     },
     "execution_count": 8,
     "metadata": {},
     "output_type": "execute_result"
    }
   ],
   "source": [
    "train_data = preprocess(df_train)\n",
    "train_data.shape"
   ]
  },
  {
   "cell_type": "code",
   "execution_count": 9,
   "id": "7cac30d2-2317-43d4-b8b8-ec16dfd6ca10",
   "metadata": {},
   "outputs": [],
   "source": [
    "# Constants\n",
    "m = 1\n",
    "g = 9.8"
   ]
  },
  {
   "cell_type": "markdown",
   "id": "95a7a439-729f-41e1-b71f-c0120dd6a57b",
   "metadata": {},
   "source": [
    "## Define model and train\n",
    "\n",
    "Since we lack data near $t_F$, we can fix $t_F$ to any value within the gap when training $l$, $\\mu$ and $F$."
   ]
  },
  {
   "cell_type": "code",
   "execution_count": 10,
   "id": "0452be5d-42fc-4f56-a11a-9aeb4062c07e",
   "metadata": {},
   "outputs": [],
   "source": [
    "class MyModel(nn.Module):\n",
    "    def __init__(self, gap_t):\n",
    "        super().__init__()\n",
    "        self.gap_t = gap_t\n",
    "        self.raw_l = nn.Parameter(torch.randn(()))\n",
    "        self.raw_mu = nn.Parameter(torch.randn(()))\n",
    "        self.raw_F = nn.Parameter(torch.randn(()))\n",
    "\n",
    "    @property\n",
    "    def l(self):\n",
    "        return F.softplus(self.raw_l)  # positive\n",
    "\n",
    "    @property\n",
    "    def mu(self):\n",
    "        return F.softplus(self.raw_mu)  # positive\n",
    "\n",
    "    @property\n",
    "    def F(self):\n",
    "        return F.softplus(self.raw_F)  # positive\n",
    "\n",
    "    def forward(self, x):\n",
    "        t, theta, dtheta, d2theta = x.unbind(dim=1)\n",
    "        \n",
    "        F_d = self.F * torch.sin(theta)\n",
    "        mask = (t >= self.gap_t)  # Pulling force acts when t >= gap_t, gap_t not accurate is ok\n",
    "        F_d *= mask.float()\n",
    "        \n",
    "        return m * self.l * d2theta + m * g * torch.sin(theta) + self.mu * self.l * dtheta + F_d"
   ]
  },
  {
   "cell_type": "code",
   "execution_count": 11,
   "id": "7760a59f-3e27-4e2b-84ef-abad7bead97c",
   "metadata": {},
   "outputs": [],
   "source": [
    "def train(model, optimizer, inputs, num_epochs, logging_interval=20):\n",
    "    for epoch in range(num_epochs):\n",
    "        model.train()\n",
    "\n",
    "        outputs = model(inputs).squeeze(-1)\n",
    "        loss = F.mse_loss(outputs, torch.zeros_like(outputs))\n",
    "\n",
    "        optimizer.zero_grad()\n",
    "        loss.backward()\n",
    "        optimizer.step()\n",
    "\n",
    "        if epoch % logging_interval == 0 or epoch == num_epochs - 1:\n",
    "            print(f\"Epoch [{epoch + 1}/{num_epochs}], Loss: {loss.item()}\")"
   ]
  },
  {
   "cell_type": "code",
   "execution_count": 12,
   "id": "c77e571e-3d37-470d-9c5a-c5350b9f8833",
   "metadata": {},
   "outputs": [],
   "source": [
    "@torch.no_grad()\n",
    "def predict(model, inputs):\n",
    "    outputs = model(inputs).squeeze(-1)\n",
    "    return outputs.detach().cpu()"
   ]
  },
  {
   "cell_type": "code",
   "execution_count": 13,
   "id": "96841bdf-8a3c-4935-90c2-f40b448501da",
   "metadata": {},
   "outputs": [],
   "source": [
    "device = torch.device(\"cuda\" if torch.cuda.is_available() else \"cpu\")\n",
    "model = MyModel((train_gap_start + train_gap_end) / 2)\n",
    "optimizer = optim.Adam(model.parameters(), lr=1e-2)"
   ]
  },
  {
   "cell_type": "code",
   "execution_count": 14,
   "id": "33ccf81e-96f4-4917-8167-a72d83e670dc",
   "metadata": {
    "scrolled": true
   },
   "outputs": [
    {
     "name": "stdout",
     "output_type": "stream",
     "text": [
      "Epoch [1/8000], Loss: 4.950442129810279\n",
      "Epoch [501/8000], Loss: 1.4249838911691641\n",
      "Epoch [1001/8000], Loss: 1.0000725397465624\n",
      "Epoch [1501/8000], Loss: 0.7183319092438403\n",
      "Epoch [2001/8000], Loss: 0.5129674180525355\n",
      "Epoch [2501/8000], Loss: 0.3637680810310431\n",
      "Epoch [3001/8000], Loss: 0.2588443174734451\n",
      "Epoch [3501/8000], Loss: 0.1890693876274591\n",
      "Epoch [4001/8000], Loss: 0.14638083202753888\n",
      "Epoch [4501/8000], Loss: 0.12321865981084706\n",
      "Epoch [5001/8000], Loss: 0.11262000560381745\n",
      "Epoch [5501/8000], Loss: 0.10879699678063263\n",
      "Epoch [6001/8000], Loss: 0.1078003018617348\n",
      "Epoch [6501/8000], Loss: 0.10763143667389577\n",
      "Epoch [7001/8000], Loss: 0.10761509296427754\n",
      "Epoch [7501/8000], Loss: 0.10761432342480177\n",
      "Epoch [8000/8000], Loss: 0.10761430903049855\n"
     ]
    }
   ],
   "source": [
    "train(model.to(device), optimizer, train_data.to(device), 8000, 500)"
   ]
  },
  {
   "cell_type": "code",
   "execution_count": 15,
   "id": "e5a439bb-e6fb-46b5-a43e-9a278d7bf93c",
   "metadata": {},
   "outputs": [
    {
     "data": {
      "text/plain": [
       "(4.9179253578186035, 0.4993065595626831, 40.134483337402344)"
      ]
     },
     "execution_count": 15,
     "metadata": {},
     "output_type": "execute_result"
    }
   ],
   "source": [
    "train_l, train_mu, train_F = model.l.item(), model.mu.item(), model.F.item()\n",
    "train_l, train_mu, train_F"
   ]
  },
  {
   "cell_type": "markdown",
   "id": "2e8cc035-a3b0-4a4d-baef-06690e5eee05",
   "metadata": {},
   "source": [
    "## Find $t_F$ and next $\\theta=0$\n",
    "\n",
    "Given a value of $t_F$, `solve_ivp` can reconstruct the graph of $\\theta$ versus $t$.\n",
    "\n",
    "To determine the true $t_F$, we compare the predicted $\\theta$ values from `solve_ivp` with the observed data.\n",
    "We then extend the graph a few seconds beyond the last recorded time to find the first sign change in $\\theta$; this gives us $t_{\\text{next zero } \\theta}$."
   ]
  },
  {
   "cell_type": "code",
   "execution_count": 16,
   "id": "1b64876c-827d-4e13-8c1e-7fbe2114d02c",
   "metadata": {},
   "outputs": [
    {
     "data": {
      "text/plain": [
       "15.0"
      ]
     },
     "execution_count": 16,
     "metadata": {},
     "output_type": "execute_result"
    }
   ],
   "source": [
    "train_t_end = df_train[\"t\"].max()\n",
    "train_t_end"
   ]
  },
  {
   "cell_type": "code",
   "execution_count": 17,
   "id": "d7084a20-d15c-4290-a598-bb2974468ceb",
   "metadata": {},
   "outputs": [
    {
     "data": {
      "text/plain": [
       "1.05"
      ]
     },
     "execution_count": 17,
     "metadata": {},
     "output_type": "execute_result"
    }
   ],
   "source": [
    "train_theta0 = df_train[df_train[\"t\"] == 0][\"theta\"].item()\n",
    "train_theta0"
   ]
  },
  {
   "cell_type": "code",
   "execution_count": 18,
   "id": "8dfbf73c-5fde-405c-a2b7-29cb27fdc5fa",
   "metadata": {},
   "outputs": [],
   "source": [
    "def ivp(t_F, model, theta0, t_eval):\n",
    "    \n",
    "    def ode_fn(t, y, l, mu, F, t_F):\n",
    "        theta, dtheta = y\n",
    "        \n",
    "        F_d = (F / (m * l)) * np.sin(theta) if t >= t_F else 0\n",
    "        \n",
    "        d2theta = -(g / l) * np.sin(theta) - (mu / m) * dtheta - F_d\n",
    "        return [dtheta, d2theta]\n",
    "    \n",
    "    return solve_ivp(ode_fn, (0, t_eval.max().item()), (theta0, 0),\n",
    "                     t_eval=t_eval, args=(model.l.item(), model.mu.item(), model.F.item(), t_F)).y[0, :]"
   ]
  },
  {
   "cell_type": "code",
   "execution_count": 19,
   "id": "5ee6b5ed-6cb8-4c07-970f-eededb5b764c",
   "metadata": {},
   "outputs": [],
   "source": [
    "def find_t_F(model, data, theta0, gap_start, gap_end, step=0.005):\n",
    "    \n",
    "    def loss_fn(t_F, t_eval, theta_truths):\n",
    "        theta_preds = torch.tensor(ivp(t_F, model, theta0, t_eval))\n",
    "        return F.mse_loss(theta_preds, theta_truths).item()\n",
    "\n",
    "    # Loss function has a sharp jump at t=t_F, optimization such as \n",
    "    # scipy.optimize.minimize doesn't work well.\n",
    "    # Here we use grid search instead.\n",
    "    possible_t_F = np.arange(gap_start, gap_end, step)\n",
    "    losses = [(loss_fn(t, data[:, 0], data[:, 1]), t) for t in possible_t_F]\n",
    "    return min(losses)[1]"
   ]
  },
  {
   "cell_type": "code",
   "execution_count": 20,
   "id": "9da7777e-b41e-408e-81d0-35e1174b8635",
   "metadata": {},
   "outputs": [
    {
     "data": {
      "text/plain": [
       "4.418003003002973"
      ]
     },
     "execution_count": 20,
     "metadata": {},
     "output_type": "execute_result"
    }
   ],
   "source": [
    "train_t_F = find_t_F(model, train_data, train_theta0, train_gap_start, train_gap_end)\n",
    "train_t_F"
   ]
  },
  {
   "cell_type": "code",
   "execution_count": 21,
   "id": "32bc579a-f06c-4c74-90d2-8bf8d3595260",
   "metadata": {},
   "outputs": [
    {
     "data": {
      "image/png": "[encoded data removed]",
      "text/plain": [
       "<Figure size 640x480 with 1 Axes>"
      ]
     },
     "metadata": {},
     "output_type": "display_data"
    }
   ],
   "source": [
    "t_samples = np.arange(0, train_t_end + 5, 0.01)\n",
    "\n",
    "plt.axvline(x=train_t_F, linestyle=\"--\", color=\"gray\")\n",
    "plt.text(train_t_F + 0.1, 0.5, f\"$t_F={train_t_F:.2f}$\", color=\"black\", rotation=90)\n",
    "plt.scatter(t_samples, ivp(train_t_F, model, train_theta0, t_samples), s=8, label=\"Predicted\")\n",
    "plt.scatter(df_train[\"t\"], df_train[\"theta\"], s=8, label=\"Truth\")\n",
    "plt.xlabel(\"$t$\")\n",
    "plt.ylabel(r\"$\\theta$\")\n",
    "plt.legend();"
   ]
  },
  {
   "cell_type": "code",
   "execution_count": 22,
   "id": "581d7f22-7af6-4bac-8df8-d371fc136e87",
   "metadata": {},
   "outputs": [],
   "source": [
    "def find_t_next_zero_theta(model, theta0, t_F, t_record_end, extrapolate=5, granularity=0.005):\n",
    "    t_samples = np.arange(0, t_record_end + extrapolate, granularity)\n",
    "    pred_thetas = ivp(t_F, model, theta0, t_samples)\n",
    "\n",
    "    # Filter out data before the recorder is turned off\n",
    "    filter_ = np.where(t_samples > t_record_end)[0]\n",
    "    t_samples, pred_thetas = t_samples[filter_], pred_thetas[filter_]\n",
    "    \n",
    "    first_sign_change = np.where(np.diff(np.sign(pred_thetas)) != 0)[0][0]\n",
    "    return abs(t_samples[first_sign_change] + t_samples[first_sign_change + 1]) / 2"
   ]
  },
  {
   "cell_type": "code",
   "execution_count": 23,
   "id": "261187ec-5458-4d09-abd6-ca0a620fa7bf",
   "metadata": {},
   "outputs": [
    {
     "data": {
      "text/plain": [
       "15.8825"
      ]
     },
     "execution_count": 23,
     "metadata": {},
     "output_type": "execute_result"
    }
   ],
   "source": [
    "train_t_next_zero_theta = find_t_next_zero_theta(model, train_theta0, train_t_F, train_t_end)\n",
    "train_t_next_zero_theta"
   ]
  },
  {
   "cell_type": "markdown",
   "id": "d957c707-679a-4d7a-bb24-c4e9e90f79f1",
   "metadata": {},
   "source": [
    "## Write answers to file"
   ]
  },
  {
   "cell_type": "code",
   "execution_count": 24,
   "id": "2783caa8-b35b-49b2-b82f-6f92767ca913",
   "metadata": {},
   "outputs": [],
   "source": [
    "def write_submission(model, t_F, t_next_zero_theta, filename=\"submission.csv\"):\n",
    "    df_sub = pd.DataFrame({\n",
    "        \"l\": model.l.item(),\n",
    "        \"miu\": model.mu.item(),\n",
    "        \"F\": model.F.item(),\n",
    "        \"t_nextzerotheta\": t_next_zero_theta,\n",
    "        \"t_Fput\": t_F\n",
    "    }, index=[0])\n",
    "    df_sub.to_csv(filename, index=False)"
   ]
  },
  {
   "cell_type": "code",
   "execution_count": 25,
   "id": "19df5ad9-80cb-47ef-84a1-882d6bdcdb55",
   "metadata": {},
   "outputs": [],
   "source": [
    "write_submission(model, train_t_F, train_t_next_zero_theta, \"submission_train.csv\")"
   ]
  },
  {
   "cell_type": "markdown",
   "id": "e8ca91e0-4742-4dac-b194-97e60532d9bb",
   "metadata": {},
   "source": [
    "## Repeat for different sets of data (on grader only)"
   ]
  },
  {
   "cell_type": "code",
   "execution_count": 26,
   "id": "f20d2ef7-ae2c-4210-9118-d4edee725578",
   "metadata": {},
   "outputs": [],
   "source": [
    "in_filenames = [\"pendulum_testA.csv\", \"pendulum_testB.csv\"]\n",
    "out_filenames = [\"submissionA.csv\", \"submissionB.csv\"]\n",
    "zip_filename = \"submission.zip\""
   ]
  },
  {
   "cell_type": "code",
   "execution_count": 27,
   "id": "d63d1afa-b6e9-4b57-aee8-521323e1325a",
   "metadata": {},
   "outputs": [],
   "source": [
    "for in_filename, out_filename in zip(in_filenames, out_filenames):\n",
    "    try:\n",
    "        df_test = pd.read_csv(TEST_PATH / in_filename)\n",
    "    except FileNotFoundError:\n",
    "        df_test = None\n",
    "\n",
    "    if df_test is not None:\n",
    "        test_gap_start, test_gap_end = get_gap(df_test)\n",
    "        test_data = preprocess(df_test)\n",
    "        \n",
    "        model.gap_t = (test_gap_start + test_gap_end) / 2\n",
    "\n",
    "        # l, mu, F\n",
    "        train(model.to(device), optimizer, test_data.to(device), 8000, 500)\n",
    "\n",
    "        test_t_end = df_test[\"t\"].max()\n",
    "        test_theta0 = df_test[df_test[\"t\"] == 0][\"theta\"].item()\n",
    "\n",
    "        # t_F\n",
    "        test_t_F = find_t_F(model, test_data, test_theta0, test_gap_start, test_gap_end)\n",
    "        # t_next_zero_theta\n",
    "        test_t_next_zero_theta = find_t_next_zero_theta(model, test_theta0, test_t_F, test_t_end)\n",
    "\n",
    "        write_submission(model, test_t_F, test_t_next_zero_theta, out_filename)"
   ]
  },
  {
   "cell_type": "code",
   "execution_count": 28,
   "id": "cd9aedb8-6d23-4864-b4ba-99398b890d28",
   "metadata": {},
   "outputs": [],
   "source": [
    "if all([os.path.exists(filename) for filename in out_filenames]):\n",
    "    with zipfile.ZipFile(zip_filename, \"w\") as zipf:\n",
    "        for file in out_filenames:\n",
    "            zipf.write(file, os.path.basename(file))"
   ]
  },
  {
   "cell_type": "markdown",
   "id": "d1119679-d25d-4fc7-a6b0-b5b103a68a6f",
   "metadata": {},
   "source": [
    "## Score\n",
    "\n",
    "Leaderboard A:\n",
    "\n",
    "- S1: 0.7985\n",
    "- S2: 0.9571\n",
    "- S3: 0.8900\n",
    "- S4: 0.9753\n",
    "- S5: 0.7408\n",
    "- Score: 0.8710"
   ]
  }
 ],
 "metadata": {
  "kernelspec": {
   "display_name": "Python 3 (ipykernel)",
   "language": "python",
   "name": "python3"
  },
  "language_info": {
   "codemirror_mode": {
    "name": "ipython",
    "version": 3
   },
   "file_extension": ".py",
   "mimetype": "text/x-python",
   "name": "python",
   "nbconvert_exporter": "python",
   "pygments_lexer": "ipython3",
   "version": "3.12.6"
  }
 },
 "nbformat": 4,
 "nbformat_minor": 5
}
