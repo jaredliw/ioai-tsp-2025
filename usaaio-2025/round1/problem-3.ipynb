{
 "cells": [
  {
   "cell_type": "markdown",
   "id": "43ed74b7-f8d8-428d-a922-ed554cb8fa38",
   "metadata": {},
   "source": [
    "# Problem 3 (100 points)\n",
    "\n",
    "Before starting this problem, make sure to run the following code first **without change**:"
   ]
  },
  {
   "cell_type": "code",
   "execution_count": 1,
   "id": "8f056d60-ea97-4dd7-8491-34c6bd13bd62",
   "metadata": {},
   "outputs": [
    {
     "data": {
      "text/plain": [
       "' END OF THIS PART '"
      ]
     },
     "execution_count": 1,
     "metadata": {},
     "output_type": "execute_result"
    }
   ],
   "source": [
    "# DO NOT CHANGE\n",
    "\n",
    "import numpy as np\n",
    "\n",
    "import pandas as pd\n",
    "\n",
    "import copy\n",
    "\n",
    "import matplotlib.pyplot as plt\n",
    "\n",
    "from sklearn.preprocessing import StandardScaler\n",
    "\n",
    "np.random.seed(2025)\n",
    "\n",
    "\"\"\" END OF THIS PART \"\"\""
   ]
  },
  {
   "cell_type": "markdown",
   "id": "a0d4769a-a2ca-4a1e-8fd5-11cf616e5663",
   "metadata": {},
   "source": [
    "> WARNING !!!\n",
    "\n",
    "- Beyond importing libraries/modules/classes/functions in the preceding cell, you are **NOT allowed to import anything else for the following purposes**:\n",
    "    - **As a part of your final solution.** For instance, if a problem asks you to build a model without using sklearn but you use it, then you will not earn points.\n",
    "    - **Temporarily import something to assist you to get a solution.** For instance, if a problem asks you to manually compute eigenvalues but you temporarily use `np.linalg.eig` to get an answer and then delete your code, then you violate the rule.\n",
    "\n",
    "    **Rule of thumb:** Each part has its particular purpose to intentionally test you something. Do not attempt to find a shortcut to circumvent the rule.\n",
    "\n",
    "- All coding tasks shall run on CPUs, **not GPUs**."
   ]
  },
  {
   "cell_type": "markdown",
   "id": "902fb45d-da9a-4d93-b17e-8faaa2d7872d",
   "metadata": {},
   "source": [
    "## Part 1 (5 points, coding task)\n",
    "\n",
    "We study the dataset `USAAIO_2025_round1_prob3_train.csv` provided in this contest.\n",
    "\n",
    "The dataset can be found here:\n",
    "\n",
    "```python\n",
    "url = \"https://drive.google.com/file/d/125YsFPS2nCNRvYyy1tgnD8RhYIUglLX9/view?usp=sharing\"\n",
    "```\n",
    "\n",
    "**Do the following tasks in this part.**\n",
    "\n",
    "1. Load `USAAIO_2025_round1_prob3_train.csv` into a pandas DataFrame object called `df_1`.\n",
    "2. Print the first 10 rows.\n",
    "3. Define a function called `data_summary` that\n",
    "    - Takes a DataFrame object as an input.\n",
    "    - Prints the shape of the DataFrame.\n",
    "    - Prints the data type for each column.\n",
    "    - Prints the count of missing values for each column.\n",
    "    - Delivers no output.\n",
    "4. After defining the above function, call it by feeding `df_1` to it."
   ]
  },
  {
   "cell_type": "markdown",
   "id": "2112f67a-1e35-444a-8e5a-bb7116887b43",
   "metadata": {},
   "source": [
    "\\#\\#\\# WRITE YOUR SOLUTION HERE ###"
   ]
  },
  {
   "cell_type": "code",
   "execution_count": 2,
   "id": "12b74d66-9923-4233-81d5-d173bb3b0cab",
   "metadata": {},
   "outputs": [
    {
     "data": {
      "text/html": [
       "<div>\n",
       "<style scoped>\n",
       "    .dataframe tbody tr th:only-of-type {\n",
       "        vertical-align: middle;\n",
       "    }\n",
       "\n",
       "    .dataframe tbody tr th {\n",
       "        vertical-align: top;\n",
       "    }\n",
       "\n",
       "    .dataframe thead th {\n",
       "        text-align: right;\n",
       "    }\n",
       "</style>\n",
       "<table border=\"1\" class=\"dataframe\">\n",
       "  <thead>\n",
       "    <tr style=\"text-align: right;\">\n",
       "      <th></th>\n",
       "      <th>PassengerId</th>\n",
       "      <th>Survived</th>\n",
       "      <th>Pclass</th>\n",
       "      <th>Name</th>\n",
       "      <th>Sex</th>\n",
       "      <th>Age</th>\n",
       "      <th>SibSp</th>\n",
       "      <th>Parch</th>\n",
       "      <th>Ticket</th>\n",
       "      <th>Fare</th>\n",
       "      <th>Cabin</th>\n",
       "      <th>Embarked</th>\n",
       "    </tr>\n",
       "  </thead>\n",
       "  <tbody>\n",
       "    <tr>\n",
       "      <th>0</th>\n",
       "      <td>1</td>\n",
       "      <td>0</td>\n",
       "      <td>3</td>\n",
       "      <td>Braund, Mr. Owen Harris</td>\n",
       "      <td>male</td>\n",
       "      <td>22.0</td>\n",
       "      <td>1</td>\n",
       "      <td>0</td>\n",
       "      <td>A/5 21171</td>\n",
       "      <td>7.2500</td>\n",
       "      <td>NaN</td>\n",
       "      <td>S</td>\n",
       "    </tr>\n",
       "    <tr>\n",
       "      <th>1</th>\n",
       "      <td>2</td>\n",
       "      <td>1</td>\n",
       "      <td>1</td>\n",
       "      <td>Cumings, Mrs. John Bradley (Florence Briggs Th...</td>\n",
       "      <td>female</td>\n",
       "      <td>38.0</td>\n",
       "      <td>1</td>\n",
       "      <td>0</td>\n",
       "      <td>PC 17599</td>\n",
       "      <td>71.2833</td>\n",
       "      <td>C85</td>\n",
       "      <td>C</td>\n",
       "    </tr>\n",
       "    <tr>\n",
       "      <th>2</th>\n",
       "      <td>3</td>\n",
       "      <td>1</td>\n",
       "      <td>3</td>\n",
       "      <td>Heikkinen, Miss. Laina</td>\n",
       "      <td>female</td>\n",
       "      <td>26.0</td>\n",
       "      <td>0</td>\n",
       "      <td>0</td>\n",
       "      <td>STON/O2. 3101282</td>\n",
       "      <td>7.9250</td>\n",
       "      <td>NaN</td>\n",
       "      <td>S</td>\n",
       "    </tr>\n",
       "    <tr>\n",
       "      <th>3</th>\n",
       "      <td>4</td>\n",
       "      <td>1</td>\n",
       "      <td>1</td>\n",
       "      <td>Futrelle, Mrs. Jacques Heath (Lily May Peel)</td>\n",
       "      <td>female</td>\n",
       "      <td>35.0</td>\n",
       "      <td>1</td>\n",
       "      <td>0</td>\n",
       "      <td>113803</td>\n",
       "      <td>53.1000</td>\n",
       "      <td>C123</td>\n",
       "      <td>S</td>\n",
       "    </tr>\n",
       "    <tr>\n",
       "      <th>4</th>\n",
       "      <td>5</td>\n",
       "      <td>0</td>\n",
       "      <td>3</td>\n",
       "      <td>Allen, Mr. William Henry</td>\n",
       "      <td>male</td>\n",
       "      <td>35.0</td>\n",
       "      <td>0</td>\n",
       "      <td>0</td>\n",
       "      <td>373450</td>\n",
       "      <td>8.0500</td>\n",
       "      <td>NaN</td>\n",
       "      <td>S</td>\n",
       "    </tr>\n",
       "    <tr>\n",
       "      <th>5</th>\n",
       "      <td>6</td>\n",
       "      <td>0</td>\n",
       "      <td>3</td>\n",
       "      <td>Moran, Mr. James</td>\n",
       "      <td>male</td>\n",
       "      <td>NaN</td>\n",
       "      <td>0</td>\n",
       "      <td>0</td>\n",
       "      <td>330877</td>\n",
       "      <td>8.4583</td>\n",
       "      <td>NaN</td>\n",
       "      <td>Q</td>\n",
       "    </tr>\n",
       "    <tr>\n",
       "      <th>6</th>\n",
       "      <td>7</td>\n",
       "      <td>0</td>\n",
       "      <td>1</td>\n",
       "      <td>McCarthy, Mr. Timothy J</td>\n",
       "      <td>male</td>\n",
       "      <td>54.0</td>\n",
       "      <td>0</td>\n",
       "      <td>0</td>\n",
       "      <td>17463</td>\n",
       "      <td>51.8625</td>\n",
       "      <td>E46</td>\n",
       "      <td>S</td>\n",
       "    </tr>\n",
       "    <tr>\n",
       "      <th>7</th>\n",
       "      <td>8</td>\n",
       "      <td>0</td>\n",
       "      <td>3</td>\n",
       "      <td>Palsson, Master. Gosta Leonard</td>\n",
       "      <td>male</td>\n",
       "      <td>2.0</td>\n",
       "      <td>3</td>\n",
       "      <td>1</td>\n",
       "      <td>349909</td>\n",
       "      <td>21.0750</td>\n",
       "      <td>NaN</td>\n",
       "      <td>S</td>\n",
       "    </tr>\n",
       "    <tr>\n",
       "      <th>8</th>\n",
       "      <td>9</td>\n",
       "      <td>1</td>\n",
       "      <td>3</td>\n",
       "      <td>Johnson, Mrs. Oscar W (Elisabeth Vilhelmina Berg)</td>\n",
       "      <td>female</td>\n",
       "      <td>27.0</td>\n",
       "      <td>0</td>\n",
       "      <td>2</td>\n",
       "      <td>347742</td>\n",
       "      <td>11.1333</td>\n",
       "      <td>NaN</td>\n",
       "      <td>S</td>\n",
       "    </tr>\n",
       "    <tr>\n",
       "      <th>9</th>\n",
       "      <td>10</td>\n",
       "      <td>1</td>\n",
       "      <td>2</td>\n",
       "      <td>Nasser, Mrs. Nicholas (Adele Achem)</td>\n",
       "      <td>female</td>\n",
       "      <td>14.0</td>\n",
       "      <td>1</td>\n",
       "      <td>0</td>\n",
       "      <td>237736</td>\n",
       "      <td>30.0708</td>\n",
       "      <td>NaN</td>\n",
       "      <td>C</td>\n",
       "    </tr>\n",
       "  </tbody>\n",
       "</table>\n",
       "</div>"
      ],
      "text/plain": [
       "   PassengerId  Survived  Pclass  \\\n",
       "0            1         0       3   \n",
       "1            2         1       1   \n",
       "2            3         1       3   \n",
       "3            4         1       1   \n",
       "4            5         0       3   \n",
       "5            6         0       3   \n",
       "6            7         0       1   \n",
       "7            8         0       3   \n",
       "8            9         1       3   \n",
       "9           10         1       2   \n",
       "\n",
       "                                                Name     Sex   Age  SibSp  \\\n",
       "0                            Braund, Mr. Owen Harris    male  22.0      1   \n",
       "1  Cumings, Mrs. John Bradley (Florence Briggs Th...  female  38.0      1   \n",
       "2                             Heikkinen, Miss. Laina  female  26.0      0   \n",
       "3       Futrelle, Mrs. Jacques Heath (Lily May Peel)  female  35.0      1   \n",
       "4                           Allen, Mr. William Henry    male  35.0      0   \n",
       "5                                   Moran, Mr. James    male   NaN      0   \n",
       "6                            McCarthy, Mr. Timothy J    male  54.0      0   \n",
       "7                     Palsson, Master. Gosta Leonard    male   2.0      3   \n",
       "8  Johnson, Mrs. Oscar W (Elisabeth Vilhelmina Berg)  female  27.0      0   \n",
       "9                Nasser, Mrs. Nicholas (Adele Achem)  female  14.0      1   \n",
       "\n",
       "   Parch            Ticket     Fare Cabin Embarked  \n",
       "0      0         A/5 21171   7.2500   NaN        S  \n",
       "1      0          PC 17599  71.2833   C85        C  \n",
       "2      0  STON/O2. 3101282   7.9250   NaN        S  \n",
       "3      0            113803  53.1000  C123        S  \n",
       "4      0            373450   8.0500   NaN        S  \n",
       "5      0            330877   8.4583   NaN        Q  \n",
       "6      0             17463  51.8625   E46        S  \n",
       "7      1            349909  21.0750   NaN        S  \n",
       "8      2            347742  11.1333   NaN        S  \n",
       "9      0            237736  30.0708   NaN        C  "
      ]
     },
     "execution_count": 2,
     "metadata": {},
     "output_type": "execute_result"
    }
   ],
   "source": [
    "df_1 = pd.read_csv(\"USAAIO_2025_round1_prob3_train.csv\")\n",
    "df_1.head(10)"
   ]
  },
  {
   "cell_type": "code",
   "execution_count": 3,
   "id": "18021e4a-580b-403c-977a-44ec0cd4da02",
   "metadata": {},
   "outputs": [],
   "source": [
    "def data_summary(df):\n",
    "    print(df.shape)\n",
    "    print(df.dtypes)\n",
    "    print(df.isna().sum())"
   ]
  },
  {
   "cell_type": "code",
   "execution_count": 4,
   "id": "63d8e537-0ea5-4ba8-9bca-da35c5e7cebb",
   "metadata": {},
   "outputs": [
    {
     "name": "stdout",
     "output_type": "stream",
     "text": [
      "(891, 12)\n",
      "PassengerId      int64\n",
      "Survived         int64\n",
      "Pclass           int64\n",
      "Name            object\n",
      "Sex             object\n",
      "Age            float64\n",
      "SibSp            int64\n",
      "Parch            int64\n",
      "Ticket          object\n",
      "Fare           float64\n",
      "Cabin           object\n",
      "Embarked        object\n",
      "dtype: object\n",
      "PassengerId      0\n",
      "Survived         0\n",
      "Pclass           0\n",
      "Name             0\n",
      "Sex              0\n",
      "Age            177\n",
      "SibSp            0\n",
      "Parch            0\n",
      "Ticket           0\n",
      "Fare             0\n",
      "Cabin          687\n",
      "Embarked         2\n",
      "dtype: int64\n"
     ]
    }
   ],
   "source": [
    "data_summary(df_1)"
   ]
  },
  {
   "cell_type": "markdown",
   "id": "f1af8143-3135-4856-b0fb-e3e4111a27a0",
   "metadata": {},
   "source": [
    "\"\"\" END OF THIS PART \"\"\""
   ]
  },
  {
   "cell_type": "markdown",
   "id": "3ed140b8-2ab8-43b1-a464-c6f65c271e69",
   "metadata": {},
   "source": [
    "## Part 2 (5 points, coding task)\n",
    "\n",
    "**Do the following tasks in this part.**\n",
    "\n",
    "1. Create a DataFrame object called `df_2` that keeps the following columns in `df_1` (all other columns in `df_1` shall not appear in `df_2`):\n",
    "    - Survived\n",
    "    - Sex\n",
    "    - Age\n",
    "    - SibSp\n",
    "    - Parch\n",
    "    - Fare\n",
    "    - Embarked\n",
    "2. Print the first 5 rows of `df_2`.\n",
    "3. Print the shape of `df_2`."
   ]
  },
  {
   "cell_type": "markdown",
   "id": "dbe21762-3f57-4818-ad6a-32d9add7ab14",
   "metadata": {},
   "source": [
    "\\#\\#\\# WRITE YOUR SOLUTION HERE ###"
   ]
  },
  {
   "cell_type": "code",
   "execution_count": 5,
   "id": "308dc0c3-dd9b-4501-9ce7-a4950d476644",
   "metadata": {},
   "outputs": [],
   "source": [
    "df_2 = df_1[[\"Survived\", \"Sex\", \"Age\", \"SibSp\", \"Parch\", \"Fare\", \"Embarked\"]]"
   ]
  },
  {
   "cell_type": "code",
   "execution_count": 6,
   "id": "3329c447-4c64-4afc-a0d5-8b819770f997",
   "metadata": {},
   "outputs": [
    {
     "data": {
      "text/html": [
       "<div>\n",
       "<style scoped>\n",
       "    .dataframe tbody tr th:only-of-type {\n",
       "        vertical-align: middle;\n",
       "    }\n",
       "\n",
       "    .dataframe tbody tr th {\n",
       "        vertical-align: top;\n",
       "    }\n",
       "\n",
       "    .dataframe thead th {\n",
       "        text-align: right;\n",
       "    }\n",
       "</style>\n",
       "<table border=\"1\" class=\"dataframe\">\n",
       "  <thead>\n",
       "    <tr style=\"text-align: right;\">\n",
       "      <th></th>\n",
       "      <th>Survived</th>\n",
       "      <th>Sex</th>\n",
       "      <th>Age</th>\n",
       "      <th>SibSp</th>\n",
       "      <th>Parch</th>\n",
       "      <th>Fare</th>\n",
       "      <th>Embarked</th>\n",
       "    </tr>\n",
       "  </thead>\n",
       "  <tbody>\n",
       "    <tr>\n",
       "      <th>0</th>\n",
       "      <td>0</td>\n",
       "      <td>male</td>\n",
       "      <td>22.0</td>\n",
       "      <td>1</td>\n",
       "      <td>0</td>\n",
       "      <td>7.2500</td>\n",
       "      <td>S</td>\n",
       "    </tr>\n",
       "    <tr>\n",
       "      <th>1</th>\n",
       "      <td>1</td>\n",
       "      <td>female</td>\n",
       "      <td>38.0</td>\n",
       "      <td>1</td>\n",
       "      <td>0</td>\n",
       "      <td>71.2833</td>\n",
       "      <td>C</td>\n",
       "    </tr>\n",
       "    <tr>\n",
       "      <th>2</th>\n",
       "      <td>1</td>\n",
       "      <td>female</td>\n",
       "      <td>26.0</td>\n",
       "      <td>0</td>\n",
       "      <td>0</td>\n",
       "      <td>7.9250</td>\n",
       "      <td>S</td>\n",
       "    </tr>\n",
       "    <tr>\n",
       "      <th>3</th>\n",
       "      <td>1</td>\n",
       "      <td>female</td>\n",
       "      <td>35.0</td>\n",
       "      <td>1</td>\n",
       "      <td>0</td>\n",
       "      <td>53.1000</td>\n",
       "      <td>S</td>\n",
       "    </tr>\n",
       "    <tr>\n",
       "      <th>4</th>\n",
       "      <td>0</td>\n",
       "      <td>male</td>\n",
       "      <td>35.0</td>\n",
       "      <td>0</td>\n",
       "      <td>0</td>\n",
       "      <td>8.0500</td>\n",
       "      <td>S</td>\n",
       "    </tr>\n",
       "  </tbody>\n",
       "</table>\n",
       "</div>"
      ],
      "text/plain": [
       "   Survived     Sex   Age  SibSp  Parch     Fare Embarked\n",
       "0         0    male  22.0      1      0   7.2500        S\n",
       "1         1  female  38.0      1      0  71.2833        C\n",
       "2         1  female  26.0      0      0   7.9250        S\n",
       "3         1  female  35.0      1      0  53.1000        S\n",
       "4         0    male  35.0      0      0   8.0500        S"
      ]
     },
     "execution_count": 6,
     "metadata": {},
     "output_type": "execute_result"
    }
   ],
   "source": [
    "df_2.head(5)"
   ]
  },
  {
   "cell_type": "code",
   "execution_count": 7,
   "id": "3fa6c3bb-2ae0-4450-94a0-15b1e08b9cca",
   "metadata": {},
   "outputs": [
    {
     "data": {
      "text/plain": [
       "(891, 7)"
      ]
     },
     "execution_count": 7,
     "metadata": {},
     "output_type": "execute_result"
    }
   ],
   "source": [
    "df_2.shape"
   ]
  },
  {
   "cell_type": "markdown",
   "id": "75fb11e9-602b-4e19-82f2-4131360f7730",
   "metadata": {},
   "source": [
    "\"\"\" END OF THIS PART \"\"\""
   ]
  },
  {
   "cell_type": "markdown",
   "id": "a7e00c2b-aa73-4feb-b7c0-629a9e3f26ba",
   "metadata": {},
   "source": [
    "## Part 3 (5 points, coding task)\n",
    "\n",
    "**Do the following tasks in this part.**\n",
    "\n",
    "1. In `df_2`, remove all rows that contain null (missing) values.\n",
    "2. Save the updated DateFrame object as `df_3` (that is, the change of `df_2` should not be inplace).\n",
    "3. For `df_3`, print the count of missing values per column.\n",
    "4. Print the shape of `df_3`."
   ]
  },
  {
   "cell_type": "markdown",
   "id": "80cbc411-1c7b-4ad6-b8a6-7697b0c86732",
   "metadata": {},
   "source": [
    "\\#\\#\\# WRITE YOUR SOLUTION HERE ###"
   ]
  },
  {
   "cell_type": "code",
   "execution_count": 8,
   "id": "7d0e215e-6ac7-4ada-b7d6-2bc0981358fd",
   "metadata": {},
   "outputs": [],
   "source": [
    "df_3 = df_2.dropna()"
   ]
  },
  {
   "cell_type": "code",
   "execution_count": 9,
   "id": "02ab0d1d-a326-4a18-aa0c-c53d0f0e495f",
   "metadata": {},
   "outputs": [
    {
     "data": {
      "text/plain": [
       "Survived    0\n",
       "Sex         0\n",
       "Age         0\n",
       "SibSp       0\n",
       "Parch       0\n",
       "Fare        0\n",
       "Embarked    0\n",
       "dtype: int64"
      ]
     },
     "execution_count": 9,
     "metadata": {},
     "output_type": "execute_result"
    }
   ],
   "source": [
    "df_3.isna().sum()"
   ]
  },
  {
   "cell_type": "code",
   "execution_count": 10,
   "id": "f7142085-5341-460b-8ffc-f87ce5b4ee9c",
   "metadata": {},
   "outputs": [
    {
     "data": {
      "text/plain": [
       "(712, 7)"
      ]
     },
     "execution_count": 10,
     "metadata": {},
     "output_type": "execute_result"
    }
   ],
   "source": [
    "df_3.shape"
   ]
  },
  {
   "cell_type": "markdown",
   "id": "291a0969-f03a-4fb0-b519-9f79e9e102fe",
   "metadata": {},
   "source": [
    "\"\"\" END OF THIS PART \"\"\""
   ]
  },
  {
   "cell_type": "markdown",
   "id": "3d9298b9-6502-4cd7-89f3-7ff6ae38c7c8",
   "metadata": {},
   "source": [
    "## Part 4 (5 points, coding task)\n",
    "\n",
    "**Do the following tasks in this part.**\n",
    "\n",
    "1. Create a deep copy of `df_3`, named `df_4`.\n",
    "2. In `df_4`, create a new column called `GroupSize`. Its value is equal to `SibSp + Parch + 1`.\n",
    "3. Print the first five rows of `df_3` and `df_4`.\n",
    "4. Print the shapes of `df_3` and `df_4`."
   ]
  },
  {
   "cell_type": "markdown",
   "id": "dc80922e-e1a5-4c51-bd29-398fb5815892",
   "metadata": {},
   "source": [
    "\\#\\#\\# WRITE YOUR SOLUTION HERE ###"
   ]
  },
  {
   "cell_type": "code",
   "execution_count": 11,
   "id": "77babe82-43b6-4b8f-abf0-779b9b6b202d",
   "metadata": {},
   "outputs": [],
   "source": [
    "df_4 = df_3.copy()"
   ]
  },
  {
   "cell_type": "code",
   "execution_count": 12,
   "id": "7f779ee8-27cc-4a06-ba3e-27cf448743fe",
   "metadata": {},
   "outputs": [],
   "source": [
    "df_4[\"GroupSize\"] = df_4[\"SibSp\"] + df_4[\"Parch\"] + 1"
   ]
  },
  {
   "cell_type": "code",
   "execution_count": 13,
   "id": "6e7ec1c5-fc5a-4129-8f34-d5e52478427d",
   "metadata": {},
   "outputs": [
    {
     "data": {
      "text/html": [
       "<div>\n",
       "<style scoped>\n",
       "    .dataframe tbody tr th:only-of-type {\n",
       "        vertical-align: middle;\n",
       "    }\n",
       "\n",
       "    .dataframe tbody tr th {\n",
       "        vertical-align: top;\n",
       "    }\n",
       "\n",
       "    .dataframe thead th {\n",
       "        text-align: right;\n",
       "    }\n",
       "</style>\n",
       "<table border=\"1\" class=\"dataframe\">\n",
       "  <thead>\n",
       "    <tr style=\"text-align: right;\">\n",
       "      <th></th>\n",
       "      <th>Survived</th>\n",
       "      <th>Sex</th>\n",
       "      <th>Age</th>\n",
       "      <th>SibSp</th>\n",
       "      <th>Parch</th>\n",
       "      <th>Fare</th>\n",
       "      <th>Embarked</th>\n",
       "    </tr>\n",
       "  </thead>\n",
       "  <tbody>\n",
       "    <tr>\n",
       "      <th>0</th>\n",
       "      <td>0</td>\n",
       "      <td>male</td>\n",
       "      <td>22.0</td>\n",
       "      <td>1</td>\n",
       "      <td>0</td>\n",
       "      <td>7.2500</td>\n",
       "      <td>S</td>\n",
       "    </tr>\n",
       "    <tr>\n",
       "      <th>1</th>\n",
       "      <td>1</td>\n",
       "      <td>female</td>\n",
       "      <td>38.0</td>\n",
       "      <td>1</td>\n",
       "      <td>0</td>\n",
       "      <td>71.2833</td>\n",
       "      <td>C</td>\n",
       "    </tr>\n",
       "    <tr>\n",
       "      <th>2</th>\n",
       "      <td>1</td>\n",
       "      <td>female</td>\n",
       "      <td>26.0</td>\n",
       "      <td>0</td>\n",
       "      <td>0</td>\n",
       "      <td>7.9250</td>\n",
       "      <td>S</td>\n",
       "    </tr>\n",
       "    <tr>\n",
       "      <th>3</th>\n",
       "      <td>1</td>\n",
       "      <td>female</td>\n",
       "      <td>35.0</td>\n",
       "      <td>1</td>\n",
       "      <td>0</td>\n",
       "      <td>53.1000</td>\n",
       "      <td>S</td>\n",
       "    </tr>\n",
       "    <tr>\n",
       "      <th>4</th>\n",
       "      <td>0</td>\n",
       "      <td>male</td>\n",
       "      <td>35.0</td>\n",
       "      <td>0</td>\n",
       "      <td>0</td>\n",
       "      <td>8.0500</td>\n",
       "      <td>S</td>\n",
       "    </tr>\n",
       "  </tbody>\n",
       "</table>\n",
       "</div>"
      ],
      "text/plain": [
       "   Survived     Sex   Age  SibSp  Parch     Fare Embarked\n",
       "0         0    male  22.0      1      0   7.2500        S\n",
       "1         1  female  38.0      1      0  71.2833        C\n",
       "2         1  female  26.0      0      0   7.9250        S\n",
       "3         1  female  35.0      1      0  53.1000        S\n",
       "4         0    male  35.0      0      0   8.0500        S"
      ]
     },
     "execution_count": 13,
     "metadata": {},
     "output_type": "execute_result"
    }
   ],
   "source": [
    "df_3.head(5)"
   ]
  },
  {
   "cell_type": "code",
   "execution_count": 14,
   "id": "4409e033-28f6-41b5-aafc-3156d363a579",
   "metadata": {},
   "outputs": [
    {
     "data": {
      "text/html": [
       "<div>\n",
       "<style scoped>\n",
       "    .dataframe tbody tr th:only-of-type {\n",
       "        vertical-align: middle;\n",
       "    }\n",
       "\n",
       "    .dataframe tbody tr th {\n",
       "        vertical-align: top;\n",
       "    }\n",
       "\n",
       "    .dataframe thead th {\n",
       "        text-align: right;\n",
       "    }\n",
       "</style>\n",
       "<table border=\"1\" class=\"dataframe\">\n",
       "  <thead>\n",
       "    <tr style=\"text-align: right;\">\n",
       "      <th></th>\n",
       "      <th>Survived</th>\n",
       "      <th>Sex</th>\n",
       "      <th>Age</th>\n",
       "      <th>SibSp</th>\n",
       "      <th>Parch</th>\n",
       "      <th>Fare</th>\n",
       "      <th>Embarked</th>\n",
       "      <th>GroupSize</th>\n",
       "    </tr>\n",
       "  </thead>\n",
       "  <tbody>\n",
       "    <tr>\n",
       "      <th>0</th>\n",
       "      <td>0</td>\n",
       "      <td>male</td>\n",
       "      <td>22.0</td>\n",
       "      <td>1</td>\n",
       "      <td>0</td>\n",
       "      <td>7.2500</td>\n",
       "      <td>S</td>\n",
       "      <td>2</td>\n",
       "    </tr>\n",
       "    <tr>\n",
       "      <th>1</th>\n",
       "      <td>1</td>\n",
       "      <td>female</td>\n",
       "      <td>38.0</td>\n",
       "      <td>1</td>\n",
       "      <td>0</td>\n",
       "      <td>71.2833</td>\n",
       "      <td>C</td>\n",
       "      <td>2</td>\n",
       "    </tr>\n",
       "    <tr>\n",
       "      <th>2</th>\n",
       "      <td>1</td>\n",
       "      <td>female</td>\n",
       "      <td>26.0</td>\n",
       "      <td>0</td>\n",
       "      <td>0</td>\n",
       "      <td>7.9250</td>\n",
       "      <td>S</td>\n",
       "      <td>1</td>\n",
       "    </tr>\n",
       "    <tr>\n",
       "      <th>3</th>\n",
       "      <td>1</td>\n",
       "      <td>female</td>\n",
       "      <td>35.0</td>\n",
       "      <td>1</td>\n",
       "      <td>0</td>\n",
       "      <td>53.1000</td>\n",
       "      <td>S</td>\n",
       "      <td>2</td>\n",
       "    </tr>\n",
       "    <tr>\n",
       "      <th>4</th>\n",
       "      <td>0</td>\n",
       "      <td>male</td>\n",
       "      <td>35.0</td>\n",
       "      <td>0</td>\n",
       "      <td>0</td>\n",
       "      <td>8.0500</td>\n",
       "      <td>S</td>\n",
       "      <td>1</td>\n",
       "    </tr>\n",
       "  </tbody>\n",
       "</table>\n",
       "</div>"
      ],
      "text/plain": [
       "   Survived     Sex   Age  SibSp  Parch     Fare Embarked  GroupSize\n",
       "0         0    male  22.0      1      0   7.2500        S          2\n",
       "1         1  female  38.0      1      0  71.2833        C          2\n",
       "2         1  female  26.0      0      0   7.9250        S          1\n",
       "3         1  female  35.0      1      0  53.1000        S          2\n",
       "4         0    male  35.0      0      0   8.0500        S          1"
      ]
     },
     "execution_count": 14,
     "metadata": {},
     "output_type": "execute_result"
    }
   ],
   "source": [
    "df_4.head(5)"
   ]
  },
  {
   "cell_type": "code",
   "execution_count": 15,
   "id": "b40cb66e-c5d9-44ee-9a4a-e086f63d776f",
   "metadata": {},
   "outputs": [
    {
     "data": {
      "text/plain": [
       "((712, 7), (712, 8))"
      ]
     },
     "execution_count": 15,
     "metadata": {},
     "output_type": "execute_result"
    }
   ],
   "source": [
    "df_3.shape, df_4.shape"
   ]
  },
  {
   "cell_type": "markdown",
   "id": "0e614cce-6da4-471c-995c-905a9bbdd847",
   "metadata": {},
   "source": [
    "\"\"\" END OF THIS PART \"\"\""
   ]
  },
  {
   "cell_type": "markdown",
   "id": "38df346b-e048-437b-b497-82568f964063",
   "metadata": {},
   "source": [
    "## Part 5 (5 points, coding task)\n",
    "\n",
    "**Do the following tasks in this part.**\n",
    "\n",
    "1. Remove columns `SibSp` and `Parch` in `df_4`, and save this new DataFrame object as `df_5` (changes on `df_4` should not be inplace).\n",
    "2. Print the first five rows of `df_4` and `df_5`.\n",
    "3. Print the shapes of `df_4` and `df_5`."
   ]
  },
  {
   "cell_type": "markdown",
   "id": "0d1e6dfe-3f74-4935-8fb7-191d17224424",
   "metadata": {},
   "source": [
    "\\#\\#\\# WRITE YOUR SOLUTION HERE ###"
   ]
  },
  {
   "cell_type": "code",
   "execution_count": 16,
   "id": "74f62867-6e9d-4c72-b206-a3ed3bb1abb3",
   "metadata": {},
   "outputs": [],
   "source": [
    "df_5 = df_4.drop([\"SibSp\", \"Parch\"], axis=1)"
   ]
  },
  {
   "cell_type": "code",
   "execution_count": 17,
   "id": "ebe0a9df-7639-4408-8aae-bc2637834763",
   "metadata": {},
   "outputs": [
    {
     "data": {
      "text/html": [
       "<div>\n",
       "<style scoped>\n",
       "    .dataframe tbody tr th:only-of-type {\n",
       "        vertical-align: middle;\n",
       "    }\n",
       "\n",
       "    .dataframe tbody tr th {\n",
       "        vertical-align: top;\n",
       "    }\n",
       "\n",
       "    .dataframe thead th {\n",
       "        text-align: right;\n",
       "    }\n",
       "</style>\n",
       "<table border=\"1\" class=\"dataframe\">\n",
       "  <thead>\n",
       "    <tr style=\"text-align: right;\">\n",
       "      <th></th>\n",
       "      <th>Survived</th>\n",
       "      <th>Sex</th>\n",
       "      <th>Age</th>\n",
       "      <th>SibSp</th>\n",
       "      <th>Parch</th>\n",
       "      <th>Fare</th>\n",
       "      <th>Embarked</th>\n",
       "      <th>GroupSize</th>\n",
       "    </tr>\n",
       "  </thead>\n",
       "  <tbody>\n",
       "    <tr>\n",
       "      <th>0</th>\n",
       "      <td>0</td>\n",
       "      <td>male</td>\n",
       "      <td>22.0</td>\n",
       "      <td>1</td>\n",
       "      <td>0</td>\n",
       "      <td>7.2500</td>\n",
       "      <td>S</td>\n",
       "      <td>2</td>\n",
       "    </tr>\n",
       "    <tr>\n",
       "      <th>1</th>\n",
       "      <td>1</td>\n",
       "      <td>female</td>\n",
       "      <td>38.0</td>\n",
       "      <td>1</td>\n",
       "      <td>0</td>\n",
       "      <td>71.2833</td>\n",
       "      <td>C</td>\n",
       "      <td>2</td>\n",
       "    </tr>\n",
       "    <tr>\n",
       "      <th>2</th>\n",
       "      <td>1</td>\n",
       "      <td>female</td>\n",
       "      <td>26.0</td>\n",
       "      <td>0</td>\n",
       "      <td>0</td>\n",
       "      <td>7.9250</td>\n",
       "      <td>S</td>\n",
       "      <td>1</td>\n",
       "    </tr>\n",
       "    <tr>\n",
       "      <th>3</th>\n",
       "      <td>1</td>\n",
       "      <td>female</td>\n",
       "      <td>35.0</td>\n",
       "      <td>1</td>\n",
       "      <td>0</td>\n",
       "      <td>53.1000</td>\n",
       "      <td>S</td>\n",
       "      <td>2</td>\n",
       "    </tr>\n",
       "    <tr>\n",
       "      <th>4</th>\n",
       "      <td>0</td>\n",
       "      <td>male</td>\n",
       "      <td>35.0</td>\n",
       "      <td>0</td>\n",
       "      <td>0</td>\n",
       "      <td>8.0500</td>\n",
       "      <td>S</td>\n",
       "      <td>1</td>\n",
       "    </tr>\n",
       "  </tbody>\n",
       "</table>\n",
       "</div>"
      ],
      "text/plain": [
       "   Survived     Sex   Age  SibSp  Parch     Fare Embarked  GroupSize\n",
       "0         0    male  22.0      1      0   7.2500        S          2\n",
       "1         1  female  38.0      1      0  71.2833        C          2\n",
       "2         1  female  26.0      0      0   7.9250        S          1\n",
       "3         1  female  35.0      1      0  53.1000        S          2\n",
       "4         0    male  35.0      0      0   8.0500        S          1"
      ]
     },
     "execution_count": 17,
     "metadata": {},
     "output_type": "execute_result"
    }
   ],
   "source": [
    "df_4.head(5)"
   ]
  },
  {
   "cell_type": "code",
   "execution_count": 18,
   "id": "5a8a00a3-0d05-4c7c-b4f7-c1e52a6fe04a",
   "metadata": {},
   "outputs": [
    {
     "data": {
      "text/html": [
       "<div>\n",
       "<style scoped>\n",
       "    .dataframe tbody tr th:only-of-type {\n",
       "        vertical-align: middle;\n",
       "    }\n",
       "\n",
       "    .dataframe tbody tr th {\n",
       "        vertical-align: top;\n",
       "    }\n",
       "\n",
       "    .dataframe thead th {\n",
       "        text-align: right;\n",
       "    }\n",
       "</style>\n",
       "<table border=\"1\" class=\"dataframe\">\n",
       "  <thead>\n",
       "    <tr style=\"text-align: right;\">\n",
       "      <th></th>\n",
       "      <th>Survived</th>\n",
       "      <th>Sex</th>\n",
       "      <th>Age</th>\n",
       "      <th>Fare</th>\n",
       "      <th>Embarked</th>\n",
       "      <th>GroupSize</th>\n",
       "    </tr>\n",
       "  </thead>\n",
       "  <tbody>\n",
       "    <tr>\n",
       "      <th>0</th>\n",
       "      <td>0</td>\n",
       "      <td>male</td>\n",
       "      <td>22.0</td>\n",
       "      <td>7.2500</td>\n",
       "      <td>S</td>\n",
       "      <td>2</td>\n",
       "    </tr>\n",
       "    <tr>\n",
       "      <th>1</th>\n",
       "      <td>1</td>\n",
       "      <td>female</td>\n",
       "      <td>38.0</td>\n",
       "      <td>71.2833</td>\n",
       "      <td>C</td>\n",
       "      <td>2</td>\n",
       "    </tr>\n",
       "    <tr>\n",
       "      <th>2</th>\n",
       "      <td>1</td>\n",
       "      <td>female</td>\n",
       "      <td>26.0</td>\n",
       "      <td>7.9250</td>\n",
       "      <td>S</td>\n",
       "      <td>1</td>\n",
       "    </tr>\n",
       "    <tr>\n",
       "      <th>3</th>\n",
       "      <td>1</td>\n",
       "      <td>female</td>\n",
       "      <td>35.0</td>\n",
       "      <td>53.1000</td>\n",
       "      <td>S</td>\n",
       "      <td>2</td>\n",
       "    </tr>\n",
       "    <tr>\n",
       "      <th>4</th>\n",
       "      <td>0</td>\n",
       "      <td>male</td>\n",
       "      <td>35.0</td>\n",
       "      <td>8.0500</td>\n",
       "      <td>S</td>\n",
       "      <td>1</td>\n",
       "    </tr>\n",
       "  </tbody>\n",
       "</table>\n",
       "</div>"
      ],
      "text/plain": [
       "   Survived     Sex   Age     Fare Embarked  GroupSize\n",
       "0         0    male  22.0   7.2500        S          2\n",
       "1         1  female  38.0  71.2833        C          2\n",
       "2         1  female  26.0   7.9250        S          1\n",
       "3         1  female  35.0  53.1000        S          2\n",
       "4         0    male  35.0   8.0500        S          1"
      ]
     },
     "execution_count": 18,
     "metadata": {},
     "output_type": "execute_result"
    }
   ],
   "source": [
    "df_5.head(5)"
   ]
  },
  {
   "cell_type": "code",
   "execution_count": 19,
   "id": "ec4f37c8-8748-4ae9-b686-43fc50eb7d2e",
   "metadata": {},
   "outputs": [
    {
     "data": {
      "text/plain": [
       "((712, 6), (712, 8))"
      ]
     },
     "execution_count": 19,
     "metadata": {},
     "output_type": "execute_result"
    }
   ],
   "source": [
    "df_5.shape, df_4.shape"
   ]
  },
  {
   "cell_type": "markdown",
   "id": "73d84206-6134-4784-8c2e-a0f4a69fe401",
   "metadata": {},
   "source": [
    "\"\"\" END OF THIS PART \"\"\""
   ]
  },
  {
   "cell_type": "markdown",
   "id": "4ff6b37c-4c5d-4b3a-93ae-5cd5f16e5af9",
   "metadata": {},
   "source": [
    "## Part 6 (5 points, coding and conceptual reasoning task)\n",
    "\n",
    "In `df_5`, columns `Sex` and `Embarked` are categorical data.\n",
    "\n",
    "**Do the following tasks to process these categorical data.**\n",
    "\n",
    "1. To do logistic regression on this dataset, we need to do one hot encoding on these two columns. Explain why?\n",
    "2. Do one hot encoding on these two columns. Set `drop_first = True` and `dtype = np.int8`. Save the new dataframe object as `df_6`.\n",
    "3. Explain what `drop_first = True` means and why we do so.\n",
    "4. Print the first five rows of `df_5` and `df_6`.\n",
    "5. Print the shapes of `df_5` and `df_6`."
   ]
  },
  {
   "cell_type": "markdown",
   "id": "6f65c948-5ef0-4c0e-8f68-7b0fb01f0892",
   "metadata": {},
   "source": [
    "\\#\\#\\# WRITE YOUR SOLUTION HERE ###"
   ]
  },
  {
   "cell_type": "markdown",
   "id": "61765a35-39e0-4f42-bbdb-ed45420ddf88",
   "metadata": {},
   "source": [
    "Answer to question 1: Logistic regression takes numerical data."
   ]
  },
  {
   "cell_type": "code",
   "execution_count": 20,
   "id": "9a7757d2-9ed9-41c8-a6ef-7becaae21db2",
   "metadata": {},
   "outputs": [],
   "source": [
    "df_6 = pd.get_dummies(df_5, columns=[\"Sex\", \"Embarked\"], drop_first=True, dtype=np.int8)"
   ]
  },
  {
   "cell_type": "code",
   "execution_count": 21,
   "id": "399f3211-4d72-43b7-97bb-77f32e07bd5f",
   "metadata": {},
   "outputs": [
    {
     "data": {
      "text/html": [
       "<div>\n",
       "<style scoped>\n",
       "    .dataframe tbody tr th:only-of-type {\n",
       "        vertical-align: middle;\n",
       "    }\n",
       "\n",
       "    .dataframe tbody tr th {\n",
       "        vertical-align: top;\n",
       "    }\n",
       "\n",
       "    .dataframe thead th {\n",
       "        text-align: right;\n",
       "    }\n",
       "</style>\n",
       "<table border=\"1\" class=\"dataframe\">\n",
       "  <thead>\n",
       "    <tr style=\"text-align: right;\">\n",
       "      <th></th>\n",
       "      <th>Survived</th>\n",
       "      <th>Sex</th>\n",
       "      <th>Age</th>\n",
       "      <th>Fare</th>\n",
       "      <th>Embarked</th>\n",
       "      <th>GroupSize</th>\n",
       "    </tr>\n",
       "  </thead>\n",
       "  <tbody>\n",
       "    <tr>\n",
       "      <th>0</th>\n",
       "      <td>0</td>\n",
       "      <td>male</td>\n",
       "      <td>22.0</td>\n",
       "      <td>7.2500</td>\n",
       "      <td>S</td>\n",
       "      <td>2</td>\n",
       "    </tr>\n",
       "    <tr>\n",
       "      <th>1</th>\n",
       "      <td>1</td>\n",
       "      <td>female</td>\n",
       "      <td>38.0</td>\n",
       "      <td>71.2833</td>\n",
       "      <td>C</td>\n",
       "      <td>2</td>\n",
       "    </tr>\n",
       "    <tr>\n",
       "      <th>2</th>\n",
       "      <td>1</td>\n",
       "      <td>female</td>\n",
       "      <td>26.0</td>\n",
       "      <td>7.9250</td>\n",
       "      <td>S</td>\n",
       "      <td>1</td>\n",
       "    </tr>\n",
       "    <tr>\n",
       "      <th>3</th>\n",
       "      <td>1</td>\n",
       "      <td>female</td>\n",
       "      <td>35.0</td>\n",
       "      <td>53.1000</td>\n",
       "      <td>S</td>\n",
       "      <td>2</td>\n",
       "    </tr>\n",
       "    <tr>\n",
       "      <th>4</th>\n",
       "      <td>0</td>\n",
       "      <td>male</td>\n",
       "      <td>35.0</td>\n",
       "      <td>8.0500</td>\n",
       "      <td>S</td>\n",
       "      <td>1</td>\n",
       "    </tr>\n",
       "  </tbody>\n",
       "</table>\n",
       "</div>"
      ],
      "text/plain": [
       "   Survived     Sex   Age     Fare Embarked  GroupSize\n",
       "0         0    male  22.0   7.2500        S          2\n",
       "1         1  female  38.0  71.2833        C          2\n",
       "2         1  female  26.0   7.9250        S          1\n",
       "3         1  female  35.0  53.1000        S          2\n",
       "4         0    male  35.0   8.0500        S          1"
      ]
     },
     "execution_count": 21,
     "metadata": {},
     "output_type": "execute_result"
    }
   ],
   "source": [
    "df_5.head(5)"
   ]
  },
  {
   "cell_type": "markdown",
   "id": "8cbfb7ed-a283-46e5-a7e4-59814f374ff4",
   "metadata": {},
   "source": [
    "Answer to question 3: For a feature with $k$ categories, setting `drop_first = True` results in only $k-1$ indicator (dummy) columns. This is done to **avoid multicollinearity**, where one dummy variable can be perfectly predicted from the others."
   ]
  },
  {
   "cell_type": "code",
   "execution_count": 22,
   "id": "8b799527-4307-4e68-8089-619dbe5f8ca1",
   "metadata": {},
   "outputs": [
    {
     "data": {
      "text/html": [
       "<div>\n",
       "<style scoped>\n",
       "    .dataframe tbody tr th:only-of-type {\n",
       "        vertical-align: middle;\n",
       "    }\n",
       "\n",
       "    .dataframe tbody tr th {\n",
       "        vertical-align: top;\n",
       "    }\n",
       "\n",
       "    .dataframe thead th {\n",
       "        text-align: right;\n",
       "    }\n",
       "</style>\n",
       "<table border=\"1\" class=\"dataframe\">\n",
       "  <thead>\n",
       "    <tr style=\"text-align: right;\">\n",
       "      <th></th>\n",
       "      <th>Survived</th>\n",
       "      <th>Age</th>\n",
       "      <th>Fare</th>\n",
       "      <th>GroupSize</th>\n",
       "      <th>Sex_male</th>\n",
       "      <th>Embarked_Q</th>\n",
       "      <th>Embarked_S</th>\n",
       "    </tr>\n",
       "  </thead>\n",
       "  <tbody>\n",
       "    <tr>\n",
       "      <th>0</th>\n",
       "      <td>0</td>\n",
       "      <td>22.0</td>\n",
       "      <td>7.2500</td>\n",
       "      <td>2</td>\n",
       "      <td>1</td>\n",
       "      <td>0</td>\n",
       "      <td>1</td>\n",
       "    </tr>\n",
       "    <tr>\n",
       "      <th>1</th>\n",
       "      <td>1</td>\n",
       "      <td>38.0</td>\n",
       "      <td>71.2833</td>\n",
       "      <td>2</td>\n",
       "      <td>0</td>\n",
       "      <td>0</td>\n",
       "      <td>0</td>\n",
       "    </tr>\n",
       "    <tr>\n",
       "      <th>2</th>\n",
       "      <td>1</td>\n",
       "      <td>26.0</td>\n",
       "      <td>7.9250</td>\n",
       "      <td>1</td>\n",
       "      <td>0</td>\n",
       "      <td>0</td>\n",
       "      <td>1</td>\n",
       "    </tr>\n",
       "    <tr>\n",
       "      <th>3</th>\n",
       "      <td>1</td>\n",
       "      <td>35.0</td>\n",
       "      <td>53.1000</td>\n",
       "      <td>2</td>\n",
       "      <td>0</td>\n",
       "      <td>0</td>\n",
       "      <td>1</td>\n",
       "    </tr>\n",
       "    <tr>\n",
       "      <th>4</th>\n",
       "      <td>0</td>\n",
       "      <td>35.0</td>\n",
       "      <td>8.0500</td>\n",
       "      <td>1</td>\n",
       "      <td>1</td>\n",
       "      <td>0</td>\n",
       "      <td>1</td>\n",
       "    </tr>\n",
       "  </tbody>\n",
       "</table>\n",
       "</div>"
      ],
      "text/plain": [
       "   Survived   Age     Fare  GroupSize  Sex_male  Embarked_Q  Embarked_S\n",
       "0         0  22.0   7.2500          2         1           0           1\n",
       "1         1  38.0  71.2833          2         0           0           0\n",
       "2         1  26.0   7.9250          1         0           0           1\n",
       "3         1  35.0  53.1000          2         0           0           1\n",
       "4         0  35.0   8.0500          1         1           0           1"
      ]
     },
     "execution_count": 22,
     "metadata": {},
     "output_type": "execute_result"
    }
   ],
   "source": [
    "df_6.head(5)"
   ]
  },
  {
   "cell_type": "code",
   "execution_count": 23,
   "id": "0e982870-fd1f-4571-9d75-9c88ef2a303e",
   "metadata": {},
   "outputs": [
    {
     "data": {
      "text/plain": [
       "((712, 6), (712, 7))"
      ]
     },
     "execution_count": 23,
     "metadata": {},
     "output_type": "execute_result"
    }
   ],
   "source": [
    "df_5.shape, df_6.shape"
   ]
  },
  {
   "cell_type": "markdown",
   "id": "ba84fff3-ac1a-4a52-96ea-355b6eb67ea8",
   "metadata": {},
   "source": [
    "\"\"\" END OF THIS PART \"\"\""
   ]
  },
  {
   "cell_type": "markdown",
   "id": "dffc1d2f-54d3-4706-8c74-3875771abb2b",
   "metadata": {},
   "source": [
    "## Part 7 (5 points, coding task)\n",
    "\n",
    "**Do the following tasks in this part.**\n",
    "\n",
    "1. Define `X` that keeps all features in `df_6` and drops the label column `Survived`.\n",
    "2. Define `y` that keeps the label column `Survived` in `df_6` only.\n",
    "3. Print the types of objects `X` and `y`.\n",
    "4. Print the first five rows of `X` and the first five elements in `y`."
   ]
  },
  {
   "cell_type": "markdown",
   "id": "50059b71-2170-4fb8-ad76-409d309e924c",
   "metadata": {},
   "source": [
    "\\#\\#\\# WRITE YOUR SOLUTION HERE ###"
   ]
  },
  {
   "cell_type": "code",
   "execution_count": 24,
   "id": "144aee62-8029-4d93-a006-27afa19c1227",
   "metadata": {},
   "outputs": [],
   "source": [
    "X = df_6.drop(\"Survived\", axis=1)\n",
    "y = df_6[\"Survived\"]"
   ]
  },
  {
   "cell_type": "code",
   "execution_count": 25,
   "id": "450f51c4-ab1f-43ea-b683-a57133d503b5",
   "metadata": {},
   "outputs": [
    {
     "data": {
      "text/plain": [
       "(pandas.core.frame.DataFrame, pandas.core.series.Series)"
      ]
     },
     "execution_count": 25,
     "metadata": {},
     "output_type": "execute_result"
    }
   ],
   "source": [
    "type(X), type(y)"
   ]
  },
  {
   "cell_type": "code",
   "execution_count": 26,
   "id": "39e7cb86-b5b9-4282-8896-e094c2040dc4",
   "metadata": {},
   "outputs": [
    {
     "data": {
      "text/html": [
       "<div>\n",
       "<style scoped>\n",
       "    .dataframe tbody tr th:only-of-type {\n",
       "        vertical-align: middle;\n",
       "    }\n",
       "\n",
       "    .dataframe tbody tr th {\n",
       "        vertical-align: top;\n",
       "    }\n",
       "\n",
       "    .dataframe thead th {\n",
       "        text-align: right;\n",
       "    }\n",
       "</style>\n",
       "<table border=\"1\" class=\"dataframe\">\n",
       "  <thead>\n",
       "    <tr style=\"text-align: right;\">\n",
       "      <th></th>\n",
       "      <th>Age</th>\n",
       "      <th>Fare</th>\n",
       "      <th>GroupSize</th>\n",
       "      <th>Sex_male</th>\n",
       "      <th>Embarked_Q</th>\n",
       "      <th>Embarked_S</th>\n",
       "    </tr>\n",
       "  </thead>\n",
       "  <tbody>\n",
       "    <tr>\n",
       "      <th>0</th>\n",
       "      <td>22.0</td>\n",
       "      <td>7.2500</td>\n",
       "      <td>2</td>\n",
       "      <td>1</td>\n",
       "      <td>0</td>\n",
       "      <td>1</td>\n",
       "    </tr>\n",
       "    <tr>\n",
       "      <th>1</th>\n",
       "      <td>38.0</td>\n",
       "      <td>71.2833</td>\n",
       "      <td>2</td>\n",
       "      <td>0</td>\n",
       "      <td>0</td>\n",
       "      <td>0</td>\n",
       "    </tr>\n",
       "    <tr>\n",
       "      <th>2</th>\n",
       "      <td>26.0</td>\n",
       "      <td>7.9250</td>\n",
       "      <td>1</td>\n",
       "      <td>0</td>\n",
       "      <td>0</td>\n",
       "      <td>1</td>\n",
       "    </tr>\n",
       "    <tr>\n",
       "      <th>3</th>\n",
       "      <td>35.0</td>\n",
       "      <td>53.1000</td>\n",
       "      <td>2</td>\n",
       "      <td>0</td>\n",
       "      <td>0</td>\n",
       "      <td>1</td>\n",
       "    </tr>\n",
       "    <tr>\n",
       "      <th>4</th>\n",
       "      <td>35.0</td>\n",
       "      <td>8.0500</td>\n",
       "      <td>1</td>\n",
       "      <td>1</td>\n",
       "      <td>0</td>\n",
       "      <td>1</td>\n",
       "    </tr>\n",
       "  </tbody>\n",
       "</table>\n",
       "</div>"
      ],
      "text/plain": [
       "    Age     Fare  GroupSize  Sex_male  Embarked_Q  Embarked_S\n",
       "0  22.0   7.2500          2         1           0           1\n",
       "1  38.0  71.2833          2         0           0           0\n",
       "2  26.0   7.9250          1         0           0           1\n",
       "3  35.0  53.1000          2         0           0           1\n",
       "4  35.0   8.0500          1         1           0           1"
      ]
     },
     "execution_count": 26,
     "metadata": {},
     "output_type": "execute_result"
    }
   ],
   "source": [
    "X.head(5)"
   ]
  },
  {
   "cell_type": "code",
   "execution_count": 27,
   "id": "24c81d97-a638-4045-83cc-785c28b54283",
   "metadata": {},
   "outputs": [
    {
     "data": {
      "text/plain": [
       "0    0\n",
       "1    1\n",
       "2    1\n",
       "3    1\n",
       "4    0\n",
       "Name: Survived, dtype: int64"
      ]
     },
     "execution_count": 27,
     "metadata": {},
     "output_type": "execute_result"
    }
   ],
   "source": [
    "y.head(5)"
   ]
  },
  {
   "cell_type": "markdown",
   "id": "cf566833-ec87-4a32-b3d5-cd9789df285c",
   "metadata": {},
   "source": [
    "\"\"\" END OF THIS PART \"\"\""
   ]
  },
  {
   "cell_type": "markdown",
   "id": "811fe0f5-cd52-45ba-b9d2-1948050ac882",
   "metadata": {},
   "source": [
    "## Part 8 (5 points, coding task)\n",
    "\n",
    "**Do the following tasks in this part.**\n",
    "\n",
    "1. Define a function called `my_train_test_split` that splits the whole dataset into the training component and the test/validation component.\n",
    "    - The split is random\n",
    "    - Inputs\n",
    "        - `X`: A DataFrame object of features of all sample data.\n",
    "        - `y`: A Series object of labels of all sample data.\n",
    "        - `test_size`: It takes a value between 0 and 1 that denotes the fraction of samples used for testing. That is, the number of samples used for testing is `int(total number of samples * test_size)`.\n",
    "    - Outputs\n",
    "        - `X_train`: It keeps samples in `X` for training.\n",
    "        - `X_test`: It keeps samples in `X` for testing.\n",
    "        - `y_train`: It keeps samples in `y` for training.\n",
    "        - `y_test`: It keeps samples in `y` for testing.\n",
    "2. Call this function with inputs\n",
    "    - `X = X`\n",
    "    - `y = y`\n",
    "    - `test_state = 0.2`\n",
    "3. Print object types and shapes of `X_train`, `X_test`, `y_train`, `y_test`."
   ]
  },
  {
   "cell_type": "markdown",
   "id": "1460b23e-77ef-4dde-b15a-b13759ea113c",
   "metadata": {},
   "source": [
    "\\#\\#\\# WRITE YOUR SOLUTION HERE ###"
   ]
  },
  {
   "cell_type": "code",
   "execution_count": 28,
   "id": "4ae1f9fc-cd23-4bad-b0c0-16d9ddc92d84",
   "metadata": {},
   "outputs": [],
   "source": [
    "def my_train_test_split(X, y, test_size):\n",
    "    n_test_samples = int(len(X) * test_size)\n",
    "    all_indices = range(len(X))\n",
    "    test_indices = np.random.choice(all_indices, n_test_samples)\n",
    "\n",
    "    X_test, y_test = X.iloc[test_indices], y.iloc[test_indices]\n",
    "    train_indices = list(set(all_indices) - set(test_indices))\n",
    "    X_train, y_train = X.iloc[train_indices], y.iloc[train_indices]\n",
    "    return X_train, X_test, y_train, y_test"
   ]
  },
  {
   "cell_type": "code",
   "execution_count": 29,
   "id": "1fc9abc5-ef33-4aaa-8384-1c644b153ef6",
   "metadata": {},
   "outputs": [],
   "source": [
    "X_train, X_test, y_train, y_test = my_train_test_split(X, y, 0.2)"
   ]
  },
  {
   "cell_type": "code",
   "execution_count": 30,
   "id": "0b780ee4-8f20-45d2-90c0-8748d630f646",
   "metadata": {},
   "outputs": [
    {
     "data": {
      "text/plain": [
       "(pandas.core.frame.DataFrame,\n",
       " pandas.core.frame.DataFrame,\n",
       " pandas.core.series.Series,\n",
       " pandas.core.series.Series)"
      ]
     },
     "execution_count": 30,
     "metadata": {},
     "output_type": "execute_result"
    }
   ],
   "source": [
    "type(X_train), type(X_test), type(y_train), type(y_test)"
   ]
  },
  {
   "cell_type": "code",
   "execution_count": 31,
   "id": "8ba5d9b4-0113-42ac-a597-a396db88206d",
   "metadata": {},
   "outputs": [
    {
     "data": {
      "text/plain": [
       "((578, 6), (142, 6), (578,), (142,))"
      ]
     },
     "execution_count": 31,
     "metadata": {},
     "output_type": "execute_result"
    }
   ],
   "source": [
    "X_train.shape, X_test.shape, y_train.shape, y_test.shape"
   ]
  },
  {
   "cell_type": "markdown",
   "id": "eb06547c-6be3-4c1f-b61f-9a556fe206b5",
   "metadata": {},
   "source": [
    "\"\"\" END OF THIS PART \"\"\""
   ]
  },
  {
   "cell_type": "markdown",
   "id": "bb400512-6d77-43c4-9383-4f1af29c57c4",
   "metadata": {},
   "source": [
    "## Problem 9 (5 points, coding task)\n",
    "\n",
    "**Use `StandardScaler` that has been imported from `sklearn.preprocessing` (DO NOT IMPORT IT AGAIN) to do the following tasks.**\n",
    "\n",
    "1. Create an object called `scaler`.\n",
    "2. Use `scaler.fit_transform` to scale each column in `X_train` to standard normal. Save the scaled training dataset as `X_train_scaled`.\n",
    "3. Use `scaler.transform` to scale `X_test`. Save the scaled test dataset as `X_test_scaled`.\n",
    "4. Add a column to `X_train_scaled` with all 1s. Do the same thing for `X_test_scaled`.\n",
    "5. Print the types of objects `X_train_scaled` and `X_test_scaled`.\n",
    "6. Print the shapes of objects `X_train_scaled` and `X_test_scaled`.\n",
    "7. Print the first five rows of `X_train_scaled` and `X_test_scaled`."
   ]
  },
  {
   "cell_type": "markdown",
   "id": "196c61a6-5e70-49bb-ac42-d25286333c31",
   "metadata": {},
   "source": [
    "\\#\\#\\# WRITE YOUR SOLUTION HERE ###"
   ]
  },
  {
   "cell_type": "code",
   "execution_count": 32,
   "id": "57dac20b-d148-4cb0-8528-416d729b1d0b",
   "metadata": {},
   "outputs": [],
   "source": [
    "scaler = StandardScaler()"
   ]
  },
  {
   "cell_type": "code",
   "execution_count": 33,
   "id": "cb2dba07-7512-4483-a25d-1b554b43d0e8",
   "metadata": {},
   "outputs": [],
   "source": [
    "X_train_scaled = scaler.fit_transform(X_train)\n",
    "X_test_scaled = scaler.transform(X_test)"
   ]
  },
  {
   "cell_type": "code",
   "execution_count": 34,
   "id": "ff026a89-dafe-45d7-8346-894fb848a2de",
   "metadata": {},
   "outputs": [],
   "source": [
    "X_train_scaled = np.hstack([X_train_scaled, np.ones((X_train_scaled.shape[0], 1))])\n",
    "X_test_scaled = np.hstack([X_test_scaled, np.ones((X_test_scaled.shape[0], 1))])"
   ]
  },
  {
   "cell_type": "code",
   "execution_count": 35,
   "id": "912e73fc-1c10-4666-a46a-47911404ae8e",
   "metadata": {},
   "outputs": [
    {
     "data": {
      "text/plain": [
       "(numpy.ndarray, numpy.ndarray)"
      ]
     },
     "execution_count": 35,
     "metadata": {},
     "output_type": "execute_result"
    }
   ],
   "source": [
    "type(X_train_scaled), type(X_test_scaled)"
   ]
  },
  {
   "cell_type": "code",
   "execution_count": 36,
   "id": "86d50aae-1862-4f46-8c70-520d9724c713",
   "metadata": {},
   "outputs": [
    {
     "data": {
      "text/plain": [
       "((578, 7), (142, 7))"
      ]
     },
     "execution_count": 36,
     "metadata": {},
     "output_type": "execute_result"
    }
   ],
   "source": [
    "X_train_scaled.shape, X_test_scaled.shape"
   ]
  },
  {
   "cell_type": "code",
   "execution_count": 37,
   "id": "1d05ff90-4e28-4091-93e1-146cdc394c96",
   "metadata": {},
   "outputs": [
    {
     "data": {
      "text/plain": [
       "(array([[-0.51252033, -0.50281115,  0.05325101,  0.76675426, -0.20357171,\n",
       "          0.5466959 ,  1.        ],\n",
       "        [ 0.60715783,  0.6556412 ,  0.05325101, -1.30419883, -0.20357171,\n",
       "         -1.82917048,  1.        ],\n",
       "        [-0.23260079, -0.49059945, -0.6307286 , -1.30419883, -0.20357171,\n",
       "          0.5466959 ,  1.        ],\n",
       "        [ 0.39721818,  0.32667976,  0.05325101, -1.30419883, -0.20357171,\n",
       "          0.5466959 ,  1.        ],\n",
       "        [ 0.39721818, -0.48833803, -0.6307286 ,  0.76675426, -0.20357171,\n",
       "          0.5466959 ,  1.        ]]),\n",
       " array([[ 1.44691646, -0.39878557, -0.6307286 ,  0.76675426, -0.20357171,\n",
       "          0.5466959 ,  1.        ],\n",
       "        [-0.58250022,  4.11275851,  2.10518982, -1.30419883, -0.20357171,\n",
       "         -1.82917048,  1.        ],\n",
       "        [ 0.81709749,  0.08402879,  2.78916943, -1.30419883, -0.20357171,\n",
       "          0.5466959 ,  1.        ],\n",
       "        [-0.58250022, -0.45622578,  0.05325101, -1.30419883, -0.20357171,\n",
       "          0.5466959 ,  1.        ],\n",
       "        [ 0.74711761, -0.63397384, -0.6307286 ,  0.76675426, -0.20357171,\n",
       "          0.5466959 ,  1.        ]]))"
      ]
     },
     "execution_count": 37,
     "metadata": {},
     "output_type": "execute_result"
    }
   ],
   "source": [
    "X_train_scaled[:5, :], X_test_scaled[:5, :]"
   ]
  },
  {
   "cell_type": "markdown",
   "id": "8f91e944-647f-4e8c-aa55-c61841c96bca",
   "metadata": {},
   "source": [
    "\"\"\" END OF THIS PART \"\"\""
   ]
  },
  {
   "cell_type": "markdown",
   "id": "a3eca84f-33d6-4fbd-bace-036ec7a239e5",
   "metadata": {},
   "source": [
    "## Part 10 (5 points, non-coding task)\n",
    "\n",
    "So far, we have finished preprocessing our dataset. We use this dataset for the purpose of doing **binary classification**.\n",
    "\n",
    "**In all remaining parts in this problem, we will train a logistic regression model with our preprocessed data and test its performance.**\n",
    "\n",
    "Let all training samples be indexed as $0, 1, \\cdots , N-1$. For the $n$th sample, denote by $\\mathbf{x}^{(n)} \\in \\Bbb R^{d \\times 1}$ a column vector of all features and $y^{(n)} \\in \\left\\{ 0, 1 \\right\\}$ its ground-truth label.\n",
    "\n",
    "In the logistic regression, denote by $\\mathbf{\\beta} \\in \\Bbb R^{d \\times 1}$ the learnable parameters.\n",
    "\n",
    "Thus, our predicted label is determined according to:\n",
    "\n",
    "$$\n",
    "y^{(n)}_{predict} = \\begin{cases} 1 , & \\text{with probability } \\sigma \\left( \\mathbf{x}^{(n), \\top} \\mathbf{\\beta} \\right) \\\\ 0, & \\text{with probability } 1 - \\sigma \\left( \\mathbf{x}^{(n), \\top} \\mathbf{\\beta} \\right) \\\\ \\end{cases}\n",
    "$$\n",
    "\n",
    "where\n",
    "\n",
    "$$\n",
    "\\sigma \\left( z \\right) = \\frac{1}{1 + e^{-z}}\n",
    "$$\n",
    "\n",
    "is the sigmoid function.\n",
    "\n",
    "**Do the following task in this part.**\n",
    "\n",
    "To train our model, we need to solve the following optimization problem:\n",
    "\n",
    "$$\n",
    "\\min_{\\mathbf{\\beta}} \\ L \\left(\\mathbf{\\beta} \\right) .\n",
    "$$\n",
    "\n",
    "Write down the loss function $L(\\beta)$ in the following form (reasoning is not required):\n",
    "\n",
    "$$\n",
    "L \\left(\\mathbf{\\beta} \\right) = \\sum_{n=0}^{N-1} \\cdots .\n",
    "$$"
   ]
  },
  {
   "cell_type": "markdown",
   "id": "e91674db-3264-4ae6-84f2-cbe70b6d5edf",
   "metadata": {},
   "source": [
    "\\#\\#\\# WRITE YOUR SOLUTION HERE ###\n",
    "\n",
    "For a binary classification task, the probability model is defined as\n",
    "\n",
    "$$\n",
    "\\begin{aligned}\n",
    "P(y^{(n)}=1|\\mathbf{x}^{(n)};\\beta) &= \\sigma \\left( \\mathbf{x}^{(n), \\top} \\mathbf{\\beta} \\right) \\\\\n",
    "P(y^{(n)}=0|\\mathbf{x}^{(n)};\\beta) &= 1 - \\sigma \\left( \\mathbf{x}^{(n), \\top} \\mathbf{\\beta} \\right) .\n",
    "\\end{aligned}\n",
    "$$\n",
    "\n",
    "We can further express them in a single equation:\n",
    "\n",
    "$$\n",
    "P(y^{(n)}|\\mathbf{x}^{(n)};\\beta) = \\sigma \\left( \\mathbf{x}^{(n), \\top} \\mathbf{\\beta} \\right)^{y^{(n)}} \\cdot \\left(1 - \\sigma \\left( \\mathbf{x}^{(n), \\top} \\mathbf{\\beta} \\right)\\right)^{1-y^{(n)}} .\n",
    "$$\n",
    "\n",
    "The log-likelihood function is then\n",
    "\n",
    "$$\n",
    "\\begin{aligned}\n",
    "L(\\beta) &= -\\ln \\prod_{n=0}^{N-1} {P(y^{(n)}|\\mathbf{x}^{(n)};\\beta)} \\\\\n",
    "             &= - \\sum_{n=0}^{N-1} \\ln\\left(\\sigma \\left( \\mathbf{x}^{(n), \\top} \\mathbf{\\beta} \\right)^{y^{(n)}} \\cdot \\left(1 - \\sigma \\left( \\mathbf{x}^{(n), \\top} \\mathbf{\\beta} \\right)\\right)^{1-y^{(n)}}\\right) \\\\\n",
    "             &= \\sum_{n=0}^{N-1} \\left(- y^{(n)} \\ln \\sigma \\left( \\mathbf{x}^{(n), \\top} \\mathbf{\\beta} \\right) - (1 - y^{(n)}) \\ln \\left( 1 - \\sigma \\left( \\mathbf{x}^{(n), \\top} \\mathbf{\\beta} \\right) \\right) \\right) .\n",
    "\\end{aligned}\n",
    "$$\n",
    "\n",
    "\"\"\" END OF THIS PART \"\"\""
   ]
  },
  {
   "cell_type": "markdown",
   "id": "7d755b86-adbf-4443-b4e7-3a060cc6a1fb",
   "metadata": {},
   "source": [
    "## Part 11 (5 points, non-coding task)\n",
    "\n",
    "**Compute**\n",
    "\n",
    "$$\n",
    "\\frac{d \\sigma \\left( z \\right)}{dz} .\n",
    "$$\n",
    "\n",
    "- Express your answer using $\\sigma \\left( z \\right)$ ($e^z$ or $e^{-z}$ should not appear in your final solution).\n",
    "- Reasoning is required."
   ]
  },
  {
   "cell_type": "markdown",
   "id": "51b546da-9028-4cbf-8e5c-b1ea9eab4aec",
   "metadata": {},
   "source": [
    "\\#\\#\\# WRITE YOUR SOLUTION HERE ###\n",
    "\n",
    "$$\n",
    "\\begin{aligned}\n",
    "\\frac{d \\sigma \\left( z \\right)}{dz} &= \\frac{d}{dz} \\left(1+\\exp(-z)\\right)^{-1} \\\\\n",
    "                                     &= -\\left(1+\\exp(-z)\\right)^{-2} \\cdot -\\exp(-z) \\\\\n",
    "                                     &= \\frac{\\exp(-z)}{(1+\\exp(-z))^2} \\\\\n",
    "                                     &= \\frac{1}{1+\\exp(-z)} \\cdot \\frac{\\exp(-z)+1-1}{1+\\exp(-z)} \\\\\n",
    "                                     &= \\frac{1}{1+\\exp(-z)} \\left(1-\\frac{1}{1+\\exp(-z)}\\right) \\\\\n",
    "                                     &= \\sigma(z) (1-\\sigma(z)) .\n",
    "\\end{aligned}\n",
    "$$\n",
    "\n",
    "\"\"\" END OF THIS PART \"\"\""
   ]
  },
  {
   "cell_type": "markdown",
   "id": "bbb56c63-c55c-4983-a753-24e0a9ae4b4a",
   "metadata": {},
   "source": [
    "## Part 12 (5 points, non-coding task)\n",
    "\n",
    "**In this part, you are asked to compute $\\nabla_{\\mathbf{\\beta}} \\ L \\left( \\mathbf{\\beta} \\right)$ and express your solutions in two forms. Reasoning is not required.**\n",
    "\n",
    "1. Write $\\nabla_{\\mathbf{\\beta}} \\ L \\left( \\mathbf{\\beta} \\right)$ in the following summation form:\n",
    "   $$\\nabla_{\\mathbf{\\beta}} \\ L \\left( \\mathbf{\\beta} \\right) = \\sum_{n=0}^{N-1} \\cdots .$$\n",
    "2. Denote\n",
    "   $$\\mathbf{X} = \\begin{bmatrix} \\mathbf{x}^{(0), \\top} \\\\ \\mathbf{x}^{(1), \\top} \\\\ \\vdots \\\\ \\mathbf{x}^{(N-1), \\top} \\end{bmatrix}$$\n",
    "   and\n",
    "   $$\\mathbf{y} = \\begin{bmatrix} y^{(0)} \\\\ y^{(1)} \\\\ \\vdots \\\\ y^{(N-1)} \\end{bmatrix}$$\n",
    "   and\n",
    "   $$\\mathbf{z} = \\begin{bmatrix} \\sigma \\left( \\mathbf{x}^{(0), \\top} \\mathbf{\\beta} \\right) \\\\ \\sigma \\left( \\mathbf{x}^{(1), \\top} \\mathbf{\\beta} \\right) \\\\ \\vdots \\\\ \\sigma \\left( \\mathbf{x}^{(N-1), \\top} \\mathbf{\\beta} \\right) \\end{bmatrix}.$$\n",
    "   Write $\\nabla_{\\mathbf{\\beta}} \\ L \\left( \\mathbf{\\beta} \\right)$ in terms of $\\mathbf{X}$, $\\mathbf{y}$, $\\mathbf{z}$ with matrix operations (the summation symbol is not allowed)."
   ]
  },
  {
   "cell_type": "markdown",
   "id": "97f52e3c-1909-4eeb-80e2-f0c61852f4b9",
   "metadata": {},
   "source": [
    "\\#\\#\\# WRITE YOUR SOLUTION HERE ###\n",
    "\n",
    "We have\n",
    "\n",
    "$$\n",
    "\\begin{aligned}\n",
    "\\big[\\nabla_{\\mathbf{\\beta}} \\ L \\left( \\mathbf{\\beta} \\right)\\big]_i &= \\frac{\\partial L(\\beta)}{\\partial \\beta_i} \\\\\n",
    "                                                                      &= -\\frac{\\partial}{\\partial \\beta_i} \\sum_{n=0}^{N-1} \\left(y^{(n)} \\ln \\sigma \\left( \\mathbf{x}^{(n), \\top} \\mathbf{\\beta} \\right) + (1 - y^{(n)}) \\ln \\left( 1 - \\sigma \\left( \\mathbf{x}^{(n), \\top} \\mathbf{\\beta} \\right) \\right) \\right) \\\\\n",
    "                                                                      &= -\\sum_{n=0}^{N-1} \\left(y^{(n)} \\frac{\\frac{\\partial}{\\partial \\beta_i} \\sigma\\left(\\mathbf{x}^{(n),\\top}\\mathbf{\\beta}\\right)}{\\sigma\\left(\\mathbf{x}^{(n),\\top}\\mathbf{\\beta}\\right)} + (1-y^{(n)}) \\frac{-\\frac{\\partial}{\\partial \\beta_i} \\sigma\\left(\\mathbf{x}^{(n),\\top}\\mathbf{\\beta}\\right)}{1-\\frac{\\partial}{\\partial \\beta_i} \\sigma\\left(\\mathbf{x}^{(n),\\top}\\mathbf{\\beta}\\right)} \\right) \\\\\n",
    "                                                                      &= -\\sum_{n=0}^{N-1} \\left(y^{(n)} \\frac{1}{\\sigma\\left(\\mathbf{x}^{(n),\\top}\\mathbf{\\beta}\\right)} - (1-y^{(n)}) \\frac{1}{1-\\frac{\\partial}{\\partial \\beta_i} \\sigma\\left(\\mathbf{x}^{(n),\\top}\\mathbf{\\beta}\\right)}\\right) \\sigma\\left(\\mathbf{x}^{(n),\\top}\\mathbf{\\beta}\\right) \\left( 1 - \\sigma\\left(\\mathbf{x}^{(n),\\top}\\mathbf{\\beta}\\right) \\right) x^{(n)}_i \\\\\n",
    "                                                                      &= -\\sum_{n=0}^{N-1} \\left(y^{(n)} - y^{(n)}\\sigma\\left(\\mathbf{x}^{(n),\\top}\\mathbf{\\beta}\\right) - \\frac{\\sigma\\left(\\mathbf{x}^{(n),\\top}\\mathbf{\\beta}\\right) - \\sigma^2\\left(\\mathbf{x}^{(n),\\top}\\mathbf{\\beta}\\right)}{1-\\sigma\\left(\\mathbf{x}^{(n),\\top}\\mathbf{\\beta}\\right)} + \\frac{y^{(n)}\\left(\\sigma\\left(\\mathbf{x}^{(n),\\top}\\mathbf{\\beta}\\right)-\\sigma^2\\left(\\mathbf{x}^{(n),\\top}\\mathbf{\\beta}\\right)\\right)}{1-\\sigma\\left(\\mathbf{x}^{(n),\\top}\\mathbf{\\beta}\\right)} \\right) x^{(n)}_i \\\\\n",
    "                                                                      &= -\\sum_{n=0}^{N-1} \\left(y^{(n)} - y^{(n)}\\sigma\\left(\\mathbf{x}^{(n),\\top}\\mathbf{\\beta}\\right) - \\sigma\\left(\\mathbf{x}^{(n),\\top}\\mathbf{\\beta}\\right) + y^{(n)}\\sigma\\left(\\mathbf{x}^{(n),\\top}\\mathbf{\\beta}\\right) \\right) x^{(n)}_i \\\\\n",
    "                                                                      &= \\sum_{n=0}^{N-1} \\left(\\sigma\\left(\\mathbf{x}^{(n),\\top}\\mathbf{\\beta}\\right) - y^{(n)} \\right) x^{(n)}_i \\\\\n",
    "        \\nabla_{\\mathbf{\\beta}} \\ L \\left( \\mathbf{\\beta} \\right) &= \\sum_{n=0}^{N-1} \\left(\\sigma\\left(\\mathbf{x}^{(n),\\top}\\mathbf{\\beta}\\right) - y^{(n)} \\right) \\mathbf{x}^{(n)} .\n",
    "\\end{aligned}\n",
    "$$\n",
    "\n",
    "*Note: $\\left(\\sigma\\left(\\mathbf{x}^{(n),\\top}\\mathbf{\\beta}\\right) - y^{(n)}\\right)$ is a scalar.*\n",
    "\n",
    "An equivalent matrix operation is\n",
    "\n",
    "$$\n",
    "\\nabla_{\\mathbf{\\beta}} \\ L \\left( \\mathbf{\\beta} \\right) = \\mathbf{X}^\\top(\\mathbf{z}-\\mathbf{y}) .\n",
    "$$\n",
    "\n",
    "\"\"\" END OF THIS PART \"\"\""
   ]
  },
  {
   "cell_type": "markdown",
   "id": "6e91d454-767b-47bd-9c6c-f1b55ac0025b",
   "metadata": {},
   "source": [
    "## Part 13 (5 points, non-coding task)\n",
    "\n",
    "In this part, you are asked to compute $\\nabla_{\\mathbf{\\beta}}^2 \\ L \\left( \\mathbf{\\beta} \\right)$ and express your solutions in two forms. Reasoning is not required.\n",
    "\n",
    "1. Write $\\nabla_{\\mathbf{\\beta}}^2 \\ L \\left( \\mathbf{\\beta} \\right)$ in the following summation form:\n",
    "   $$\\nabla_{\\mathbf{\\beta}}^2 \\ L \\left( \\mathbf{\\beta} \\right) = \\sum_{n=0}^{N-1} \\cdots .$$\n",
    "2. Denote\n",
    "   $$\\mathbf{Z} = \\begin{bmatrix} z_0 & 0 & \\cdots & 0 \\\\ 0 & z_1 & \\cdots & 0 \\\\ \\vdots & \\vdots & \\ddots & 0 \\\\ 0 & 0 & \\cdots & z_{N-1} \\end{bmatrix} .$$\n",
    "   Write $\\nabla_{\\mathbf{\\beta}}^2 \\ L \\left( \\mathbf{\\beta} \\right)$ in terms of $\\mathbf{X}$, $\\mathbf{Z}$ with matrix operations (the summation symbol is not allowed)."
   ]
  },
  {
   "cell_type": "markdown",
   "id": "ee5b338c-7b5a-4884-904e-3e30e5ba35a1",
   "metadata": {},
   "source": [
    "\\#\\#\\# WRITE YOUR SOLUTION HERE ###\n",
    "\n",
    "We have\n",
    "\n",
    "$$\n",
    "\\begin{aligned}\n",
    "\\big[\\nabla^2_{\\mathbf{\\beta}} \\ L \\left( \\mathbf{\\beta} \\right)\\big]_{ij} &= \\frac{\\partial}{\\partial \\beta_j} \\sum_{n=0}^{N-1} \\left(\\sigma\\left(\\mathbf{x}^{(n),\\top}\\mathbf{\\beta}\\right) - y^{(n)} \\right) x^{(n)}_i \\\\\n",
    "                                                                        &= \\sum_{n=0}^{N-1} \\sigma\\left(\\mathbf{x}^{(n),\\top}\\mathbf{\\beta}\\right) \\left(1-\\sigma\\left(\\mathbf{x}^{(n),\\top}\\mathbf{\\beta}\\right)\\right) x^{(n)}_i x^{(n)}_j \\\\\n",
    "            \\nabla^2_{\\mathbf{\\beta}} \\ L \\left( \\mathbf{\\beta} \\right) &= \\sum_{n=0}^{N-1} \\sigma\\left(\\mathbf{x}^{(n),\\top}\\mathbf{\\beta}\\right) \\left(1-\\sigma\\left(\\mathbf{x}^{(n),\\top}\\mathbf{\\beta}\\right)\\right) \\mathbf{x}^{(n)} \\mathbf{x}^{(n),\\top} .\n",
    "\\end{aligned}\n",
    "$$\n",
    "\n",
    "*Note: $\\mathbf{x}^{(n)} \\mathbf{x}^{(n),\\top}$ gives a $d\\times d$ matrix and $\\sigma\\left(\\mathbf{x}^{(n),\\top}\\mathbf{\\beta}\\right) \\left(1-\\sigma\\left(\\mathbf{x}^{(n),\\top}\\mathbf{\\beta}\\right)\\right)$ is a scalar.*\n",
    "\n",
    "An equivalent matrix operation is\n",
    "\n",
    "$$\n",
    "\\nabla^2_{\\mathbf{\\beta}} \\ L \\left( \\mathbf{\\beta} \\right) = \\mathbf{X}^\\top\\mathbf{Z}\\left(\\mathbf{I}-\\mathbf{Z}\\right)\\mathbf{X}.\n",
    "$$\n",
    "\n",
    "\"\"\" END OF THIS PART \"\"\""
   ]
  },
  {
   "cell_type": "markdown",
   "id": "a8bad73e-8ace-42a5-85eb-49646ce172a1",
   "metadata": {},
   "source": [
    "## Part 14 (5 points, non-coding task)\n",
    "\n",
    "**Prove that $L(\\beta)$ is a (weakly) concave function.**\n",
    "\n",
    "- Reasoning is required."
   ]
  },
  {
   "cell_type": "markdown",
   "id": "39b686ac-c60c-4ace-9ff3-b8101ae74c81",
   "metadata": {},
   "source": [
    "\\#\\#\\# WRITE YOUR SOLUTION HERE ###\n",
    "\n",
    "> *Definition.* A symmetric matrix $\\mathbf{A}\\in \\Bbb R^{n \\times n}$ is called **positive semidefinite** if\n",
    "> $$\\forall \\mathbf{v} \\in \\Bbb R^n, \\mathbf{v}\\ne0, \\quad \\mathbf{v}^\\top\\mathbf{Av}\\ge0.$$\n",
    "\n",
    "> *Lemma.* A symmetric matrix $\\mathbf{A}\\in \\Bbb R^{n \\times n}$ is positive semidefinite if all of its eigenvalues $\\lambda_i$ are non-negative.\n",
    ">\n",
    "> *Proof.* Since $\\mathbf{A}$ is symmetric, we can decompose it spectrally as $\\mathbf{A} = \\mathbf{Q\\Lambda Q^\\top}$ (done this in Problem 1 Part 6). Then, for any $\\mathbf{x}\\ne 0$, let $\\mathbf{y}=\\mathbf{Q^\\top x}$. We have\n",
    "> $$ \\begin{aligned}\\mathbf{x^\\top A x} &= \\mathbf{x^\\top Q\\Lambda Q^\\top x} \\\\ &= \\mathbf{(Qx^\\top)^\\top \\Lambda y} \\\\ &= \\mathbf{y^\\top \\Lambda y} \\\\ &= \\sum_{i=1}^n \\lambda_i y_i^2 \\ge 0 \\quad \\because \\lambda_i \\ge 0. \\end{aligned}$$\n",
    "> \n",
    "> *Note: In the previous part, we converted the summation into a matrix expression. Now, we follow a similar process, but in reverse.*\n",
    "\n",
    "Let $\\mathbf{W}=\\mathbf{Z(I-Z)}$.\n",
    "\n",
    "Since $\\mathbf{Z}$ is diagonal, the operation $\\mathbf{Z(I-Z)}=\\mathbf{Z-Z^2}$ reduces to an element-wise operation on the diagonal entries. The eigenvalues of $\\mathbf{W}$ are simply the diagonal entries $z_i(1-z_i)$, which are all non-negative as $0 \\le \\sigma(\\cdot) \\le 1$. Therefore, $\\mathbf{W}$ is positive semidefinite and we have\n",
    "\n",
    "$$\n",
    "\\nabla^2_{\\mathbf{\\beta}} \\ L \\left( \\mathbf{\\beta} \\right) = \\mathbf{X}^\\top\\mathbf{W}\\mathbf{X} \\ge 0.\n",
    "$$\n",
    "\n",
    "The second derivative (Hessian) of the loss function is thus positive semidefinite. This means that the loss function is (weakly) convex.\n",
    "\n",
    "*Note: We can show \"$\\mathbf{W}$ is positive semidefinite implies that $\\mathbf{x^\\top A x}$ is also positive semidefinite\" using the same reasoning as in the proof of the lemma above.*\n",
    "\n",
    "\"\"\" END OF THIS PART \"\"\""
   ]
  },
  {
   "cell_type": "markdown",
   "id": "a7618cba-1fab-46a8-aefc-394f45cd2702",
   "metadata": {},
   "source": [
    "## Problem 15 (5 points, non-coding task)\n",
    "\n",
    "To learn $\\beta$, we do whole-batch iteration with the gradient descent algorithm and the Netwon’s method.\n",
    "\n",
    "In this part, denote by $\\eta>0$ the learning rate.\n",
    "\n",
    "**Do the following tasks in this part (reasoning is not required).**\n",
    "\n",
    "1. Write down the gradient descent algorithm in the following form:\n",
    "   $$\\mathbf{\\beta} \\leftarrow \\mathbf{\\beta} - \\eta \\cdot \\boxed{???} .$$\n",
    "2. Write down the Newton’s method in the following form:\n",
    "   $$\\mathbf{\\beta} \\leftarrow \\mathbf{\\beta} - \\eta \\cdot \\boxed{???} .$$"
   ]
  },
  {
   "cell_type": "markdown",
   "id": "dcc8c477-3917-4e74-84f7-045f4a51402a",
   "metadata": {},
   "source": [
    "\\#\\#\\# WRITE YOUR SOLUTION HERE ###\n",
    "\n",
    "1. $\\mathbf{\\beta} \\leftarrow \\mathbf{\\beta} - \\eta \\cdot \\nabla_{\\mathbf{\\beta}} \\ L \\left( \\mathbf{\\beta} \\right)$.\n",
    "2. $\\mathbf{\\beta} \\leftarrow \\mathbf{\\beta} - \\eta \\cdot \\left(\\nabla^2_{\\mathbf{\\beta}} \\ L \\left( \\mathbf{\\beta} \\right)\\right)^{-1} \\nabla_{\\mathbf{\\beta}} \\ L \\left( \\mathbf{\\beta} \\right)$.\n",
    "\n",
    "\"\"\" END OF THIS PART \"\"\""
   ]
  },
  {
   "cell_type": "markdown",
   "id": "a5eb5148-fec5-4a56-bfcf-be9268ebb598",
   "metadata": {},
   "source": [
    "## Part 16 (5 points, coding task)\n",
    "\n",
    "**Define a function called `my_signoid`:**\n",
    "\n",
    "- Input: A numpy array with any shape.\n",
    "- Output: Elementwise sigmoid functional values.\n",
    "- No loop in the body of your function."
   ]
  },
  {
   "cell_type": "markdown",
   "id": "4ca27d87-899b-43e5-85d6-3dc5b1ca0378",
   "metadata": {},
   "source": [
    "\\#\\#\\# WRITE YOUR SOLUTION HERE ###"
   ]
  },
  {
   "cell_type": "code",
   "execution_count": 38,
   "id": "488025e0-6a62-4393-9587-021bcf74c64d",
   "metadata": {},
   "outputs": [],
   "source": [
    "def my_sigmoid(arr):\n",
    "    return 1 / (1 + np.exp(-arr))"
   ]
  },
  {
   "cell_type": "markdown",
   "id": "0dcbd755-13e2-4f89-94b5-2c2090b39eb6",
   "metadata": {},
   "source": [
    "\"\"\" END OF THIS PART \"\"\""
   ]
  },
  {
   "cell_type": "markdown",
   "id": "68eb8965-e6ce-457a-ad4f-b3f59ffd8bfa",
   "metadata": {},
   "source": [
    "## Part 17 (15 points, coding task)\n",
    "\n",
    "**Construct a class called `My_Log_Reg` whose objects are logistic regression models.**\n",
    "\n",
    "- Method `__init__`\n",
    "    - Inputs\n",
    "        - `solver`: The value must be `GD` or `Newton`. Otherwise, it raises an error message `Invalid solver`.\n",
    "        - `lr`: The learning rate.\n",
    "        - `num_iter`: The total number of iterations.\n",
    "    - Attributes\n",
    "        - `solver`\n",
    "        - `lr`\n",
    "        - `num_iter`\n",
    "        - `coef_`: $\\beta$ in our theoretical model. It shall be a 1-dim numpy array with shape `(d,)`.\n",
    "- Method `fit`\n",
    "    - Inputs\n",
    "        - `X`: Features in a training dataset. The shape is `(N_train,d)`.\n",
    "        - `y`: Ground-truth labels in a training dataset. The shape is `(N_train,)`.\n",
    "    - In the body of this method\n",
    "        - Use the configured solver to compute `coef_`.\n",
    "        - Do whole-batch iteration.\n",
    "        - After finishing training `coef_`, generate a plot about the loss function vs iteration.\n",
    "            - The x-label is `iter`.\n",
    "            - The y-label is `loss`.\n",
    "            - The title is the optimization method: either `GD` or `Newton`.\n",
    "        - **The only loop that you can use is the whole-batch iteration. Within each iteration, when you update `coef_` by applying either `GD` or `Newton`, you are not allowed to use any loop.**\n",
    "    - Output\n",
    "        - None\n",
    "- Method `predict`\n",
    "    - Input\n",
    "        - `X`: Features in a test dataset. The shape is `(N_test,d)`.\n",
    "    - Output\n",
    "        - `y_pred`: Predicted labels in the test dataset. The shape is `(N_test,)`.\n",
    "- Method `score`\n",
    "    - Input\n",
    "        - `X`: Features in a test dataset. The shape is `(N_test,d)`.\n",
    "        - `y`: Ground-truth labels in the test dataset. The shape is `(N_test,)`.\n",
    "    - Output\n",
    "        - `accuracy_score`: The accuracy score of the prediction of `y`."
   ]
  },
  {
   "cell_type": "markdown",
   "id": "7f4961ef-a4dd-40ff-a791-6010e58d9f37",
   "metadata": {},
   "source": [
    "\\#\\#\\# WRITE YOUR SOLUTION HERE ###"
   ]
  },
  {
   "cell_type": "code",
   "execution_count": 39,
   "id": "53c4e860-cbdc-4534-868e-0ac942a093a2",
   "metadata": {},
   "outputs": [],
   "source": [
    "class My_Log_Reg:\n",
    "    def __init__(self, solver, lr, num_iter):\n",
    "        if solver not in (\"GD\", \"Newton\"):\n",
    "            raise ValueError(\"Invalid solver\")\n",
    "            \n",
    "        self.solver = solver\n",
    "        self.lr = lr\n",
    "        self.num_iter = num_iter\n",
    "        self.coef_ = None\n",
    "\n",
    "    def fit(self, X, y):\n",
    "        self.coef_ = np.zeros(X.shape[1])\n",
    "        loss_history = []\n",
    "\n",
    "        for epoch in range(1, self.num_iter + 1):\n",
    "            z = my_sigmoid(X @ self.coef_)  # predicted probas\n",
    "\n",
    "            loss = np.sum(-y * np.log(z) - (1 - y) * np.log(1 - z))\n",
    "            loss_history.append(loss)\n",
    "            \n",
    "            if self.solver == \"GD\":\n",
    "                self.coef_ -= self.lr * (X.T @ (z - y))\n",
    "            else:  # assume solver is valid\n",
    "                Z = np.diag(z)\n",
    "                I = np.identity(Z.shape[0])\n",
    "                self.coef_ -= self.lr * (np.linalg.inv(X.T @ (Z @ (I - Z)) @ X) @ (X.T @ (z - y)))\n",
    "\n",
    "        plt.plot(range(self.num_iter), loss_history)\n",
    "        plt.xlabel(\"iter\")\n",
    "        plt.ylabel(\"loss\")\n",
    "        plt.title(self.solver)\n",
    "        plt.show()\n",
    "\n",
    "    def predict(self, X):\n",
    "        z = my_sigmoid(X @ self.coef_)\n",
    "        return np.where(z >= 0.5, 1, 0)\n",
    "\n",
    "    def score(self, X, y):\n",
    "        y_pred = self.predict(X)\n",
    "        return np.sum(y_pred == y).item() / len(y)"
   ]
  },
  {
   "cell_type": "markdown",
   "id": "36ab82d3-fb1a-4aec-9d06-1ee9e6b62cce",
   "metadata": {},
   "source": [
    "\"\"\" END OF THIS PART \"\"\""
   ]
  },
  {
   "cell_type": "markdown",
   "id": "d7e6fab8-9d01-4f94-a603-a44398e6e426",
   "metadata": {},
   "source": [
    "## Part 18 (5 points, coding task)\n",
    "\n",
    "**Do the following tasks in this problem.**\n",
    "\n",
    "1. Define two models:\n",
    "    - `model_GD = My_Log_Reg(solver='GD', lr=.01, num_iter=200)`\n",
    "    - `model_Newton = My_Log_Reg(solver='Newton', lr=.1, num_iter=200)`\n",
    "2. For each model,\n",
    "    - Use the training dataset to train it.\n",
    "    - Print the trained coefficients `coef_`.\n",
    "    - Use the test dataset to compute the accuracy score. Print it."
   ]
  },
  {
   "cell_type": "markdown",
   "id": "1d1f5cdb-a8c4-472e-a4df-e240c7423ca8",
   "metadata": {},
   "source": [
    "\\#\\#\\# WRITE YOUR SOLUTION HERE ###"
   ]
  },
  {
   "cell_type": "code",
   "execution_count": 40,
   "id": "0928436b-7cb4-4944-9924-72f26999dffa",
   "metadata": {},
   "outputs": [
    {
     "data": {
      "image/png": "[encoded data removed]",
      "text/plain": [
       "<Figure size 640x480 with 1 Axes>"
      ]
     },
     "metadata": {},
     "output_type": "display_data"
    },
    {
     "name": "stdout",
     "output_type": "stream",
     "text": [
      "[-0.37439029  0.63961238 -0.39521535 -1.33664509 -0.27566203 -0.292378\n",
      " -0.30811181]\n",
      "0.7323943661971831\n"
     ]
    }
   ],
   "source": [
    "model_GD = My_Log_Reg(solver=\"GD\", lr=.001, num_iter=200)\n",
    "model_GD.fit(X_train_scaled, y_train)\n",
    "print(model_GD.coef_)\n",
    "print(model_GD.score(X_test_scaled, y_test))"
   ]
  },
  {
   "cell_type": "code",
   "execution_count": 41,
   "id": "0ec5b959-7d96-4186-8107-b9967ac56e61",
   "metadata": {},
   "outputs": [
    {
     "data": {
      "image/png": "[encoded data removed]",
      "text/plain": [
       "<Figure size 640x480 with 1 Axes>"
      ]
     },
     "metadata": {},
     "output_type": "display_data"
    },
    {
     "name": "stdout",
     "output_type": "stream",
     "text": [
      "[-0.37483608  0.64159839 -0.39596848 -1.33678369 -0.27536464 -0.29191601\n",
      " -0.30781641]\n",
      "0.7323943661971831\n"
     ]
    }
   ],
   "source": [
    "model_Newton = My_Log_Reg(solver=\"Newton\", lr=.1, num_iter=200)\n",
    "model_Newton.fit(X_train_scaled, y_train)\n",
    "print(model_Newton.coef_)\n",
    "print(model_Newton.score(X_test_scaled, y_test))"
   ]
  },
  {
   "cell_type": "markdown",
   "id": "fc5eb77a-a36c-48fd-8b7d-4f3a774b5f5a",
   "metadata": {},
   "source": [
    "\"\"\" END OF THIS PART \"\"\""
   ]
  }
 ],
 "metadata": {
  "kernelspec": {
   "display_name": "Python 3 (ipykernel)",
   "language": "python",
   "name": "python3"
  },
  "language_info": {
   "codemirror_mode": {
    "name": "ipython",
    "version": 3
   },
   "file_extension": ".py",
   "mimetype": "text/x-python",
   "name": "python",
   "nbconvert_exporter": "python",
   "pygments_lexer": "ipython3",
   "version": "3.12.6"
  }
 },
 "nbformat": 4,
 "nbformat_minor": 5
}
