{
 "cells": [
  {
   "cell_type": "markdown",
   "id": "81d348e9-a5ec-4f4f-843c-97bf28d22c86",
   "metadata": {},
   "source": [
    "# Dieting Network"
   ]
  },
  {
   "cell_type": "markdown",
   "id": "8f42c73d-a891-4f9b-b724-617f2e2d4937",
   "metadata": {},
   "source": [
    "## Problem statement"
   ]
  },
  {
   "cell_type": "markdown",
   "id": "aa543c18-878c-4505-8dc1-3dcc15b21a8a",
   "metadata": {},
   "source": [
    "This neural network below wants to lose weight and go on a diet.\n",
    "\n",
    "```\n",
    "NN: I want to slim down\n",
    "You: ... what?\n",
    "NN: I want to have less weight! I think the less numbers I store the better.\n",
    "You: (trying to think)\n",
    "You: I suppose you can try sparsity? The more weights you have that are zero, then the less numbers you have to save to disk. But you must save your weights as a sparse tensor though. By default, network weights are saved as dense tensors so even if you have zero as a number, it will still take up space\n",
    "NN: (scrolling on phone)\n",
    "NN: I'm reading this tiktok that says Python stores integers as as objects, and so when I have one million copies of the same integer, I'm actually only using one number.\n",
    "You: (thinking)\n",
    "You: Uhhh\n",
    "You: I feel like there are many other things that need to be done properly for your statement to stand! But most importantly though\n",
    "You: How are you going to function if you practically have no weights?\n",
    "NN: Well, here's where you come in to help me out!\n",
    "You: Hm, but I don't know how!\n",
    "NN: Hahaha\n",
    "NN: You don't know how **yet!**\n",
    "You: ...\n",
    "You: This is so strange.\n",
    "Narrator: _This is not even the strangest problem in Selection 2_\n",
    "```\n",
    "\n",
    "Do what you can to make the network below perform well when all of its weights are frozen to unity with no biases (i.e. all weights = 1 and all biases = 0). You may only adjust the activation functions. Implement whatever activation function you want!\n",
    "\n",
    "You are given:\n",
    "- a baseline network below where you are to modify `self.act1`, `self.act2` and `self.act3`\n",
    "- tensors `X_train`, `y_train`, `X_val`, `y_val`, `X_test` to act as your training data, validation data and test data\n",
    "- helper code to submit your predictions on `X_test` for scoring!\n",
    "\n",
    "The following restrictions apply:\n",
    "\n",
    "- Each activation function may contain a small amount of parameters, but have to be less than or equal to 5\n",
    "- Each activation function shall be stateless during inferencing, i.e. the activation function should return the exact same answer when provided the exact same input. Inputs from a previous iteration should not affect outputs of the current iteration.\n",
    "\n",
    "Scores shall be awarded as follows:\n",
    "- 1 pt for explaining the reasoning of your approach in this notebook\n",
    "- 1 pt for scoring R2 >= 0.25 while using activations that fulfill the restrictions above.\n",
    "    - Submit your predictions on `X_test` via API submission. You will be scored by `sklearn.metrics.r2_score`. See example below.\n",
    "    - Your score column for this problem is NOT your aggregate score, but just your R2 score on the test set!\n",
    "- Additional 0 - 3 pts to be assigned based on this formula: `(Your R2 score - baseline score) / (Benchmark score - baseline score) x 3 pts`, where:\n",
    "    - Benchmark score is the highest scoring R2 achieved by all participants in this problem\n",
    "    - Baseline score is 0.25 R2, by default. If the lowest scoring R2 by all participants exceeds 0.25 R2, the baseline score will be set as that instead\n",
    "    - e.g. max R2 score achieved is 0.5, while min R2 score achieved is 0.3. If your score is 0.4, you get (0.4 - 0.3)/(0.5 - 0.3) x 3 = 1.5 pts"
   ]
  },
  {
   "cell_type": "markdown",
   "id": "76dda486-d604-4d7c-966a-029a3148a1d4",
   "metadata": {},
   "source": [
    "## Setup"
   ]
  },
  {
   "cell_type": "code",
   "execution_count": 1,
   "id": "c04569a9-54cb-4056-8b3e-a035e77d41a7",
   "metadata": {},
   "outputs": [],
   "source": [
    "# YOUR EDIT HERE #\n",
    "# Remember, keep your auth token to yourself!\n",
    "# If you want to store this notebook in github, remember to remove your token first!\n",
    "auth_token = \"***REMOVED***\""
   ]
  },
  {
   "cell_type": "code",
   "execution_count": 2,
   "id": "c2aec21b-9616-4542-bc7b-67399168b8d5",
   "metadata": {},
   "outputs": [],
   "source": [
    "def make_payload(x):\n",
    "    # This will convert your torch tensor / numpy array\n",
    "    # into a list of floats\n",
    "    return {\"solution\": x.flatten().tolist()}"
   ]
  },
  {
   "cell_type": "code",
   "execution_count": 3,
   "id": "c36257e4-7ba5-438e-86c0-9565f8c11ab3",
   "metadata": {},
   "outputs": [],
   "source": [
    "import requests\n",
    "\n",
    "url = \"https://competitions.aiolympiad.my/api/selection2_2025_day2/selection2_2025_dieting_network\"\n",
    "\n",
    "def post_answer(data: dict):\n",
    "    response = requests.post(url=url, json=data, headers={\"X-API-Key\": auth_token})\n",
    "    if response.status_code == 200:\n",
    "        return response.json()\n",
    "    else:\n",
    "        return f\"Failed to submit, status code is {response.status_code}\\n{response.text}\""
   ]
  },
  {
   "cell_type": "markdown",
   "id": "97ceab67-0766-47cb-9477-73fcce3438ad",
   "metadata": {},
   "source": [
    "## Datasets"
   ]
  },
  {
   "cell_type": "code",
   "execution_count": 4,
   "id": "d11fe904-3dda-43d2-8447-6eb8563167c0",
   "metadata": {},
   "outputs": [
    {
     "name": "stderr",
     "output_type": "stream",
     "text": [
      "  % Total    % Received % Xferd  Average Speed   Time    Time     Time  Current\n",
      "                                 Dload  Upload   Total   Spent    Left  Speed\n",
      "\n",
      "  0     0    0     0    0     0      0      0 --:--:-- --:--:-- --:--:--     0\n",
      "  0     0    0     0    0     0      0      0 --:--:-- --:--:-- --:--:--     0\n",
      "100 65180  100 65180    0     0   193k      0 --:--:-- --:--:-- --:--:--  194k\n",
      "  % Total    % Received % Xferd  Average Speed   Time    Time     Time  Current\n",
      "                                 Dload  Upload   Total   Spent    Left  Speed\n",
      "\n",
      "  0     0    0     0    0     0      0      0 --:--:-- --:--:-- --:--:--     0\n",
      "100 65180  100 65180    0     0   288k      0 --:--:-- --:--:-- --:--:--  300k\n",
      "  % Total    % Received % Xferd  Average Speed   Time    Time     Time  Current\n",
      "                                 Dload  Upload   Total   Spent    Left  Speed\n",
      "\n",
      "  0     0    0     0    0     0      0      0 --:--:-- --:--:-- --:--:--     0\n",
      "100 65180  100 65180    0     0   338k      0 --:--:-- --:--:-- --:--:--  345k\n",
      "  % Total    % Received % Xferd  Average Speed   Time    Time     Time  Current\n",
      "                                 Dload  Upload   Total   Spent    Left  Speed\n",
      "\n",
      "  0     0    0     0    0     0      0      0 --:--:-- --:--:-- --:--:--     0\n",
      "100  9180  100  9180    0     0  62894      0 --:--:-- --:--:-- --:--:-- 64195\n",
      "100  9180  100  9180    0     0  62763      0 --:--:-- --:--:-- --:--:-- 64195\n",
      "  % Total    % Received % Xferd  Average Speed   Time    Time     Time  Current\n",
      "                                 Dload  Upload   Total   Spent    Left  Speed\n",
      "\n",
      "  0     0    0     0    0     0      0      0 --:--:-- --:--:-- --:--:--     0\n",
      "100  9180  100  9180    0     0  58564      0 --:--:-- --:--:-- --:--:-- 59225\n"
     ]
    }
   ],
   "source": [
    "!curl https://storage.googleapis.com/aiolympiadmy/ioai-2025-tsp/ioai2025_tsp_selection2/dieting_network/X_train.pt -o X_train.pt\n",
    "!curl https://storage.googleapis.com/aiolympiadmy/ioai-2025-tsp/ioai2025_tsp_selection2/dieting_network/X_val.pt -o X_val.pt\n",
    "!curl https://storage.googleapis.com/aiolympiadmy/ioai-2025-tsp/ioai2025_tsp_selection2/dieting_network/X_test.pt -o X_test.pt\n",
    "!curl https://storage.googleapis.com/aiolympiadmy/ioai-2025-tsp/ioai2025_tsp_selection2/dieting_network/y_train.pt -o y_train.pt\n",
    "!curl https://storage.googleapis.com/aiolympiadmy/ioai-2025-tsp/ioai2025_tsp_selection2/dieting_network/y_val.pt -o y_val.pt"
   ]
  },
  {
   "cell_type": "code",
   "execution_count": 5,
   "id": "fa7c07fc-5c4b-4a15-b49b-e6da09d0ac54",
   "metadata": {},
   "outputs": [],
   "source": [
    "import torch\n",
    "import torch.nn as nn\n",
    "from sklearn.metrics import r2_score"
   ]
  },
  {
   "cell_type": "code",
   "execution_count": 6,
   "id": "fc4e7551-2572-4df4-9d1c-71ceba875fd5",
   "metadata": {},
   "outputs": [],
   "source": [
    "with open(\"X_train.pt\", \"rb\") as f:\n",
    "    X_train = torch.load(f)\n",
    "\n",
    "with open(\"X_val.pt\", \"rb\") as f:\n",
    "    X_val = torch.load(f)\n",
    "\n",
    "with open(\"X_test.pt\", \"rb\") as f:\n",
    "    X_test = torch.load(f)"
   ]
  },
  {
   "cell_type": "code",
   "execution_count": 7,
   "id": "f7f45a38-85fc-4033-b610-59116784b629",
   "metadata": {},
   "outputs": [],
   "source": [
    "with open(\"y_train.pt\", \"rb\") as f:\n",
    "    y_train = torch.load(f)\n",
    "\n",
    "with open(\"y_val.pt\", \"rb\") as f:\n",
    "    y_val = torch.load(f)"
   ]
  },
  {
   "cell_type": "markdown",
   "id": "195aa53f-89f1-4da0-8a02-76143d3887e6",
   "metadata": {},
   "source": [
    "## Baseline network"
   ]
  },
  {
   "cell_type": "code",
   "execution_count": 8,
   "id": "e8e29255-93ce-4171-b037-c226ffe81004",
   "metadata": {},
   "outputs": [],
   "source": [
    "class FixedLinear(nn.Module):\n",
    "    \"\"\"\n",
    "    Similar to a nn.Linear layer, just not trainable\n",
    "    \"\"\"\n",
    "\n",
    "    def __init__(self, in_features, out_features):\n",
    "        super().__init__()\n",
    "        self.weight = torch.ones(out_features, in_features)\n",
    "\n",
    "    def forward(self, x):\n",
    "        return torch.mm(x, self.weight.t())"
   ]
  },
  {
   "cell_type": "code",
   "execution_count": 9,
   "id": "db538202-5f53-4f2e-89e1-25bb55049102",
   "metadata": {},
   "outputs": [],
   "source": [
    "class DietNetwork(nn.Module):\n",
    "    def __init__(self):\n",
    "        super().__init__()\n",
    "        self.layer1 = FixedLinear(8, 5)\n",
    "        self.act1 = nn.Identity()  # <- Replace me!\n",
    "        self.layer2 = FixedLinear(5, 5)\n",
    "        self.act2 = nn.Identity()  # <- Replace me!\n",
    "        self.layer3 = FixedLinear(5, 5)\n",
    "        self.act3 = nn.Identity()  # <- Replace me!\n",
    "        self.layer4 = FixedLinear(5, 1)\n",
    "\n",
    "    def forward(self, x):\n",
    "        x = self.layer1(x)\n",
    "        x = self.act1(x)\n",
    "        x = self.layer2(x)\n",
    "        x = self.act2(x)\n",
    "        x = self.layer3(x)\n",
    "        x = self.act3(x)\n",
    "        x = self.layer4(x)\n",
    "        return x"
   ]
  },
  {
   "cell_type": "code",
   "execution_count": 10,
   "id": "0a5ca2f1-26d9-4132-a657-143e3798333c",
   "metadata": {},
   "outputs": [],
   "source": [
    "model = DietNetwork()\n",
    "model.eval();"
   ]
  },
  {
   "cell_type": "code",
   "execution_count": 11,
   "id": "b10b88f2-82e5-4bd8-9fc7-8dff8923ebb5",
   "metadata": {},
   "outputs": [],
   "source": [
    "criterion = nn.MSELoss()"
   ]
  },
  {
   "cell_type": "code",
   "execution_count": 12,
   "id": "ebfa8cca-9bff-45d1-bcba-bde5357baf7d",
   "metadata": {},
   "outputs": [
    {
     "name": "stdout",
     "output_type": "stream",
     "text": [
      "train / val R2: -116767.6885 / -113389.9030\n"
     ]
    }
   ],
   "source": [
    "with torch.no_grad():\n",
    "    y_train_pred = model(X_train)\n",
    "    y_val_pred = model(X_val)\n",
    "\n",
    "    train_r2 = r2_score(y_train, y_train_pred)\n",
    "    val_r2 = r2_score(y_val, y_val_pred)\n",
    "\n",
    "    print(\n",
    "        f\"train / val R2: {train_r2:.4f} / {val_r2:.4f}\"\n",
    "    )"
   ]
  },
  {
   "cell_type": "code",
   "execution_count": 13,
   "id": "bddb8c80-d55b-46e5-a17c-b78b3f949ff9",
   "metadata": {},
   "outputs": [],
   "source": [
    "with torch.no_grad():\n",
    "    y_test_pred = model(X_test)"
   ]
  },
  {
   "cell_type": "code",
   "execution_count": 14,
   "id": "a68aa594-2214-4751-b054-36f3b6a191b4",
   "metadata": {},
   "outputs": [
    {
     "data": {
      "text/plain": [
       "torch.Size([400, 1])"
      ]
     },
     "execution_count": 14,
     "metadata": {},
     "output_type": "execute_result"
    }
   ],
   "source": [
    "# Should be (400, 1)\n",
    "y_test_pred.shape"
   ]
  },
  {
   "cell_type": "code",
   "execution_count": 15,
   "id": "e9ffa4c1-79a9-4f6a-b243-382a61793a95",
   "metadata": {},
   "outputs": [
    {
     "data": {
      "text/plain": [
       "{'status': 'SUCCESS',\n",
       " 'message': 'Answer for challenge selection2_2025_dieting_network submitted successfully on 2025-06-14 06:22:04.144426+00:00. Total submissions is 7 / 100.'}"
      ]
     },
     "execution_count": 15,
     "metadata": {},
     "output_type": "execute_result"
    }
   ],
   "source": [
    "# As long as your y_test_pred follows the format of this baseline output,\n",
    "# your API submission will work!\n",
    "post_answer(make_payload(y_test_pred))"
   ]
  },
  {
   "cell_type": "markdown",
   "id": "a3ccf087-a10b-49d3-83bd-531ef757d8c8",
   "metadata": {},
   "source": [
    "Given code scores -0.005285602636478481."
   ]
  },
  {
   "cell_type": "markdown",
   "id": "16fa2f47-d7c9-484a-b280-63268c760318",
   "metadata": {},
   "source": [
    "## Your work below"
   ]
  },
  {
   "cell_type": "code",
   "execution_count": 16,
   "id": "034bea84-53bd-4509-843f-68953923e1e9",
   "metadata": {},
   "outputs": [],
   "source": [
    "# Read everything clearly before you start!\n",
    "import matplotlib.pyplot as plt\n",
    "from sklearn.linear_model import LinearRegression\n",
    "from sklearn.metrics import r2_score"
   ]
  },
  {
   "cell_type": "code",
   "execution_count": 17,
   "id": "0a699101-cbec-4100-93be-6a8a9abbf3ee",
   "metadata": {},
   "outputs": [
    {
     "data": {
      "text/plain": [
       "(torch.Size([1280, 8]),\n",
       " torch.Size([1280, 1]),\n",
       " torch.Size([320, 8]),\n",
       " torch.Size([320, 1]),\n",
       " torch.Size([400, 8]))"
      ]
     },
     "execution_count": 17,
     "metadata": {},
     "output_type": "execute_result"
    }
   ],
   "source": [
    "X_train.shape, y_train.shape, X_val.shape, y_val.shape, X_test.shape"
   ]
  },
  {
   "cell_type": "code",
   "execution_count": 18,
   "id": "c397a4a2-2ece-450f-b63e-0afb9dbd1df8",
   "metadata": {},
   "outputs": [],
   "source": [
    "X_train_processed = X_train.sum(axis=1, keepdim=True)\n",
    "X_val_processed = X_val.sum(axis=1, keepdim=True)"
   ]
  },
  {
   "cell_type": "code",
   "execution_count": 19,
   "id": "24b83d8c-5b85-41b9-99e8-418b4f0f89c5",
   "metadata": {},
   "outputs": [
    {
     "data": {
      "text/plain": [
       "True"
      ]
     },
     "execution_count": 19,
     "metadata": {},
     "output_type": "execute_result"
    }
   ],
   "source": [
    "torch.allclose(X_train_processed * 5 ** 3, model(X_train))"
   ]
  },
  {
   "cell_type": "code",
   "execution_count": 20,
   "id": "60233a43-e31f-4733-a2a5-902734ea97ae",
   "metadata": {},
   "outputs": [
    {
     "data": {
      "image/png": "[encoded data removed]",
      "text/plain": [
       "<Figure size 640x480 with 1 Axes>"
      ]
     },
     "metadata": {},
     "output_type": "display_data"
    }
   ],
   "source": [
    "plt.scatter(X_train_processed, y_train);"
   ]
  },
  {
   "cell_type": "markdown",
   "id": "0d7987bf-26f2-4043-a824-ad0f4e84209f",
   "metadata": {},
   "source": [
    "### Explanation"
   ]
  },
  {
   "cell_type": "markdown",
   "id": "a04361f4-8bbe-448c-9e64-b193a41749cd",
   "metadata": {},
   "source": [
    "The given neural network can be simplified as such:\n",
    "\n",
    "> For each sample, the 8 features are summed and passed through a custom function (i.e., `act1`). The result is then multiplied by $5^3$ to obtain the final prediction.\n",
    "\n",
    "I believe `act2` and `act3` play no role here other than scaling the value back. The key lies in how good we are at predicting given the sum of the 8 features. We will try linear regression, given that there is a strong linear relationship between the sum of features and the targets."
   ]
  },
  {
   "cell_type": "markdown",
   "id": "f30bab17-b5fa-405f-b685-a86196b3c910",
   "metadata": {},
   "source": [
    "### Magic begins"
   ]
  },
  {
   "cell_type": "code",
   "execution_count": 21,
   "id": "00830af3-f44b-432b-9fc6-dec632ef2891",
   "metadata": {},
   "outputs": [
    {
     "data": {
      "text/plain": [
       "0.668481171131134"
      ]
     },
     "execution_count": 21,
     "metadata": {},
     "output_type": "execute_result"
    }
   ],
   "source": [
    "lr = LinearRegression()\n",
    "lr.fit(X_train_processed, y_train)\n",
    "\n",
    "y_val_pred = lr.predict(X_val_processed)\n",
    "r2_score(y_val_pred, y_val)"
   ]
  },
  {
   "cell_type": "markdown",
   "id": "eb83b025-bd7b-4457-b9da-b3b4f802257f",
   "metadata": {},
   "source": [
    "Include `X_val_processed` and refit the model:"
   ]
  },
  {
   "cell_type": "code",
   "execution_count": 22,
   "id": "0d7baa05-a7da-4889-80c7-e0580d406008",
   "metadata": {},
   "outputs": [
    {
     "data": {
      "text/plain": [
       "(torch.Size([1600, 1]), torch.Size([1600, 1]))"
      ]
     },
     "execution_count": 22,
     "metadata": {},
     "output_type": "execute_result"
    }
   ],
   "source": [
    "X_all = torch.concat([X_train_processed, X_val_processed], dim=0)\n",
    "y_all = torch.concat([y_train, y_val], dim=0)\n",
    "\n",
    "X_all.shape, y_all.shape"
   ]
  },
  {
   "cell_type": "code",
   "execution_count": 23,
   "id": "63de0bf9-1be6-43fd-be7d-654423878c6e",
   "metadata": {},
   "outputs": [
    {
     "data": {
      "text/plain": [
       "(array([[0.3155273]], dtype=float32), array([-0.00357998], dtype=float32))"
      ]
     },
     "execution_count": 23,
     "metadata": {},
     "output_type": "execute_result"
    }
   ],
   "source": [
    "lr.fit(X_all, y_all)\n",
    "lr.coef_, lr.intercept_"
   ]
  },
  {
   "cell_type": "code",
   "execution_count": 24,
   "id": "4abee78e-7b09-45e1-b158-62976c432a60",
   "metadata": {},
   "outputs": [],
   "source": [
    "class MyActivation(nn.Module):\n",
    "    def __init__(self, weight=1, intercept=0):\n",
    "        super().__init__()\n",
    "        self.weight = weight\n",
    "        self.intercept = intercept\n",
    "\n",
    "    def forward(self, x):\n",
    "        return self.weight * x + self.intercept"
   ]
  },
  {
   "cell_type": "code",
   "execution_count": 25,
   "id": "e9b8dd06-e4f1-4c31-b642-bc9bfee0664f",
   "metadata": {},
   "outputs": [],
   "source": [
    "model.act1 = MyActivation(lr.coef_.item(), lr.intercept_.item())\n",
    "model.act3 = MyActivation(1 / 5 ** 3)"
   ]
  },
  {
   "cell_type": "markdown",
   "id": "668b1efb-5175-48ad-8342-7bd73b27d897",
   "metadata": {},
   "source": [
    "### Make predictions"
   ]
  },
  {
   "cell_type": "code",
   "execution_count": 26,
   "id": "a0506a63-3115-4ccd-9b32-0a16e4efa63f",
   "metadata": {},
   "outputs": [],
   "source": [
    "with torch.no_grad():\n",
    "    y_test_pred1 = model(X_test)"
   ]
  },
  {
   "cell_type": "code",
   "execution_count": 27,
   "id": "adf9bd1f-4e3c-4589-9e66-6c63f3f6b52f",
   "metadata": {},
   "outputs": [
    {
     "data": {
      "text/plain": [
       "{'status': 'SUCCESS',\n",
       " 'message': 'Answer for challenge selection2_2025_dieting_network submitted successfully on 2025-06-14 06:22:06.292757+00:00. Total submissions is 8 / 100.'}"
      ]
     },
     "execution_count": 27,
     "metadata": {},
     "output_type": "execute_result"
    }
   ],
   "source": [
    "post_answer(make_payload(y_test_pred1))"
   ]
  },
  {
   "cell_type": "markdown",
   "id": "d06d8b49-3bca-44f2-a7d6-27c80cbdd136",
   "metadata": {},
   "source": [
    "This gives 0.5852730669337809."
   ]
  },
  {
   "cell_type": "markdown",
   "id": "7ddec174-c402-44bc-8935-00341c36bd36",
   "metadata": {},
   "source": [
    "### Strive for the better"
   ]
  },
  {
   "cell_type": "code",
   "execution_count": 28,
   "id": "afae7dce-8576-4753-be3e-777f9cdeb7ec",
   "metadata": {},
   "outputs": [],
   "source": [
    "from sklearn.preprocessing import PolynomialFeatures"
   ]
  },
  {
   "cell_type": "code",
   "execution_count": 29,
   "id": "223e2fe8-641c-42fa-8f5c-5ceea1c3aeff",
   "metadata": {},
   "outputs": [],
   "source": [
    "POLY_DEG = 3\n",
    "polyer = PolynomialFeatures(POLY_DEG, include_bias=False)\n",
    "\n",
    "X_train_poly = torch.tensor(polyer.fit_transform(X_train_processed))\n",
    "X_val_poly = torch.tensor(polyer.fit_transform(X_val_processed))"
   ]
  },
  {
   "cell_type": "code",
   "execution_count": 30,
   "id": "b4b758a8-b5cb-4ff1-932c-05c6022d7f97",
   "metadata": {},
   "outputs": [
    {
     "data": {
      "text/plain": [
       "0.668481171131134"
      ]
     },
     "execution_count": 30,
     "metadata": {},
     "output_type": "execute_result"
    }
   ],
   "source": [
    "lr1 = LinearRegression()\n",
    "lr1.fit(X_train_poly, y_train)\n",
    "\n",
    "y_val_pred1 = lr1.predict(X_val_poly)\n",
    "r2_score(y_val_pred, y_val)"
   ]
  },
  {
   "cell_type": "code",
   "execution_count": 31,
   "id": "dd7fb0e0-21e1-477b-a948-c3be9306e656",
   "metadata": {},
   "outputs": [
    {
     "data": {
      "text/plain": [
       "(torch.Size([1600, 1]), torch.Size([1600, 1]))"
      ]
     },
     "execution_count": 31,
     "metadata": {},
     "output_type": "execute_result"
    }
   ],
   "source": [
    "X_all_poly = torch.concat([X_train_poly, X_val_poly], dim=0)\n",
    "\n",
    "X_all.shape, y_all.shape"
   ]
  },
  {
   "cell_type": "code",
   "execution_count": 32,
   "id": "4fdc19fd-798f-4cde-8c60-f68a36521885",
   "metadata": {},
   "outputs": [
    {
     "data": {
      "text/plain": [
       "(array([[ 3.17426578e-01,  2.13061958e-03, -1.01487784e-04]]),\n",
       " array([-0.01927126]))"
      ]
     },
     "execution_count": 32,
     "metadata": {},
     "output_type": "execute_result"
    }
   ],
   "source": [
    "lr1.fit(X_all_poly, y_all)\n",
    "lr1.coef_, lr1.intercept_"
   ]
  },
  {
   "cell_type": "code",
   "execution_count": 33,
   "id": "ffa4b497-7265-42de-87cc-147041d4639f",
   "metadata": {},
   "outputs": [],
   "source": [
    "class MyActivationPoly(nn.Module):\n",
    "    def __init__(self, weight=1, intercept=0, degree=1):\n",
    "        super().__init__()\n",
    "        self.degree = degree\n",
    "        self.weight = weight\n",
    "        self.intercept = intercept\n",
    "\n",
    "    def forward(self, x):\n",
    "        x_poly = torch.stack([x ** (i + 1) for i in range(self.degree)], dim=-1)\n",
    "\n",
    "        return (self.weight * x_poly).sum(dim=-1).to(torch.float32) + self.intercept"
   ]
  },
  {
   "cell_type": "code",
   "execution_count": 34,
   "id": "d5f7ecdf-a563-42d4-8bec-1cb3d35f7e02",
   "metadata": {},
   "outputs": [],
   "source": [
    "model.act1 = MyActivationPoly(torch.tensor(lr1.coef_), lr1.intercept_.item(), POLY_DEG)\n",
    "model.act3 = MyActivationPoly(1 / 5 ** 3)"
   ]
  },
  {
   "cell_type": "markdown",
   "id": "34ee8745-d0be-4fac-8fc4-3e3060eb037f",
   "metadata": {},
   "source": [
    "### Make predictions (again)"
   ]
  },
  {
   "cell_type": "code",
   "execution_count": 35,
   "id": "00b3e8d4-91f2-4c35-b2f4-9997a306eb99",
   "metadata": {},
   "outputs": [],
   "source": [
    "with torch.no_grad():\n",
    "    y_test_pred2 = model(X_test)"
   ]
  },
  {
   "cell_type": "code",
   "execution_count": 36,
   "id": "a1b041a2-95e0-4e92-acdd-05800d1a04a5",
   "metadata": {},
   "outputs": [
    {
     "data": {
      "text/plain": [
       "{'status': 'SUCCESS',\n",
       " 'message': 'Answer for challenge selection2_2025_dieting_network submitted successfully on 2025-06-14 06:22:07.702747+00:00. Total submissions is 9 / 100.'}"
      ]
     },
     "execution_count": 36,
     "metadata": {},
     "output_type": "execute_result"
    }
   ],
   "source": [
    "post_answer(make_payload(y_test_pred2))"
   ]
  },
  {
   "cell_type": "markdown",
   "id": "78c3a965-c3c6-4e0d-8be1-a59a0d298fa3",
   "metadata": {},
   "source": [
    "This gives 0.5891765021814752."
   ]
  }
 ],
 "metadata": {
  "kernelspec": {
   "display_name": "Python 3 (ipykernel)",
   "language": "python",
   "name": "python3"
  },
  "language_info": {
   "codemirror_mode": {
    "name": "ipython",
    "version": 3
   },
   "file_extension": ".py",
   "mimetype": "text/x-python",
   "name": "python",
   "nbconvert_exporter": "python",
   "pygments_lexer": "ipython3",
   "version": "3.12.6"
  },
  "widgets": {
   "application/vnd.jupyter.widget-state+json": {
    "state": {},
    "version_major": 2,
    "version_minor": 0
   }
  }
 },
 "nbformat": 4,
 "nbformat_minor": 5
}
