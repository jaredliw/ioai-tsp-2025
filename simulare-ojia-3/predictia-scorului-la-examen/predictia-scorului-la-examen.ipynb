{
 "cells": [
  {
   "cell_type": "markdown",
   "id": "fb874eb0-091f-4ede-81b3-83dc6ff032c6",
   "metadata": {},
   "source": [
    "# Predicția Scorului la Examen (Exam Score Prediction)"
   ]
  },
  {
   "cell_type": "code",
   "execution_count": 1,
   "id": "8957f376-6537-4615-af0f-a906441ecd2c",
   "metadata": {},
   "outputs": [],
   "source": [
    "import pandas as pd\n",
    "import numpy as np\n",
    "from sklearn.linear_model import LinearRegression\n",
    "from sklearn.preprocessing import StandardScaler, OneHotEncoder, PolynomialFeatures, OrdinalEncoder\n",
    "from sklearn.model_selection import cross_val_score\n",
    "from sklearn.compose import ColumnTransformer\n",
    "from sklearn.pipeline import Pipeline"
   ]
  },
  {
   "cell_type": "markdown",
   "id": "0cb60810-18a1-44fa-a134-2ffc53de969c",
   "metadata": {},
   "source": [
    "## Load Data"
   ]
  },
  {
   "cell_type": "code",
   "execution_count": 2,
   "id": "35e41574-8d5c-420c-b0bb-b4c4e3807c4d",
   "metadata": {},
   "outputs": [
    {
     "data": {
      "text/html": [
       "<div>\n",
       "<style scoped>\n",
       "    .dataframe tbody tr th:only-of-type {\n",
       "        vertical-align: middle;\n",
       "    }\n",
       "\n",
       "    .dataframe tbody tr th {\n",
       "        vertical-align: top;\n",
       "    }\n",
       "\n",
       "    .dataframe thead th {\n",
       "        text-align: right;\n",
       "    }\n",
       "</style>\n",
       "<table border=\"1\" class=\"dataframe\">\n",
       "  <thead>\n",
       "    <tr style=\"text-align: right;\">\n",
       "      <th></th>\n",
       "      <th>ID</th>\n",
       "      <th>Hours_Studied</th>\n",
       "      <th>Attendance</th>\n",
       "      <th>Parental_Involvement</th>\n",
       "      <th>Access_to_Resources</th>\n",
       "      <th>Extracurricular_Activities</th>\n",
       "      <th>Sleep_Hours</th>\n",
       "      <th>Previous_Scores</th>\n",
       "      <th>Motivation_Level</th>\n",
       "      <th>Internet_Access</th>\n",
       "      <th>...</th>\n",
       "      <th>Family_Income</th>\n",
       "      <th>Teacher_Quality</th>\n",
       "      <th>School_Type</th>\n",
       "      <th>Peer_Influence</th>\n",
       "      <th>Physical_Activity</th>\n",
       "      <th>Learning_Disabilities</th>\n",
       "      <th>Parental_Education_Level</th>\n",
       "      <th>Distance_from_Home</th>\n",
       "      <th>Gender</th>\n",
       "      <th>Exam_Score</th>\n",
       "    </tr>\n",
       "  </thead>\n",
       "  <tbody>\n",
       "    <tr>\n",
       "      <th>0</th>\n",
       "      <td>1</td>\n",
       "      <td>27</td>\n",
       "      <td>79</td>\n",
       "      <td>Low</td>\n",
       "      <td>High</td>\n",
       "      <td>Yes</td>\n",
       "      <td>8</td>\n",
       "      <td>63</td>\n",
       "      <td>High</td>\n",
       "      <td>Yes</td>\n",
       "      <td>...</td>\n",
       "      <td>Low</td>\n",
       "      <td>Medium</td>\n",
       "      <td>Public</td>\n",
       "      <td>Negative</td>\n",
       "      <td>5</td>\n",
       "      <td>No</td>\n",
       "      <td>College</td>\n",
       "      <td>Moderate</td>\n",
       "      <td>Female</td>\n",
       "      <td>69</td>\n",
       "    </tr>\n",
       "    <tr>\n",
       "      <th>1</th>\n",
       "      <td>2</td>\n",
       "      <td>16</td>\n",
       "      <td>86</td>\n",
       "      <td>High</td>\n",
       "      <td>Medium</td>\n",
       "      <td>Yes</td>\n",
       "      <td>7</td>\n",
       "      <td>94</td>\n",
       "      <td>Medium</td>\n",
       "      <td>Yes</td>\n",
       "      <td>...</td>\n",
       "      <td>Low</td>\n",
       "      <td>High</td>\n",
       "      <td>Public</td>\n",
       "      <td>Neutral</td>\n",
       "      <td>3</td>\n",
       "      <td>No</td>\n",
       "      <td>High School</td>\n",
       "      <td>Moderate</td>\n",
       "      <td>Female</td>\n",
       "      <td>69</td>\n",
       "    </tr>\n",
       "    <tr>\n",
       "      <th>2</th>\n",
       "      <td>3</td>\n",
       "      <td>22</td>\n",
       "      <td>87</td>\n",
       "      <td>Low</td>\n",
       "      <td>Medium</td>\n",
       "      <td>No</td>\n",
       "      <td>8</td>\n",
       "      <td>83</td>\n",
       "      <td>Low</td>\n",
       "      <td>Yes</td>\n",
       "      <td>...</td>\n",
       "      <td>Low</td>\n",
       "      <td>Medium</td>\n",
       "      <td>Public</td>\n",
       "      <td>Neutral</td>\n",
       "      <td>1</td>\n",
       "      <td>No</td>\n",
       "      <td>College</td>\n",
       "      <td>Far</td>\n",
       "      <td>Male</td>\n",
       "      <td>66</td>\n",
       "    </tr>\n",
       "    <tr>\n",
       "      <th>3</th>\n",
       "      <td>4</td>\n",
       "      <td>18</td>\n",
       "      <td>100</td>\n",
       "      <td>High</td>\n",
       "      <td>Medium</td>\n",
       "      <td>Yes</td>\n",
       "      <td>10</td>\n",
       "      <td>86</td>\n",
       "      <td>Medium</td>\n",
       "      <td>Yes</td>\n",
       "      <td>...</td>\n",
       "      <td>Medium</td>\n",
       "      <td>Medium</td>\n",
       "      <td>Public</td>\n",
       "      <td>Neutral</td>\n",
       "      <td>3</td>\n",
       "      <td>No</td>\n",
       "      <td>High School</td>\n",
       "      <td>Near</td>\n",
       "      <td>Male</td>\n",
       "      <td>72</td>\n",
       "    </tr>\n",
       "    <tr>\n",
       "      <th>4</th>\n",
       "      <td>5</td>\n",
       "      <td>35</td>\n",
       "      <td>78</td>\n",
       "      <td>High</td>\n",
       "      <td>Low</td>\n",
       "      <td>Yes</td>\n",
       "      <td>10</td>\n",
       "      <td>99</td>\n",
       "      <td>Medium</td>\n",
       "      <td>Yes</td>\n",
       "      <td>...</td>\n",
       "      <td>Low</td>\n",
       "      <td>Medium</td>\n",
       "      <td>Private</td>\n",
       "      <td>Positive</td>\n",
       "      <td>2</td>\n",
       "      <td>No</td>\n",
       "      <td>High School</td>\n",
       "      <td>Near</td>\n",
       "      <td>Male</td>\n",
       "      <td>72</td>\n",
       "    </tr>\n",
       "    <tr>\n",
       "      <th>...</th>\n",
       "      <td>...</td>\n",
       "      <td>...</td>\n",
       "      <td>...</td>\n",
       "      <td>...</td>\n",
       "      <td>...</td>\n",
       "      <td>...</td>\n",
       "      <td>...</td>\n",
       "      <td>...</td>\n",
       "      <td>...</td>\n",
       "      <td>...</td>\n",
       "      <td>...</td>\n",
       "      <td>...</td>\n",
       "      <td>...</td>\n",
       "      <td>...</td>\n",
       "      <td>...</td>\n",
       "      <td>...</td>\n",
       "      <td>...</td>\n",
       "      <td>...</td>\n",
       "      <td>...</td>\n",
       "      <td>...</td>\n",
       "      <td>...</td>\n",
       "    </tr>\n",
       "    <tr>\n",
       "      <th>5280</th>\n",
       "      <td>5281</td>\n",
       "      <td>15</td>\n",
       "      <td>82</td>\n",
       "      <td>Medium</td>\n",
       "      <td>Medium</td>\n",
       "      <td>Yes</td>\n",
       "      <td>7</td>\n",
       "      <td>93</td>\n",
       "      <td>Medium</td>\n",
       "      <td>Yes</td>\n",
       "      <td>...</td>\n",
       "      <td>Low</td>\n",
       "      <td>High</td>\n",
       "      <td>Public</td>\n",
       "      <td>Negative</td>\n",
       "      <td>2</td>\n",
       "      <td>No</td>\n",
       "      <td>High School</td>\n",
       "      <td>Moderate</td>\n",
       "      <td>Female</td>\n",
       "      <td>66</td>\n",
       "    </tr>\n",
       "    <tr>\n",
       "      <th>5281</th>\n",
       "      <td>5282</td>\n",
       "      <td>20</td>\n",
       "      <td>65</td>\n",
       "      <td>Medium</td>\n",
       "      <td>Medium</td>\n",
       "      <td>Yes</td>\n",
       "      <td>8</td>\n",
       "      <td>97</td>\n",
       "      <td>High</td>\n",
       "      <td>Yes</td>\n",
       "      <td>...</td>\n",
       "      <td>Low</td>\n",
       "      <td>Medium</td>\n",
       "      <td>Public</td>\n",
       "      <td>Negative</td>\n",
       "      <td>3</td>\n",
       "      <td>No</td>\n",
       "      <td>College</td>\n",
       "      <td>Near</td>\n",
       "      <td>Female</td>\n",
       "      <td>65</td>\n",
       "    </tr>\n",
       "    <tr>\n",
       "      <th>5282</th>\n",
       "      <td>5283</td>\n",
       "      <td>17</td>\n",
       "      <td>64</td>\n",
       "      <td>High</td>\n",
       "      <td>Low</td>\n",
       "      <td>Yes</td>\n",
       "      <td>10</td>\n",
       "      <td>63</td>\n",
       "      <td>Medium</td>\n",
       "      <td>Yes</td>\n",
       "      <td>...</td>\n",
       "      <td>High</td>\n",
       "      <td>Medium</td>\n",
       "      <td>Public</td>\n",
       "      <td>Positive</td>\n",
       "      <td>3</td>\n",
       "      <td>No</td>\n",
       "      <td>High School</td>\n",
       "      <td>Moderate</td>\n",
       "      <td>Female</td>\n",
       "      <td>62</td>\n",
       "    </tr>\n",
       "    <tr>\n",
       "      <th>5283</th>\n",
       "      <td>5284</td>\n",
       "      <td>16</td>\n",
       "      <td>100</td>\n",
       "      <td>High</td>\n",
       "      <td>High</td>\n",
       "      <td>Yes</td>\n",
       "      <td>7</td>\n",
       "      <td>82</td>\n",
       "      <td>Medium</td>\n",
       "      <td>Yes</td>\n",
       "      <td>...</td>\n",
       "      <td>High</td>\n",
       "      <td>Medium</td>\n",
       "      <td>Public</td>\n",
       "      <td>Positive</td>\n",
       "      <td>2</td>\n",
       "      <td>No</td>\n",
       "      <td>High School</td>\n",
       "      <td>Near</td>\n",
       "      <td>Male</td>\n",
       "      <td>73</td>\n",
       "    </tr>\n",
       "    <tr>\n",
       "      <th>5284</th>\n",
       "      <td>5285</td>\n",
       "      <td>21</td>\n",
       "      <td>62</td>\n",
       "      <td>Medium</td>\n",
       "      <td>Low</td>\n",
       "      <td>No</td>\n",
       "      <td>6</td>\n",
       "      <td>74</td>\n",
       "      <td>High</td>\n",
       "      <td>Yes</td>\n",
       "      <td>...</td>\n",
       "      <td>Low</td>\n",
       "      <td>High</td>\n",
       "      <td>Private</td>\n",
       "      <td>Positive</td>\n",
       "      <td>3</td>\n",
       "      <td>Yes</td>\n",
       "      <td>Postgraduate</td>\n",
       "      <td>Far</td>\n",
       "      <td>Male</td>\n",
       "      <td>62</td>\n",
       "    </tr>\n",
       "  </tbody>\n",
       "</table>\n",
       "<p>5285 rows × 21 columns</p>\n",
       "</div>"
      ],
      "text/plain": [
       "        ID  Hours_Studied  Attendance Parental_Involvement  \\\n",
       "0        1             27          79                  Low   \n",
       "1        2             16          86                 High   \n",
       "2        3             22          87                  Low   \n",
       "3        4             18         100                 High   \n",
       "4        5             35          78                 High   \n",
       "...    ...            ...         ...                  ...   \n",
       "5280  5281             15          82               Medium   \n",
       "5281  5282             20          65               Medium   \n",
       "5282  5283             17          64                 High   \n",
       "5283  5284             16         100                 High   \n",
       "5284  5285             21          62               Medium   \n",
       "\n",
       "     Access_to_Resources Extracurricular_Activities  Sleep_Hours  \\\n",
       "0                   High                        Yes            8   \n",
       "1                 Medium                        Yes            7   \n",
       "2                 Medium                         No            8   \n",
       "3                 Medium                        Yes           10   \n",
       "4                    Low                        Yes           10   \n",
       "...                  ...                        ...          ...   \n",
       "5280              Medium                        Yes            7   \n",
       "5281              Medium                        Yes            8   \n",
       "5282                 Low                        Yes           10   \n",
       "5283                High                        Yes            7   \n",
       "5284                 Low                         No            6   \n",
       "\n",
       "      Previous_Scores Motivation_Level Internet_Access  ...  Family_Income  \\\n",
       "0                  63             High             Yes  ...            Low   \n",
       "1                  94           Medium             Yes  ...            Low   \n",
       "2                  83              Low             Yes  ...            Low   \n",
       "3                  86           Medium             Yes  ...         Medium   \n",
       "4                  99           Medium             Yes  ...            Low   \n",
       "...               ...              ...             ...  ...            ...   \n",
       "5280               93           Medium             Yes  ...            Low   \n",
       "5281               97             High             Yes  ...            Low   \n",
       "5282               63           Medium             Yes  ...           High   \n",
       "5283               82           Medium             Yes  ...           High   \n",
       "5284               74             High             Yes  ...            Low   \n",
       "\n",
       "     Teacher_Quality School_Type Peer_Influence Physical_Activity  \\\n",
       "0             Medium      Public       Negative                 5   \n",
       "1               High      Public        Neutral                 3   \n",
       "2             Medium      Public        Neutral                 1   \n",
       "3             Medium      Public        Neutral                 3   \n",
       "4             Medium     Private       Positive                 2   \n",
       "...              ...         ...            ...               ...   \n",
       "5280            High      Public       Negative                 2   \n",
       "5281          Medium      Public       Negative                 3   \n",
       "5282          Medium      Public       Positive                 3   \n",
       "5283          Medium      Public       Positive                 2   \n",
       "5284            High     Private       Positive                 3   \n",
       "\n",
       "      Learning_Disabilities Parental_Education_Level Distance_from_Home  \\\n",
       "0                        No                  College           Moderate   \n",
       "1                        No              High School           Moderate   \n",
       "2                        No                  College                Far   \n",
       "3                        No              High School               Near   \n",
       "4                        No              High School               Near   \n",
       "...                     ...                      ...                ...   \n",
       "5280                     No              High School           Moderate   \n",
       "5281                     No                  College               Near   \n",
       "5282                     No              High School           Moderate   \n",
       "5283                     No              High School               Near   \n",
       "5284                    Yes             Postgraduate                Far   \n",
       "\n",
       "      Gender Exam_Score  \n",
       "0     Female         69  \n",
       "1     Female         69  \n",
       "2       Male         66  \n",
       "3       Male         72  \n",
       "4       Male         72  \n",
       "...      ...        ...  \n",
       "5280  Female         66  \n",
       "5281  Female         65  \n",
       "5282  Female         62  \n",
       "5283    Male         73  \n",
       "5284    Male         62  \n",
       "\n",
       "[5285 rows x 21 columns]"
      ]
     },
     "execution_count": 2,
     "metadata": {},
     "output_type": "execute_result"
    }
   ],
   "source": [
    "df_train = pd.read_csv(\"train_data.csv\")\n",
    "df_test = pd.read_csv(\"test_data.csv\")\n",
    "df_train"
   ]
  },
  {
   "cell_type": "markdown",
   "id": "df0a62de-31fb-4165-9604-f85259e5be31",
   "metadata": {},
   "source": [
    "## Subtask 1"
   ]
  },
  {
   "cell_type": "code",
   "execution_count": 3,
   "id": "0db6af1e-7c86-4ccd-882d-5f47fe1f6fdb",
   "metadata": {},
   "outputs": [
    {
     "data": {
      "text/plain": [
       "19.967076631977296"
      ]
     },
     "execution_count": 3,
     "metadata": {},
     "output_type": "execute_result"
    }
   ],
   "source": [
    "avg_studied = df_train[\"Hours_Studied\"].mean().item()\n",
    "avg_studied"
   ]
  },
  {
   "cell_type": "code",
   "execution_count": 4,
   "id": "c684e117-6856-4b02-a607-714ef77d1481",
   "metadata": {},
   "outputs": [
    {
     "data": {
      "text/plain": [
       "0       0.032923\n",
       "1       2.032923\n",
       "2       1.032923\n",
       "3       7.967077\n",
       "4       1.032923\n",
       "          ...   \n",
       "1317    0.032923\n",
       "1318    7.032923\n",
       "1319    3.032923\n",
       "1320    1.032923\n",
       "1321    3.032923\n",
       "Name: Hours_Studied, Length: 1322, dtype: float64"
      ]
     },
     "execution_count": 4,
     "metadata": {},
     "output_type": "execute_result"
    }
   ],
   "source": [
    "abs_diff_studied = (df_test[\"Hours_Studied\"] - avg_studied).abs()\n",
    "abs_diff_studied"
   ]
  },
  {
   "cell_type": "code",
   "execution_count": 5,
   "id": "4cd03580-2599-4d18-96cd-c391c4026e77",
   "metadata": {},
   "outputs": [],
   "source": [
    "subtask1_rows = []\n",
    "for id_, val in zip(df_test[\"ID\"], abs_diff_studied):\n",
    "    subtask1_rows.append((1, id_, val))"
   ]
  },
  {
   "cell_type": "markdown",
   "id": "333b9c5f-0aaf-4ee8-aa7b-107303538e98",
   "metadata": {},
   "source": [
    "## Subtask 2"
   ]
  },
  {
   "cell_type": "code",
   "execution_count": 6,
   "id": "646ad7f3-b8a0-4aab-886c-bea5b2a4718d",
   "metadata": {},
   "outputs": [
    {
     "data": {
      "text/plain": [
       "0       False\n",
       "1       False\n",
       "2        True\n",
       "3       False\n",
       "4       False\n",
       "        ...  \n",
       "1317    False\n",
       "1318    False\n",
       "1319     True\n",
       "1320     True\n",
       "1321     True\n",
       "Name: Sleep_Hours, Length: 1322, dtype: bool"
      ]
     },
     "execution_count": 6,
     "metadata": {},
     "output_type": "execute_result"
    }
   ],
   "source": [
    "sleep_less = df_test[\"Sleep_Hours\"] < 7\n",
    "sleep_less"
   ]
  },
  {
   "cell_type": "code",
   "execution_count": 7,
   "id": "878b0a66-c69e-4afb-a32a-f500337523b6",
   "metadata": {},
   "outputs": [],
   "source": [
    "subtask2_rows = []\n",
    "for id_, val in zip(df_test[\"ID\"], sleep_less):\n",
    "    subtask2_rows.append((2, id_, val))"
   ]
  },
  {
   "cell_type": "markdown",
   "id": "2b54ed86-980c-4d4f-b974-a3c84a079138",
   "metadata": {},
   "source": [
    "## Subtask 3"
   ]
  },
  {
   "cell_type": "code",
   "execution_count": 8,
   "id": "7b2d1ff6-8be8-43de-bdb3-63e193458965",
   "metadata": {},
   "outputs": [
    {
     "data": {
      "text/plain": [
       "0       1424\n",
       "1        267\n",
       "2       5028\n",
       "3       2067\n",
       "4        580\n",
       "        ... \n",
       "1317    1651\n",
       "1318     902\n",
       "1319    4199\n",
       "1320    5285\n",
       "1321     478\n",
       "Name: Previous_Scores, Length: 1322, dtype: int64"
      ]
     },
     "execution_count": 8,
     "metadata": {},
     "output_type": "execute_result"
    }
   ],
   "source": [
    "num_ge_score = df_test[\"Previous_Scores\"].map(lambda x: (df_train[\"Previous_Scores\"] >= x).sum())\n",
    "num_ge_score"
   ]
  },
  {
   "cell_type": "code",
   "execution_count": 9,
   "id": "7e8623b7-7c9e-4a9f-a057-ad627f55f286",
   "metadata": {},
   "outputs": [],
   "source": [
    "subtask3_rows = []\n",
    "for id_, val in zip(df_test[\"ID\"], num_ge_score):\n",
    "    subtask2_rows.append((3, id_, val))"
   ]
  },
  {
   "cell_type": "markdown",
   "id": "5b8ddbdf-9af7-4a8a-81de-e4afde7e7fd5",
   "metadata": {},
   "source": [
    "## Subtask 4"
   ]
  },
  {
   "cell_type": "code",
   "execution_count": 10,
   "id": "2a2b1533-a7ba-4da7-beec-e0923acf05c7",
   "metadata": {},
   "outputs": [
    {
     "data": {
      "text/plain": [
       "{'Medium': 2688, 'Low': 1558, 'High': 1039}"
      ]
     },
     "execution_count": 10,
     "metadata": {},
     "output_type": "execute_result"
    }
   ],
   "source": [
    "train_motiv_levels = df_train[\"Motivation_Level\"].value_counts().to_dict()\n",
    "train_motiv_levels"
   ]
  },
  {
   "cell_type": "code",
   "execution_count": 11,
   "id": "4d774cb0-f6b0-4110-b8c5-16dd09471b9e",
   "metadata": {},
   "outputs": [
    {
     "data": {
      "text/plain": [
       "0       1039\n",
       "1       1558\n",
       "2       1039\n",
       "3       1558\n",
       "4       2688\n",
       "        ... \n",
       "1317    2688\n",
       "1318    2688\n",
       "1319    1039\n",
       "1320    1558\n",
       "1321    2688\n",
       "Name: Motivation_Level, Length: 1322, dtype: int64"
      ]
     },
     "execution_count": 11,
     "metadata": {},
     "output_type": "execute_result"
    }
   ],
   "source": [
    "eq_motiv_level = df_test[\"Motivation_Level\"].map(lambda x: train_motiv_levels[x])\n",
    "eq_motiv_level"
   ]
  },
  {
   "cell_type": "code",
   "execution_count": 12,
   "id": "b6972a80-ccbb-4ca6-b9fb-5b889c2e3d8a",
   "metadata": {},
   "outputs": [],
   "source": [
    "subtask4_rows = []\n",
    "for id_, val in zip(df_test[\"ID\"], eq_motiv_level):\n",
    "    subtask4_rows.append((4, id_, val))"
   ]
  },
  {
   "cell_type": "markdown",
   "id": "166697ca-6b0b-4b7b-8c94-9e5c4d09af84",
   "metadata": {},
   "source": [
    "## Subtask 5"
   ]
  },
  {
   "cell_type": "code",
   "execution_count": 13,
   "id": "c5ccdef5-6657-4c55-a2b3-2ad5c6873883",
   "metadata": {},
   "outputs": [],
   "source": [
    "X_train = df_train.copy()\n",
    "X_train, y_train = X_train.drop([\"ID\", \"Exam_Score\"], axis=1), X_train[\"Exam_Score\"]\n",
    "X_test = df_test.copy().drop(\"ID\", axis=1)"
   ]
  },
  {
   "cell_type": "code",
   "execution_count": 14,
   "id": "432e270a-476a-43e3-8d6f-f8c7c98398ed",
   "metadata": {},
   "outputs": [
    {
     "data": {
      "text/plain": [
       "Hours_Studied                  int64\n",
       "Attendance                     int64\n",
       "Parental_Involvement          object\n",
       "Access_to_Resources           object\n",
       "Extracurricular_Activities    object\n",
       "Sleep_Hours                    int64\n",
       "Previous_Scores                int64\n",
       "Motivation_Level              object\n",
       "Internet_Access               object\n",
       "Tutoring_Sessions              int64\n",
       "Family_Income                 object\n",
       "Teacher_Quality               object\n",
       "School_Type                   object\n",
       "Peer_Influence                object\n",
       "Physical_Activity              int64\n",
       "Learning_Disabilities         object\n",
       "Parental_Education_Level      object\n",
       "Distance_from_Home            object\n",
       "Gender                        object\n",
       "dtype: object"
      ]
     },
     "execution_count": 14,
     "metadata": {},
     "output_type": "execute_result"
    }
   ],
   "source": [
    "X_train.dtypes"
   ]
  },
  {
   "cell_type": "code",
   "execution_count": 15,
   "id": "6e859f5a-95a4-4554-8ef9-d16025299655",
   "metadata": {},
   "outputs": [
    {
     "name": "stdout",
     "output_type": "stream",
     "text": [
      "Parental_Involvement           ['Low' 'High' 'Medium']\n",
      "Access_to_Resources            ['High' 'Medium' 'Low']\n",
      "Extracurricular_Activities     ['Yes' 'No']\n",
      "Motivation_Level               ['High' 'Medium' 'Low']\n",
      "Internet_Access                ['Yes' 'No']\n",
      "Family_Income                  ['Low' 'Medium' 'High']\n",
      "Teacher_Quality                ['Medium' 'High' nan 'Low']\n",
      "School_Type                    ['Public' 'Private']\n",
      "Peer_Influence                 ['Negative' 'Neutral' 'Positive']\n",
      "Learning_Disabilities          ['No' 'Yes']\n",
      "Parental_Education_Level       ['College' 'High School' 'Postgraduate' nan]\n",
      "Distance_from_Home             ['Moderate' 'Far' 'Near' nan]\n",
      "Gender                         ['Female' 'Male']\n"
     ]
    }
   ],
   "source": [
    "cat_cols = []\n",
    "num_cols = []\n",
    "for col in X_train.columns:\n",
    "    if X_train[col].dtype == \"object\":\n",
    "        cat_cols.append(col)\n",
    "        print(f\"{col:<30}\", X_train[col].unique())\n",
    "    else:\n",
    "        num_cols.append(col)"
   ]
  },
  {
   "cell_type": "code",
   "execution_count": 16,
   "id": "befa3d47-b37e-4d4b-8e9e-0231326433e4",
   "metadata": {},
   "outputs": [],
   "source": [
    "preprocessor = ColumnTransformer([\n",
    "    (\"cat\", OneHotEncoder(), cat_cols),\n",
    "    (\"num\", StandardScaler(), num_cols)\n",
    "])"
   ]
  },
  {
   "cell_type": "code",
   "execution_count": 17,
   "id": "9d362aeb-173c-44c2-8ab5-e52074d77a78",
   "metadata": {},
   "outputs": [],
   "source": [
    "pipeline = Pipeline([\n",
    "    (\"pre\", preprocessor),\n",
    "    (\"reg\", LinearRegression())\n",
    "])"
   ]
  },
  {
   "cell_type": "code",
   "execution_count": 18,
   "id": "39bec7a0-865e-4fb6-bd67-32e34c9eaf32",
   "metadata": {},
   "outputs": [
    {
     "data": {
      "text/plain": [
       "array([0.4548276 , 0.43566711, 0.50935449, 0.5228945 , 0.6124915 ])"
      ]
     },
     "execution_count": 18,
     "metadata": {},
     "output_type": "execute_result"
    }
   ],
   "source": [
    "cross_val_score(pipeline, X_train, y_train, cv=5, scoring=\"neg_mean_absolute_error\") * -1"
   ]
  },
  {
   "cell_type": "code",
   "execution_count": 19,
   "id": "e0f970a0-fdf4-433f-b6be-1e3d6f9f2257",
   "metadata": {},
   "outputs": [],
   "source": [
    "pipeline.fit(X_train, y_train)\n",
    "preds = pipeline.predict(X_test)"
   ]
  },
  {
   "cell_type": "code",
   "execution_count": 20,
   "id": "f1677dbf-ff7c-4d17-b2d6-ba6e986d292d",
   "metadata": {},
   "outputs": [],
   "source": [
    "subtask5_rows = []\n",
    "for id_, val in zip(df_test[\"ID\"], preds):\n",
    "    subtask5_rows.append((5, id_, val))"
   ]
  },
  {
   "cell_type": "markdown",
   "id": "fa84a8b1-04a5-46cc-a939-1638e1bc6541",
   "metadata": {},
   "source": [
    "## Save answers"
   ]
  },
  {
   "cell_type": "code",
   "execution_count": 21,
   "id": "7e4b82f9-89b4-460d-9b49-14fa6a65c531",
   "metadata": {},
   "outputs": [],
   "source": [
    "submission_rows = subtask1_rows + subtask2_rows + subtask3_rows + subtask4_rows + subtask5_rows\n",
    "df_submission = pd.DataFrame(submission_rows, columns=[\"subtaskID\", \"datapointID\", \"answer\"])\n",
    "df_submission.to_csv(\"submission.csv\", index=False)"
   ]
  },
  {
   "cell_type": "markdown",
   "id": "dfa0e008-b895-4ae4-b78a-c7308876308e",
   "metadata": {},
   "source": [
    "## Submission results\n",
    "\n",
    "Subtask 1:\n",
    "- Accuracy: 1\n",
    "- Score: 10/10\n",
    "\n",
    "Subtask 2:\n",
    "- Accuracy: 1\n",
    "- Score: 10/10\n",
    "\n",
    "Subtask 3:\n",
    "- Accuracy: 1\n",
    "- Score: 10/10\n",
    "\n",
    "Subtask 4:\n",
    "- Accuracy: 1\n",
    "- Score: 10/10\n",
    "\n",
    "Subtask 5:\n",
    "- MAE: 0.449949\n",
    "- Score: 60/60"
   ]
  }
 ],
 "metadata": {
  "kernelspec": {
   "display_name": "Python 3 (ipykernel)",
   "language": "python",
   "name": "python3"
  },
  "language_info": {
   "codemirror_mode": {
    "name": "ipython",
    "version": 3
   },
   "file_extension": ".py",
   "mimetype": "text/x-python",
   "name": "python",
   "nbconvert_exporter": "python",
   "pygments_lexer": "ipython3",
   "version": "3.12.6"
  }
 },
 "nbformat": 4,
 "nbformat_minor": 5
}
