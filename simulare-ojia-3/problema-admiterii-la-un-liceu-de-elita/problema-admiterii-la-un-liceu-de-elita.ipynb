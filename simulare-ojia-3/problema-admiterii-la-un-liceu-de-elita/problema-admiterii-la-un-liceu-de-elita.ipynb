{
 "cells": [
  {
   "cell_type": "markdown",
   "id": "de818bd3-fbfb-41b0-9266-68eb2acd5bac",
   "metadata": {},
   "source": [
    "# Problema Admiterii la un Liceu de Elită (Elite High School Admission Problem)"
   ]
  },
  {
   "cell_type": "code",
   "execution_count": 1,
   "id": "5b2896e0-3adf-48f0-9ea0-a233cd9df8ee",
   "metadata": {},
   "outputs": [],
   "source": [
    "import pandas as pd\n",
    "import numpy as np\n",
    "from sklearn.linear_model import LogisticRegression\n",
    "from sklearn.preprocessing import StandardScaler, OneHotEncoder, PolynomialFeatures\n",
    "from sklearn.model_selection import cross_val_score\n",
    "from sklearn.compose import ColumnTransformer\n",
    "from sklearn.pipeline import Pipeline"
   ]
  },
  {
   "cell_type": "markdown",
   "id": "7e14cc18-5569-4792-8fd0-a4a578fbbab5",
   "metadata": {},
   "source": [
    "## Load Data"
   ]
  },
  {
   "cell_type": "code",
   "execution_count": 2,
   "id": "0ab571ca-2cbe-42e1-b2a3-c60a99138966",
   "metadata": {},
   "outputs": [
    {
     "data": {
      "text/html": [
       "<div>\n",
       "<style scoped>\n",
       "    .dataframe tbody tr th:only-of-type {\n",
       "        vertical-align: middle;\n",
       "    }\n",
       "\n",
       "    .dataframe tbody tr th {\n",
       "        vertical-align: top;\n",
       "    }\n",
       "\n",
       "    .dataframe thead th {\n",
       "        text-align: right;\n",
       "    }\n",
       "</style>\n",
       "<table border=\"1\" class=\"dataframe\">\n",
       "  <thead>\n",
       "    <tr style=\"text-align: right;\">\n",
       "      <th></th>\n",
       "      <th>id</th>\n",
       "      <th>gen</th>\n",
       "      <th>judet</th>\n",
       "      <th>NT</th>\n",
       "      <th>MEV</th>\n",
       "      <th>MATE</th>\n",
       "      <th>MGIM</th>\n",
       "      <th>status_admitere</th>\n",
       "    </tr>\n",
       "  </thead>\n",
       "  <tbody>\n",
       "    <tr>\n",
       "      <th>0</th>\n",
       "      <td>407</td>\n",
       "      <td>F</td>\n",
       "      <td>BT</td>\n",
       "      <td>4.91</td>\n",
       "      <td>8.82</td>\n",
       "      <td>6.23</td>\n",
       "      <td>6.85</td>\n",
       "      <td>0</td>\n",
       "    </tr>\n",
       "    <tr>\n",
       "      <th>1</th>\n",
       "      <td>444</td>\n",
       "      <td>F</td>\n",
       "      <td>BC</td>\n",
       "      <td>9.50</td>\n",
       "      <td>7.31</td>\n",
       "      <td>8.97</td>\n",
       "      <td>8.36</td>\n",
       "      <td>1</td>\n",
       "    </tr>\n",
       "    <tr>\n",
       "      <th>2</th>\n",
       "      <td>117</td>\n",
       "      <td>F</td>\n",
       "      <td>BH</td>\n",
       "      <td>6.23</td>\n",
       "      <td>8.63</td>\n",
       "      <td>5.40</td>\n",
       "      <td>8.54</td>\n",
       "      <td>0</td>\n",
       "    </tr>\n",
       "    <tr>\n",
       "      <th>3</th>\n",
       "      <td>30</td>\n",
       "      <td>M</td>\n",
       "      <td>SM</td>\n",
       "      <td>1.35</td>\n",
       "      <td>9.49</td>\n",
       "      <td>9.06</td>\n",
       "      <td>5.59</td>\n",
       "      <td>0</td>\n",
       "    </tr>\n",
       "    <tr>\n",
       "      <th>4</th>\n",
       "      <td>415</td>\n",
       "      <td>M</td>\n",
       "      <td>OT</td>\n",
       "      <td>1.82</td>\n",
       "      <td>6.71</td>\n",
       "      <td>8.67</td>\n",
       "      <td>8.34</td>\n",
       "      <td>0</td>\n",
       "    </tr>\n",
       "    <tr>\n",
       "      <th>...</th>\n",
       "      <td>...</td>\n",
       "      <td>...</td>\n",
       "      <td>...</td>\n",
       "      <td>...</td>\n",
       "      <td>...</td>\n",
       "      <td>...</td>\n",
       "      <td>...</td>\n",
       "      <td>...</td>\n",
       "    </tr>\n",
       "    <tr>\n",
       "      <th>265</th>\n",
       "      <td>294</td>\n",
       "      <td>F</td>\n",
       "      <td>MS</td>\n",
       "      <td>1.23</td>\n",
       "      <td>9.90</td>\n",
       "      <td>8.93</td>\n",
       "      <td>5.06</td>\n",
       "      <td>0</td>\n",
       "    </tr>\n",
       "    <tr>\n",
       "      <th>266</th>\n",
       "      <td>433</td>\n",
       "      <td>F</td>\n",
       "      <td>MH</td>\n",
       "      <td>1.35</td>\n",
       "      <td>8.63</td>\n",
       "      <td>6.84</td>\n",
       "      <td>7.43</td>\n",
       "      <td>0</td>\n",
       "    </tr>\n",
       "    <tr>\n",
       "      <th>267</th>\n",
       "      <td>322</td>\n",
       "      <td>F</td>\n",
       "      <td>AG</td>\n",
       "      <td>2.63</td>\n",
       "      <td>7.75</td>\n",
       "      <td>6.77</td>\n",
       "      <td>8.35</td>\n",
       "      <td>0</td>\n",
       "    </tr>\n",
       "    <tr>\n",
       "      <th>268</th>\n",
       "      <td>233</td>\n",
       "      <td>F</td>\n",
       "      <td>CT</td>\n",
       "      <td>9.29</td>\n",
       "      <td>7.82</td>\n",
       "      <td>7.30</td>\n",
       "      <td>9.21</td>\n",
       "      <td>1</td>\n",
       "    </tr>\n",
       "    <tr>\n",
       "      <th>269</th>\n",
       "      <td>277</td>\n",
       "      <td>F</td>\n",
       "      <td>BR</td>\n",
       "      <td>5.25</td>\n",
       "      <td>9.21</td>\n",
       "      <td>7.44</td>\n",
       "      <td>9.29</td>\n",
       "      <td>0</td>\n",
       "    </tr>\n",
       "  </tbody>\n",
       "</table>\n",
       "<p>270 rows × 8 columns</p>\n",
       "</div>"
      ],
      "text/plain": [
       "      id gen judet    NT   MEV  MATE  MGIM  status_admitere\n",
       "0    407   F    BT  4.91  8.82  6.23  6.85                0\n",
       "1    444   F    BC  9.50  7.31  8.97  8.36                1\n",
       "2    117   F    BH  6.23  8.63  5.40  8.54                0\n",
       "3     30   M    SM  1.35  9.49  9.06  5.59                0\n",
       "4    415   M    OT  1.82  6.71  8.67  8.34                0\n",
       "..   ...  ..   ...   ...   ...   ...   ...              ...\n",
       "265  294   F    MS  1.23  9.90  8.93  5.06                0\n",
       "266  433   F    MH  1.35  8.63  6.84  7.43                0\n",
       "267  322   F    AG  2.63  7.75  6.77  8.35                0\n",
       "268  233   F    CT  9.29  7.82  7.30  9.21                1\n",
       "269  277   F    BR  5.25  9.21  7.44  9.29                0\n",
       "\n",
       "[270 rows x 8 columns]"
      ]
     },
     "execution_count": 2,
     "metadata": {},
     "output_type": "execute_result"
    }
   ],
   "source": [
    "df_train = pd.read_csv(\"train_data.csv\").drop(\"Unnamed: 0\", axis=1)\n",
    "df_test = pd.read_csv(\"test_data.csv\").drop(\"Unnamed: 0\", axis=1)\n",
    "df_train"
   ]
  },
  {
   "cell_type": "markdown",
   "id": "18bcc307-81ab-4130-9179-e3f048da1913",
   "metadata": {},
   "source": [
    "## Subtask 1"
   ]
  },
  {
   "cell_type": "code",
   "execution_count": 3,
   "id": "c91b32c3-fcf3-4921-acc4-7d063b8c8fa1",
   "metadata": {},
   "outputs": [
    {
     "data": {
      "text/plain": [
       "0      3.28\n",
       "1     -1.00\n",
       "2     -0.69\n",
       "3     -0.74\n",
       "4     -4.89\n",
       "       ... \n",
       "175   -1.33\n",
       "176   -3.71\n",
       "177   -3.20\n",
       "178    0.18\n",
       "179   -3.57\n",
       "Length: 180, dtype: float64"
      ]
     },
     "execution_count": 3,
     "metadata": {},
     "output_type": "execute_result"
    }
   ],
   "source": [
    "dif_NT_MEV = df_test[\"NT\"] - df_test[\"MEV\"]\n",
    "dif_NT_MEV"
   ]
  },
  {
   "cell_type": "code",
   "execution_count": 4,
   "id": "2a3e31dd-9943-4f3c-888b-6332eea8b8b6",
   "metadata": {},
   "outputs": [],
   "source": [
    "subtask1_rows = []\n",
    "for id_, val in zip(df_test[\"id\"], dif_NT_MEV):\n",
    "    subtask1_rows.append((1, id_, val))"
   ]
  },
  {
   "cell_type": "markdown",
   "id": "201270aa-c972-4325-a1b2-47514f8a1903",
   "metadata": {},
   "source": [
    "## Subtask 2"
   ]
  },
  {
   "cell_type": "code",
   "execution_count": 5,
   "id": "b944cb7a-e2e8-4320-bdab-5c928c8cb754",
   "metadata": {
    "scrolled": true
   },
   "outputs": [
    {
     "data": {
      "text/plain": [
       "0      168\n",
       "1       31\n",
       "2       88\n",
       "3      122\n",
       "4      150\n",
       "      ... \n",
       "175    149\n",
       "176     36\n",
       "177    109\n",
       "178    151\n",
       "179    175\n",
       "Name: id, Length: 180, dtype: int64"
      ]
     },
     "execution_count": 5,
     "metadata": {},
     "output_type": "execute_result"
    }
   ],
   "source": [
    "test_ranked_ids = df_test.sort_values(\"MEV\", ascending=False)[\"id\"].to_list()\n",
    "loc_MEV = df_test[\"id\"].apply(lambda x: test_ranked_ids.index(x) + 1)\n",
    "loc_MEV"
   ]
  },
  {
   "cell_type": "code",
   "execution_count": 6,
   "id": "94960281-6a13-4ad6-b68d-13db891efb88",
   "metadata": {},
   "outputs": [],
   "source": [
    "subtask2_rows = []\n",
    "for id_, val in zip(df_test[\"id\"], loc_MEV):\n",
    "    subtask2_rows.append((2, id_, val))"
   ]
  },
  {
   "cell_type": "markdown",
   "id": "1a1003a0-57f6-4b2b-a76e-c85c6ba71117",
   "metadata": {},
   "source": [
    "## Subtask 3"
   ]
  },
  {
   "cell_type": "code",
   "execution_count": 7,
   "id": "74f2e847-d3c7-48b9-a9f9-00d3ca702264",
   "metadata": {},
   "outputs": [],
   "source": [
    "X_train = df_train.copy()\n",
    "X_train, y_train = X_train.drop([\"id\", \"status_admitere\"], axis=1), X_train[\"status_admitere\"]\n",
    "X_test = df_test.copy().drop(\"id\", axis=1)"
   ]
  },
  {
   "cell_type": "code",
   "execution_count": 8,
   "id": "d7dfbf78-ca2e-47f4-a274-d717f8ce8af0",
   "metadata": {},
   "outputs": [],
   "source": [
    "preprocessor = ColumnTransformer([\n",
    "    (\"cat\", OneHotEncoder(drop=\"first\", handle_unknown=\"ignore\"), [\"gen\", \"judet\"]),\n",
    "    (\"num\", Pipeline([\n",
    "        ('poly', PolynomialFeatures(degree=4)),\n",
    "        ('scaler', StandardScaler())\n",
    "    ]), [\"NT\", \"MEV\", \"MATE\", \"MGIM\"])\n",
    "])"
   ]
  },
  {
   "cell_type": "code",
   "execution_count": 9,
   "id": "44dd1a3e-3b47-4829-a97a-556031431742",
   "metadata": {},
   "outputs": [],
   "source": [
    "pipeline = Pipeline([\n",
    "    (\"pre\", preprocessor),\n",
    "    (\"clf\", LogisticRegression(random_state=42))\n",
    "])"
   ]
  },
  {
   "cell_type": "code",
   "execution_count": 10,
   "id": "e53d08dc-5fe3-4158-ae30-0cb4f275a4d9",
   "metadata": {},
   "outputs": [
    {
     "name": "stderr",
     "output_type": "stream",
     "text": [
      "C:\\Users\\ASUS\\AppData\\Local\\Programs\\Python\\Python312\\Lib\\site-packages\\sklearn\\preprocessing\\_encoders.py:246: UserWarning: Found unknown categories in columns [1] during transform. These unknown categories will be encoded as all zeros\n",
      "  warnings.warn(\n"
     ]
    },
    {
     "data": {
      "text/plain": [
       "array([0.98148148, 0.98148148, 1.        , 1.        , 1.        ])"
      ]
     },
     "execution_count": 10,
     "metadata": {},
     "output_type": "execute_result"
    }
   ],
   "source": [
    "cross_val_score(pipeline, X_train, y_train, cv=5, scoring=\"accuracy\")"
   ]
  },
  {
   "cell_type": "code",
   "execution_count": 11,
   "id": "85f096b5-c435-44e7-91da-edcdb02a1c3c",
   "metadata": {},
   "outputs": [],
   "source": [
    "pipeline.fit(X_train, y_train)\n",
    "preds = pipeline.predict(X_test)"
   ]
  },
  {
   "cell_type": "code",
   "execution_count": 12,
   "id": "52ed30bc-0603-46f4-9279-9425aafd6a8f",
   "metadata": {},
   "outputs": [],
   "source": [
    "subtask3_rows = []\n",
    "for id_, val in zip(df_test[\"id\"], preds):\n",
    "    subtask3_rows.append((3, id_, val))"
   ]
  },
  {
   "cell_type": "markdown",
   "id": "38ed0395-b84d-4888-a0dc-743b52d522bd",
   "metadata": {},
   "source": [
    "## Save answers"
   ]
  },
  {
   "cell_type": "code",
   "execution_count": 13,
   "id": "3d0e28bc-298d-4537-9519-ae94bcfbbc78",
   "metadata": {},
   "outputs": [],
   "source": [
    "submission_rows = subtask1_rows + subtask2_rows + subtask3_rows\n",
    "df_submission = pd.DataFrame(submission_rows, columns=[\"subtaskID\", \"datapointID\", \"answer\"])\n",
    "df_submission.to_csv(\"submission.csv\", index=False)"
   ]
  },
  {
   "cell_type": "markdown",
   "id": "01501899-1c5c-4c6a-a404-f93ee262515f",
   "metadata": {},
   "source": [
    "## Submission results\n",
    "\n",
    "Subtask 1:\n",
    "- Accuracy: 1\n",
    "- Score: 20/20\n",
    "\n",
    "Subtask 2:\n",
    "- Accuracy: 0.766666\n",
    "- Score: 15/20 (There is a mistake in this subtask. See [\"Communication\" tab](https://judge.nitro-ai.org/roai-2025/simulare-ojia-3/communication/replies) for more details.)\n",
    "\n",
    "Subtask 3:\n",
    "- Accuracy: 0.972222\n",
    "- Score: 58/60"
   ]
  }
 ],
 "metadata": {
  "kernelspec": {
   "display_name": "Python 3 (ipykernel)",
   "language": "python",
   "name": "python3"
  },
  "language_info": {
   "codemirror_mode": {
    "name": "ipython",
    "version": 3
   },
   "file_extension": ".py",
   "mimetype": "text/x-python",
   "name": "python",
   "nbconvert_exporter": "python",
   "pygments_lexer": "ipython3",
   "version": "3.12.6"
  }
 },
 "nbformat": 4,
 "nbformat_minor": 5
}
